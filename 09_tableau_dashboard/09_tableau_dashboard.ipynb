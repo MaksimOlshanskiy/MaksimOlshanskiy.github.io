{
 "cells": [
  {
   "cell_type": "markdown",
   "id": "aa2f922e",
   "metadata": {},
   "source": [
    "# Построение дашбордов на основе данных о конференциях TED"
   ]
  },
  {
   "cell_type": "markdown",
   "id": "25104966",
   "metadata": {},
   "source": [
    "## Описание проекта\n",
    "TED (от англ. technology, education, design — «технологии, образование, дизайн») — некоммерческий фонд, который проводит популярные конференции. На них выступают специалисты из разных областей и читают лекции на актуальные социальные, культурные и научные темы. \n",
    "В разное время на TED-конференциях выступали математик Бенуа Мандельброт, теоретик искусственного интеллекта Марвин Минский, спортсменка Дана Ньяд и основатель Google Ларри Пейдж. В истории TED также были неоднозначные и даже скандальные выступления. Например, в 2010 году на конференции выступил Рэнди Пауэлл с рассказом о псевдонаучной «вихревой математике», а в 2014 году в конференции TEDMED участвовала Элизабет Холмс — основательница печально известного стартапа Theranos.\n",
    "В этом проекте я исследовал историю TED-конференций с помощью Tableau."
   ]
  },
  {
   "cell_type": "markdown",
   "id": "078cad04",
   "metadata": {},
   "source": [
    "Презентация с дашбордами на тему \"Анализ конференций TED\""
   ]
  },
  {
   "cell_type": "markdown",
   "id": "44cd790c",
   "metadata": {},
   "source": [
    "## Ссылка на <a href=\"https://public.tableau.com/app/profile/maxim.olshanskiy/viz/TED_17204713694850/TEDStory\" target=\"_blank\">tableau public</a>."
   ]
  },
  {
   "cell_type": "code",
   "execution_count": null,
   "id": "ba858c63",
   "metadata": {},
   "outputs": [],
   "source": []
  }
 ],
 "metadata": {
  "ExecuteTimeLog": [
   {
    "duration": 56,
    "start_time": "2024-07-10T19:16:24.009Z"
   },
   {
    "duration": 63,
    "start_time": "2024-07-10T19:34:22.010Z"
   }
  ],
  "kernelspec": {
   "display_name": "Python 3 (ipykernel)",
   "language": "python",
   "name": "python3"
  },
  "language_info": {
   "codemirror_mode": {
    "name": "ipython",
    "version": 3
   },
   "file_extension": ".py",
   "mimetype": "text/x-python",
   "name": "python",
   "nbconvert_exporter": "python",
   "pygments_lexer": "ipython3",
   "version": "3.9.5"
  },
  "toc": {
   "base_numbering": 1,
   "nav_menu": {},
   "number_sections": true,
   "sideBar": true,
   "skip_h1_title": true,
   "title_cell": "Table of Contents",
   "title_sidebar": "Contents",
   "toc_cell": false,
   "toc_position": {},
   "toc_section_display": true,
   "toc_window_display": false
  }
 },
 "nbformat": 4,
 "nbformat_minor": 5
}
