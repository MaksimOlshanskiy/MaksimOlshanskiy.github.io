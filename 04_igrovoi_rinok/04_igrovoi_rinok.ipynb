{
 "cells": [
  {
   "cell_type": "markdown",
   "metadata": {},
   "source": [
    "# Исследование игрового рынка для интернет-магазина «Стримчик» \n",
    "<br>\n",
    "\n",
    "## **Цель проекта:** \n",
    "Исследовать статистику по продажам и оценкам игр для выявления определяющих успешность игры закономерностей для определения потенциально популярных продуктов и планирования рекламных компаний на 2017 год. <br>\n",
    "\n",
    "<br>\n",
    "\n",
    "## **Выборка:**\n",
    "Из открытых источников доступны исторические данные до 2016 г. о продажах игр, оценки пользователей и экспертов, жанры и платформы. "
   ]
  },
  {
   "cell_type": "markdown",
   "metadata": {},
   "source": [
    "## **План исследования**<br>\n",
    "<br>\n",
    "1) Загрузить и изучить данные. <br>\n",
    "2) Выполнить предобработку данных. Найти и обработать пропуски и дубли в датафрейме. Проверить правильность типов данных. Рассчитать суммарные продажи.<br>\n",
    "3) Провести исследовательский анализ данных: <br>\n",
    "    - Посмотреть, сколько игр выпускалось в разные годы.<br>\n",
    "    - Посмотрете, как менялись продажи по платформам. <br>\n",
    "    - Узнать какие платформы лидируют по продажам, растут или падают? Выбрать несколько потенциально прибыльных платформ.<br>\n",
    "    - Посмотреть, как влияют на продажи внутри одной популярной платформы отзывы пользователей и критиков. <br>\n",
    "    - Посмотреть на общее распределение игр по жанрам. <br>\n",
    "4) Составить портрет пользователя каждого региона<br>\n",
    "5) Провести проверку ряда гипотез. "
   ]
  },
  {
   "cell_type": "markdown",
   "metadata": {},
   "source": [
    "## Загрузка данных"
   ]
  },
  {
   "cell_type": "code",
   "execution_count": 1,
   "metadata": {},
   "outputs": [],
   "source": [
    "import pandas as pd\n",
    "import matplotlib.pyplot as plt\n",
    "import seaborn as sb\n",
    "from scipy import stats as st"
   ]
  },
  {
   "cell_type": "code",
   "execution_count": 2,
   "metadata": {},
   "outputs": [],
   "source": [
    "df = pd.read_csv('/datasets/games.csv')"
   ]
  },
  {
   "cell_type": "code",
   "execution_count": 3,
   "metadata": {},
   "outputs": [
    {
     "data": {
      "text/html": [
       "<div>\n",
       "<style scoped>\n",
       "    .dataframe tbody tr th:only-of-type {\n",
       "        vertical-align: middle;\n",
       "    }\n",
       "\n",
       "    .dataframe tbody tr th {\n",
       "        vertical-align: top;\n",
       "    }\n",
       "\n",
       "    .dataframe thead th {\n",
       "        text-align: right;\n",
       "    }\n",
       "</style>\n",
       "<table border=\"1\" class=\"dataframe\">\n",
       "  <thead>\n",
       "    <tr style=\"text-align: right;\">\n",
       "      <th></th>\n",
       "      <th>Name</th>\n",
       "      <th>Platform</th>\n",
       "      <th>Year_of_Release</th>\n",
       "      <th>Genre</th>\n",
       "      <th>NA_sales</th>\n",
       "      <th>EU_sales</th>\n",
       "      <th>JP_sales</th>\n",
       "      <th>Other_sales</th>\n",
       "      <th>Critic_Score</th>\n",
       "      <th>User_Score</th>\n",
       "      <th>Rating</th>\n",
       "    </tr>\n",
       "  </thead>\n",
       "  <tbody>\n",
       "    <tr>\n",
       "      <th>0</th>\n",
       "      <td>Wii Sports</td>\n",
       "      <td>Wii</td>\n",
       "      <td>2006.0</td>\n",
       "      <td>Sports</td>\n",
       "      <td>41.36</td>\n",
       "      <td>28.96</td>\n",
       "      <td>3.77</td>\n",
       "      <td>8.45</td>\n",
       "      <td>76.0</td>\n",
       "      <td>8</td>\n",
       "      <td>E</td>\n",
       "    </tr>\n",
       "    <tr>\n",
       "      <th>1</th>\n",
       "      <td>Super Mario Bros.</td>\n",
       "      <td>NES</td>\n",
       "      <td>1985.0</td>\n",
       "      <td>Platform</td>\n",
       "      <td>29.08</td>\n",
       "      <td>3.58</td>\n",
       "      <td>6.81</td>\n",
       "      <td>0.77</td>\n",
       "      <td>NaN</td>\n",
       "      <td>NaN</td>\n",
       "      <td>NaN</td>\n",
       "    </tr>\n",
       "    <tr>\n",
       "      <th>2</th>\n",
       "      <td>Mario Kart Wii</td>\n",
       "      <td>Wii</td>\n",
       "      <td>2008.0</td>\n",
       "      <td>Racing</td>\n",
       "      <td>15.68</td>\n",
       "      <td>12.76</td>\n",
       "      <td>3.79</td>\n",
       "      <td>3.29</td>\n",
       "      <td>82.0</td>\n",
       "      <td>8.3</td>\n",
       "      <td>E</td>\n",
       "    </tr>\n",
       "    <tr>\n",
       "      <th>3</th>\n",
       "      <td>Wii Sports Resort</td>\n",
       "      <td>Wii</td>\n",
       "      <td>2009.0</td>\n",
       "      <td>Sports</td>\n",
       "      <td>15.61</td>\n",
       "      <td>10.93</td>\n",
       "      <td>3.28</td>\n",
       "      <td>2.95</td>\n",
       "      <td>80.0</td>\n",
       "      <td>8</td>\n",
       "      <td>E</td>\n",
       "    </tr>\n",
       "    <tr>\n",
       "      <th>4</th>\n",
       "      <td>Pokemon Red/Pokemon Blue</td>\n",
       "      <td>GB</td>\n",
       "      <td>1996.0</td>\n",
       "      <td>Role-Playing</td>\n",
       "      <td>11.27</td>\n",
       "      <td>8.89</td>\n",
       "      <td>10.22</td>\n",
       "      <td>1.00</td>\n",
       "      <td>NaN</td>\n",
       "      <td>NaN</td>\n",
       "      <td>NaN</td>\n",
       "    </tr>\n",
       "    <tr>\n",
       "      <th>5</th>\n",
       "      <td>Tetris</td>\n",
       "      <td>GB</td>\n",
       "      <td>1989.0</td>\n",
       "      <td>Puzzle</td>\n",
       "      <td>23.20</td>\n",
       "      <td>2.26</td>\n",
       "      <td>4.22</td>\n",
       "      <td>0.58</td>\n",
       "      <td>NaN</td>\n",
       "      <td>NaN</td>\n",
       "      <td>NaN</td>\n",
       "    </tr>\n",
       "    <tr>\n",
       "      <th>6</th>\n",
       "      <td>New Super Mario Bros.</td>\n",
       "      <td>DS</td>\n",
       "      <td>2006.0</td>\n",
       "      <td>Platform</td>\n",
       "      <td>11.28</td>\n",
       "      <td>9.14</td>\n",
       "      <td>6.50</td>\n",
       "      <td>2.88</td>\n",
       "      <td>89.0</td>\n",
       "      <td>8.5</td>\n",
       "      <td>E</td>\n",
       "    </tr>\n",
       "    <tr>\n",
       "      <th>7</th>\n",
       "      <td>Wii Play</td>\n",
       "      <td>Wii</td>\n",
       "      <td>2006.0</td>\n",
       "      <td>Misc</td>\n",
       "      <td>13.96</td>\n",
       "      <td>9.18</td>\n",
       "      <td>2.93</td>\n",
       "      <td>2.84</td>\n",
       "      <td>58.0</td>\n",
       "      <td>6.6</td>\n",
       "      <td>E</td>\n",
       "    </tr>\n",
       "    <tr>\n",
       "      <th>8</th>\n",
       "      <td>New Super Mario Bros. Wii</td>\n",
       "      <td>Wii</td>\n",
       "      <td>2009.0</td>\n",
       "      <td>Platform</td>\n",
       "      <td>14.44</td>\n",
       "      <td>6.94</td>\n",
       "      <td>4.70</td>\n",
       "      <td>2.24</td>\n",
       "      <td>87.0</td>\n",
       "      <td>8.4</td>\n",
       "      <td>E</td>\n",
       "    </tr>\n",
       "    <tr>\n",
       "      <th>9</th>\n",
       "      <td>Duck Hunt</td>\n",
       "      <td>NES</td>\n",
       "      <td>1984.0</td>\n",
       "      <td>Shooter</td>\n",
       "      <td>26.93</td>\n",
       "      <td>0.63</td>\n",
       "      <td>0.28</td>\n",
       "      <td>0.47</td>\n",
       "      <td>NaN</td>\n",
       "      <td>NaN</td>\n",
       "      <td>NaN</td>\n",
       "    </tr>\n",
       "  </tbody>\n",
       "</table>\n",
       "</div>"
      ],
      "text/plain": [
       "                        Name Platform  Year_of_Release         Genre  \\\n",
       "0                 Wii Sports      Wii           2006.0        Sports   \n",
       "1          Super Mario Bros.      NES           1985.0      Platform   \n",
       "2             Mario Kart Wii      Wii           2008.0        Racing   \n",
       "3          Wii Sports Resort      Wii           2009.0        Sports   \n",
       "4   Pokemon Red/Pokemon Blue       GB           1996.0  Role-Playing   \n",
       "5                     Tetris       GB           1989.0        Puzzle   \n",
       "6      New Super Mario Bros.       DS           2006.0      Platform   \n",
       "7                   Wii Play      Wii           2006.0          Misc   \n",
       "8  New Super Mario Bros. Wii      Wii           2009.0      Platform   \n",
       "9                  Duck Hunt      NES           1984.0       Shooter   \n",
       "\n",
       "   NA_sales  EU_sales  JP_sales  Other_sales  Critic_Score User_Score Rating  \n",
       "0     41.36     28.96      3.77         8.45          76.0          8      E  \n",
       "1     29.08      3.58      6.81         0.77           NaN        NaN    NaN  \n",
       "2     15.68     12.76      3.79         3.29          82.0        8.3      E  \n",
       "3     15.61     10.93      3.28         2.95          80.0          8      E  \n",
       "4     11.27      8.89     10.22         1.00           NaN        NaN    NaN  \n",
       "5     23.20      2.26      4.22         0.58           NaN        NaN    NaN  \n",
       "6     11.28      9.14      6.50         2.88          89.0        8.5      E  \n",
       "7     13.96      9.18      2.93         2.84          58.0        6.6      E  \n",
       "8     14.44      6.94      4.70         2.24          87.0        8.4      E  \n",
       "9     26.93      0.63      0.28         0.47           NaN        NaN    NaN  "
      ]
     },
     "execution_count": 3,
     "metadata": {},
     "output_type": "execute_result"
    }
   ],
   "source": [
    "df.head(10)"
   ]
  },
  {
   "cell_type": "code",
   "execution_count": 4,
   "metadata": {},
   "outputs": [
    {
     "name": "stdout",
     "output_type": "stream",
     "text": [
      "<class 'pandas.core.frame.DataFrame'>\n",
      "RangeIndex: 16715 entries, 0 to 16714\n",
      "Data columns (total 11 columns):\n",
      " #   Column           Non-Null Count  Dtype  \n",
      "---  ------           --------------  -----  \n",
      " 0   Name             16713 non-null  object \n",
      " 1   Platform         16715 non-null  object \n",
      " 2   Year_of_Release  16446 non-null  float64\n",
      " 3   Genre            16713 non-null  object \n",
      " 4   NA_sales         16715 non-null  float64\n",
      " 5   EU_sales         16715 non-null  float64\n",
      " 6   JP_sales         16715 non-null  float64\n",
      " 7   Other_sales      16715 non-null  float64\n",
      " 8   Critic_Score     8137 non-null   float64\n",
      " 9   User_Score       10014 non-null  object \n",
      " 10  Rating           9949 non-null   object \n",
      "dtypes: float64(6), object(5)\n",
      "memory usage: 1.4+ MB\n"
     ]
    }
   ],
   "source": [
    "rows_start = len(df.axes[0])\n",
    "df.info()"
   ]
  },
  {
   "cell_type": "markdown",
   "metadata": {},
   "source": [
    "В датафрейме 16715 строк. <br> \n",
    "Сохраним это значение в переменную rows_start для сравнения с датафреймом после обработки. <br>\n",
    "Обратим внимание на то, что в столбце Year_of_Release с годом выпуска стоит тип данных float64, нужно будет заменить его на целочисленный int. <br>\n",
    "В столбце User_Score c оценками пользователей стоит тип данных object. Нужно будет заменить его на float. <br>\n",
    "Видим присутствие большого колличества пропусков. Обработаем их на этапе предобработки данных"
   ]
  },
  {
   "cell_type": "code",
   "execution_count": 5,
   "metadata": {},
   "outputs": [
    {
     "data": {
      "text/plain": [
       "array(['8', nan, '8.3', '8.5', '6.6', '8.4', '8.6', '7.7', '6.3', '7.4',\n",
       "       '8.2', '9', '7.9', '8.1', '8.7', '7.1', '3.4', '5.3', '4.8', '3.2',\n",
       "       '8.9', '6.4', '7.8', '7.5', '2.6', '7.2', '9.2', '7', '7.3', '4.3',\n",
       "       '7.6', '5.7', '5', '9.1', '6.5', 'tbd', '8.8', '6.9', '9.4', '6.8',\n",
       "       '6.1', '6.7', '5.4', '4', '4.9', '4.5', '9.3', '6.2', '4.2', '6',\n",
       "       '3.7', '4.1', '5.8', '5.6', '5.5', '4.4', '4.6', '5.9', '3.9',\n",
       "       '3.1', '2.9', '5.2', '3.3', '4.7', '5.1', '3.5', '2.5', '1.9', '3',\n",
       "       '2.7', '2.2', '2', '9.5', '2.1', '3.6', '2.8', '1.8', '3.8', '0',\n",
       "       '1.6', '9.6', '2.4', '1.7', '1.1', '0.3', '1.5', '0.7', '1.2',\n",
       "       '2.3', '0.5', '1.3', '0.2', '0.6', '1.4', '0.9', '1', '9.7'],\n",
       "      dtype=object)"
      ]
     },
     "execution_count": 5,
     "metadata": {},
     "output_type": "execute_result"
    }
   ],
   "source": [
    "# тип данных в User_Score - object. Это значит колонка может содержать кроме цифровых значений и NaN что-то ещё. \n",
    "df['User_Score'].unique()"
   ]
  },
  {
   "cell_type": "markdown",
   "metadata": {},
   "source": [
    "Действительно есть значение tbd. Что является абревиатурой к - To be determined. Что значит 'рейтинг предстоит определить'."
   ]
  },
  {
   "cell_type": "markdown",
   "metadata": {},
   "source": [
    "## Предобработка данных\n"
   ]
  },
  {
   "cell_type": "code",
   "execution_count": 6,
   "metadata": {
    "scrolled": true
   },
   "outputs": [
    {
     "data": {
      "text/plain": [
       "Index(['name', 'platform', 'year_of_release', 'genre', 'na_sales', 'eu_sales',\n",
       "       'jp_sales', 'other_sales', 'critic_score', 'user_score', 'rating'],\n",
       "      dtype='object')"
      ]
     },
     "execution_count": 6,
     "metadata": {},
     "output_type": "execute_result"
    }
   ],
   "source": [
    "# Заменим названия столбцов (приведём их к нижнему регистру)\n",
    "df.columns = map(str.lower, df.columns)\n",
    "df.columns"
   ]
  },
  {
   "cell_type": "code",
   "execution_count": 7,
   "metadata": {},
   "outputs": [
    {
     "data": {
      "text/plain": [
       "0"
      ]
     },
     "execution_count": 7,
     "metadata": {},
     "output_type": "execute_result"
    }
   ],
   "source": [
    "# проверим датафрейм на полные дубликаты\n",
    "df.duplicated().sum()"
   ]
  },
  {
   "cell_type": "code",
   "execution_count": 8,
   "metadata": {},
   "outputs": [
    {
     "data": {
      "text/plain": [
       "name                  2\n",
       "platform              0\n",
       "year_of_release     269\n",
       "genre                 2\n",
       "na_sales              0\n",
       "eu_sales              0\n",
       "jp_sales              0\n",
       "other_sales           0\n",
       "critic_score       8578\n",
       "user_score         6701\n",
       "rating             6766\n",
       "dtype: int64"
      ]
     },
     "execution_count": 8,
     "metadata": {},
     "output_type": "execute_result"
    }
   ],
   "source": [
    "# проверим колличество пропусков в каждом столбце и решим что будем делать с ними\n",
    "df.isna().sum()"
   ]
  },
  {
   "cell_type": "markdown",
   "metadata": {},
   "source": [
    "Удалим пропуски в столбце \"name\" с названиями игр. Они могли образоваться в связи с технической ошибкой. Или у игры на момент формирования датасета не было названия.<br>\n",
    "Удалим пропуски в столбце \"year_of_release\". Нам будет нужна оценка игр по годам выпуска и это будет невозможно сделать с пропусками. Пропуск мог возникнуть или по техническим причинам или дата выхода игры не определена <br>\n",
    "Удалим пропуски в столбце 'genre'. Пропуски могли возникнуть или по технической причине или потому что значения забыли заполнить или игру выпустили, но не смогли определиться с жанром.<br> \n",
    "В целях дальнешйшего поиска дубликатов отформатируем названия, чтобы гарантированно каждое слово начиналось с большой буквы. "
   ]
  },
  {
   "cell_type": "code",
   "execution_count": 9,
   "metadata": {},
   "outputs": [
    {
     "data": {
      "text/plain": [
       "name                  0\n",
       "platform              0\n",
       "year_of_release       0\n",
       "genre                 0\n",
       "na_sales              0\n",
       "eu_sales              0\n",
       "jp_sales              0\n",
       "other_sales           0\n",
       "critic_score       8461\n",
       "user_score         6605\n",
       "rating             6676\n",
       "dtype: int64"
      ]
     },
     "execution_count": 9,
     "metadata": {},
     "output_type": "execute_result"
    }
   ],
   "source": [
    "df.dropna(subset=['name', 'year_of_release', 'genre'], inplace = True)  # удаляем пропуски\n",
    "df['name'] = df['name'].str.title()\n",
    "df.isna().sum()"
   ]
  },
  {
   "cell_type": "code",
   "execution_count": 10,
   "metadata": {},
   "outputs": [],
   "source": [
    "# После удаления пропусков можем изменить тип данных в столбце 'year_of_release' на целочисленный\n",
    "df['year_of_release'] = df['year_of_release'].astype('int64')"
   ]
  },
  {
   "cell_type": "code",
   "execution_count": 11,
   "metadata": {},
   "outputs": [
    {
     "data": {
      "text/html": [
       "<div>\n",
       "<style scoped>\n",
       "    .dataframe tbody tr th:only-of-type {\n",
       "        vertical-align: middle;\n",
       "    }\n",
       "\n",
       "    .dataframe tbody tr th {\n",
       "        vertical-align: top;\n",
       "    }\n",
       "\n",
       "    .dataframe thead th {\n",
       "        text-align: right;\n",
       "    }\n",
       "</style>\n",
       "<table border=\"1\" class=\"dataframe\">\n",
       "  <thead>\n",
       "    <tr style=\"text-align: right;\">\n",
       "      <th></th>\n",
       "      <th>name</th>\n",
       "      <th>platform</th>\n",
       "      <th>year_of_release</th>\n",
       "      <th>genre</th>\n",
       "      <th>na_sales</th>\n",
       "      <th>eu_sales</th>\n",
       "      <th>jp_sales</th>\n",
       "      <th>other_sales</th>\n",
       "      <th>critic_score</th>\n",
       "      <th>user_score</th>\n",
       "      <th>rating</th>\n",
       "    </tr>\n",
       "  </thead>\n",
       "  <tbody>\n",
       "    <tr>\n",
       "      <th>16230</th>\n",
       "      <td>Madden Nfl 13</td>\n",
       "      <td>PS3</td>\n",
       "      <td>2012</td>\n",
       "      <td>Sports</td>\n",
       "      <td>0.0</td>\n",
       "      <td>0.01</td>\n",
       "      <td>0.0</td>\n",
       "      <td>0.0</td>\n",
       "      <td>83.0</td>\n",
       "      <td>5.5</td>\n",
       "      <td>E</td>\n",
       "    </tr>\n",
       "  </tbody>\n",
       "</table>\n",
       "</div>"
      ],
      "text/plain": [
       "                name platform  year_of_release   genre  na_sales  eu_sales  \\\n",
       "16230  Madden Nfl 13      PS3             2012  Sports       0.0      0.01   \n",
       "\n",
       "       jp_sales  other_sales  critic_score user_score rating  \n",
       "16230       0.0          0.0          83.0        5.5      E  "
      ]
     },
     "execution_count": 11,
     "metadata": {},
     "output_type": "execute_result"
    }
   ],
   "source": [
    "# проверим датафрейм на неявные дубликаты по столбцам name, platform и year_of_release\n",
    "df[df.duplicated(['name', 'platform', 'year_of_release'])]"
   ]
  },
  {
   "cell_type": "code",
   "execution_count": 12,
   "metadata": {},
   "outputs": [
    {
     "data": {
      "text/html": [
       "<div>\n",
       "<style scoped>\n",
       "    .dataframe tbody tr th:only-of-type {\n",
       "        vertical-align: middle;\n",
       "    }\n",
       "\n",
       "    .dataframe tbody tr th {\n",
       "        vertical-align: top;\n",
       "    }\n",
       "\n",
       "    .dataframe thead th {\n",
       "        text-align: right;\n",
       "    }\n",
       "</style>\n",
       "<table border=\"1\" class=\"dataframe\">\n",
       "  <thead>\n",
       "    <tr style=\"text-align: right;\">\n",
       "      <th></th>\n",
       "      <th>name</th>\n",
       "      <th>platform</th>\n",
       "      <th>year_of_release</th>\n",
       "      <th>genre</th>\n",
       "      <th>na_sales</th>\n",
       "      <th>eu_sales</th>\n",
       "      <th>jp_sales</th>\n",
       "      <th>other_sales</th>\n",
       "      <th>critic_score</th>\n",
       "      <th>user_score</th>\n",
       "      <th>rating</th>\n",
       "    </tr>\n",
       "  </thead>\n",
       "  <tbody>\n",
       "  </tbody>\n",
       "</table>\n",
       "</div>"
      ],
      "text/plain": [
       "Empty DataFrame\n",
       "Columns: [name, platform, year_of_release, genre, na_sales, eu_sales, jp_sales, other_sales, critic_score, user_score, rating]\n",
       "Index: []"
      ]
     },
     "execution_count": 12,
     "metadata": {},
     "output_type": "execute_result"
    }
   ],
   "source": [
    "# удалим дубликат\n",
    "df = df.drop([16230]).reset_index(drop=True)\n",
    "df[df.duplicated(['name', 'platform', 'year_of_release'])]"
   ]
  },
  {
   "cell_type": "code",
   "execution_count": 13,
   "metadata": {},
   "outputs": [
    {
     "data": {
      "text/plain": [
       "array(['E', nan, 'M', 'T', 'E10+', 'K-A', 'AO', 'EC', 'RP'], dtype=object)"
      ]
     },
     "execution_count": 13,
     "metadata": {},
     "output_type": "execute_result"
    }
   ],
   "source": [
    "# посмотрим ещё на значения, которые присутствуют в колонке rating\n",
    "\n",
    "df['rating'].unique()"
   ]
  },
  {
   "cell_type": "markdown",
   "metadata": {},
   "source": [
    "Здесь есть неявный дубликат в виде устаревшей категории K-A, которая после 1998 года была переименована в Е10+. Так как это более актуальный аналог, то заменим все значения К-А на Е10+"
   ]
  },
  {
   "cell_type": "code",
   "execution_count": 14,
   "metadata": {},
   "outputs": [],
   "source": [
    "df['rating'] = df['rating'].replace('K-A', 'E10+')"
   ]
  },
  {
   "cell_type": "markdown",
   "metadata": {},
   "source": [
    "В столбцах critic_score, user_score и rating есть пропущенные значение. Их колличество велико и удалять эти строки мы не можем. Чтобы избавиться от пропусков, но не терять данные можно поставить значение '-1'. Так мы не теряем данные, и можем отфильтровать лишнее при анализе. <br>\n",
    "Также поступим и со значением 'tbd' в столбце user_score, так как в данном случае рейтинг тоже отсутствует. \n"
   ]
  },
  {
   "cell_type": "code",
   "execution_count": 15,
   "metadata": {},
   "outputs": [],
   "source": [
    "df['critic_score'] = df['critic_score'].fillna(-1)\n",
    "df['user_score'] = df['user_score'].replace('tbd', -1)\n",
    "df['user_score'] = df['user_score'].fillna(-1)\n",
    "df['rating'] = df['rating'].fillna(-1)"
   ]
  },
  {
   "cell_type": "markdown",
   "metadata": {},
   "source": [
    "df[df['user_score'] == 'tbd']['user_score'].count()"
   ]
  },
  {
   "cell_type": "code",
   "execution_count": 16,
   "metadata": {},
   "outputs": [],
   "source": [
    "# После удаления пропусков можем изменить тип данных в столбце 'user_score' на float\n",
    "df['user_score'] = df['user_score'].astype('float')"
   ]
  },
  {
   "cell_type": "markdown",
   "metadata": {},
   "source": [
    "Нужно добавить столбец sum_sales с суммарными продажами по всем регионам:"
   ]
  },
  {
   "cell_type": "code",
   "execution_count": 17,
   "metadata": {},
   "outputs": [],
   "source": [
    "# создаём столбец sum_sales с суммарными продажами по всем регионам\n",
    "df['sum_sales'] = df['na_sales'] + df['eu_sales'] + df['jp_sales'] + df['other_sales']"
   ]
  },
  {
   "cell_type": "code",
   "execution_count": 18,
   "metadata": {
    "scrolled": true
   },
   "outputs": [
    {
     "name": "stdout",
     "output_type": "stream",
     "text": [
      "<class 'pandas.core.frame.DataFrame'>\n",
      "RangeIndex: 16443 entries, 0 to 16442\n",
      "Data columns (total 12 columns):\n",
      " #   Column           Non-Null Count  Dtype  \n",
      "---  ------           --------------  -----  \n",
      " 0   name             16443 non-null  object \n",
      " 1   platform         16443 non-null  object \n",
      " 2   year_of_release  16443 non-null  int64  \n",
      " 3   genre            16443 non-null  object \n",
      " 4   na_sales         16443 non-null  float64\n",
      " 5   eu_sales         16443 non-null  float64\n",
      " 6   jp_sales         16443 non-null  float64\n",
      " 7   other_sales      16443 non-null  float64\n",
      " 8   critic_score     16443 non-null  float64\n",
      " 9   user_score       16443 non-null  float64\n",
      " 10  rating           16443 non-null  object \n",
      " 11  sum_sales        16443 non-null  float64\n",
      "dtypes: float64(7), int64(1), object(4)\n",
      "memory usage: 1.5+ MB\n"
     ]
    }
   ],
   "source": [
    "df.info()   # проверим итоговый датафрейм и убедимся в отсутствии пропусков и правильности типов данных"
   ]
  },
  {
   "cell_type": "code",
   "execution_count": 19,
   "metadata": {},
   "outputs": [
    {
     "data": {
      "text/html": [
       "<div>\n",
       "<style scoped>\n",
       "    .dataframe tbody tr th:only-of-type {\n",
       "        vertical-align: middle;\n",
       "    }\n",
       "\n",
       "    .dataframe tbody tr th {\n",
       "        vertical-align: top;\n",
       "    }\n",
       "\n",
       "    .dataframe thead th {\n",
       "        text-align: right;\n",
       "    }\n",
       "</style>\n",
       "<table border=\"1\" class=\"dataframe\">\n",
       "  <thead>\n",
       "    <tr style=\"text-align: right;\">\n",
       "      <th></th>\n",
       "      <th>name</th>\n",
       "      <th>platform</th>\n",
       "      <th>year_of_release</th>\n",
       "      <th>genre</th>\n",
       "      <th>na_sales</th>\n",
       "      <th>eu_sales</th>\n",
       "      <th>jp_sales</th>\n",
       "      <th>other_sales</th>\n",
       "      <th>critic_score</th>\n",
       "      <th>user_score</th>\n",
       "      <th>rating</th>\n",
       "      <th>sum_sales</th>\n",
       "    </tr>\n",
       "  </thead>\n",
       "  <tbody>\n",
       "    <tr>\n",
       "      <th>0</th>\n",
       "      <td>Wii Sports</td>\n",
       "      <td>Wii</td>\n",
       "      <td>2006</td>\n",
       "      <td>Sports</td>\n",
       "      <td>41.36</td>\n",
       "      <td>28.96</td>\n",
       "      <td>3.77</td>\n",
       "      <td>8.45</td>\n",
       "      <td>76.0</td>\n",
       "      <td>8.0</td>\n",
       "      <td>E</td>\n",
       "      <td>82.54</td>\n",
       "    </tr>\n",
       "    <tr>\n",
       "      <th>1</th>\n",
       "      <td>Super Mario Bros.</td>\n",
       "      <td>NES</td>\n",
       "      <td>1985</td>\n",
       "      <td>Platform</td>\n",
       "      <td>29.08</td>\n",
       "      <td>3.58</td>\n",
       "      <td>6.81</td>\n",
       "      <td>0.77</td>\n",
       "      <td>-1.0</td>\n",
       "      <td>-1.0</td>\n",
       "      <td>-1</td>\n",
       "      <td>40.24</td>\n",
       "    </tr>\n",
       "    <tr>\n",
       "      <th>2</th>\n",
       "      <td>Mario Kart Wii</td>\n",
       "      <td>Wii</td>\n",
       "      <td>2008</td>\n",
       "      <td>Racing</td>\n",
       "      <td>15.68</td>\n",
       "      <td>12.76</td>\n",
       "      <td>3.79</td>\n",
       "      <td>3.29</td>\n",
       "      <td>82.0</td>\n",
       "      <td>8.3</td>\n",
       "      <td>E</td>\n",
       "      <td>35.52</td>\n",
       "    </tr>\n",
       "    <tr>\n",
       "      <th>3</th>\n",
       "      <td>Wii Sports Resort</td>\n",
       "      <td>Wii</td>\n",
       "      <td>2009</td>\n",
       "      <td>Sports</td>\n",
       "      <td>15.61</td>\n",
       "      <td>10.93</td>\n",
       "      <td>3.28</td>\n",
       "      <td>2.95</td>\n",
       "      <td>80.0</td>\n",
       "      <td>8.0</td>\n",
       "      <td>E</td>\n",
       "      <td>32.77</td>\n",
       "    </tr>\n",
       "    <tr>\n",
       "      <th>4</th>\n",
       "      <td>Pokemon Red/Pokemon Blue</td>\n",
       "      <td>GB</td>\n",
       "      <td>1996</td>\n",
       "      <td>Role-Playing</td>\n",
       "      <td>11.27</td>\n",
       "      <td>8.89</td>\n",
       "      <td>10.22</td>\n",
       "      <td>1.00</td>\n",
       "      <td>-1.0</td>\n",
       "      <td>-1.0</td>\n",
       "      <td>-1</td>\n",
       "      <td>31.38</td>\n",
       "    </tr>\n",
       "  </tbody>\n",
       "</table>\n",
       "</div>"
      ],
      "text/plain": [
       "                       name platform  year_of_release         genre  na_sales  \\\n",
       "0                Wii Sports      Wii             2006        Sports     41.36   \n",
       "1         Super Mario Bros.      NES             1985      Platform     29.08   \n",
       "2            Mario Kart Wii      Wii             2008        Racing     15.68   \n",
       "3         Wii Sports Resort      Wii             2009        Sports     15.61   \n",
       "4  Pokemon Red/Pokemon Blue       GB             1996  Role-Playing     11.27   \n",
       "\n",
       "   eu_sales  jp_sales  other_sales  critic_score  user_score rating  sum_sales  \n",
       "0     28.96      3.77         8.45          76.0         8.0      E      82.54  \n",
       "1      3.58      6.81         0.77          -1.0        -1.0     -1      40.24  \n",
       "2     12.76      3.79         3.29          82.0         8.3      E      35.52  \n",
       "3     10.93      3.28         2.95          80.0         8.0      E      32.77  \n",
       "4      8.89     10.22         1.00          -1.0        -1.0     -1      31.38  "
      ]
     },
     "execution_count": 19,
     "metadata": {},
     "output_type": "execute_result"
    }
   ],
   "source": [
    "df.head()"
   ]
  },
  {
   "cell_type": "code",
   "execution_count": 20,
   "metadata": {},
   "outputs": [
    {
     "name": "stdout",
     "output_type": "stream",
     "text": [
      "На этапе предобработки данных потеряно: 272 стр., что составляет 0.98 % от изначального датафрейма\n"
     ]
    }
   ],
   "source": [
    "print('На этапе предобработки данных потеряно:', rows_start - (len(df.axes[0])), 'стр., что составляет', round(((len(df.axes[0]))/rows_start), 2), '% от изначального датафрейма')"
   ]
  },
  {
   "cell_type": "markdown",
   "metadata": {},
   "source": [
    "- Мы проверили датафрейм на дубликаты. Полных дубликатов нет. \n",
    "- Все названия столбцов привели к одинаковому виду с нижней строки\n",
    "- Нашли пропуски в столбцах. Строки с пропусками в 'name', 'year_of_release', 'genre' были удалены. \n",
    "- Пропущенные значения в critic_score, user_score и rating были заменены на '-1' для возможности дальнейшего анализа\n",
    "- Всего была потеряна 272 строки, это менее 1 процента от всего датафреймма. Этот результат нас устраивает.\n",
    "- Тип данных в столбце year_of_release был заменён на int64, так как года - это целочисленные значения. \n",
    "- Тип данных в столбце user_score был заменён на float, так как оценки имеют десятичные значения. \n",
    "- В столбце rating заменили все значения 'K-A' на 'E10+', так как это одно и тоже, но в современной версии рейтинга. \n",
    "- Был добавлен столбец sum_sales с суммарными продажами по всем регионам\n"
   ]
  },
  {
   "cell_type": "markdown",
   "metadata": {},
   "source": [
    "## Исследовательский анализ данных"
   ]
  },
  {
   "cell_type": "markdown",
   "metadata": {},
   "source": [
    "### **Проверим сколько игр выпускалось в разные годы**"
   ]
  },
  {
   "cell_type": "code",
   "execution_count": 21,
   "metadata": {},
   "outputs": [
    {
     "data": {
      "text/plain": [
       "count      37.000000\n",
       "mean      444.405405\n",
       "std       451.591535\n",
       "min         9.000000\n",
       "25%        36.000000\n",
       "50%       338.000000\n",
       "75%       762.000000\n",
       "max      1427.000000\n",
       "Name: name, dtype: float64"
      ]
     },
     "execution_count": 21,
     "metadata": {},
     "output_type": "execute_result"
    }
   ],
   "source": [
    "# сгруппируем колличество выпущенных игр по годам\n",
    "count_games = df.groupby(['year_of_release'])['name'].count()\n",
    "count_games.describe()"
   ]
  },
  {
   "cell_type": "code",
   "execution_count": 22,
   "metadata": {},
   "outputs": [
    {
     "data": {
      "text/plain": [
       "<AxesSubplot:title={'center':'Количество выпущенных игр по годам'}, xlabel='Год выпуска', ylabel='Количество игр'>"
      ]
     },
     "execution_count": 22,
     "metadata": {},
     "output_type": "execute_result"
    },
    {
     "data": {
      "image/png": "[encoded data removed]",
      "text/plain": [
       "<Figure size 1080x648 with 1 Axes>"
      ]
     },
     "metadata": {
      "needs_background": "light"
     },
     "output_type": "display_data"
    }
   ],
   "source": [
    "# построим гистограмму\n",
    "count_games.plot(\n",
    "    kind='bar', figsize=(15,9), grid=True,\n",
    "    title='Количество выпущенных игр по годам',\n",
    "    xlabel= 'Год выпуска', ylabel= 'Количество игр'\n",
    ")"
   ]
  },
  {
   "cell_type": "markdown",
   "metadata": {},
   "source": [
    "Количество выпущенных игр росло, начиная с 1990 года и по 2008 год. <br>\n",
    "С 1980 по 2016 в среднем каждый год выпускалось около 444 игр. <br> \n",
    "Во внимание мы взяли среднее медианное в связи с большим разбросом данных по годам. <br>\n",
    "Самым урожайным на игры годом был 2008 с 1427 играми. <br> \n",
    "После этого пика началось планомерное снижение колличества выпускаемых игр. <br>\n",
    "Возможно повышение требовательности геймеров к качественным играм повысило бюджеты игр и время на их разработку, что отразилось на колличестве выпускаемых студиями игр."
   ]
  },
  {
   "cell_type": "markdown",
   "metadata": {},
   "source": [
    "### **Как менялись продажи по платформам**"
   ]
  },
  {
   "cell_type": "code",
   "execution_count": 23,
   "metadata": {},
   "outputs": [
    {
     "data": {
      "text/plain": [
       "platform\n",
       "PS2     1233.56\n",
       "X360     961.24\n",
       "PS3      931.33\n",
       "Wii      891.18\n",
       "DS       802.78\n",
       "PS       727.58\n",
       "PS4      314.14\n",
       "GBA      312.88\n",
       "PSP      289.53\n",
       "3DS      257.81\n",
       "PC       255.76\n",
       "GB       254.43\n",
       "XB       251.57\n",
       "NES      251.05\n",
       "N64      218.01\n",
       "SNES     200.04\n",
       "GC       196.73\n",
       "XOne     159.32\n",
       "2600      86.48\n",
       "WiiU      82.19\n",
       "PSV       53.81\n",
       "SAT       33.59\n",
       "GEN       28.35\n",
       "DC        15.95\n",
       "SCD        1.86\n",
       "NG         1.44\n",
       "WS         1.42\n",
       "TG16       0.16\n",
       "3DO        0.10\n",
       "GG         0.04\n",
       "PCFX       0.03\n",
       "Name: sum_sales, dtype: float64"
      ]
     },
     "execution_count": 23,
     "metadata": {},
     "output_type": "execute_result"
    }
   ],
   "source": [
    "platform_sum_sales = df.groupby(['platform'])['sum_sales'].sum().sort_values(ascending=False)\n",
    "\n",
    "platform_sum_sales"
   ]
  },
  {
   "cell_type": "code",
   "execution_count": 24,
   "metadata": {},
   "outputs": [
    {
     "data": {
      "text/plain": [
       "<AxesSubplot:title={'center':'Суммарные продажи по платформам'}, xlabel='Платформа', ylabel='Колличество проданных копий (млн)'>"
      ]
     },
     "execution_count": 24,
     "metadata": {},
     "output_type": "execute_result"
    },
    {
     "data": {
      "image/png": "[encoded data removed]",
      "text/plain": [
       "<Figure size 1080x648 with 1 Axes>"
      ]
     },
     "metadata": {
      "needs_background": "light"
     },
     "output_type": "display_data"
    }
   ],
   "source": [
    "# построим гистограмму\n",
    "platform_sum_sales.plot(\n",
    "    kind='bar', figsize=(15,9), grid=True,\n",
    "    title='Суммарные продажи по платформам',\n",
    "    xlabel= 'Платформа', ylabel= 'Колличество проданных копий (млн)'\n",
    ")"
   ]
  },
  {
   "cell_type": "markdown",
   "metadata": {},
   "source": [
    "Данные показывают нам 6 явных лидеров среди платформ. \n",
    "Создадим цикл и построим распределение продаж по годам по каждой из этих платформ. "
   ]
  },
  {
   "cell_type": "code",
   "execution_count": 25,
   "metadata": {
    "scrolled": false
   },
   "outputs": [
    {
     "name": "stdout",
     "output_type": "stream",
     "text": [
      "Распределение продаж игр по годам на платформе: PS2\n"
     ]
    },
    {
     "data": {
      "image/png": "[encoded data removed]",
      "text/plain": [
       "<Figure size 432x288 with 1 Axes>"
      ]
     },
     "metadata": {
      "needs_background": "light"
     },
     "output_type": "display_data"
    },
    {
     "name": "stdout",
     "output_type": "stream",
     "text": [
      "Распределение продаж игр по годам на платформе: X360\n"
     ]
    },
    {
     "data": {
      "image/png": "[encoded data removed]",
      "text/plain": [
       "<Figure size 432x288 with 1 Axes>"
      ]
     },
     "metadata": {
      "needs_background": "light"
     },
     "output_type": "display_data"
    },
    {
     "name": "stdout",
     "output_type": "stream",
     "text": [
      "Распределение продаж игр по годам на платформе: PS3\n"
     ]
    },
    {
     "data": {
      "image/png": "[encoded data removed]",
      "text/plain": [
       "<Figure size 432x288 with 1 Axes>"
      ]
     },
     "metadata": {
      "needs_background": "light"
     },
     "output_type": "display_data"
    },
    {
     "name": "stdout",
     "output_type": "stream",
     "text": [
      "Распределение продаж игр по годам на платформе: Wii\n"
     ]
    },
    {
     "data": {
      "image/png": "[encoded data removed]",
      "text/plain": [
       "<Figure size 432x288 with 1 Axes>"
      ]
     },
     "metadata": {
      "needs_background": "light"
     },
     "output_type": "display_data"
    },
    {
     "name": "stdout",
     "output_type": "stream",
     "text": [
      "Распределение продаж игр по годам на платформе: DS\n"
     ]
    },
    {
     "data": {
      "image/png": "[encoded data removed]",
      "text/plain": [
       "<Figure size 432x288 with 1 Axes>"
      ]
     },
     "metadata": {
      "needs_background": "light"
     },
     "output_type": "display_data"
    },
    {
     "name": "stdout",
     "output_type": "stream",
     "text": [
      "Распределение продаж игр по годам на платформе: PS\n"
     ]
    },
    {
     "data": {
      "image/png": "[encoded data removed]",
      "text/plain": [
       "<Figure size 432x288 with 1 Axes>"
      ]
     },
     "metadata": {
      "needs_background": "light"
     },
     "output_type": "display_data"
    }
   ],
   "source": [
    "for i in platform_sum_sales.index[:6]:\n",
    "    print('Распределение продаж игр по годам на платформе:', i)\n",
    "    (df\n",
    "     .query('platform == @i')\n",
    "     .pivot_table(index='year_of_release', values='sum_sales', aggfunc='sum')\n",
    "     .plot(kind='bar', xlabel= 'Год', ylabel= 'Колличество проданных копий (млн)', grid=True)\n",
    "    )\n",
    "    plt.show()"
   ]
  },
  {
   "cell_type": "markdown",
   "metadata": {},
   "source": [
    "**Можно выделить топ платформ по продажам игр:**<br><br>\n",
    "Будем считать годами с топ продажами при количестве проданных копий свыше 100 млн. <br>\n",
    "- PlayStation 2 (топ продаж с 2001 по 2006 год)\n",
    "- Xbox360 (топ продаж с 2008 по 2012 год)\n",
    "- PlayStation 3 (топ продаж с 2008 по 2013 год)\n",
    "- Wii Nintendo (топ продаж с 2006 по 2010 год)\n",
    "- Nintendo DS (топ продаж с 2005 по 2009 год)\n",
    "- PlayStation (топ продаж с 1997 по 1999 год)\n",
    "<br>\n",
    "\n",
    "Наибольшее количество продаж было у игр для PS2. В момент выхода первых игр в 2000 году это был прорыв в игровых технологиях, люди с охотой покупали новые приставки и игры к ним. <br>\n",
    "У каждой из платформ можно заметить жизненный цикл, в виде резкого взлёта продаж игр, далее более плавный рост или удержание прежних уровней на протяжении от 2 до 5 лет и затем спад продаж до нулевого уровня. В среднем срок жизни у всех этих платформ около 10 лет. Причём все 6 платформ-лидеров продаж уже не являются актуальными. <br>\n"
   ]
  },
  {
   "cell_type": "markdown",
   "metadata": {},
   "source": [
    "**Возьмём данные за соответствующий актуальный период.**"
   ]
  },
  {
   "cell_type": "markdown",
   "metadata": {},
   "source": [
    "Игровая индустрия быстро идёт вперед, игры достаточно быстро перестают быть актуальными, поэтому для анализа данных мы будем считать актуальными данные за 3 года, а именно 2014, 2015 и 2016 года. \n",
    "Создадим новый датафрейм, взяв данные только за эти три года."
   ]
  },
  {
   "cell_type": "code",
   "execution_count": 26,
   "metadata": {},
   "outputs": [
    {
     "data": {
      "text/html": [
       "<div>\n",
       "<style scoped>\n",
       "    .dataframe tbody tr th:only-of-type {\n",
       "        vertical-align: middle;\n",
       "    }\n",
       "\n",
       "    .dataframe tbody tr th {\n",
       "        vertical-align: top;\n",
       "    }\n",
       "\n",
       "    .dataframe thead th {\n",
       "        text-align: right;\n",
       "    }\n",
       "</style>\n",
       "<table border=\"1\" class=\"dataframe\">\n",
       "  <thead>\n",
       "    <tr style=\"text-align: right;\">\n",
       "      <th></th>\n",
       "      <th>name</th>\n",
       "      <th>platform</th>\n",
       "      <th>year_of_release</th>\n",
       "      <th>genre</th>\n",
       "      <th>na_sales</th>\n",
       "      <th>eu_sales</th>\n",
       "      <th>jp_sales</th>\n",
       "      <th>other_sales</th>\n",
       "      <th>critic_score</th>\n",
       "      <th>user_score</th>\n",
       "      <th>rating</th>\n",
       "      <th>sum_sales</th>\n",
       "    </tr>\n",
       "  </thead>\n",
       "  <tbody>\n",
       "    <tr>\n",
       "      <th>31</th>\n",
       "      <td>Call Of Duty: Black Ops 3</td>\n",
       "      <td>PS4</td>\n",
       "      <td>2015</td>\n",
       "      <td>Shooter</td>\n",
       "      <td>6.03</td>\n",
       "      <td>5.86</td>\n",
       "      <td>0.36</td>\n",
       "      <td>2.38</td>\n",
       "      <td>-1.0</td>\n",
       "      <td>-1.0</td>\n",
       "      <td>-1</td>\n",
       "      <td>14.63</td>\n",
       "    </tr>\n",
       "    <tr>\n",
       "      <th>42</th>\n",
       "      <td>Grand Theft Auto V</td>\n",
       "      <td>PS4</td>\n",
       "      <td>2014</td>\n",
       "      <td>Action</td>\n",
       "      <td>3.96</td>\n",
       "      <td>6.31</td>\n",
       "      <td>0.38</td>\n",
       "      <td>1.97</td>\n",
       "      <td>97.0</td>\n",
       "      <td>8.3</td>\n",
       "      <td>M</td>\n",
       "      <td>12.62</td>\n",
       "    </tr>\n",
       "    <tr>\n",
       "      <th>47</th>\n",
       "      <td>Pokemon Omega Ruby/Pokemon Alpha Sapphire</td>\n",
       "      <td>3DS</td>\n",
       "      <td>2014</td>\n",
       "      <td>Role-Playing</td>\n",
       "      <td>4.35</td>\n",
       "      <td>3.49</td>\n",
       "      <td>3.10</td>\n",
       "      <td>0.74</td>\n",
       "      <td>-1.0</td>\n",
       "      <td>-1.0</td>\n",
       "      <td>-1</td>\n",
       "      <td>11.68</td>\n",
       "    </tr>\n",
       "    <tr>\n",
       "      <th>77</th>\n",
       "      <td>Fifa 16</td>\n",
       "      <td>PS4</td>\n",
       "      <td>2015</td>\n",
       "      <td>Sports</td>\n",
       "      <td>1.12</td>\n",
       "      <td>6.12</td>\n",
       "      <td>0.06</td>\n",
       "      <td>1.28</td>\n",
       "      <td>82.0</td>\n",
       "      <td>4.3</td>\n",
       "      <td>E</td>\n",
       "      <td>8.58</td>\n",
       "    </tr>\n",
       "    <tr>\n",
       "      <th>87</th>\n",
       "      <td>Star Wars Battlefront (2015)</td>\n",
       "      <td>PS4</td>\n",
       "      <td>2015</td>\n",
       "      <td>Shooter</td>\n",
       "      <td>2.99</td>\n",
       "      <td>3.49</td>\n",
       "      <td>0.22</td>\n",
       "      <td>1.28</td>\n",
       "      <td>-1.0</td>\n",
       "      <td>-1.0</td>\n",
       "      <td>-1</td>\n",
       "      <td>7.98</td>\n",
       "    </tr>\n",
       "  </tbody>\n",
       "</table>\n",
       "</div>"
      ],
      "text/plain": [
       "                                         name platform  year_of_release  \\\n",
       "31                  Call Of Duty: Black Ops 3      PS4             2015   \n",
       "42                         Grand Theft Auto V      PS4             2014   \n",
       "47  Pokemon Omega Ruby/Pokemon Alpha Sapphire      3DS             2014   \n",
       "77                                    Fifa 16      PS4             2015   \n",
       "87               Star Wars Battlefront (2015)      PS4             2015   \n",
       "\n",
       "           genre  na_sales  eu_sales  jp_sales  other_sales  critic_score  \\\n",
       "31       Shooter      6.03      5.86      0.36         2.38          -1.0   \n",
       "42        Action      3.96      6.31      0.38         1.97          97.0   \n",
       "47  Role-Playing      4.35      3.49      3.10         0.74          -1.0   \n",
       "77        Sports      1.12      6.12      0.06         1.28          82.0   \n",
       "87       Shooter      2.99      3.49      0.22         1.28          -1.0   \n",
       "\n",
       "    user_score rating  sum_sales  \n",
       "31        -1.0     -1      14.63  \n",
       "42         8.3      M      12.62  \n",
       "47        -1.0     -1      11.68  \n",
       "77         4.3      E       8.58  \n",
       "87        -1.0     -1       7.98  "
      ]
     },
     "execution_count": 26,
     "metadata": {},
     "output_type": "execute_result"
    }
   ],
   "source": [
    "df_actual = df.query('year_of_release >= 2014')\n",
    "df_actual.head()"
   ]
  },
  {
   "cell_type": "code",
   "execution_count": 27,
   "metadata": {},
   "outputs": [
    {
     "data": {
      "text/plain": [
       "1689"
      ]
     },
     "execution_count": 27,
     "metadata": {},
     "output_type": "execute_result"
    }
   ],
   "source": [
    "len(df_actual)"
   ]
  },
  {
   "cell_type": "markdown",
   "metadata": {},
   "source": [
    " ### Определим какие платформы лидируют по продажам, растут или падают? "
   ]
  },
  {
   "cell_type": "code",
   "execution_count": 28,
   "metadata": {},
   "outputs": [
    {
     "data": {
      "text/plain": [
       "<AxesSubplot:title={'center':'Суммарные продажи по платформам за 2014-2016 годы'}, xlabel='Платформа', ylabel='Колличество проданных копий (млн)'>"
      ]
     },
     "execution_count": 28,
     "metadata": {},
     "output_type": "execute_result"
    },
    {
     "data": {
      "image/png": "[encoded data removed]",
      "text/plain": [
       "<Figure size 1080x648 with 1 Axes>"
      ]
     },
     "metadata": {
      "needs_background": "light"
     },
     "output_type": "display_data"
    }
   ],
   "source": [
    "df_actual_platform = df_actual.groupby(['platform'])['sum_sales'].sum().sort_values(ascending=False)\n",
    "df_actual_platform.plot(\n",
    "    kind='bar', figsize=(15,9), grid=True,\n",
    "    title='Суммарные продажи по платформам за 2014-2016 годы',\n",
    "    xlabel= 'Платформа', ylabel= 'Колличество проданных копий (млн)'\n",
    ")"
   ]
  },
  {
   "cell_type": "markdown",
   "metadata": {},
   "source": [
    "Самые большие продажи с почти двухкратным отрывом имеет платформа Playstation 4. За ней идёт XBox one, Nintendo 3DS, Playstation 3 , XBox 360 и Nintendo Wii U. <br>\n",
    "Далее посмотрим на каком этапе жизненного цикла находятся современные платформы. Продажи растут или падают. "
   ]
  },
  {
   "cell_type": "code",
   "execution_count": 29,
   "metadata": {
    "scrolled": false
   },
   "outputs": [
    {
     "name": "stdout",
     "output_type": "stream",
     "text": [
      "Распределение продаж игр за 2014-2016 годы на платформе: PS4\n"
     ]
    },
    {
     "data": {
      "image/png": "[encoded data removed]",
      "text/plain": [
       "<Figure size 432x288 with 1 Axes>"
      ]
     },
     "metadata": {
      "needs_background": "light"
     },
     "output_type": "display_data"
    },
    {
     "name": "stdout",
     "output_type": "stream",
     "text": [
      "Распределение продаж игр за 2014-2016 годы на платформе: XOne\n"
     ]
    },
    {
     "data": {
      "image/png": "[encoded data removed]",
      "text/plain": [
       "<Figure size 432x288 with 1 Axes>"
      ]
     },
     "metadata": {
      "needs_background": "light"
     },
     "output_type": "display_data"
    },
    {
     "name": "stdout",
     "output_type": "stream",
     "text": [
      "Распределение продаж игр за 2014-2016 годы на платформе: 3DS\n"
     ]
    },
    {
     "data": {
      "image/png": "[encoded data removed]",
      "text/plain": [
       "<Figure size 432x288 with 1 Axes>"
      ]
     },
     "metadata": {
      "needs_background": "light"
     },
     "output_type": "display_data"
    },
    {
     "name": "stdout",
     "output_type": "stream",
     "text": [
      "Распределение продаж игр за 2014-2016 годы на платформе: PS3\n"
     ]
    },
    {
     "data": {
      "image/png": "[encoded data removed]",
      "text/plain": [
       "<Figure size 432x288 with 1 Axes>"
      ]
     },
     "metadata": {
      "needs_background": "light"
     },
     "output_type": "display_data"
    },
    {
     "name": "stdout",
     "output_type": "stream",
     "text": [
      "Распределение продаж игр за 2014-2016 годы на платформе: X360\n"
     ]
    },
    {
     "data": {
      "image/png": "[encoded data removed]",
      "text/plain": [
       "<Figure size 432x288 with 1 Axes>"
      ]
     },
     "metadata": {
      "needs_background": "light"
     },
     "output_type": "display_data"
    },
    {
     "name": "stdout",
     "output_type": "stream",
     "text": [
      "Распределение продаж игр за 2014-2016 годы на платформе: WiiU\n"
     ]
    },
    {
     "data": {
      "image/png": "[encoded data removed]",
      "text/plain": [
       "<Figure size 432x288 with 1 Axes>"
      ]
     },
     "metadata": {
      "needs_background": "light"
     },
     "output_type": "display_data"
    },
    {
     "name": "stdout",
     "output_type": "stream",
     "text": [
      "Распределение продаж игр за 2014-2016 годы на платформе: PC\n"
     ]
    },
    {
     "data": {
      "image/png": "[encoded data removed]",
      "text/plain": [
       "<Figure size 432x288 with 1 Axes>"
      ]
     },
     "metadata": {
      "needs_background": "light"
     },
     "output_type": "display_data"
    },
    {
     "name": "stdout",
     "output_type": "stream",
     "text": [
      "Распределение продаж игр за 2014-2016 годы на платформе: PSV\n"
     ]
    },
    {
     "data": {
      "image/png": "[encoded data removed]",
      "text/plain": [
       "<Figure size 432x288 with 1 Axes>"
      ]
     },
     "metadata": {
      "needs_background": "light"
     },
     "output_type": "display_data"
    },
    {
     "name": "stdout",
     "output_type": "stream",
     "text": [
      "Распределение продаж игр за 2014-2016 годы на платформе: Wii\n"
     ]
    },
    {
     "data": {
      "image/png": "[encoded data removed]",
      "text/plain": [
       "<Figure size 432x288 with 1 Axes>"
      ]
     },
     "metadata": {
      "needs_background": "light"
     },
     "output_type": "display_data"
    },
    {
     "name": "stdout",
     "output_type": "stream",
     "text": [
      "Распределение продаж игр за 2014-2016 годы на платформе: PSP\n"
     ]
    },
    {
     "data": {
      "image/png": "[encoded data removed]",
      "text/plain": [
       "<Figure size 432x288 with 1 Axes>"
      ]
     },
     "metadata": {
      "needs_background": "light"
     },
     "output_type": "display_data"
    }
   ],
   "source": [
    "for i in df_actual_platform.index:\n",
    "    print('Распределение продаж игр за 2014-2016 годы на платформе:', i)\n",
    "    (df\n",
    "     .query('platform == @i')\n",
    "     .pivot_table(index='year_of_release', values='sum_sales', aggfunc='sum')\n",
    "     .plot(kind='bar', xlabel= 'Год', ylabel= 'Колличество проданных копий (млн)', grid=True)\n",
    "    )\n",
    "    plt.show()"
   ]
  },
  {
   "cell_type": "markdown",
   "metadata": {},
   "source": [
    "Виден угасающий график на многих платформах. также мы раннее определили средний срок жизни платформ в 10 лет. Поэтому эти платформы нельзя назвать перспективными:\n",
    "- Playstation 3\n",
    "- XBox 360\n",
    "- Nintendo 3DS\n",
    "- Wii\n",
    "- PSP\n",
    "- 3DS\n",
    "\n",
    "Платформы, достаточно молодые, но со снижающимся трендом продаж. Могут ещё 'выстрелить', они могут ещё быть перспективными в своей нише при условии выхода достаточного колличества качественных проектов:\n",
    "- WiiU\n",
    "- PSV\n",
    "\n",
    "Перспективными платформами можно назвать:\n",
    "- Playstation 4\n",
    "- XBox One\n",
    "\n",
    "Я бы отдельно выделил персональные компьютеры (PC), так как несмотря на длинную историю эта платформа имеет небольшие, но стабильные продажи. Причиной этому является постоянная модернизация железа компьютеров, поэтому они могут идти в ногу с современными игровыми тенденциями. Чего нет у приставок. В истории PC были всплески продаж и они не исключены в дальнейшем. Плюс есть целый пласт игр, в которые гораздо удобнее играть именно на PC, например, стратегии. Я бы не отнёс эту платформу к перспективным, но и к умирающим тоже относить не стоит.."
   ]
  },
  {
   "cell_type": "markdown",
   "metadata": {},
   "source": [
    "### **Построим график «ящик с усами» по глобальным продажам игр в разбивке по платформам**"
   ]
  },
  {
   "cell_type": "markdown",
   "metadata": {},
   "source": [
    "Создадим отдельный датафрейм из игр на платформах, которые можно назвать перспективными"
   ]
  },
  {
   "cell_type": "code",
   "execution_count": 30,
   "metadata": {},
   "outputs": [
    {
     "data": {
      "text/html": [
       "<div>\n",
       "<style scoped>\n",
       "    .dataframe tbody tr th:only-of-type {\n",
       "        vertical-align: middle;\n",
       "    }\n",
       "\n",
       "    .dataframe tbody tr th {\n",
       "        vertical-align: top;\n",
       "    }\n",
       "\n",
       "    .dataframe thead th {\n",
       "        text-align: right;\n",
       "    }\n",
       "</style>\n",
       "<table border=\"1\" class=\"dataframe\">\n",
       "  <thead>\n",
       "    <tr style=\"text-align: right;\">\n",
       "      <th></th>\n",
       "      <th>name</th>\n",
       "      <th>platform</th>\n",
       "      <th>year_of_release</th>\n",
       "      <th>genre</th>\n",
       "      <th>na_sales</th>\n",
       "      <th>eu_sales</th>\n",
       "      <th>jp_sales</th>\n",
       "      <th>other_sales</th>\n",
       "      <th>critic_score</th>\n",
       "      <th>user_score</th>\n",
       "      <th>rating</th>\n",
       "      <th>sum_sales</th>\n",
       "    </tr>\n",
       "  </thead>\n",
       "  <tbody>\n",
       "    <tr>\n",
       "      <th>31</th>\n",
       "      <td>Call Of Duty: Black Ops 3</td>\n",
       "      <td>PS4</td>\n",
       "      <td>2015</td>\n",
       "      <td>Shooter</td>\n",
       "      <td>6.03</td>\n",
       "      <td>5.86</td>\n",
       "      <td>0.36</td>\n",
       "      <td>2.38</td>\n",
       "      <td>-1.0</td>\n",
       "      <td>-1.0</td>\n",
       "      <td>-1</td>\n",
       "      <td>14.63</td>\n",
       "    </tr>\n",
       "    <tr>\n",
       "      <th>42</th>\n",
       "      <td>Grand Theft Auto V</td>\n",
       "      <td>PS4</td>\n",
       "      <td>2014</td>\n",
       "      <td>Action</td>\n",
       "      <td>3.96</td>\n",
       "      <td>6.31</td>\n",
       "      <td>0.38</td>\n",
       "      <td>1.97</td>\n",
       "      <td>97.0</td>\n",
       "      <td>8.3</td>\n",
       "      <td>M</td>\n",
       "      <td>12.62</td>\n",
       "    </tr>\n",
       "    <tr>\n",
       "      <th>77</th>\n",
       "      <td>Fifa 16</td>\n",
       "      <td>PS4</td>\n",
       "      <td>2015</td>\n",
       "      <td>Sports</td>\n",
       "      <td>1.12</td>\n",
       "      <td>6.12</td>\n",
       "      <td>0.06</td>\n",
       "      <td>1.28</td>\n",
       "      <td>82.0</td>\n",
       "      <td>4.3</td>\n",
       "      <td>E</td>\n",
       "      <td>8.58</td>\n",
       "    </tr>\n",
       "    <tr>\n",
       "      <th>87</th>\n",
       "      <td>Star Wars Battlefront (2015)</td>\n",
       "      <td>PS4</td>\n",
       "      <td>2015</td>\n",
       "      <td>Shooter</td>\n",
       "      <td>2.99</td>\n",
       "      <td>3.49</td>\n",
       "      <td>0.22</td>\n",
       "      <td>1.28</td>\n",
       "      <td>-1.0</td>\n",
       "      <td>-1.0</td>\n",
       "      <td>-1</td>\n",
       "      <td>7.98</td>\n",
       "    </tr>\n",
       "    <tr>\n",
       "      <th>92</th>\n",
       "      <td>Call Of Duty: Advanced Warfare</td>\n",
       "      <td>PS4</td>\n",
       "      <td>2014</td>\n",
       "      <td>Shooter</td>\n",
       "      <td>2.81</td>\n",
       "      <td>3.48</td>\n",
       "      <td>0.14</td>\n",
       "      <td>1.23</td>\n",
       "      <td>83.0</td>\n",
       "      <td>5.7</td>\n",
       "      <td>M</td>\n",
       "      <td>7.66</td>\n",
       "    </tr>\n",
       "    <tr>\n",
       "      <th>...</th>\n",
       "      <td>...</td>\n",
       "      <td>...</td>\n",
       "      <td>...</td>\n",
       "      <td>...</td>\n",
       "      <td>...</td>\n",
       "      <td>...</td>\n",
       "      <td>...</td>\n",
       "      <td>...</td>\n",
       "      <td>...</td>\n",
       "      <td>...</td>\n",
       "      <td>...</td>\n",
       "      <td>...</td>\n",
       "    </tr>\n",
       "    <tr>\n",
       "      <th>16427</th>\n",
       "      <td>The Longest 5 Minutes</td>\n",
       "      <td>PSV</td>\n",
       "      <td>2016</td>\n",
       "      <td>Action</td>\n",
       "      <td>0.00</td>\n",
       "      <td>0.00</td>\n",
       "      <td>0.01</td>\n",
       "      <td>0.00</td>\n",
       "      <td>-1.0</td>\n",
       "      <td>-1.0</td>\n",
       "      <td>-1</td>\n",
       "      <td>0.01</td>\n",
       "    </tr>\n",
       "    <tr>\n",
       "      <th>16431</th>\n",
       "      <td>Strawberry Nauts</td>\n",
       "      <td>PSV</td>\n",
       "      <td>2016</td>\n",
       "      <td>Adventure</td>\n",
       "      <td>0.00</td>\n",
       "      <td>0.00</td>\n",
       "      <td>0.01</td>\n",
       "      <td>0.00</td>\n",
       "      <td>-1.0</td>\n",
       "      <td>-1.0</td>\n",
       "      <td>-1</td>\n",
       "      <td>0.01</td>\n",
       "    </tr>\n",
       "    <tr>\n",
       "      <th>16435</th>\n",
       "      <td>Aiyoku No Eustia</td>\n",
       "      <td>PSV</td>\n",
       "      <td>2014</td>\n",
       "      <td>Misc</td>\n",
       "      <td>0.00</td>\n",
       "      <td>0.00</td>\n",
       "      <td>0.01</td>\n",
       "      <td>0.00</td>\n",
       "      <td>-1.0</td>\n",
       "      <td>-1.0</td>\n",
       "      <td>-1</td>\n",
       "      <td>0.01</td>\n",
       "    </tr>\n",
       "    <tr>\n",
       "      <th>16440</th>\n",
       "      <td>Haitaka No Psychedelica</td>\n",
       "      <td>PSV</td>\n",
       "      <td>2016</td>\n",
       "      <td>Adventure</td>\n",
       "      <td>0.00</td>\n",
       "      <td>0.00</td>\n",
       "      <td>0.01</td>\n",
       "      <td>0.00</td>\n",
       "      <td>-1.0</td>\n",
       "      <td>-1.0</td>\n",
       "      <td>-1</td>\n",
       "      <td>0.01</td>\n",
       "    </tr>\n",
       "    <tr>\n",
       "      <th>16442</th>\n",
       "      <td>Winning Post 8 2016</td>\n",
       "      <td>PSV</td>\n",
       "      <td>2016</td>\n",
       "      <td>Simulation</td>\n",
       "      <td>0.00</td>\n",
       "      <td>0.00</td>\n",
       "      <td>0.01</td>\n",
       "      <td>0.00</td>\n",
       "      <td>-1.0</td>\n",
       "      <td>-1.0</td>\n",
       "      <td>-1</td>\n",
       "      <td>0.01</td>\n",
       "    </tr>\n",
       "  </tbody>\n",
       "</table>\n",
       "<p>972 rows × 12 columns</p>\n",
       "</div>"
      ],
      "text/plain": [
       "                                 name platform  year_of_release       genre  \\\n",
       "31          Call Of Duty: Black Ops 3      PS4             2015     Shooter   \n",
       "42                 Grand Theft Auto V      PS4             2014      Action   \n",
       "77                            Fifa 16      PS4             2015      Sports   \n",
       "87       Star Wars Battlefront (2015)      PS4             2015     Shooter   \n",
       "92     Call Of Duty: Advanced Warfare      PS4             2014     Shooter   \n",
       "...                               ...      ...              ...         ...   \n",
       "16427           The Longest 5 Minutes      PSV             2016      Action   \n",
       "16431                Strawberry Nauts      PSV             2016   Adventure   \n",
       "16435                Aiyoku No Eustia      PSV             2014        Misc   \n",
       "16440         Haitaka No Psychedelica      PSV             2016   Adventure   \n",
       "16442             Winning Post 8 2016      PSV             2016  Simulation   \n",
       "\n",
       "       na_sales  eu_sales  jp_sales  other_sales  critic_score  user_score  \\\n",
       "31         6.03      5.86      0.36         2.38          -1.0        -1.0   \n",
       "42         3.96      6.31      0.38         1.97          97.0         8.3   \n",
       "77         1.12      6.12      0.06         1.28          82.0         4.3   \n",
       "87         2.99      3.49      0.22         1.28          -1.0        -1.0   \n",
       "92         2.81      3.48      0.14         1.23          83.0         5.7   \n",
       "...         ...       ...       ...          ...           ...         ...   \n",
       "16427      0.00      0.00      0.01         0.00          -1.0        -1.0   \n",
       "16431      0.00      0.00      0.01         0.00          -1.0        -1.0   \n",
       "16435      0.00      0.00      0.01         0.00          -1.0        -1.0   \n",
       "16440      0.00      0.00      0.01         0.00          -1.0        -1.0   \n",
       "16442      0.00      0.00      0.01         0.00          -1.0        -1.0   \n",
       "\n",
       "      rating  sum_sales  \n",
       "31        -1      14.63  \n",
       "42         M      12.62  \n",
       "77         E       8.58  \n",
       "87        -1       7.98  \n",
       "92         M       7.66  \n",
       "...      ...        ...  \n",
       "16427     -1       0.01  \n",
       "16431     -1       0.01  \n",
       "16435     -1       0.01  \n",
       "16440     -1       0.01  \n",
       "16442     -1       0.01  \n",
       "\n",
       "[972 rows x 12 columns]"
      ]
     },
     "execution_count": 30,
     "metadata": {},
     "output_type": "execute_result"
    }
   ],
   "source": [
    "actual_platform_new = df_actual.query('platform in [\"PS4\", \"XOne\", \"WiiU\", \"PSV\"]')\n",
    "actual_platform_new"
   ]
  },
  {
   "cell_type": "code",
   "execution_count": 31,
   "metadata": {},
   "outputs": [
    {
     "data": {
      "text/plain": [
       "[Text(0.5, 1.0, 'Продажи по перспективным платформам за 2014-2016 гг'),\n",
       " Text(0.5, 0, 'Платформы'),\n",
       " Text(0, 0.5, 'Общие продажи')]"
      ]
     },
     "execution_count": 31,
     "metadata": {},
     "output_type": "execute_result"
    },
    {
     "data": {
      "image/png": "[encoded data removed]",
      "text/plain": [
       "<Figure size 1080x648 with 1 Axes>"
      ]
     },
     "metadata": {
      "needs_background": "light"
     },
     "output_type": "display_data"
    }
   ],
   "source": [
    "# построим график ящик с усами:\n",
    "actual_platform_new.boxplot(column='sum_sales', by='platform', grid=True, figsize=(15,9)).set(title = 'Продажи по перспективным платформам за 2014-2016 гг', \n",
    "         xlabel = 'Платформы', \n",
    "         ylabel = 'Общие продажи')"
   ]
  },
  {
   "cell_type": "code",
   "execution_count": 32,
   "metadata": {
    "scrolled": false
   },
   "outputs": [
    {
     "data": {
      "text/plain": [
       "[Text(0.5, 1.0, 'Продажи по перспективным платформам за 2014-2016 гг'),\n",
       " Text(0.5, 0, 'Платформы'),\n",
       " Text(0, 0.5, 'Общие продажи'),\n",
       " (0.0, 2.0)]"
      ]
     },
     "execution_count": 32,
     "metadata": {},
     "output_type": "execute_result"
    },
    {
     "data": {
      "image/png": "[encoded data removed]",
      "text/plain": [
       "<Figure size 1080x648 with 1 Axes>"
      ]
     },
     "metadata": {
      "needs_background": "light"
     },
     "output_type": "display_data"
    }
   ],
   "source": [
    "# ограничим значения по оси y\n",
    "actual_platform_new.boxplot(column='sum_sales', by='platform', grid=True, figsize=(15,9)).set(title = 'Продажи по перспективным платформам за 2014-2016 гг', \n",
    "         xlabel = 'Платформы', \n",
    "         ylabel = 'Общие продажи',\n",
    "         ylim=(0, 2)\n",
    ")"
   ]
  },
  {
   "cell_type": "code",
   "execution_count": 33,
   "metadata": {},
   "outputs": [
    {
     "data": {
      "text/html": [
       "<div>\n",
       "<style scoped>\n",
       "    .dataframe tbody tr th:only-of-type {\n",
       "        vertical-align: middle;\n",
       "    }\n",
       "\n",
       "    .dataframe tbody tr th {\n",
       "        vertical-align: top;\n",
       "    }\n",
       "\n",
       "    .dataframe thead th {\n",
       "        text-align: right;\n",
       "    }\n",
       "</style>\n",
       "<table border=\"1\" class=\"dataframe\">\n",
       "  <thead>\n",
       "    <tr style=\"text-align: right;\">\n",
       "      <th></th>\n",
       "      <th>count</th>\n",
       "      <th>mean</th>\n",
       "      <th>std</th>\n",
       "      <th>min</th>\n",
       "      <th>25%</th>\n",
       "      <th>50%</th>\n",
       "      <th>75%</th>\n",
       "      <th>max</th>\n",
       "    </tr>\n",
       "    <tr>\n",
       "      <th>platform</th>\n",
       "      <th></th>\n",
       "      <th></th>\n",
       "      <th></th>\n",
       "      <th></th>\n",
       "      <th></th>\n",
       "      <th></th>\n",
       "      <th></th>\n",
       "      <th></th>\n",
       "    </tr>\n",
       "  </thead>\n",
       "  <tbody>\n",
       "    <tr>\n",
       "      <th>PS4</th>\n",
       "      <td>376.0</td>\n",
       "      <td>0.766356</td>\n",
       "      <td>1.614969</td>\n",
       "      <td>0.01</td>\n",
       "      <td>0.0575</td>\n",
       "      <td>0.185</td>\n",
       "      <td>0.6900</td>\n",
       "      <td>14.63</td>\n",
       "    </tr>\n",
       "    <tr>\n",
       "      <th>PSV</th>\n",
       "      <td>295.0</td>\n",
       "      <td>0.075932</td>\n",
       "      <td>0.141591</td>\n",
       "      <td>0.01</td>\n",
       "      <td>0.0200</td>\n",
       "      <td>0.040</td>\n",
       "      <td>0.0900</td>\n",
       "      <td>1.96</td>\n",
       "    </tr>\n",
       "    <tr>\n",
       "      <th>WiiU</th>\n",
       "      <td>73.0</td>\n",
       "      <td>0.588767</td>\n",
       "      <td>1.161467</td>\n",
       "      <td>0.01</td>\n",
       "      <td>0.0500</td>\n",
       "      <td>0.190</td>\n",
       "      <td>0.5700</td>\n",
       "      <td>7.09</td>\n",
       "    </tr>\n",
       "    <tr>\n",
       "      <th>XOne</th>\n",
       "      <td>228.0</td>\n",
       "      <td>0.615614</td>\n",
       "      <td>1.046513</td>\n",
       "      <td>0.01</td>\n",
       "      <td>0.0500</td>\n",
       "      <td>0.205</td>\n",
       "      <td>0.6325</td>\n",
       "      <td>7.39</td>\n",
       "    </tr>\n",
       "  </tbody>\n",
       "</table>\n",
       "</div>"
      ],
      "text/plain": [
       "          count      mean       std   min     25%    50%     75%    max\n",
       "platform                                                               \n",
       "PS4       376.0  0.766356  1.614969  0.01  0.0575  0.185  0.6900  14.63\n",
       "PSV       295.0  0.075932  0.141591  0.01  0.0200  0.040  0.0900   1.96\n",
       "WiiU       73.0  0.588767  1.161467  0.01  0.0500  0.190  0.5700   7.09\n",
       "XOne      228.0  0.615614  1.046513  0.01  0.0500  0.205  0.6325   7.39"
      ]
     },
     "execution_count": 33,
     "metadata": {},
     "output_type": "execute_result"
    }
   ],
   "source": [
    "actual_platform_new.groupby(['platform'])['sum_sales'].describe()"
   ]
  },
  {
   "cell_type": "markdown",
   "metadata": {},
   "source": [
    "У PS4, XBox One и Wii U медианное значение округленно в районе 0,2 млн (кроме платформы PSV - 0,04 млн). Также мы видим значения, сильно превышающие третий квантиль. Это игры с самыми большими продажами. Самое большое число таких игр у PS4 и Xbox One. У PS4 есть игра с продажами около 15 млн копий. У PSV значения гораздо более скромные и на основании этого графика следует исключить PSV из списка перспективных платформ. "
   ]
  },
  {
   "cell_type": "code",
   "execution_count": 34,
   "metadata": {},
   "outputs": [],
   "source": [
    "actual_platform_new = actual_platform_new.query('platform not in [\"PSV\"]')"
   ]
  },
  {
   "cell_type": "markdown",
   "metadata": {},
   "source": [
    "### **Как влияют на продажи внутри одной популярной платформы отзывы пользователей и критиков.**"
   ]
  },
  {
   "cell_type": "code",
   "execution_count": 35,
   "metadata": {},
   "outputs": [],
   "source": [
    "games = actual_platform_new.query('platform == \"PS4\" & critic_score != -1 & user_score != -1 ')"
   ]
  },
  {
   "cell_type": "code",
   "execution_count": 36,
   "metadata": {},
   "outputs": [
    {
     "data": {
      "image/png": "[encoded data removed]",
      "text/plain": [
       "<Figure size 864x504 with 1 Axes>"
      ]
     },
     "metadata": {
      "needs_background": "light"
     },
     "output_type": "display_data"
    },
    {
     "data": {
      "image/png": "[encoded data removed]",
      "text/plain": [
       "<Figure size 864x504 with 1 Axes>"
      ]
     },
     "metadata": {
      "needs_background": "light"
     },
     "output_type": "display_data"
    }
   ],
   "source": [
    "# построим графики корре\n",
    "games.plot(\n",
    "    kind='scatter', \n",
    "    x='critic_score', \n",
    "    y='sum_sales', \n",
    "    figsize = (12,7),\n",
    "    title = 'Корреляция оценок критиков и колличества проданных копий на PS4',\n",
    "    xlabel = 'Оценки критиков', \n",
    "    ylabel = 'Колличество проданных копий (млн)',\n",
    ")\n",
    "games.plot(\n",
    "    kind='scatter', \n",
    "    x='user_score',\n",
    "    y='sum_sales', \n",
    "    figsize = (12,7),\n",
    "    title = 'Корреляция оценок игроков и колличества проданных копий на PS4',\n",
    "    xlabel = 'Оценки пользователей', \n",
    "    ylabel = 'Колличество проданных копий (млн)'\n",
    ")\n",
    "plt.show()\n"
   ]
  },
  {
   "cell_type": "code",
   "execution_count": 37,
   "metadata": {},
   "outputs": [
    {
     "name": "stdout",
     "output_type": "stream",
     "text": [
      "critic_score    0.401903\n",
      "user_score     -0.043186\n",
      "sum_sales       1.000000\n",
      "Name: sum_sales, dtype: float64\n"
     ]
    }
   ],
   "source": [
    "print(games[['critic_score', 'user_score', 'sum_sales']].corr()['sum_sales'])"
   ]
  },
  {
   "cell_type": "markdown",
   "metadata": {},
   "source": [
    "Оценка критиков влияет на продажи игр, хоть и не очень сильно (коэффициент корреляции Пирсона - 0,4). Видно, что игры с высокими продажами имели и высокие рейтинги. <br>\n",
    "А вот оценки игроков совсем не влияют на продажи. Коэффициент -0,04"
   ]
  },
  {
   "cell_type": "code",
   "execution_count": 38,
   "metadata": {},
   "outputs": [
    {
     "data": {
      "image/png": "[encoded data removed]",
      "text/plain": [
       "<Figure size 864x504 with 1 Axes>"
      ]
     },
     "metadata": {
      "needs_background": "light"
     },
     "output_type": "display_data"
    },
    {
     "data": {
      "image/png": "[encoded data removed]",
      "text/plain": [
       "<Figure size 864x504 with 1 Axes>"
      ]
     },
     "metadata": {
      "needs_background": "light"
     },
     "output_type": "display_data"
    },
    {
     "name": "stdout",
     "output_type": "stream",
     "text": [
      "critic_score    0.422112\n",
      "user_score     -0.091734\n",
      "sum_sales       1.000000\n",
      "Name: sum_sales, dtype: float64\n"
     ]
    }
   ],
   "source": [
    "games_XOne = actual_platform_new.query('platform == \"XOne\" & critic_score != -1 & user_score != -1 ')\n",
    "\n",
    "games_XOne.plot(\n",
    "    kind='scatter', \n",
    "    x='critic_score', \n",
    "    y='sum_sales', \n",
    "    figsize = (12,7),\n",
    "    title = 'Корреляция оценок критиков и колличества проданных копий на Xbox One',\n",
    "    xlabel = 'Оценки критиков', \n",
    "    ylabel = 'Колличество проданных копий (млн)',\n",
    ")\n",
    "games_XOne.plot(\n",
    "    kind='scatter', \n",
    "    x='user_score',\n",
    "    y='sum_sales', \n",
    "    figsize = (12,7),\n",
    "    title = 'Корреляция оценок игроков и колличества проданных копий на Xbox One',\n",
    "    xlabel = 'Оценки пользователей', \n",
    "    ylabel = 'Колличество проданных копий (млн)'\n",
    ")\n",
    "plt.show()\n",
    "\n",
    "print(games_XOne[['critic_score', 'user_score', 'sum_sales']].corr()['sum_sales'])"
   ]
  },
  {
   "cell_type": "code",
   "execution_count": 39,
   "metadata": {},
   "outputs": [
    {
     "data": {
      "image/png": "[encoded data removed]",
      "text/plain": [
       "<Figure size 864x504 with 1 Axes>"
      ]
     },
     "metadata": {
      "needs_background": "light"
     },
     "output_type": "display_data"
    },
    {
     "data": {
      "image/png": "[encoded data removed]",
      "text/plain": [
       "<Figure size 864x504 with 1 Axes>"
      ]
     },
     "metadata": {
      "needs_background": "light"
     },
     "output_type": "display_data"
    },
    {
     "name": "stdout",
     "output_type": "stream",
     "text": [
      "critic_score    0.375640\n",
      "user_score      0.411451\n",
      "sum_sales       1.000000\n",
      "Name: sum_sales, dtype: float64\n"
     ]
    }
   ],
   "source": [
    "games_WiiU = actual_platform_new.query('platform == \"WiiU\" & critic_score != -1 & user_score != -1 ')\n",
    "\n",
    "games_WiiU.plot(\n",
    "    kind='scatter', \n",
    "    x='critic_score', \n",
    "    y='sum_sales', \n",
    "    figsize = (12,7),\n",
    "    title = 'Корреляция оценок критиков и колличества проданных копий на WiiU',\n",
    "    xlabel = 'Оценки критиков', \n",
    "    ylabel = 'Колличество проданных копий (млн)',\n",
    ")\n",
    "games_WiiU.plot(\n",
    "    kind='scatter', \n",
    "    x='user_score',\n",
    "    y='sum_sales', \n",
    "    figsize = (12,7),\n",
    "    title = 'Корреляция оценок игроков и колличества проданных копий на WiiU',\n",
    "    xlabel = 'Оценки пользователей', \n",
    "    ylabel = 'Колличество проданных копий (млн)'\n",
    ")\n",
    "plt.show()\n",
    "\n",
    "print(games_WiiU[['critic_score', 'user_score', 'sum_sales']].corr()['sum_sales'])"
   ]
  },
  {
   "cell_type": "markdown",
   "metadata": {},
   "source": [
    " **Вывод** <br>\n",
    "<br>\n",
    "*Playstation 4:* Оценка критиков влияет на продажи игр, но взаимосвязь не очень сильная (коэффициент корреляции Пирсона - 0,4). Можно сказать, что чем выше оценки критиков, тем выше продажи.  <br>\n",
    "Оценки игроков совсем не влияют на продажи. Коэффициент -0,04 \n",
    "<br>\n",
    "<br>\n",
    "*Xbox One:* Коэффициент корреляции практически такой же, как у PS4, 0,42. Оценка критиков влияет на продажи, но не сильно. С ростом оценок растут и продажи. <br>\n",
    "Оценки игроков совсем не влияют на продажи. Коэффициент -0,09\n",
    "<br>\n",
    "<br>\n",
    "*WiiU*: Оценка критиков и пользователей примерно одинаково влияют на продажи игр, коэффициент около 0,4. С ростом оценок продажи также растут."
   ]
  },
  {
   "cell_type": "markdown",
   "metadata": {},
   "source": [
    "### **Общее распределение игр по жанрам. Что можно сказать о самых прибыльных жанрах? Выделяются ли жанры с высокими и низкими продажами?**"
   ]
  },
  {
   "cell_type": "markdown",
   "metadata": {},
   "source": [
    "Изучим как распределяются продажи по жанрам игр на платформах, которые мы определили, как перспективные"
   ]
  },
  {
   "cell_type": "code",
   "execution_count": 40,
   "metadata": {},
   "outputs": [
    {
     "data": {
      "text/plain": [
       "<AxesSubplot:title={'center':'Распределение игр по жанрам на перспективных платформах за 14-16 гг.'}, xlabel='Жанр', ylabel='Колличество проданных копий (млн)'>"
      ]
     },
     "execution_count": 40,
     "metadata": {},
     "output_type": "execute_result"
    },
    {
     "data": {
      "image/png": "[encoded data removed]",
      "text/plain": [
       "<Figure size 864x504 with 1 Axes>"
      ]
     },
     "metadata": {
      "needs_background": "light"
     },
     "output_type": "display_data"
    }
   ],
   "source": [
    "actual_platform_new.pivot_table(\n",
    "    index='genre',\n",
    "    values='sum_sales',\n",
    "    aggfunc='sum'\n",
    ").sort_values(\n",
    "    by='sum_sales',\n",
    "    ascending=False\n",
    ").plot(kind='bar',\n",
    "       title='Распределение игр по жанрам на перспективных платформах за 14-16 гг.',\n",
    "       xlabel= 'Жанр',\n",
    "       ylabel= 'Колличество проданных копий (млн)',\n",
    "       grid=True,\n",
    "       figsize=(12,7)\n",
    ")"
   ]
  },
  {
   "cell_type": "markdown",
   "metadata": {},
   "source": [
    "Среди актуальных и одновременно перспективных платформ самыми прибыльными жанрами можно назвать шутеры и экшены. <br>\n",
    "<br>\n",
    "**Топ жанров:** <br>\n",
    "- Шутеры\n",
    "- Экшн\n",
    "- Спортивные игры\n",
    "- Ролевые игры\n",
    "- Гонки\n",
    "\n",
    "<br>\n",
    "Самые низкопродаваемые жанры:\n",
    "<br>\n",
    "\n",
    "- Симуляторы\n",
    "- Пазлы\n",
    "- Стратегии"
   ]
  },
  {
   "cell_type": "code",
   "execution_count": 41,
   "metadata": {
    "scrolled": false
   },
   "outputs": [
    {
     "data": {
      "text/plain": [
       "[Text(0.5, 1.0, 'Распределение игр по жанрам на перспективных платформах за 14-16 гг.'),\n",
       " Text(0.5, 0, 'Жанры'),\n",
       " Text(0, 0.5, 'Общие продажи'),\n",
       " (0.0, 3.0)]"
      ]
     },
     "execution_count": 41,
     "metadata": {},
     "output_type": "execute_result"
    },
    {
     "data": {
      "image/png": "[encoded data removed]",
      "text/plain": [
       "<Figure size 1080x648 with 1 Axes>"
      ]
     },
     "metadata": {
      "needs_background": "light"
     },
     "output_type": "display_data"
    }
   ],
   "source": [
    "# построим график ящик с усами:\n",
    "actual_platform_new.boxplot(\n",
    "    column='sum_sales', \n",
    "    by='genre', \n",
    "    grid=True, \n",
    "    figsize=(15,9)).set(\n",
    "    title = 'Распределение игр по жанрам на перспективных платформах за 14-16 гг.',\n",
    "    xlabel = 'Жанры', \n",
    "    ylabel = 'Общие продажи', ylim=(0, 3)\n",
    ")\n",
    "\n",
    "\n"
   ]
  },
  {
   "cell_type": "markdown",
   "metadata": {},
   "source": [
    "**Вывод**<br>\n",
    "Самый лучший жанр, имеющий хорошие продажи и самую высокую медиану - это шутеры. Также можно выделить спортивные игры, экшен, платформеры, драки, ролевые игры и гонки. Другие жанры имеют более низкие показатели. В жанре экшн выходило много \"выстреливающих игр\"."
   ]
  },
  {
   "cell_type": "markdown",
   "metadata": {},
   "source": [
    "## Портрет пользователя каждого региона"
   ]
  },
  {
   "cell_type": "markdown",
   "metadata": {},
   "source": [
    "### **Самые популярные платформы (топ-5)**"
   ]
  },
  {
   "cell_type": "code",
   "execution_count": 42,
   "metadata": {},
   "outputs": [],
   "source": [
    "# список регионов\n",
    "regions = ['na_sales', 'eu_sales', 'jp_sales']"
   ]
  },
  {
   "cell_type": "code",
   "execution_count": 43,
   "metadata": {},
   "outputs": [
    {
     "data": {
      "image/png": "[encoded data removed]",
      "text/plain": [
       "<Figure size 1080x360 with 3 Axes>"
      ]
     },
     "metadata": {},
     "output_type": "display_data"
    }
   ],
   "source": [
    "# круговая диаграмма для каждого региона\n",
    "fig, axs = plt.subplots(1, 3, figsize=(15, 5))\n",
    "fig.suptitle('Самые популярные платформы (топ-5)')\n",
    "for i in range(3):\n",
    "    df_i = (df_actual.groupby('platform')[regions[i]].sum().reset_index().sort_values(regions[i], ascending = False, ignore_index = True).head(5))\n",
    "  # занесем все остальные продажи в Other_platforms\n",
    "    df_i = df_i.append({'platform': 'Other_platforms', regions[i]: df_actual[regions[i]].sum() - df_i[regions[i]].sum()}, ignore_index= True)\n",
    "    axs[i].pie(df_i[regions[i]], labels = df_i['platform'])\n",
    "    axs[i].pie(df_i[regions[i]], labels = df_i['platform'], autopct='%1.1f%%')\n",
    "# Зададим название региона.\n",
    "    axs[i].set_title(df_i.columns[1].split('_')[0].upper())\n",
    "plt.show()"
   ]
  },
  {
   "cell_type": "markdown",
   "metadata": {},
   "source": [
    "Вкусы жителей Северной Америки и Европы совпадают в том, что самая популярная платформа и там и там - PS4. На втором месте Xbox One. На 3ем месте в Северной Америке XBox 360, тогда как в Европе PS3. В Америке в целом можно увидеть большую популярность платформ от Xbox, чем в других регионах, возможно в связи с тем, что это для них родной рынок.<br>\n",
    "Рынок Японии сильно отличается от остальных, здесь на первом плане стоит Nintendo 3DS. Также вероятно причина успеха в том, что на родном рынке они активнее себя продвигают.На втором месте PS4 и далее PSV. Уникальность Японского рынка в том, что более 70% продаж это игры на мобильных игровых платформах."
   ]
  },
  {
   "cell_type": "markdown",
   "metadata": {},
   "source": [
    "### **Самые популярные жанры (топ-5)**"
   ]
  },
  {
   "cell_type": "code",
   "execution_count": 44,
   "metadata": {
    "scrolled": true
   },
   "outputs": [
    {
     "data": {
      "image/png": "[encoded data removed]",
      "text/plain": [
       "<Figure size 1080x360 with 3 Axes>"
      ]
     },
     "metadata": {},
     "output_type": "display_data"
    }
   ],
   "source": [
    "# круговая диаграмма для каждого региона\n",
    "fig, axs = plt.subplots(1, 3, figsize=(15, 5))\n",
    "fig.suptitle('Самые популярные жанры (топ-5)')\n",
    "for i in range(3):\n",
    "  # 5 самых продающих жанров\n",
    "  df_i = (df_actual.groupby('genre')[regions[i]].sum().\n",
    "             reset_index().\n",
    "             sort_values(regions[i], ascending = False, ignore_index = True).\n",
    "             head(5))\n",
    "  # занесем все остальыне продажи в Other_genre\n",
    "  df_i = df_i.append({'genre': 'Other_genre', regions[i]: df_actual[regions[i]].sum() - df_i[regions[i]].sum()}, ignore_index= True)\n",
    "  axs[i].pie(df_i[regions[i]], labels = df_i['genre'])\n",
    "  axs[i].pie(df_i[regions[i]], labels = df_i['genre'], autopct='%1.1f%%')\n",
    "  # Зададим название региона.\n",
    "  axs[i].set_title(df_i.columns[1].split('_')[0].upper())\n",
    "plt.show()"
   ]
  },
  {
   "cell_type": "markdown",
   "metadata": {},
   "source": [
    "Северная Америка и Европа очень похожи во вкусах к жанрам, более 50% и там и там занимают игры Экшн и Шутеры, только в Америке Шутеры на первом месте, а в Европе - Экшены, на третьем месте и там и там идут спортивные игры. <br>\n",
    "Японские геймеры больше всего любят ролевые игры, за ними идут игры в жанре экшен, на третьем месте с сильным отставанием драки. "
   ]
  },
  {
   "cell_type": "markdown",
   "metadata": {},
   "source": [
    "### **Влияет ли рейтинг ESRB на продажи в отдельном регионе?**"
   ]
  },
  {
   "cell_type": "code",
   "execution_count": 45,
   "metadata": {},
   "outputs": [
    {
     "data": {
      "image/png": "[encoded data removed]",
      "text/plain": [
       "<Figure size 1080x360 with 3 Axes>"
      ]
     },
     "metadata": {},
     "output_type": "display_data"
    }
   ],
   "source": [
    "# круговая диаграмма для каждого региона\n",
    "fig, axs = plt.subplots(1, 3, figsize=(15, 5))\n",
    "fig.suptitle('Распределение рейтинга')\n",
    "for i in range(3):\n",
    "  # влияние рейтинга\n",
    "  df_i = (df_actual.groupby('rating')[regions[i]].sum().\n",
    "             reset_index().\n",
    "             sort_values(regions[i], ascending = False, ignore_index = True).\n",
    "             head(5))\n",
    "  axs[i].pie(df_i[regions[i]], labels = df_i['rating'])\n",
    "  axs[i].pie(df_i[regions[i]], labels = df_i['rating'], autopct='%1.1f%%')\n",
    "  # Зададим название региона.\n",
    "  axs[i].set_title(df_i.columns[1].split('_')[0].upper())\n",
    "plt.show()"
   ]
  },
  {
   "cell_type": "markdown",
   "metadata": {},
   "source": [
    "Нельзя сказать, что рейтинг ESRB влияет на продажи игр. На рынках Америки и Европы большую часть игр по продажам занимают игры с рейтингом М (Mature) — для взрослой аудитории от 17 лет и старше, то есть несмотря на сильные ограничения по возрасту эти игры всё равно в топе. <br>\n",
    "В Японии более 60% покупаемых игр не имеют рейтинга ESRB. ESRB это Американская компания, которая присваивает рейтинг играм, продающимся в Америке. Поэтому можно предположить, что большую популярность в Японии имеют уникальные, местные, нишевые игры, не доходящие до американского рынка. 15% продаж - это подростковые игры (T), на третьем месте игры для всех возрастов (Е)"
   ]
  },
  {
   "cell_type": "markdown",
   "metadata": {},
   "source": [
    "**Портрет американского геймера:** <br>\n",
    "Играет в Playstation 4<br>\n",
    "Играет в шутеры<br>\n",
    "Играет в игры с рейтингом М (Mature) — для взрослой аудитории от 17 лет и старше;<br>\n",
    "<br>\n",
    "\n",
    "**Портрет европейского геймера:**<br>\n",
    "Играет в Playstation 4<br>\n",
    "Играет в игры жанра экшн<br>\n",
    "Играет в игры с рейтингом М (Mature) — для взрослой аудитории от 17 лет и старше;<br>\n",
    "<br>\n",
    "**Портрет японского геймера:**<br>\n",
    "Играет в 3DS<br>\n",
    "Играет в ролевые игры<br>\n",
    "Играет в игры местного производства"
   ]
  },
  {
   "cell_type": "markdown",
   "metadata": {},
   "source": [
    "## ВЫВОД"
   ]
  },
  {
   "cell_type": "markdown",
   "metadata": {},
   "source": [
    "**На этапе предобработки:**\n",
    "- Мы проверили датафрейм на дубликаты. Полных дубликатов нет. \n",
    "- Все названия столбцов привели к одинаковому виду с нижней строки\n",
    "- Нашли пропуски в столбцах. Строки с пропусками в 'name', 'year_of_release', 'genre' были удалены. \n",
    "- Пропущенные значения в critic_score, user_score и rating были заменены на '-1' для возможности дальнейшего анализа\n",
    "- Всего была потеряна 272 строки, это менее 1 процента от всего датафреймма. Этот результат нас устраивает.\n",
    "- Тип данных в столбце year_of_release был заменён на int64, так как года - это целочисленные значения. \n",
    "- Тип данных в столбце user_score был заменён на float, так как оценки имеют десятичные значения. \n",
    "- В столбце rating заменили все значения 'K-A' на 'E10+', так как это одно и тоже, но в современной версии рейтинга. \n",
    "- Был добавлен столбец sum_sales с суммарными продажами по всем регионам"
   ]
  },
  {
   "cell_type": "markdown",
   "metadata": {},
   "source": [
    "**Исследовательский анализ**\n",
    "\n",
    "Количество выпущенных игр росло, начиная с 1990 года и по 2008 год. <br>\n",
    "С 1980 по 2016 в среднем каждый год выпускалось около 444 игр. <br> \n",
    "Во внимание мы взяли среднее медианное в связи с большим разбросом данных по годам. <br>\n",
    "Самым урожайным на игры годом был 2008 с 1427 играми. <br> \n",
    "После этого пика началось планомерное снижение колличества выпускаемых игр. <br>\n",
    "Возможно повышение требовательности геймеров к качественным играм повысило бюджеты игр и время на их разработку, что отразилось на колличестве выпускаемых студиями игр.\n",
    "\n",
    "**Можно выделить топ платформ по продажам игр:**<br><br>\n",
    "Будем считать годами с топ продажами при количестве проданных копий свыше 100 млн. <br>\n",
    "- PlayStation 2 (топ продаж с 2001 по 2006 год)\n",
    "- Xbox360 (топ продаж с 2008 по 2012 год)\n",
    "- PlayStation 3 (топ продаж с 2008 по 2013 год)\n",
    "- Wii Nintendo (топ продаж с 2006 по 2010 год)\n",
    "- Nintendo DS (топ продаж с 2005 по 2009 год)\n",
    "- PlayStation (топ продаж с 1997 по 1999 год)\n",
    "<br>\n",
    "\n",
    "Наибольшее количество продаж было у игр для PS2. В момент выхода первых игр в 2000 году это был прорыв в игровых технологиях, люди с охотой покупали новые приставки и игры к ним. <br>\n",
    "У каждой из платформ можно заметить жизненный цикл, в виде резкого взлёта продаж игр, далее более плавный рост или удержание прежних уровней на протяжении от 2 до 5 лет и затем спад продаж до нулевого уровня. В среднем срок жизни у всех этих платформ около 10 лет. Причём все 6 платформ-лидеров продаж уже не являются актуальными. <br>\n",
    "\n",
    "**Эти платформы нельзя назвать перспективными:**\n",
    "- Playstation 3\n",
    "- XBox 360\n",
    "- Nintendo 3DS\n",
    "- Wii\n",
    "- PSP\n",
    "- 3DS\n",
    "\n",
    "\n",
    "**Перспективными платформами можно назвать:**\n",
    "- Playstation 4\n",
    "- XBox One\n",
    "- WiiU\n",
    "\n",
    "У PS4, XBox One и Wii U медианное значение проданных игр округленно в районе 0,2 млн. Также мы видим значения, сильно превышающие третий квантиль. Это игры с самыми большими продажами. Самое большое число таких игр у PS4 и Xbox One. У PS4 есть игра с продажами около 15 млн копий. У PSV значения гораздо более скромные.<br>\n",
    "\n",
    "Среди актуальных и одновременно перспективных платформ самыми прибыльными жанрами можно назвать шутеры и экшены. <br>\n",
    "<br>\n",
    "**Влияние оценок критиков на продажи по платформам:**<br>\n",
    "*Playstation 4:* Оценка критиков влияет на продажи игр, но взаимосвязь не очень сильная (коэффициент корреляции Пирсона - 0,4). Можно сказать, что чем выше оценки критиков, тем выше продажи.  <br>\n",
    "Оценки игроков совсем не влияют на продажи. Коэффициент -0,04 \n",
    "<br>\n",
    "<br>\n",
    "*Xbox One:* Коэффициент корреляции практически такой же, как у PS4, 0,42. Оценка критиков влияет на продажи, но не сильно. С ростом оценок растут и продажи. <br>\n",
    "Оценки игроков совсем не влияют на продажи. Коэффициент -0,09\n",
    "<br>\n",
    "<br>\n",
    "*WiiU*: Оценка критиков и пользователей примерно одинаково влияют на продажи игр, коэффициент около 0,4. С ростом оценок продажи также растут.<br>\n",
    "<br>\n",
    "**Топ жанров:** <br>\n",
    "- Шутеры\n",
    "- Экшн\n",
    "- Спортивные игры\n",
    "- Ролевые игры\n",
    "- Гонки\n",
    "\n",
    "<br>\n",
    "Самые низкопродаваемые жанры:\n",
    "<br>\n",
    "\n",
    "- Симуляторы\n",
    "- Пазлы\n",
    "- Стратегии<br>\n",
    "\n",
    "<br>Самый лучший жанр, имеющий хорошие продажи и самую высокую медиану - это шутеры. Также можно выделить спортивные игры, экшен, платформеры, драки, ролевые игры и гонки. Другие жанры имеют более низкие показатели. В жанре экшн выходило много \"выстреливающих игр\".<br>"
   ]
  },
  {
   "cell_type": "markdown",
   "metadata": {},
   "source": [
    "**Портрет американского геймера:** <br>\n",
    "Играет в Playstation 4<br>\n",
    "Играет в шутеры<br>\n",
    "Играет в игры с рейтингом М (Mature) — для взрослой аудитории от 17 лет и старше;<br>\n",
    "<br>\n",
    "\n",
    "**Портрет европейского геймера:**<br>\n",
    "Играет в Playstation 4<br>\n",
    "Играет в игры жанра экшн<br>\n",
    "Играет в игры с рейтингом М (Mature) — для взрослой аудитории от 17 лет и старше;<br>\n",
    "<br>\n",
    "**Портрет японского геймера:**<br>\n",
    "Играет в 3DS<br>\n",
    "Играет в ролевые игры<br>\n",
    "Играет в игры местного производства"
   ]
  },
  {
   "cell_type": "markdown",
   "metadata": {},
   "source": [
    "Не отвергаем гипотезу, что средние пользовательские рейтинги платформ Xbox One и PC одинаковые.\n",
    "Отвергаем гипотезу, что средние пользовательские рейтинги жанров Action и Sports одинаковые."
   ]
  },
  {
   "cell_type": "markdown",
   "metadata": {},
   "source": [
    "## Рекомендации:"
   ]
  },
  {
   "cell_type": "markdown",
   "metadata": {},
   "source": [
    "Данное исследование даёт возможность сделать следующие рекомендации: <br>\n",
    "   - акцентировать продажи игр на платформе PS4, но также не забывать про XBox One и Wii U, так как они тоже перспективны.\n",
    "   - по жанрам выбирать в первую очередь игры жанра экшен и шутеры, а также спортивные игры. \n",
    "   - не бояться высокого рейтинга М от ESRB, а считать его признаком потенциального успеха.\n",
    "    \n",
    "    "
   ]
  },
  {
   "cell_type": "code",
   "execution_count": null,
   "metadata": {},
   "outputs": [],
   "source": []
  }
 ],
 "metadata": {
  "ExecuteTimeLog": [
   {
    "duration": 435,
    "start_time": "2024-03-15T17:43:08.279Z"
   },
   {
    "duration": 186,
    "start_time": "2024-03-15T17:43:09.133Z"
   },
   {
    "duration": 27,
    "start_time": "2024-03-15T17:43:14.016Z"
   },
   {
    "duration": 16,
    "start_time": "2024-03-15T17:43:31.316Z"
   },
   {
    "duration": 45,
    "start_time": "2024-03-17T09:42:01.029Z"
   },
   {
    "duration": 340,
    "start_time": "2024-03-17T09:42:07.667Z"
   },
   {
    "duration": 96,
    "start_time": "2024-03-17T09:42:09.805Z"
   },
   {
    "duration": 25,
    "start_time": "2024-03-17T09:42:10.535Z"
   },
   {
    "duration": 15,
    "start_time": "2024-03-17T09:42:11.928Z"
   },
   {
    "duration": 3,
    "start_time": "2024-03-17T09:42:20.318Z"
   },
   {
    "duration": 13,
    "start_time": "2024-03-17T09:49:19.775Z"
   },
   {
    "duration": 49,
    "start_time": "2024-03-17T12:55:38.292Z"
   },
   {
    "duration": 6,
    "start_time": "2024-03-17T12:55:44.947Z"
   },
   {
    "duration": 425,
    "start_time": "2024-03-17T12:55:49.036Z"
   },
   {
    "duration": 97,
    "start_time": "2024-03-17T12:55:51.153Z"
   },
   {
    "duration": 30,
    "start_time": "2024-03-17T12:55:52.040Z"
   },
   {
    "duration": 19,
    "start_time": "2024-03-17T12:55:52.911Z"
   },
   {
    "duration": 3,
    "start_time": "2024-03-17T12:55:56.403Z"
   },
   {
    "duration": 20,
    "start_time": "2024-03-17T12:56:03.247Z"
   },
   {
    "duration": 31,
    "start_time": "2024-03-17T13:04:25.988Z"
   },
   {
    "duration": 15,
    "start_time": "2024-03-17T13:04:32.271Z"
   },
   {
    "duration": 10,
    "start_time": "2024-03-17T13:09:02.293Z"
   },
   {
    "duration": 13,
    "start_time": "2024-03-17T13:09:15.103Z"
   },
   {
    "duration": 23,
    "start_time": "2024-03-17T13:34:48.398Z"
   },
   {
    "duration": 3,
    "start_time": "2024-03-17T13:45:25.450Z"
   },
   {
    "duration": 1073,
    "start_time": "2024-03-17T13:45:37.653Z"
   },
   {
    "duration": 6,
    "start_time": "2024-03-17T13:45:45.605Z"
   },
   {
    "duration": 9,
    "start_time": "2024-03-17T13:45:57.620Z"
   },
   {
    "duration": 7,
    "start_time": "2024-03-17T13:46:11.390Z"
   },
   {
    "duration": 11,
    "start_time": "2024-03-17T13:46:25.852Z"
   },
   {
    "duration": 19,
    "start_time": "2024-03-17T13:50:43.618Z"
   },
   {
    "duration": 14,
    "start_time": "2024-03-17T13:50:47.186Z"
   },
   {
    "duration": 5,
    "start_time": "2024-03-17T13:52:01.442Z"
   },
   {
    "duration": 3,
    "start_time": "2024-03-17T14:01:27.656Z"
   },
   {
    "duration": 27,
    "start_time": "2024-03-17T14:01:32.806Z"
   },
   {
    "duration": 5,
    "start_time": "2024-03-17T14:04:07.836Z"
   },
   {
    "duration": 8,
    "start_time": "2024-03-17T14:25:52.832Z"
   },
   {
    "duration": 6,
    "start_time": "2024-03-17T14:26:07.676Z"
   },
   {
    "duration": 12,
    "start_time": "2024-03-17T14:30:49.686Z"
   },
   {
    "duration": 25,
    "start_time": "2024-03-17T14:30:58.389Z"
   },
   {
    "duration": 27,
    "start_time": "2024-03-17T14:31:07.432Z"
   },
   {
    "duration": 30,
    "start_time": "2024-03-17T14:32:29.875Z"
   },
   {
    "duration": 35,
    "start_time": "2024-03-17T14:32:46.432Z"
   },
   {
    "duration": 38,
    "start_time": "2024-03-17T14:32:58.011Z"
   },
   {
    "duration": 20,
    "start_time": "2024-03-17T14:34:02.703Z"
   },
   {
    "duration": 26,
    "start_time": "2024-03-17T14:34:28.103Z"
   },
   {
    "duration": 9,
    "start_time": "2024-03-17T15:03:37.531Z"
   },
   {
    "duration": 7,
    "start_time": "2024-03-17T15:03:56.246Z"
   },
   {
    "duration": 10,
    "start_time": "2024-03-17T15:13:47.022Z"
   },
   {
    "duration": 4,
    "start_time": "2024-03-17T15:14:07.338Z"
   },
   {
    "duration": 28,
    "start_time": "2024-03-17T15:30:38.806Z"
   },
   {
    "duration": 15,
    "start_time": "2024-03-17T15:37:10.810Z"
   },
   {
    "duration": 18,
    "start_time": "2024-03-17T15:37:23.391Z"
   },
   {
    "duration": 16,
    "start_time": "2024-03-17T15:39:31.114Z"
   },
   {
    "duration": 42,
    "start_time": "2024-03-17T15:43:29.689Z"
   },
   {
    "duration": 29,
    "start_time": "2024-03-17T15:43:45.067Z"
   },
   {
    "duration": 396,
    "start_time": "2024-03-17T15:44:29.537Z"
   },
   {
    "duration": 60,
    "start_time": "2024-03-17T15:44:29.935Z"
   },
   {
    "duration": 29,
    "start_time": "2024-03-17T15:44:29.996Z"
   },
   {
    "duration": 48,
    "start_time": "2024-03-17T15:44:30.028Z"
   },
   {
    "duration": 1257,
    "start_time": "2024-03-17T15:44:30.078Z"
   },
   {
    "duration": 0,
    "start_time": "2024-03-17T15:44:31.337Z"
   },
   {
    "duration": 0,
    "start_time": "2024-03-17T15:44:31.338Z"
   },
   {
    "duration": 0,
    "start_time": "2024-03-17T15:44:31.339Z"
   },
   {
    "duration": 0,
    "start_time": "2024-03-17T15:44:31.340Z"
   },
   {
    "duration": 0,
    "start_time": "2024-03-17T15:44:31.341Z"
   },
   {
    "duration": 5,
    "start_time": "2024-03-17T15:45:07.652Z"
   },
   {
    "duration": 2,
    "start_time": "2024-03-17T15:45:12.152Z"
   },
   {
    "duration": 58,
    "start_time": "2024-03-17T15:45:12.155Z"
   },
   {
    "duration": 24,
    "start_time": "2024-03-17T15:45:12.214Z"
   },
   {
    "duration": 14,
    "start_time": "2024-03-17T15:45:12.239Z"
   },
   {
    "duration": 4,
    "start_time": "2024-03-17T15:45:12.255Z"
   },
   {
    "duration": 28,
    "start_time": "2024-03-17T15:45:12.260Z"
   },
   {
    "duration": 4,
    "start_time": "2024-03-17T15:45:12.289Z"
   },
   {
    "duration": 33,
    "start_time": "2024-03-17T15:45:12.295Z"
   },
   {
    "duration": 5,
    "start_time": "2024-03-17T15:45:12.331Z"
   },
   {
    "duration": 6,
    "start_time": "2024-03-17T15:45:12.338Z"
   },
   {
    "duration": 10,
    "start_time": "2024-03-17T16:18:04.811Z"
   },
   {
    "duration": 7,
    "start_time": "2024-03-17T16:30:54.958Z"
   },
   {
    "duration": 9,
    "start_time": "2024-03-17T16:31:26.701Z"
   },
   {
    "duration": 7,
    "start_time": "2024-03-17T16:31:43.668Z"
   },
   {
    "duration": 792,
    "start_time": "2024-03-17T16:32:24.025Z"
   },
   {
    "duration": 785,
    "start_time": "2024-03-17T16:32:48.446Z"
   },
   {
    "duration": 11,
    "start_time": "2024-03-17T16:32:59.629Z"
   },
   {
    "duration": 378,
    "start_time": "2024-03-17T16:33:10.979Z"
   },
   {
    "duration": 51,
    "start_time": "2024-03-17T16:33:11.359Z"
   },
   {
    "duration": 20,
    "start_time": "2024-03-17T16:33:11.411Z"
   },
   {
    "duration": 12,
    "start_time": "2024-03-17T16:33:11.433Z"
   },
   {
    "duration": 5,
    "start_time": "2024-03-17T16:33:11.447Z"
   },
   {
    "duration": 16,
    "start_time": "2024-03-17T16:33:11.453Z"
   },
   {
    "duration": 4,
    "start_time": "2024-03-17T16:33:11.470Z"
   },
   {
    "duration": 18,
    "start_time": "2024-03-17T16:33:11.475Z"
   },
   {
    "duration": 35,
    "start_time": "2024-03-17T16:33:11.495Z"
   },
   {
    "duration": 859,
    "start_time": "2024-03-17T16:33:11.531Z"
   },
   {
    "duration": 0,
    "start_time": "2024-03-17T16:33:12.392Z"
   },
   {
    "duration": 0,
    "start_time": "2024-03-17T16:33:12.393Z"
   },
   {
    "duration": 7,
    "start_time": "2024-03-17T16:34:18.936Z"
   },
   {
    "duration": 7,
    "start_time": "2024-03-17T16:34:41.375Z"
   },
   {
    "duration": 7,
    "start_time": "2024-03-17T16:35:56.789Z"
   },
   {
    "duration": 7,
    "start_time": "2024-03-17T16:36:17.642Z"
   },
   {
    "duration": 7,
    "start_time": "2024-03-17T16:36:26.080Z"
   },
   {
    "duration": 372,
    "start_time": "2024-03-17T16:41:42.962Z"
   },
   {
    "duration": 64,
    "start_time": "2024-03-17T16:41:43.336Z"
   },
   {
    "duration": 23,
    "start_time": "2024-03-17T16:41:43.401Z"
   },
   {
    "duration": 15,
    "start_time": "2024-03-17T16:41:43.425Z"
   },
   {
    "duration": 5,
    "start_time": "2024-03-17T16:41:43.442Z"
   },
   {
    "duration": 16,
    "start_time": "2024-03-17T16:41:43.448Z"
   },
   {
    "duration": 4,
    "start_time": "2024-03-17T16:41:43.465Z"
   },
   {
    "duration": 10,
    "start_time": "2024-03-17T16:41:43.471Z"
   },
   {
    "duration": 57,
    "start_time": "2024-03-17T16:41:43.483Z"
   },
   {
    "duration": 83,
    "start_time": "2024-03-17T16:41:43.541Z"
   },
   {
    "duration": 0,
    "start_time": "2024-03-17T16:41:43.626Z"
   },
   {
    "duration": 0,
    "start_time": "2024-03-17T16:41:43.627Z"
   },
   {
    "duration": 7,
    "start_time": "2024-03-17T16:42:20.071Z"
   },
   {
    "duration": 8,
    "start_time": "2024-03-17T16:59:39.040Z"
   },
   {
    "duration": 10,
    "start_time": "2024-03-17T17:00:06.110Z"
   },
   {
    "duration": 3,
    "start_time": "2024-03-17T17:00:12.325Z"
   },
   {
    "duration": 3,
    "start_time": "2024-03-17T17:00:17.276Z"
   },
   {
    "duration": 402,
    "start_time": "2024-03-17T17:00:49.527Z"
   },
   {
    "duration": 53,
    "start_time": "2024-03-17T17:00:49.931Z"
   },
   {
    "duration": 23,
    "start_time": "2024-03-17T17:00:49.986Z"
   },
   {
    "duration": 33,
    "start_time": "2024-03-17T17:00:50.011Z"
   },
   {
    "duration": 6,
    "start_time": "2024-03-17T17:00:50.045Z"
   },
   {
    "duration": 34,
    "start_time": "2024-03-17T17:00:50.053Z"
   },
   {
    "duration": 7,
    "start_time": "2024-03-17T17:00:50.089Z"
   },
   {
    "duration": 22,
    "start_time": "2024-03-17T17:00:50.098Z"
   },
   {
    "duration": 31,
    "start_time": "2024-03-17T17:00:50.122Z"
   },
   {
    "duration": 6,
    "start_time": "2024-03-17T17:00:50.155Z"
   },
   {
    "duration": 897,
    "start_time": "2024-03-17T17:00:50.163Z"
   },
   {
    "duration": 0,
    "start_time": "2024-03-17T17:00:51.061Z"
   },
   {
    "duration": 364,
    "start_time": "2024-03-17T17:01:49.970Z"
   },
   {
    "duration": 55,
    "start_time": "2024-03-17T17:01:50.336Z"
   },
   {
    "duration": 21,
    "start_time": "2024-03-17T17:01:50.393Z"
   },
   {
    "duration": 14,
    "start_time": "2024-03-17T17:01:50.416Z"
   },
   {
    "duration": 5,
    "start_time": "2024-03-17T17:01:50.432Z"
   },
   {
    "duration": 20,
    "start_time": "2024-03-17T17:01:50.438Z"
   },
   {
    "duration": 4,
    "start_time": "2024-03-17T17:01:50.460Z"
   },
   {
    "duration": 16,
    "start_time": "2024-03-17T17:01:50.466Z"
   },
   {
    "duration": 38,
    "start_time": "2024-03-17T17:01:50.484Z"
   },
   {
    "duration": 6,
    "start_time": "2024-03-17T17:01:50.524Z"
   },
   {
    "duration": 903,
    "start_time": "2024-03-17T17:01:50.531Z"
   },
   {
    "duration": 0,
    "start_time": "2024-03-17T17:01:51.436Z"
   },
   {
    "duration": 346,
    "start_time": "2024-03-17T17:02:19.869Z"
   },
   {
    "duration": 52,
    "start_time": "2024-03-17T17:02:20.217Z"
   },
   {
    "duration": 21,
    "start_time": "2024-03-17T17:02:20.271Z"
   },
   {
    "duration": 14,
    "start_time": "2024-03-17T17:02:20.294Z"
   },
   {
    "duration": 5,
    "start_time": "2024-03-17T17:02:20.310Z"
   },
   {
    "duration": 15,
    "start_time": "2024-03-17T17:02:20.317Z"
   },
   {
    "duration": 4,
    "start_time": "2024-03-17T17:02:20.334Z"
   },
   {
    "duration": 15,
    "start_time": "2024-03-17T17:02:20.340Z"
   },
   {
    "duration": 18,
    "start_time": "2024-03-17T17:02:20.356Z"
   },
   {
    "duration": 94,
    "start_time": "2024-03-17T17:02:20.375Z"
   },
   {
    "duration": 0,
    "start_time": "2024-03-17T17:02:20.470Z"
   },
   {
    "duration": 0,
    "start_time": "2024-03-17T17:02:20.472Z"
   },
   {
    "duration": 31,
    "start_time": "2024-03-17T17:02:33.501Z"
   },
   {
    "duration": 18,
    "start_time": "2024-03-17T17:03:35.956Z"
   },
   {
    "duration": 21,
    "start_time": "2024-03-17T17:03:37.869Z"
   },
   {
    "duration": 7,
    "start_time": "2024-03-17T17:03:51.832Z"
   },
   {
    "duration": 7,
    "start_time": "2024-03-17T17:03:56.597Z"
   },
   {
    "duration": 7,
    "start_time": "2024-03-17T17:04:04.472Z"
   },
   {
    "duration": 7,
    "start_time": "2024-03-17T17:13:19.098Z"
   },
   {
    "duration": 391,
    "start_time": "2024-03-17T17:13:29.487Z"
   },
   {
    "duration": 58,
    "start_time": "2024-03-17T17:13:29.880Z"
   },
   {
    "duration": 29,
    "start_time": "2024-03-17T17:13:29.940Z"
   },
   {
    "duration": 14,
    "start_time": "2024-03-17T17:13:29.971Z"
   },
   {
    "duration": 4,
    "start_time": "2024-03-17T17:13:29.987Z"
   },
   {
    "duration": 32,
    "start_time": "2024-03-17T17:13:29.992Z"
   },
   {
    "duration": 14,
    "start_time": "2024-03-17T17:13:30.025Z"
   },
   {
    "duration": 42,
    "start_time": "2024-03-17T17:13:30.041Z"
   },
   {
    "duration": 45,
    "start_time": "2024-03-17T17:13:30.085Z"
   },
   {
    "duration": 43,
    "start_time": "2024-03-17T17:13:30.132Z"
   },
   {
    "duration": 933,
    "start_time": "2024-03-17T17:13:30.176Z"
   },
   {
    "duration": 0,
    "start_time": "2024-03-17T17:13:31.111Z"
   },
   {
    "duration": 400,
    "start_time": "2024-03-17T17:13:51.681Z"
   },
   {
    "duration": 59,
    "start_time": "2024-03-17T17:13:52.083Z"
   },
   {
    "duration": 25,
    "start_time": "2024-03-17T17:13:52.144Z"
   },
   {
    "duration": 18,
    "start_time": "2024-03-17T17:13:52.170Z"
   },
   {
    "duration": 5,
    "start_time": "2024-03-17T17:13:52.190Z"
   },
   {
    "duration": 33,
    "start_time": "2024-03-17T17:13:52.197Z"
   },
   {
    "duration": 7,
    "start_time": "2024-03-17T17:13:52.231Z"
   },
   {
    "duration": 9,
    "start_time": "2024-03-17T17:13:52.239Z"
   },
   {
    "duration": 36,
    "start_time": "2024-03-17T17:14:03.205Z"
   },
   {
    "duration": 8,
    "start_time": "2024-03-17T17:14:49.266Z"
   },
   {
    "duration": 72,
    "start_time": "2024-03-17T17:15:13.289Z"
   },
   {
    "duration": 442,
    "start_time": "2024-03-17T17:15:22.436Z"
   },
   {
    "duration": 53,
    "start_time": "2024-03-17T17:15:22.879Z"
   },
   {
    "duration": 21,
    "start_time": "2024-03-17T17:15:22.934Z"
   },
   {
    "duration": 15,
    "start_time": "2024-03-17T17:15:22.956Z"
   },
   {
    "duration": 5,
    "start_time": "2024-03-17T17:15:22.972Z"
   },
   {
    "duration": 18,
    "start_time": "2024-03-17T17:15:22.979Z"
   },
   {
    "duration": 4,
    "start_time": "2024-03-17T17:15:23.019Z"
   },
   {
    "duration": 13,
    "start_time": "2024-03-17T17:15:23.024Z"
   },
   {
    "duration": 35,
    "start_time": "2024-03-17T17:15:23.038Z"
   },
   {
    "duration": 8,
    "start_time": "2024-03-17T17:15:35.628Z"
   },
   {
    "duration": 70,
    "start_time": "2024-03-17T17:15:41.145Z"
   },
   {
    "duration": 7,
    "start_time": "2024-03-17T17:16:23.040Z"
   },
   {
    "duration": 370,
    "start_time": "2024-03-17T17:34:29.373Z"
   },
   {
    "duration": 52,
    "start_time": "2024-03-17T17:34:29.745Z"
   },
   {
    "duration": 23,
    "start_time": "2024-03-17T17:34:29.799Z"
   },
   {
    "duration": 14,
    "start_time": "2024-03-17T17:34:29.824Z"
   },
   {
    "duration": 6,
    "start_time": "2024-03-17T17:34:29.841Z"
   },
   {
    "duration": 30,
    "start_time": "2024-03-17T17:34:29.849Z"
   },
   {
    "duration": 4,
    "start_time": "2024-03-17T17:34:29.881Z"
   },
   {
    "duration": 41,
    "start_time": "2024-03-17T17:34:29.887Z"
   },
   {
    "duration": 42,
    "start_time": "2024-03-17T17:34:38.010Z"
   },
   {
    "duration": 7,
    "start_time": "2024-03-17T17:35:54.664Z"
   },
   {
    "duration": 5,
    "start_time": "2024-03-17T17:36:17.030Z"
   },
   {
    "duration": 398,
    "start_time": "2024-03-17T17:36:47.343Z"
   },
   {
    "duration": 54,
    "start_time": "2024-03-17T17:36:47.743Z"
   },
   {
    "duration": 21,
    "start_time": "2024-03-17T17:36:47.798Z"
   },
   {
    "duration": 14,
    "start_time": "2024-03-17T17:36:47.821Z"
   },
   {
    "duration": 4,
    "start_time": "2024-03-17T17:36:47.836Z"
   },
   {
    "duration": 29,
    "start_time": "2024-03-17T17:36:47.842Z"
   },
   {
    "duration": 6,
    "start_time": "2024-03-17T17:36:47.872Z"
   },
   {
    "duration": 10,
    "start_time": "2024-03-17T17:36:47.879Z"
   },
   {
    "duration": 29,
    "start_time": "2024-03-17T17:37:11.040Z"
   },
   {
    "duration": 6,
    "start_time": "2024-03-17T17:37:18.418Z"
   },
   {
    "duration": 5,
    "start_time": "2024-03-17T17:37:38.781Z"
   },
   {
    "duration": 46,
    "start_time": "2024-03-17T17:38:16.553Z"
   },
   {
    "duration": 13,
    "start_time": "2024-03-17T17:38:26.772Z"
   },
   {
    "duration": 6,
    "start_time": "2024-03-17T17:38:42.525Z"
   },
   {
    "duration": 28,
    "start_time": "2024-03-17T17:40:27.105Z"
   },
   {
    "duration": 3,
    "start_time": "2024-03-17T17:48:05.497Z"
   },
   {
    "duration": 965,
    "start_time": "2024-03-17T17:48:11.273Z"
   },
   {
    "duration": 848,
    "start_time": "2024-03-17T17:48:47.398Z"
   },
   {
    "duration": 413,
    "start_time": "2024-03-17T17:49:44.332Z"
   },
   {
    "duration": 53,
    "start_time": "2024-03-17T17:49:44.747Z"
   },
   {
    "duration": 23,
    "start_time": "2024-03-17T17:49:44.802Z"
   },
   {
    "duration": 19,
    "start_time": "2024-03-17T17:49:44.826Z"
   },
   {
    "duration": 5,
    "start_time": "2024-03-17T17:49:44.848Z"
   },
   {
    "duration": 19,
    "start_time": "2024-03-17T17:49:44.855Z"
   },
   {
    "duration": 5,
    "start_time": "2024-03-17T17:49:44.876Z"
   },
   {
    "duration": 46,
    "start_time": "2024-03-17T17:49:44.882Z"
   },
   {
    "duration": 31,
    "start_time": "2024-03-17T17:49:44.930Z"
   },
   {
    "duration": 22,
    "start_time": "2024-03-17T17:49:44.962Z"
   },
   {
    "duration": 41,
    "start_time": "2024-03-17T17:49:44.986Z"
   },
   {
    "duration": 25,
    "start_time": "2024-03-17T17:49:52.051Z"
   },
   {
    "duration": 76,
    "start_time": "2024-03-17T17:50:08.518Z"
   },
   {
    "duration": 21,
    "start_time": "2024-03-17T17:52:20.645Z"
   },
   {
    "duration": 6,
    "start_time": "2024-03-17T17:52:32.267Z"
   },
   {
    "duration": 823,
    "start_time": "2024-03-17T17:52:56.568Z"
   },
   {
    "duration": 400,
    "start_time": "2024-03-17T17:53:17.218Z"
   },
   {
    "duration": 54,
    "start_time": "2024-03-17T17:53:17.620Z"
   },
   {
    "duration": 29,
    "start_time": "2024-03-17T17:53:17.675Z"
   },
   {
    "duration": 29,
    "start_time": "2024-03-17T17:53:17.705Z"
   },
   {
    "duration": 6,
    "start_time": "2024-03-17T17:53:17.736Z"
   },
   {
    "duration": 20,
    "start_time": "2024-03-17T17:53:17.744Z"
   },
   {
    "duration": 4,
    "start_time": "2024-03-17T17:53:17.765Z"
   },
   {
    "duration": 14,
    "start_time": "2024-03-17T17:53:17.771Z"
   },
   {
    "duration": 37,
    "start_time": "2024-03-17T17:53:17.787Z"
   },
   {
    "duration": 20,
    "start_time": "2024-03-17T17:53:17.825Z"
   },
   {
    "duration": 18,
    "start_time": "2024-03-17T17:53:17.847Z"
   },
   {
    "duration": 6,
    "start_time": "2024-03-17T17:53:17.866Z"
   },
   {
    "duration": 28,
    "start_time": "2024-03-17T18:12:09.513Z"
   },
   {
    "duration": 19,
    "start_time": "2024-03-17T18:14:33.187Z"
   },
   {
    "duration": 425,
    "start_time": "2024-03-18T06:48:29.380Z"
   },
   {
    "duration": 112,
    "start_time": "2024-03-18T06:48:29.807Z"
   },
   {
    "duration": 24,
    "start_time": "2024-03-18T06:48:29.921Z"
   },
   {
    "duration": 16,
    "start_time": "2024-03-18T06:48:29.947Z"
   },
   {
    "duration": 5,
    "start_time": "2024-03-18T06:48:29.965Z"
   },
   {
    "duration": 17,
    "start_time": "2024-03-18T06:48:29.972Z"
   },
   {
    "duration": 26,
    "start_time": "2024-03-18T06:48:29.991Z"
   },
   {
    "duration": 38,
    "start_time": "2024-03-18T06:48:30.018Z"
   },
   {
    "duration": 43,
    "start_time": "2024-03-18T06:48:30.057Z"
   },
   {
    "duration": 51,
    "start_time": "2024-03-18T06:48:30.102Z"
   },
   {
    "duration": 9,
    "start_time": "2024-03-18T06:49:18.669Z"
   },
   {
    "duration": 7,
    "start_time": "2024-03-18T06:49:55.452Z"
   },
   {
    "duration": 8,
    "start_time": "2024-03-18T06:56:47.914Z"
   },
   {
    "duration": 8,
    "start_time": "2024-03-18T06:56:54.947Z"
   },
   {
    "duration": 7,
    "start_time": "2024-03-18T06:57:13.562Z"
   },
   {
    "duration": 7,
    "start_time": "2024-03-18T06:57:34.167Z"
   },
   {
    "duration": 20,
    "start_time": "2024-03-18T06:57:57.319Z"
   },
   {
    "duration": 413,
    "start_time": "2024-03-18T06:58:48.667Z"
   },
   {
    "duration": 58,
    "start_time": "2024-03-18T06:58:49.082Z"
   },
   {
    "duration": 25,
    "start_time": "2024-03-18T06:58:49.142Z"
   },
   {
    "duration": 23,
    "start_time": "2024-03-18T06:58:49.169Z"
   },
   {
    "duration": 7,
    "start_time": "2024-03-18T06:58:49.214Z"
   },
   {
    "duration": 30,
    "start_time": "2024-03-18T06:58:49.223Z"
   },
   {
    "duration": 4,
    "start_time": "2024-03-18T06:58:49.256Z"
   },
   {
    "duration": 25,
    "start_time": "2024-03-18T06:58:49.262Z"
   },
   {
    "duration": 40,
    "start_time": "2024-03-18T06:58:49.289Z"
   },
   {
    "duration": 4,
    "start_time": "2024-03-18T06:58:49.330Z"
   },
   {
    "duration": 16,
    "start_time": "2024-03-18T06:58:49.336Z"
   },
   {
    "duration": 25,
    "start_time": "2024-03-18T06:58:49.354Z"
   },
   {
    "duration": 61,
    "start_time": "2024-03-18T06:58:49.381Z"
   },
   {
    "duration": 5,
    "start_time": "2024-03-18T06:59:00.792Z"
   },
   {
    "duration": 924,
    "start_time": "2024-03-18T06:59:39.452Z"
   },
   {
    "duration": 7,
    "start_time": "2024-03-18T07:00:33.246Z"
   },
   {
    "duration": 868,
    "start_time": "2024-03-18T07:00:40.636Z"
   },
   {
    "duration": 861,
    "start_time": "2024-03-18T07:01:46.918Z"
   },
   {
    "duration": 20,
    "start_time": "2024-03-18T07:02:51.874Z"
   },
   {
    "duration": 37,
    "start_time": "2024-03-18T07:03:49.192Z"
   },
   {
    "duration": 69,
    "start_time": "2024-03-18T07:06:52.438Z"
   },
   {
    "duration": 28,
    "start_time": "2024-03-18T07:07:20.101Z"
   },
   {
    "duration": 4,
    "start_time": "2024-03-18T07:10:55.829Z"
   },
   {
    "duration": 938,
    "start_time": "2024-03-18T07:11:01.673Z"
   },
   {
    "duration": 5,
    "start_time": "2024-03-18T07:11:18.844Z"
   },
   {
    "duration": 410,
    "start_time": "2024-03-18T07:11:44.730Z"
   },
   {
    "duration": 56,
    "start_time": "2024-03-18T07:11:45.142Z"
   },
   {
    "duration": 23,
    "start_time": "2024-03-18T07:11:45.200Z"
   },
   {
    "duration": 36,
    "start_time": "2024-03-18T07:11:45.225Z"
   },
   {
    "duration": 20,
    "start_time": "2024-03-18T07:11:45.264Z"
   },
   {
    "duration": 28,
    "start_time": "2024-03-18T07:11:45.286Z"
   },
   {
    "duration": 5,
    "start_time": "2024-03-18T07:11:45.316Z"
   },
   {
    "duration": 38,
    "start_time": "2024-03-18T07:11:45.322Z"
   },
   {
    "duration": 31,
    "start_time": "2024-03-18T07:11:45.362Z"
   },
   {
    "duration": 8,
    "start_time": "2024-03-18T07:11:45.395Z"
   },
   {
    "duration": 22,
    "start_time": "2024-03-18T07:11:51.604Z"
   },
   {
    "duration": 9,
    "start_time": "2024-03-18T07:12:16.410Z"
   },
   {
    "duration": 8,
    "start_time": "2024-03-18T07:12:34.535Z"
   },
   {
    "duration": 10,
    "start_time": "2024-03-18T07:17:36.067Z"
   },
   {
    "duration": 7,
    "start_time": "2024-03-18T07:17:43.006Z"
   },
   {
    "duration": 12,
    "start_time": "2024-03-18T07:18:14.287Z"
   },
   {
    "duration": 9,
    "start_time": "2024-03-18T07:18:56.852Z"
   },
   {
    "duration": 15,
    "start_time": "2024-03-18T07:19:14.016Z"
   },
   {
    "duration": 5,
    "start_time": "2024-03-18T07:23:37.975Z"
   },
   {
    "duration": 21,
    "start_time": "2024-03-18T07:23:40.327Z"
   },
   {
    "duration": 22,
    "start_time": "2024-03-18T07:24:00.843Z"
   },
   {
    "duration": 6,
    "start_time": "2024-03-18T07:26:51.505Z"
   },
   {
    "duration": 5,
    "start_time": "2024-03-18T07:31:09.480Z"
   },
   {
    "duration": 4,
    "start_time": "2024-03-18T07:31:16.157Z"
   },
   {
    "duration": 3,
    "start_time": "2024-03-18T07:33:59.115Z"
   },
   {
    "duration": 4,
    "start_time": "2024-03-18T07:34:20.376Z"
   },
   {
    "duration": 4,
    "start_time": "2024-03-18T07:36:04.088Z"
   },
   {
    "duration": 4,
    "start_time": "2024-03-18T07:36:24.105Z"
   },
   {
    "duration": 4,
    "start_time": "2024-03-18T07:38:31.044Z"
   },
   {
    "duration": 4,
    "start_time": "2024-03-18T07:38:40.692Z"
   },
   {
    "duration": 3,
    "start_time": "2024-03-18T07:38:48.748Z"
   },
   {
    "duration": 4,
    "start_time": "2024-03-18T07:50:40.828Z"
   },
   {
    "duration": 4,
    "start_time": "2024-03-18T07:50:49.797Z"
   },
   {
    "duration": 4,
    "start_time": "2024-03-18T07:51:05.812Z"
   },
   {
    "duration": 4,
    "start_time": "2024-03-18T07:51:16.881Z"
   },
   {
    "duration": 116,
    "start_time": "2024-03-18T07:51:46.452Z"
   },
   {
    "duration": 69,
    "start_time": "2024-03-18T07:51:53.189Z"
   },
   {
    "duration": 4,
    "start_time": "2024-03-18T07:52:25.971Z"
   },
   {
    "duration": 4,
    "start_time": "2024-03-18T07:52:59.197Z"
   },
   {
    "duration": 4,
    "start_time": "2024-03-18T07:53:21.956Z"
   },
   {
    "duration": 5,
    "start_time": "2024-03-18T07:53:41.334Z"
   },
   {
    "duration": 3,
    "start_time": "2024-03-18T07:54:09.179Z"
   },
   {
    "duration": 26,
    "start_time": "2024-03-18T08:07:08.082Z"
   },
   {
    "duration": 19,
    "start_time": "2024-03-18T08:07:38.063Z"
   },
   {
    "duration": 25,
    "start_time": "2024-03-18T08:09:29.918Z"
   },
   {
    "duration": 13,
    "start_time": "2024-03-18T09:17:40.164Z"
   },
   {
    "duration": 22,
    "start_time": "2024-03-18T09:28:13.669Z"
   },
   {
    "duration": 19,
    "start_time": "2024-03-18T09:31:14.240Z"
   },
   {
    "duration": 18,
    "start_time": "2024-03-18T09:33:16.108Z"
   },
   {
    "duration": 19,
    "start_time": "2024-03-18T09:33:36.028Z"
   },
   {
    "duration": 20,
    "start_time": "2024-03-18T09:34:42.667Z"
   },
   {
    "duration": 18,
    "start_time": "2024-03-18T09:48:19.856Z"
   },
   {
    "duration": 18,
    "start_time": "2024-03-18T09:53:31.825Z"
   },
   {
    "duration": 7,
    "start_time": "2024-03-18T09:53:53.567Z"
   },
   {
    "duration": 7,
    "start_time": "2024-03-18T09:54:17.017Z"
   },
   {
    "duration": 5,
    "start_time": "2024-03-18T09:54:28.121Z"
   },
   {
    "duration": 4,
    "start_time": "2024-03-18T09:54:47.494Z"
   },
   {
    "duration": 21,
    "start_time": "2024-03-18T09:54:54.412Z"
   },
   {
    "duration": 451,
    "start_time": "2024-03-18T09:56:48.600Z"
   },
   {
    "duration": 57,
    "start_time": "2024-03-18T09:56:49.054Z"
   },
   {
    "duration": 24,
    "start_time": "2024-03-18T09:56:49.113Z"
   },
   {
    "duration": 18,
    "start_time": "2024-03-18T09:56:49.138Z"
   },
   {
    "duration": 5,
    "start_time": "2024-03-18T09:56:49.158Z"
   },
   {
    "duration": 7,
    "start_time": "2024-03-18T09:56:49.165Z"
   },
   {
    "duration": 43,
    "start_time": "2024-03-18T09:56:49.173Z"
   },
   {
    "duration": 9,
    "start_time": "2024-03-18T09:56:49.218Z"
   },
   {
    "duration": 14,
    "start_time": "2024-03-18T09:56:49.229Z"
   },
   {
    "duration": 74,
    "start_time": "2024-03-18T09:56:49.245Z"
   },
   {
    "duration": 0,
    "start_time": "2024-03-18T09:56:49.320Z"
   },
   {
    "duration": 0,
    "start_time": "2024-03-18T09:56:49.321Z"
   },
   {
    "duration": 3,
    "start_time": "2024-03-18T09:57:25.330Z"
   },
   {
    "duration": 63,
    "start_time": "2024-03-18T09:57:25.335Z"
   },
   {
    "duration": 17,
    "start_time": "2024-03-18T09:57:25.400Z"
   },
   {
    "duration": 23,
    "start_time": "2024-03-18T09:57:25.418Z"
   },
   {
    "duration": 5,
    "start_time": "2024-03-18T09:57:25.444Z"
   },
   {
    "duration": 22,
    "start_time": "2024-03-18T09:57:25.451Z"
   },
   {
    "duration": 28,
    "start_time": "2024-03-18T09:57:25.474Z"
   },
   {
    "duration": 11,
    "start_time": "2024-03-18T09:57:25.503Z"
   },
   {
    "duration": 17,
    "start_time": "2024-03-18T09:57:25.516Z"
   },
   {
    "duration": 35,
    "start_time": "2024-03-18T09:57:25.535Z"
   },
   {
    "duration": 5,
    "start_time": "2024-03-18T09:57:25.572Z"
   },
   {
    "duration": 22,
    "start_time": "2024-03-18T09:57:25.579Z"
   },
   {
    "duration": 13,
    "start_time": "2024-03-18T10:01:37.193Z"
   },
   {
    "duration": 90,
    "start_time": "2024-03-18T10:06:16.874Z"
   },
   {
    "duration": 1154,
    "start_time": "2024-03-18T10:07:46.522Z"
   },
   {
    "duration": 1107,
    "start_time": "2024-03-18T10:08:39.733Z"
   },
   {
    "duration": 1109,
    "start_time": "2024-03-18T10:08:55.400Z"
   },
   {
    "duration": 25,
    "start_time": "2024-03-18T10:09:27.260Z"
   },
   {
    "duration": 11,
    "start_time": "2024-03-18T10:09:45.509Z"
   },
   {
    "duration": 16,
    "start_time": "2024-03-18T10:10:33.768Z"
   },
   {
    "duration": 7,
    "start_time": "2024-03-18T10:12:07.635Z"
   },
   {
    "duration": 21,
    "start_time": "2024-03-18T10:20:04.787Z"
   },
   {
    "duration": 10,
    "start_time": "2024-03-18T10:23:20.040Z"
   },
   {
    "duration": 3,
    "start_time": "2024-03-18T10:23:38.184Z"
   },
   {
    "duration": 11426,
    "start_time": "2024-03-18T10:23:41.667Z"
   },
   {
    "duration": 903,
    "start_time": "2024-03-18T10:24:45.616Z"
   },
   {
    "duration": 829,
    "start_time": "2024-03-18T10:25:11.600Z"
   },
   {
    "duration": 403,
    "start_time": "2024-03-18T10:25:28.370Z"
   },
   {
    "duration": 58,
    "start_time": "2024-03-18T10:25:28.775Z"
   },
   {
    "duration": 24,
    "start_time": "2024-03-18T10:25:28.835Z"
   },
   {
    "duration": 14,
    "start_time": "2024-03-18T10:25:28.861Z"
   },
   {
    "duration": 5,
    "start_time": "2024-03-18T10:25:28.878Z"
   },
   {
    "duration": 30,
    "start_time": "2024-03-18T10:25:28.885Z"
   },
   {
    "duration": 28,
    "start_time": "2024-03-18T10:25:28.917Z"
   },
   {
    "duration": 9,
    "start_time": "2024-03-18T10:25:28.947Z"
   },
   {
    "duration": 23,
    "start_time": "2024-03-18T10:25:28.957Z"
   },
   {
    "duration": 27,
    "start_time": "2024-03-18T10:25:28.981Z"
   },
   {
    "duration": 4,
    "start_time": "2024-03-18T10:25:29.014Z"
   },
   {
    "duration": 20,
    "start_time": "2024-03-18T10:25:29.020Z"
   },
   {
    "duration": 11,
    "start_time": "2024-03-18T10:25:29.041Z"
   },
   {
    "duration": 3,
    "start_time": "2024-03-18T10:25:32.297Z"
   },
   {
    "duration": 11536,
    "start_time": "2024-03-18T10:25:37.970Z"
   },
   {
    "duration": 450,
    "start_time": "2024-03-18T10:27:13.994Z"
   },
   {
    "duration": 61,
    "start_time": "2024-03-18T10:27:14.446Z"
   },
   {
    "duration": 25,
    "start_time": "2024-03-18T10:27:14.508Z"
   },
   {
    "duration": 18,
    "start_time": "2024-03-18T10:27:14.535Z"
   },
   {
    "duration": 5,
    "start_time": "2024-03-18T10:27:14.556Z"
   },
   {
    "duration": 21,
    "start_time": "2024-03-18T10:27:14.563Z"
   },
   {
    "duration": 43,
    "start_time": "2024-03-18T10:27:14.586Z"
   },
   {
    "duration": 12,
    "start_time": "2024-03-18T10:27:14.631Z"
   },
   {
    "duration": 17,
    "start_time": "2024-03-18T10:27:14.644Z"
   },
   {
    "duration": 33,
    "start_time": "2024-03-18T10:27:14.662Z"
   },
   {
    "duration": 5,
    "start_time": "2024-03-18T10:27:14.696Z"
   },
   {
    "duration": 6,
    "start_time": "2024-03-18T10:27:14.715Z"
   },
   {
    "duration": 15,
    "start_time": "2024-03-18T10:27:14.722Z"
   },
   {
    "duration": 65,
    "start_time": "2024-03-18T10:27:29.842Z"
   },
   {
    "duration": 4,
    "start_time": "2024-03-18T10:27:33.639Z"
   },
   {
    "duration": 21,
    "start_time": "2024-03-18T10:27:36.173Z"
   },
   {
    "duration": 399,
    "start_time": "2024-03-18T12:06:30.744Z"
   },
   {
    "duration": 190,
    "start_time": "2024-03-18T12:06:31.144Z"
   },
   {
    "duration": 25,
    "start_time": "2024-03-18T12:06:31.336Z"
   },
   {
    "duration": 78,
    "start_time": "2024-03-18T12:06:31.362Z"
   },
   {
    "duration": 66,
    "start_time": "2024-03-18T12:06:31.443Z"
   },
   {
    "duration": 63,
    "start_time": "2024-03-18T12:06:31.511Z"
   },
   {
    "duration": 81,
    "start_time": "2024-03-18T12:06:31.576Z"
   },
   {
    "duration": 34,
    "start_time": "2024-03-18T12:06:31.659Z"
   },
   {
    "duration": 42,
    "start_time": "2024-03-18T12:06:31.695Z"
   },
   {
    "duration": 41,
    "start_time": "2024-03-18T12:06:31.739Z"
   },
   {
    "duration": 4,
    "start_time": "2024-03-18T12:06:31.781Z"
   },
   {
    "duration": 12,
    "start_time": "2024-03-18T12:06:31.786Z"
   },
   {
    "duration": 12,
    "start_time": "2024-03-18T12:06:31.799Z"
   },
   {
    "duration": 5,
    "start_time": "2024-03-18T12:06:39.978Z"
   },
   {
    "duration": 4,
    "start_time": "2024-03-18T12:06:43.108Z"
   },
   {
    "duration": 4,
    "start_time": "2024-03-18T12:06:44.483Z"
   },
   {
    "duration": 80,
    "start_time": "2024-03-18T12:06:48.373Z"
   },
   {
    "duration": 1229,
    "start_time": "2024-03-18T12:07:22.859Z"
   },
   {
    "duration": 22,
    "start_time": "2024-03-18T12:11:22.800Z"
   },
   {
    "duration": 4,
    "start_time": "2024-03-18T12:13:25.194Z"
   },
   {
    "duration": 19,
    "start_time": "2024-03-18T12:13:30.078Z"
   },
   {
    "duration": 20,
    "start_time": "2024-03-18T12:13:42.670Z"
   },
   {
    "duration": 411,
    "start_time": "2024-03-18T12:14:25.698Z"
   },
   {
    "duration": 428,
    "start_time": "2024-03-18T12:14:37.599Z"
   },
   {
    "duration": 396,
    "start_time": "2024-03-18T12:14:47.611Z"
   },
   {
    "duration": 1242,
    "start_time": "2024-03-18T12:15:04.133Z"
   },
   {
    "duration": 7,
    "start_time": "2024-03-18T12:15:55.006Z"
   },
   {
    "duration": 7,
    "start_time": "2024-03-18T12:16:08.129Z"
   },
   {
    "duration": 6,
    "start_time": "2024-03-18T12:16:21.389Z"
   },
   {
    "duration": 6,
    "start_time": "2024-03-18T12:16:33.653Z"
   },
   {
    "duration": 8,
    "start_time": "2024-03-18T12:19:41.411Z"
   },
   {
    "duration": 20,
    "start_time": "2024-03-18T12:19:47.566Z"
   },
   {
    "duration": 5,
    "start_time": "2024-03-18T12:20:19.526Z"
   },
   {
    "duration": 457,
    "start_time": "2024-03-18T12:21:39.063Z"
   },
   {
    "duration": 70,
    "start_time": "2024-03-18T12:21:39.522Z"
   },
   {
    "duration": 30,
    "start_time": "2024-03-18T12:21:39.595Z"
   },
   {
    "duration": 17,
    "start_time": "2024-03-18T12:21:39.627Z"
   },
   {
    "duration": 7,
    "start_time": "2024-03-18T12:21:39.647Z"
   },
   {
    "duration": 27,
    "start_time": "2024-03-18T12:21:39.656Z"
   },
   {
    "duration": 31,
    "start_time": "2024-03-18T12:21:39.685Z"
   },
   {
    "duration": 11,
    "start_time": "2024-03-18T12:21:39.718Z"
   },
   {
    "duration": 15,
    "start_time": "2024-03-18T12:21:39.731Z"
   },
   {
    "duration": 46,
    "start_time": "2024-03-18T12:21:39.747Z"
   },
   {
    "duration": 4,
    "start_time": "2024-03-18T12:21:39.795Z"
   },
   {
    "duration": 6,
    "start_time": "2024-03-18T12:21:39.800Z"
   },
   {
    "duration": 31,
    "start_time": "2024-03-18T12:21:39.808Z"
   },
   {
    "duration": 4,
    "start_time": "2024-03-18T12:21:48.029Z"
   },
   {
    "duration": 429,
    "start_time": "2024-03-18T12:22:04.763Z"
   },
   {
    "duration": 54,
    "start_time": "2024-03-18T12:22:05.194Z"
   },
   {
    "duration": 24,
    "start_time": "2024-03-18T12:22:05.250Z"
   },
   {
    "duration": 15,
    "start_time": "2024-03-18T12:22:05.275Z"
   },
   {
    "duration": 5,
    "start_time": "2024-03-18T12:22:05.293Z"
   },
   {
    "duration": 13,
    "start_time": "2024-03-18T12:22:05.300Z"
   },
   {
    "duration": 21,
    "start_time": "2024-03-18T12:22:05.315Z"
   },
   {
    "duration": 21,
    "start_time": "2024-03-18T12:22:05.338Z"
   },
   {
    "duration": 27,
    "start_time": "2024-03-18T12:22:05.362Z"
   },
   {
    "duration": 43,
    "start_time": "2024-03-18T12:22:05.391Z"
   },
   {
    "duration": 5,
    "start_time": "2024-03-18T12:22:05.436Z"
   },
   {
    "duration": 37,
    "start_time": "2024-03-18T12:22:05.443Z"
   },
   {
    "duration": 8,
    "start_time": "2024-03-18T12:22:05.482Z"
   },
   {
    "duration": 5,
    "start_time": "2024-03-18T12:23:16.940Z"
   },
   {
    "duration": 84,
    "start_time": "2024-03-18T12:23:18.726Z"
   },
   {
    "duration": 3,
    "start_time": "2024-03-18T12:23:28.089Z"
   },
   {
    "duration": 19,
    "start_time": "2024-03-18T12:23:30.957Z"
   },
   {
    "duration": 8,
    "start_time": "2024-03-18T12:23:46.735Z"
   },
   {
    "duration": 19,
    "start_time": "2024-03-18T12:23:49.853Z"
   },
   {
    "duration": 4,
    "start_time": "2024-03-18T12:25:01.203Z"
   },
   {
    "duration": 21,
    "start_time": "2024-03-18T12:25:05.076Z"
   },
   {
    "duration": 10,
    "start_time": "2024-03-18T12:25:51.007Z"
   },
   {
    "duration": 29,
    "start_time": "2024-03-18T12:25:57.729Z"
   },
   {
    "duration": 4,
    "start_time": "2024-03-18T12:26:32.277Z"
   },
   {
    "duration": 22,
    "start_time": "2024-03-18T12:26:34.578Z"
   },
   {
    "duration": 4,
    "start_time": "2024-03-18T12:26:47.847Z"
   },
   {
    "duration": 19,
    "start_time": "2024-03-18T12:26:52.418Z"
   },
   {
    "duration": 4,
    "start_time": "2024-03-18T12:28:14.849Z"
   },
   {
    "duration": 27,
    "start_time": "2024-03-18T12:28:16.894Z"
   },
   {
    "duration": 4,
    "start_time": "2024-03-18T12:29:01.815Z"
   },
   {
    "duration": 20,
    "start_time": "2024-03-18T12:29:05.821Z"
   },
   {
    "duration": 11,
    "start_time": "2024-03-18T12:29:31.222Z"
   },
   {
    "duration": 17,
    "start_time": "2024-03-18T12:29:33.602Z"
   },
   {
    "duration": 97,
    "start_time": "2024-03-18T12:30:17.763Z"
   },
   {
    "duration": 24,
    "start_time": "2024-03-18T12:30:19.950Z"
   },
   {
    "duration": 4,
    "start_time": "2024-03-18T12:31:24.403Z"
   },
   {
    "duration": 22,
    "start_time": "2024-03-18T12:31:25.938Z"
   },
   {
    "duration": 4,
    "start_time": "2024-03-18T12:32:10.576Z"
   },
   {
    "duration": 4,
    "start_time": "2024-03-18T12:32:12.918Z"
   },
   {
    "duration": 18,
    "start_time": "2024-03-18T12:32:14.931Z"
   },
   {
    "duration": 4,
    "start_time": "2024-03-18T12:33:18.885Z"
   },
   {
    "duration": 12235,
    "start_time": "2024-03-18T12:33:20.708Z"
   },
   {
    "duration": 3,
    "start_time": "2024-03-18T12:33:32.946Z"
   },
   {
    "duration": 5019,
    "start_time": "2024-03-18T12:33:34.282Z"
   },
   {
    "duration": 435,
    "start_time": "2024-03-18T12:34:35.159Z"
   },
   {
    "duration": 52,
    "start_time": "2024-03-18T12:34:35.596Z"
   },
   {
    "duration": 22,
    "start_time": "2024-03-18T12:34:35.650Z"
   },
   {
    "duration": 26,
    "start_time": "2024-03-18T12:34:35.673Z"
   },
   {
    "duration": 5,
    "start_time": "2024-03-18T12:34:35.701Z"
   },
   {
    "duration": 24,
    "start_time": "2024-03-18T12:34:35.708Z"
   },
   {
    "duration": 23,
    "start_time": "2024-03-18T12:34:35.733Z"
   },
   {
    "duration": 15,
    "start_time": "2024-03-18T12:34:35.758Z"
   },
   {
    "duration": 27,
    "start_time": "2024-03-18T12:34:35.775Z"
   },
   {
    "duration": 42,
    "start_time": "2024-03-18T12:34:35.803Z"
   },
   {
    "duration": 3,
    "start_time": "2024-03-18T12:34:35.846Z"
   },
   {
    "duration": 22,
    "start_time": "2024-03-18T12:34:35.851Z"
   },
   {
    "duration": 7,
    "start_time": "2024-03-18T12:34:35.875Z"
   },
   {
    "duration": 20,
    "start_time": "2024-03-18T12:34:35.884Z"
   },
   {
    "duration": 4,
    "start_time": "2024-03-18T12:34:39.384Z"
   },
   {
    "duration": 164,
    "start_time": "2024-03-18T12:34:41.429Z"
   },
   {
    "duration": 4,
    "start_time": "2024-03-18T12:35:06.831Z"
   },
   {
    "duration": 80,
    "start_time": "2024-03-18T12:35:08.445Z"
   },
   {
    "duration": 5,
    "start_time": "2024-03-18T12:35:18.576Z"
   },
   {
    "duration": 162,
    "start_time": "2024-03-18T12:35:20.740Z"
   },
   {
    "duration": 4,
    "start_time": "2024-03-18T12:36:54.860Z"
   },
   {
    "duration": 125,
    "start_time": "2024-03-18T12:36:57.282Z"
   },
   {
    "duration": 3,
    "start_time": "2024-03-18T12:37:16.364Z"
   },
   {
    "duration": 162,
    "start_time": "2024-03-18T12:37:18.781Z"
   },
   {
    "duration": 3,
    "start_time": "2024-03-18T12:38:40.923Z"
   },
   {
    "duration": 31852,
    "start_time": "2024-03-18T12:38:50.203Z"
   },
   {
    "duration": 18,
    "start_time": "2024-03-18T12:39:57.904Z"
   },
   {
    "duration": 57,
    "start_time": "2024-03-18T12:40:17.216Z"
   },
   {
    "duration": 1837,
    "start_time": "2024-03-18T12:40:29.966Z"
   },
   {
    "duration": 2,
    "start_time": "2024-03-18T12:41:51.008Z"
   },
   {
    "duration": 69,
    "start_time": "2024-03-18T12:41:51.012Z"
   },
   {
    "duration": 16,
    "start_time": "2024-03-18T12:41:51.082Z"
   },
   {
    "duration": 25,
    "start_time": "2024-03-18T12:41:51.100Z"
   },
   {
    "duration": 19,
    "start_time": "2024-03-18T12:41:51.127Z"
   },
   {
    "duration": 11,
    "start_time": "2024-03-18T12:41:51.147Z"
   },
   {
    "duration": 30,
    "start_time": "2024-03-18T12:41:51.159Z"
   },
   {
    "duration": 9,
    "start_time": "2024-03-18T12:41:51.190Z"
   },
   {
    "duration": 21,
    "start_time": "2024-03-18T12:41:51.200Z"
   },
   {
    "duration": 39,
    "start_time": "2024-03-18T12:41:51.222Z"
   },
   {
    "duration": 4,
    "start_time": "2024-03-18T12:41:51.263Z"
   },
   {
    "duration": 6,
    "start_time": "2024-03-18T12:41:51.268Z"
   },
   {
    "duration": 10,
    "start_time": "2024-03-18T12:41:51.280Z"
   },
   {
    "duration": 24,
    "start_time": "2024-03-18T12:41:51.293Z"
   },
   {
    "duration": 22,
    "start_time": "2024-03-18T12:42:25.453Z"
   },
   {
    "duration": 4,
    "start_time": "2024-03-18T12:43:27.069Z"
   },
   {
    "duration": 22,
    "start_time": "2024-03-18T12:43:30.752Z"
   },
   {
    "duration": 1216,
    "start_time": "2024-03-18T12:43:45.228Z"
   },
   {
    "duration": 9,
    "start_time": "2024-03-18T12:43:58.939Z"
   },
   {
    "duration": 4,
    "start_time": "2024-03-18T12:45:00.933Z"
   },
   {
    "duration": 20,
    "start_time": "2024-03-18T12:45:03.844Z"
   },
   {
    "duration": 4,
    "start_time": "2024-03-18T12:45:13.212Z"
   },
   {
    "duration": 20,
    "start_time": "2024-03-18T12:45:17.767Z"
   },
   {
    "duration": 4,
    "start_time": "2024-03-18T12:46:29.142Z"
   },
   {
    "duration": 20,
    "start_time": "2024-03-18T12:46:31.562Z"
   },
   {
    "duration": 4,
    "start_time": "2024-03-18T12:54:29.897Z"
   },
   {
    "duration": 25,
    "start_time": "2024-03-18T12:54:32.680Z"
   },
   {
    "duration": 4,
    "start_time": "2024-03-18T12:54:57.100Z"
   },
   {
    "duration": 19,
    "start_time": "2024-03-18T12:54:59.341Z"
   },
   {
    "duration": 5,
    "start_time": "2024-03-18T13:03:57.422Z"
   },
   {
    "duration": 12661,
    "start_time": "2024-03-18T13:04:03.906Z"
   },
   {
    "duration": 16,
    "start_time": "2024-03-18T13:04:43.110Z"
   },
   {
    "duration": 5,
    "start_time": "2024-03-18T13:07:59.420Z"
   },
   {
    "duration": 27758,
    "start_time": "2024-03-18T13:08:02.431Z"
   },
   {
    "duration": 4,
    "start_time": "2024-03-18T13:10:19.197Z"
   },
   {
    "duration": 27481,
    "start_time": "2024-03-18T13:10:22.258Z"
   },
   {
    "duration": 5,
    "start_time": "2024-03-18T13:12:20.704Z"
   },
   {
    "duration": 24079,
    "start_time": "2024-03-18T13:12:22.889Z"
   },
   {
    "duration": 4,
    "start_time": "2024-03-18T13:12:50.843Z"
   },
   {
    "duration": 19,
    "start_time": "2024-03-18T13:12:52.393Z"
   },
   {
    "duration": 5,
    "start_time": "2024-03-18T13:13:12.306Z"
   },
   {
    "duration": 4,
    "start_time": "2024-03-18T13:13:37.694Z"
   },
   {
    "duration": 11881,
    "start_time": "2024-03-18T13:13:37.699Z"
   },
   {
    "duration": 406,
    "start_time": "2024-03-18T13:14:24.084Z"
   },
   {
    "duration": 64,
    "start_time": "2024-03-18T13:14:24.492Z"
   },
   {
    "duration": 24,
    "start_time": "2024-03-18T13:14:24.558Z"
   },
   {
    "duration": 14,
    "start_time": "2024-03-18T13:14:24.583Z"
   },
   {
    "duration": 6,
    "start_time": "2024-03-18T13:14:24.599Z"
   },
   {
    "duration": 28,
    "start_time": "2024-03-18T13:14:24.607Z"
   },
   {
    "duration": 23,
    "start_time": "2024-03-18T13:14:24.637Z"
   },
   {
    "duration": 21,
    "start_time": "2024-03-18T13:14:24.662Z"
   },
   {
    "duration": 29,
    "start_time": "2024-03-18T13:14:24.684Z"
   },
   {
    "duration": 40,
    "start_time": "2024-03-18T13:14:24.715Z"
   },
   {
    "duration": 4,
    "start_time": "2024-03-18T13:14:24.756Z"
   },
   {
    "duration": 19,
    "start_time": "2024-03-18T13:14:24.761Z"
   },
   {
    "duration": 11,
    "start_time": "2024-03-18T13:14:24.781Z"
   },
   {
    "duration": 34,
    "start_time": "2024-03-18T13:14:24.795Z"
   },
   {
    "duration": 5,
    "start_time": "2024-03-18T13:14:28.680Z"
   },
   {
    "duration": 2,
    "start_time": "2024-03-18T13:14:29.621Z"
   },
   {
    "duration": 11286,
    "start_time": "2024-03-18T13:14:30.507Z"
   },
   {
    "duration": 5,
    "start_time": "2024-03-18T13:16:42.562Z"
   },
   {
    "duration": 127,
    "start_time": "2024-03-18T13:16:46.310Z"
   },
   {
    "duration": 3,
    "start_time": "2024-03-18T13:17:45.919Z"
   },
   {
    "duration": 55,
    "start_time": "2024-03-18T13:17:45.924Z"
   },
   {
    "duration": 16,
    "start_time": "2024-03-18T13:17:45.981Z"
   },
   {
    "duration": 30,
    "start_time": "2024-03-18T13:17:45.998Z"
   },
   {
    "duration": 5,
    "start_time": "2024-03-18T13:17:46.030Z"
   },
   {
    "duration": 4,
    "start_time": "2024-03-18T13:17:46.036Z"
   },
   {
    "duration": 20,
    "start_time": "2024-03-18T13:17:46.041Z"
   },
   {
    "duration": 20,
    "start_time": "2024-03-18T13:17:46.062Z"
   },
   {
    "duration": 9,
    "start_time": "2024-03-18T13:17:46.084Z"
   },
   {
    "duration": 28,
    "start_time": "2024-03-18T13:17:46.094Z"
   },
   {
    "duration": 4,
    "start_time": "2024-03-18T13:17:46.123Z"
   },
   {
    "duration": 23,
    "start_time": "2024-03-18T13:17:46.128Z"
   },
   {
    "duration": 32,
    "start_time": "2024-03-18T13:17:46.152Z"
   },
   {
    "duration": 20,
    "start_time": "2024-03-18T13:17:46.186Z"
   },
   {
    "duration": 9,
    "start_time": "2024-03-18T13:17:46.207Z"
   },
   {
    "duration": 11,
    "start_time": "2024-03-18T13:17:46.217Z"
   },
   {
    "duration": 105,
    "start_time": "2024-03-18T13:17:46.229Z"
   },
   {
    "duration": 0,
    "start_time": "2024-03-18T13:17:46.336Z"
   },
   {
    "duration": 0,
    "start_time": "2024-03-18T13:17:46.337Z"
   },
   {
    "duration": 0,
    "start_time": "2024-03-18T13:17:46.338Z"
   },
   {
    "duration": 0,
    "start_time": "2024-03-18T13:17:46.339Z"
   },
   {
    "duration": 17,
    "start_time": "2024-03-18T13:18:03.545Z"
   },
   {
    "duration": 14,
    "start_time": "2024-03-18T13:18:05.461Z"
   },
   {
    "duration": 23,
    "start_time": "2024-03-18T13:18:08.422Z"
   },
   {
    "duration": 15,
    "start_time": "2024-03-18T13:18:14.287Z"
   },
   {
    "duration": 3,
    "start_time": "2024-03-18T13:18:18.584Z"
   },
   {
    "duration": 4,
    "start_time": "2024-03-18T13:18:38.337Z"
   },
   {
    "duration": 4,
    "start_time": "2024-03-18T13:18:40.318Z"
   },
   {
    "duration": 5,
    "start_time": "2024-03-18T13:30:46.342Z"
   },
   {
    "duration": 4,
    "start_time": "2024-03-18T13:31:24.237Z"
   },
   {
    "duration": 4,
    "start_time": "2024-03-18T13:31:29.728Z"
   },
   {
    "duration": 7,
    "start_time": "2024-03-18T13:31:42.567Z"
   },
   {
    "duration": 21,
    "start_time": "2024-03-18T13:32:17.759Z"
   },
   {
    "duration": 10,
    "start_time": "2024-03-18T13:32:40.520Z"
   },
   {
    "duration": 11,
    "start_time": "2024-03-18T13:33:36.496Z"
   },
   {
    "duration": 597,
    "start_time": "2024-03-18T13:34:47.975Z"
   },
   {
    "duration": 6,
    "start_time": "2024-03-18T13:35:37.987Z"
   },
   {
    "duration": 151,
    "start_time": "2024-03-18T13:35:58.158Z"
   },
   {
    "duration": 13,
    "start_time": "2024-03-18T13:37:06.845Z"
   },
   {
    "duration": 9,
    "start_time": "2024-03-18T13:37:15.624Z"
   },
   {
    "duration": 11,
    "start_time": "2024-03-18T13:37:35.078Z"
   },
   {
    "duration": 8,
    "start_time": "2024-03-18T13:37:37.225Z"
   },
   {
    "duration": 10,
    "start_time": "2024-03-18T13:38:58.339Z"
   },
   {
    "duration": 5,
    "start_time": "2024-03-18T13:39:01.704Z"
   },
   {
    "duration": 109,
    "start_time": "2024-03-18T13:40:01.566Z"
   },
   {
    "duration": 58,
    "start_time": "2024-03-18T19:29:30.895Z"
   },
   {
    "duration": 425,
    "start_time": "2024-03-18T19:29:39.020Z"
   },
   {
    "duration": 101,
    "start_time": "2024-03-18T19:29:39.447Z"
   },
   {
    "duration": 23,
    "start_time": "2024-03-18T19:29:39.549Z"
   },
   {
    "duration": 16,
    "start_time": "2024-03-18T19:29:39.574Z"
   },
   {
    "duration": 8,
    "start_time": "2024-03-18T19:29:39.592Z"
   },
   {
    "duration": 17,
    "start_time": "2024-03-18T19:29:39.602Z"
   },
   {
    "duration": 24,
    "start_time": "2024-03-18T19:29:39.621Z"
   },
   {
    "duration": 13,
    "start_time": "2024-03-18T19:29:39.647Z"
   },
   {
    "duration": 15,
    "start_time": "2024-03-18T19:29:39.662Z"
   },
   {
    "duration": 54,
    "start_time": "2024-03-18T19:29:39.679Z"
   },
   {
    "duration": 4,
    "start_time": "2024-03-18T19:29:39.735Z"
   },
   {
    "duration": 15,
    "start_time": "2024-03-18T19:29:39.740Z"
   },
   {
    "duration": 9,
    "start_time": "2024-03-18T19:29:39.756Z"
   },
   {
    "duration": 25,
    "start_time": "2024-03-18T19:29:39.767Z"
   },
   {
    "duration": 4,
    "start_time": "2024-03-18T19:29:39.794Z"
   },
   {
    "duration": 22,
    "start_time": "2024-03-18T19:29:39.799Z"
   },
   {
    "duration": 35,
    "start_time": "2024-03-18T19:29:39.826Z"
   },
   {
    "duration": 24,
    "start_time": "2024-03-18T19:29:39.862Z"
   },
   {
    "duration": 16,
    "start_time": "2024-03-18T19:29:39.887Z"
   },
   {
    "duration": 25,
    "start_time": "2024-03-18T19:29:39.904Z"
   },
   {
    "duration": 623,
    "start_time": "2024-03-18T19:29:39.931Z"
   },
   {
    "duration": 7,
    "start_time": "2024-03-18T19:29:58.826Z"
   },
   {
    "duration": 154,
    "start_time": "2024-03-18T19:44:50.971Z"
   },
   {
    "duration": 20,
    "start_time": "2024-03-18T19:46:46.347Z"
   },
   {
    "duration": 20,
    "start_time": "2024-03-18T19:46:52.245Z"
   },
   {
    "duration": 76,
    "start_time": "2024-03-18T19:46:54.732Z"
   },
   {
    "duration": 360,
    "start_time": "2024-03-18T19:47:13.055Z"
   },
   {
    "duration": 72,
    "start_time": "2024-03-18T19:47:16.364Z"
   },
   {
    "duration": 42,
    "start_time": "2024-03-18T19:47:33.403Z"
   },
   {
    "duration": 39,
    "start_time": "2024-03-18T19:49:12.682Z"
   },
   {
    "duration": 16,
    "start_time": "2024-03-18T19:49:22.036Z"
   },
   {
    "duration": 174,
    "start_time": "2024-03-18T19:51:15.081Z"
   },
   {
    "duration": 8,
    "start_time": "2024-03-18T19:56:33.956Z"
   },
   {
    "duration": 382,
    "start_time": "2024-03-18T20:01:05.727Z"
   },
   {
    "duration": 356,
    "start_time": "2024-03-18T20:01:29.342Z"
   },
   {
    "duration": 346,
    "start_time": "2024-03-18T20:01:40.934Z"
   },
   {
    "duration": 11,
    "start_time": "2024-03-18T20:02:35.777Z"
   },
   {
    "duration": 370,
    "start_time": "2024-03-18T20:04:10.179Z"
   },
   {
    "duration": 430,
    "start_time": "2024-03-18T20:04:34.745Z"
   },
   {
    "duration": 464,
    "start_time": "2024-03-18T20:04:49.790Z"
   },
   {
    "duration": 162,
    "start_time": "2024-03-18T20:05:30.843Z"
   },
   {
    "duration": 400,
    "start_time": "2024-03-18T20:06:32.067Z"
   },
   {
    "duration": 370,
    "start_time": "2024-03-18T20:06:59.919Z"
   },
   {
    "duration": 92,
    "start_time": "2024-03-18T20:12:23.197Z"
   },
   {
    "duration": 26,
    "start_time": "2024-03-18T20:17:34.826Z"
   },
   {
    "duration": 12,
    "start_time": "2024-03-18T20:19:44.328Z"
   },
   {
    "duration": 14,
    "start_time": "2024-03-18T20:19:51.944Z"
   },
   {
    "duration": 87,
    "start_time": "2024-03-18T20:23:02.554Z"
   },
   {
    "duration": 21,
    "start_time": "2024-03-18T20:23:20.395Z"
   },
   {
    "duration": 337,
    "start_time": "2024-03-18T20:23:35.123Z"
   },
   {
    "duration": 319,
    "start_time": "2024-03-18T20:23:48.750Z"
   },
   {
    "duration": 327,
    "start_time": "2024-03-18T20:24:04.132Z"
   },
   {
    "duration": 309,
    "start_time": "2024-03-18T20:24:36.311Z"
   },
   {
    "duration": 313,
    "start_time": "2024-03-18T20:26:48.869Z"
   },
   {
    "duration": 394,
    "start_time": "2024-03-18T20:27:00.161Z"
   },
   {
    "duration": 178,
    "start_time": "2024-03-18T20:27:39.340Z"
   },
   {
    "duration": 313,
    "start_time": "2024-03-18T20:28:09.638Z"
   },
   {
    "duration": 353,
    "start_time": "2024-03-18T20:29:09.484Z"
   },
   {
    "duration": 333,
    "start_time": "2024-03-18T20:29:33.592Z"
   },
   {
    "duration": 439,
    "start_time": "2024-03-19T07:46:38.702Z"
   },
   {
    "duration": 89,
    "start_time": "2024-03-19T07:46:39.143Z"
   },
   {
    "duration": 21,
    "start_time": "2024-03-19T07:46:39.234Z"
   },
   {
    "duration": 13,
    "start_time": "2024-03-19T07:46:39.256Z"
   },
   {
    "duration": 5,
    "start_time": "2024-03-19T07:46:39.271Z"
   },
   {
    "duration": 4,
    "start_time": "2024-03-19T07:46:39.277Z"
   },
   {
    "duration": 18,
    "start_time": "2024-03-19T07:46:39.282Z"
   },
   {
    "duration": 23,
    "start_time": "2024-03-19T07:46:39.302Z"
   },
   {
    "duration": 26,
    "start_time": "2024-03-19T07:46:39.326Z"
   },
   {
    "duration": 3,
    "start_time": "2024-03-19T07:46:39.354Z"
   },
   {
    "duration": 6,
    "start_time": "2024-03-19T07:46:39.358Z"
   },
   {
    "duration": 7,
    "start_time": "2024-03-19T07:46:39.366Z"
   },
   {
    "duration": 9,
    "start_time": "2024-03-19T07:46:39.374Z"
   },
   {
    "duration": 4,
    "start_time": "2024-03-19T07:46:39.386Z"
   },
   {
    "duration": 10,
    "start_time": "2024-03-19T07:46:39.418Z"
   },
   {
    "duration": 15,
    "start_time": "2024-03-19T07:46:39.429Z"
   },
   {
    "duration": 13,
    "start_time": "2024-03-19T07:46:39.445Z"
   },
   {
    "duration": 8,
    "start_time": "2024-03-19T07:46:39.459Z"
   },
   {
    "duration": 10,
    "start_time": "2024-03-19T07:46:39.469Z"
   },
   {
    "duration": 80,
    "start_time": "2024-03-19T07:46:39.480Z"
   },
   {
    "duration": 0,
    "start_time": "2024-03-19T07:46:39.562Z"
   },
   {
    "duration": 0,
    "start_time": "2024-03-19T07:46:39.566Z"
   },
   {
    "duration": 738,
    "start_time": "2024-03-19T07:46:54.016Z"
   },
   {
    "duration": 12,
    "start_time": "2024-03-19T07:48:03.988Z"
   },
   {
    "duration": 7,
    "start_time": "2024-03-19T07:49:05.084Z"
   },
   {
    "duration": 18,
    "start_time": "2024-03-19T07:51:13.333Z"
   },
   {
    "duration": 7,
    "start_time": "2024-03-19T07:51:18.061Z"
   },
   {
    "duration": 324,
    "start_time": "2024-03-19T07:51:24.080Z"
   },
   {
    "duration": 8,
    "start_time": "2024-03-19T07:52:09.149Z"
   },
   {
    "duration": 8,
    "start_time": "2024-03-19T07:52:33.893Z"
   },
   {
    "duration": 10,
    "start_time": "2024-03-19T07:54:11.601Z"
   },
   {
    "duration": 388,
    "start_time": "2024-03-19T07:54:15.445Z"
   },
   {
    "duration": 296,
    "start_time": "2024-03-19T07:55:12.721Z"
   },
   {
    "duration": 318,
    "start_time": "2024-03-19T07:56:30.004Z"
   },
   {
    "duration": 9,
    "start_time": "2024-03-19T07:58:31.430Z"
   },
   {
    "duration": 309,
    "start_time": "2024-03-19T07:58:37.229Z"
   },
   {
    "duration": 176,
    "start_time": "2024-03-19T08:02:47.868Z"
   },
   {
    "duration": 3,
    "start_time": "2024-03-19T08:03:47.748Z"
   },
   {
    "duration": 1033,
    "start_time": "2024-03-19T08:03:54.649Z"
   },
   {
    "duration": 962,
    "start_time": "2024-03-19T08:04:35.221Z"
   },
   {
    "duration": 1064,
    "start_time": "2024-03-19T08:04:51.934Z"
   },
   {
    "duration": 1056,
    "start_time": "2024-03-19T08:06:22.071Z"
   },
   {
    "duration": 1114,
    "start_time": "2024-03-19T08:06:41.975Z"
   },
   {
    "duration": 1477,
    "start_time": "2024-03-19T08:08:29.124Z"
   },
   {
    "duration": 1010,
    "start_time": "2024-03-19T08:08:58.534Z"
   },
   {
    "duration": 31,
    "start_time": "2024-03-19T08:12:27.679Z"
   },
   {
    "duration": 25,
    "start_time": "2024-03-19T08:12:32.445Z"
   },
   {
    "duration": 1094,
    "start_time": "2024-03-19T08:12:42.590Z"
   },
   {
    "duration": 1046,
    "start_time": "2024-03-19T08:13:38.759Z"
   },
   {
    "duration": 1130,
    "start_time": "2024-03-19T08:13:48.823Z"
   },
   {
    "duration": 1040,
    "start_time": "2024-03-19T08:21:53.614Z"
   },
   {
    "duration": 1229,
    "start_time": "2024-03-19T09:49:55.247Z"
   },
   {
    "duration": 1156,
    "start_time": "2024-03-19T09:50:17.026Z"
   },
   {
    "duration": 24,
    "start_time": "2024-03-19T09:56:29.606Z"
   },
   {
    "duration": 16,
    "start_time": "2024-03-19T09:56:41.775Z"
   },
   {
    "duration": 22,
    "start_time": "2024-03-19T09:56:55.589Z"
   },
   {
    "duration": 17,
    "start_time": "2024-03-19T10:02:24.319Z"
   },
   {
    "duration": 6,
    "start_time": "2024-03-19T10:02:55.926Z"
   },
   {
    "duration": 13,
    "start_time": "2024-03-19T10:03:06.088Z"
   },
   {
    "duration": 13,
    "start_time": "2024-03-19T10:03:11.903Z"
   },
   {
    "duration": 16,
    "start_time": "2024-03-19T10:03:26.260Z"
   },
   {
    "duration": 3,
    "start_time": "2024-03-19T10:03:33.949Z"
   },
   {
    "duration": 9,
    "start_time": "2024-03-19T10:05:53.552Z"
   },
   {
    "duration": 298,
    "start_time": "2024-03-19T10:05:59.198Z"
   },
   {
    "duration": 183,
    "start_time": "2024-03-19T10:07:04.057Z"
   },
   {
    "duration": 183,
    "start_time": "2024-03-19T10:09:23.643Z"
   },
   {
    "duration": 844,
    "start_time": "2024-03-20T08:21:52.036Z"
   },
   {
    "duration": 96,
    "start_time": "2024-03-20T08:21:52.883Z"
   },
   {
    "duration": 21,
    "start_time": "2024-03-20T08:21:52.980Z"
   },
   {
    "duration": 16,
    "start_time": "2024-03-20T08:21:53.002Z"
   },
   {
    "duration": 5,
    "start_time": "2024-03-20T08:21:53.020Z"
   },
   {
    "duration": 6,
    "start_time": "2024-03-20T08:21:53.026Z"
   },
   {
    "duration": 35,
    "start_time": "2024-03-20T08:21:53.033Z"
   },
   {
    "duration": 9,
    "start_time": "2024-03-20T08:21:53.070Z"
   },
   {
    "duration": 29,
    "start_time": "2024-03-20T08:21:53.080Z"
   },
   {
    "duration": 4,
    "start_time": "2024-03-20T08:21:53.111Z"
   },
   {
    "duration": 14,
    "start_time": "2024-03-20T08:21:53.116Z"
   },
   {
    "duration": 24,
    "start_time": "2024-03-20T08:21:53.131Z"
   },
   {
    "duration": 18,
    "start_time": "2024-03-20T08:21:53.156Z"
   },
   {
    "duration": 11,
    "start_time": "2024-03-20T08:21:53.176Z"
   },
   {
    "duration": 16,
    "start_time": "2024-03-20T08:21:53.189Z"
   },
   {
    "duration": 18,
    "start_time": "2024-03-20T08:21:53.206Z"
   },
   {
    "duration": 19,
    "start_time": "2024-03-20T08:21:53.226Z"
   },
   {
    "duration": 27,
    "start_time": "2024-03-20T08:21:53.247Z"
   },
   {
    "duration": 13,
    "start_time": "2024-03-20T08:21:53.276Z"
   },
   {
    "duration": 381,
    "start_time": "2024-03-20T08:21:53.291Z"
   },
   {
    "duration": 7,
    "start_time": "2024-03-20T08:21:53.674Z"
   },
   {
    "duration": 324,
    "start_time": "2024-03-20T08:21:53.682Z"
   },
   {
    "duration": 1169,
    "start_time": "2024-03-20T08:21:54.008Z"
   },
   {
    "duration": 16,
    "start_time": "2024-03-20T08:21:55.179Z"
   },
   {
    "duration": 27,
    "start_time": "2024-03-20T08:21:55.197Z"
   },
   {
    "duration": 225,
    "start_time": "2024-03-20T08:21:55.226Z"
   },
   {
    "duration": 1156,
    "start_time": "2024-03-20T08:21:55.452Z"
   },
   {
    "duration": 206,
    "start_time": "2024-03-20T08:24:43.950Z"
   },
   {
    "duration": 76,
    "start_time": "2024-03-20T08:24:52.147Z"
   },
   {
    "duration": 9,
    "start_time": "2024-03-20T08:25:31.906Z"
   },
   {
    "duration": 213,
    "start_time": "2024-03-20T08:26:32.720Z"
   },
   {
    "duration": 922,
    "start_time": "2024-03-20T08:26:38.578Z"
   },
   {
    "duration": 24,
    "start_time": "2024-03-20T08:28:53.200Z"
   },
   {
    "duration": 8,
    "start_time": "2024-03-20T08:29:46.383Z"
   },
   {
    "duration": 9,
    "start_time": "2024-03-20T08:29:53.292Z"
   },
   {
    "duration": 16,
    "start_time": "2024-03-20T08:30:01.306Z"
   },
   {
    "duration": 201,
    "start_time": "2024-03-20T08:30:24.978Z"
   },
   {
    "duration": 292,
    "start_time": "2024-03-20T08:30:37.733Z"
   },
   {
    "duration": 1778,
    "start_time": "2024-03-20T08:30:57.060Z"
   },
   {
    "duration": 1503,
    "start_time": "2024-03-20T08:44:44.297Z"
   },
   {
    "duration": 1847,
    "start_time": "2024-03-20T09:51:35.693Z"
   },
   {
    "duration": 848,
    "start_time": "2024-03-20T12:55:05.664Z"
   },
   {
    "duration": 106,
    "start_time": "2024-03-20T12:55:06.514Z"
   },
   {
    "duration": 20,
    "start_time": "2024-03-20T12:55:06.622Z"
   },
   {
    "duration": 15,
    "start_time": "2024-03-20T12:55:06.644Z"
   },
   {
    "duration": 5,
    "start_time": "2024-03-20T12:55:06.661Z"
   },
   {
    "duration": 15,
    "start_time": "2024-03-20T12:55:06.668Z"
   },
   {
    "duration": 20,
    "start_time": "2024-03-20T12:55:06.685Z"
   },
   {
    "duration": 10,
    "start_time": "2024-03-20T12:55:06.706Z"
   },
   {
    "duration": 36,
    "start_time": "2024-03-20T12:55:06.717Z"
   },
   {
    "duration": 3,
    "start_time": "2024-03-20T12:55:06.755Z"
   },
   {
    "duration": 5,
    "start_time": "2024-03-20T12:55:06.781Z"
   },
   {
    "duration": 22,
    "start_time": "2024-03-20T12:55:06.788Z"
   },
   {
    "duration": 23,
    "start_time": "2024-03-20T12:55:06.812Z"
   },
   {
    "duration": 5,
    "start_time": "2024-03-20T12:55:06.838Z"
   },
   {
    "duration": 5,
    "start_time": "2024-03-20T12:55:06.844Z"
   },
   {
    "duration": 14,
    "start_time": "2024-03-20T12:55:06.851Z"
   },
   {
    "duration": 24,
    "start_time": "2024-03-20T12:55:06.867Z"
   },
   {
    "duration": 8,
    "start_time": "2024-03-20T12:55:06.892Z"
   },
   {
    "duration": 10,
    "start_time": "2024-03-20T12:55:06.902Z"
   },
   {
    "duration": 386,
    "start_time": "2024-03-20T12:55:06.914Z"
   },
   {
    "duration": 8,
    "start_time": "2024-03-20T12:55:07.302Z"
   },
   {
    "duration": 418,
    "start_time": "2024-03-20T12:55:07.312Z"
   },
   {
    "duration": 1150,
    "start_time": "2024-03-20T12:55:07.732Z"
   },
   {
    "duration": 17,
    "start_time": "2024-03-20T12:55:08.884Z"
   },
   {
    "duration": 4,
    "start_time": "2024-03-20T12:55:08.902Z"
   },
   {
    "duration": 222,
    "start_time": "2024-03-20T12:55:08.908Z"
   },
   {
    "duration": 1857,
    "start_time": "2024-03-20T12:55:09.132Z"
   },
   {
    "duration": 1833,
    "start_time": "2024-03-20T13:05:09.465Z"
   },
   {
    "duration": 75,
    "start_time": "2024-03-20T13:36:24.890Z"
   },
   {
    "duration": 9,
    "start_time": "2024-03-20T13:37:13.215Z"
   },
   {
    "duration": 37,
    "start_time": "2024-03-20T13:37:20.005Z"
   },
   {
    "duration": 17,
    "start_time": "2024-03-20T13:37:26.617Z"
   },
   {
    "duration": 25,
    "start_time": "2024-03-20T13:37:40.100Z"
   },
   {
    "duration": 24,
    "start_time": "2024-03-20T13:37:43.225Z"
   },
   {
    "duration": 11,
    "start_time": "2024-03-20T13:41:48.642Z"
   },
   {
    "duration": 122,
    "start_time": "2024-03-20T13:42:03.023Z"
   },
   {
    "duration": 10,
    "start_time": "2024-03-20T13:44:53.147Z"
   },
   {
    "duration": 151,
    "start_time": "2024-03-20T13:45:17.673Z"
   },
   {
    "duration": 271,
    "start_time": "2024-03-20T13:45:35.234Z"
   },
   {
    "duration": 189,
    "start_time": "2024-03-20T13:45:55.164Z"
   },
   {
    "duration": 185,
    "start_time": "2024-03-20T13:46:28.075Z"
   },
   {
    "duration": 191,
    "start_time": "2024-03-20T13:46:42.355Z"
   },
   {
    "duration": 190,
    "start_time": "2024-03-20T13:47:00.621Z"
   },
   {
    "duration": 211,
    "start_time": "2024-03-20T14:21:02.588Z"
   },
   {
    "duration": 1395,
    "start_time": "2024-03-21T14:27:47.756Z"
   },
   {
    "duration": 100,
    "start_time": "2024-03-21T14:27:49.153Z"
   },
   {
    "duration": 21,
    "start_time": "2024-03-21T14:27:49.254Z"
   },
   {
    "duration": 16,
    "start_time": "2024-03-21T14:27:49.276Z"
   },
   {
    "duration": 5,
    "start_time": "2024-03-21T14:27:49.294Z"
   },
   {
    "duration": 11,
    "start_time": "2024-03-21T14:27:49.301Z"
   },
   {
    "duration": 21,
    "start_time": "2024-03-21T14:27:49.315Z"
   },
   {
    "duration": 9,
    "start_time": "2024-03-21T14:27:49.338Z"
   },
   {
    "duration": 29,
    "start_time": "2024-03-21T14:27:49.349Z"
   },
   {
    "duration": 4,
    "start_time": "2024-03-21T14:27:49.380Z"
   },
   {
    "duration": 31,
    "start_time": "2024-03-21T14:27:49.385Z"
   },
   {
    "duration": 6,
    "start_time": "2024-03-21T14:27:49.418Z"
   },
   {
    "duration": 11,
    "start_time": "2024-03-21T14:27:49.426Z"
   },
   {
    "duration": 5,
    "start_time": "2024-03-21T14:27:49.440Z"
   },
   {
    "duration": 5,
    "start_time": "2024-03-21T14:27:49.447Z"
   },
   {
    "duration": 14,
    "start_time": "2024-03-21T14:27:49.454Z"
   },
   {
    "duration": 18,
    "start_time": "2024-03-21T14:27:49.470Z"
   },
   {
    "duration": 28,
    "start_time": "2024-03-21T14:27:49.489Z"
   },
   {
    "duration": 10,
    "start_time": "2024-03-21T14:27:49.519Z"
   },
   {
    "duration": 400,
    "start_time": "2024-03-21T14:27:49.530Z"
   },
   {
    "duration": 8,
    "start_time": "2024-03-21T14:27:49.932Z"
   },
   {
    "duration": 330,
    "start_time": "2024-03-21T14:27:49.942Z"
   },
   {
    "duration": 1215,
    "start_time": "2024-03-21T14:27:50.273Z"
   },
   {
    "duration": 26,
    "start_time": "2024-03-21T14:27:51.489Z"
   },
   {
    "duration": 3,
    "start_time": "2024-03-21T14:27:51.517Z"
   },
   {
    "duration": 217,
    "start_time": "2024-03-21T14:27:51.521Z"
   },
   {
    "duration": 1850,
    "start_time": "2024-03-21T14:27:51.740Z"
   },
   {
    "duration": 33,
    "start_time": "2024-03-21T14:27:53.592Z"
   },
   {
    "duration": 108,
    "start_time": "2024-03-21T14:27:53.626Z"
   },
   {
    "duration": 0,
    "start_time": "2024-03-21T14:27:53.736Z"
   },
   {
    "duration": 0,
    "start_time": "2024-03-21T14:27:53.737Z"
   },
   {
    "duration": 12,
    "start_time": "2024-03-21T14:28:05.982Z"
   },
   {
    "duration": 12,
    "start_time": "2024-03-21T14:28:41.575Z"
   },
   {
    "duration": 216,
    "start_time": "2024-03-21T14:28:49.811Z"
   },
   {
    "duration": 4,
    "start_time": "2024-03-21T14:28:53.071Z"
   },
   {
    "duration": 3,
    "start_time": "2024-03-21T14:29:09.303Z"
   },
   {
    "duration": 9,
    "start_time": "2024-03-21T14:29:19.041Z"
   },
   {
    "duration": 205,
    "start_time": "2024-03-21T14:33:07.152Z"
   },
   {
    "duration": 29,
    "start_time": "2024-03-21T14:34:38.887Z"
   },
   {
    "duration": 209,
    "start_time": "2024-03-21T14:36:00.886Z"
   },
   {
    "duration": 202,
    "start_time": "2024-03-21T14:36:09.837Z"
   },
   {
    "duration": 9,
    "start_time": "2024-03-21T14:37:44.880Z"
   },
   {
    "duration": 6,
    "start_time": "2024-03-21T14:37:48.651Z"
   },
   {
    "duration": 16,
    "start_time": "2024-03-21T14:38:00.848Z"
   },
   {
    "duration": 1190,
    "start_time": "2024-03-21T14:38:13.028Z"
   },
   {
    "duration": 58,
    "start_time": "2024-03-21T14:38:14.220Z"
   },
   {
    "duration": 22,
    "start_time": "2024-03-21T14:38:14.279Z"
   },
   {
    "duration": 16,
    "start_time": "2024-03-21T14:38:14.303Z"
   },
   {
    "duration": 9,
    "start_time": "2024-03-21T14:38:14.322Z"
   },
   {
    "duration": 6,
    "start_time": "2024-03-21T14:38:14.332Z"
   },
   {
    "duration": 19,
    "start_time": "2024-03-21T14:38:14.340Z"
   },
   {
    "duration": 10,
    "start_time": "2024-03-21T14:38:14.361Z"
   },
   {
    "duration": 59,
    "start_time": "2024-03-21T14:38:14.373Z"
   },
   {
    "duration": 4,
    "start_time": "2024-03-21T14:38:14.434Z"
   },
   {
    "duration": 13,
    "start_time": "2024-03-21T14:38:14.440Z"
   },
   {
    "duration": 14,
    "start_time": "2024-03-21T14:38:14.454Z"
   },
   {
    "duration": 10,
    "start_time": "2024-03-21T14:38:14.469Z"
   },
   {
    "duration": 4,
    "start_time": "2024-03-21T14:38:14.483Z"
   },
   {
    "duration": 8,
    "start_time": "2024-03-21T14:38:14.489Z"
   },
   {
    "duration": 26,
    "start_time": "2024-03-21T14:38:14.499Z"
   },
   {
    "duration": 14,
    "start_time": "2024-03-21T14:38:14.527Z"
   },
   {
    "duration": 4,
    "start_time": "2024-03-21T14:38:14.543Z"
   },
   {
    "duration": 10,
    "start_time": "2024-03-21T14:38:14.548Z"
   },
   {
    "duration": 424,
    "start_time": "2024-03-21T14:38:14.559Z"
   },
   {
    "duration": 9,
    "start_time": "2024-03-21T14:38:14.984Z"
   },
   {
    "duration": 336,
    "start_time": "2024-03-21T14:38:14.994Z"
   },
   {
    "duration": 1231,
    "start_time": "2024-03-21T14:38:15.332Z"
   },
   {
    "duration": 18,
    "start_time": "2024-03-21T14:38:16.564Z"
   },
   {
    "duration": 4,
    "start_time": "2024-03-21T14:38:16.583Z"
   },
   {
    "duration": 222,
    "start_time": "2024-03-21T14:38:16.588Z"
   },
   {
    "duration": 1871,
    "start_time": "2024-03-21T14:38:16.812Z"
   },
   {
    "duration": 33,
    "start_time": "2024-03-21T14:38:18.684Z"
   },
   {
    "duration": 224,
    "start_time": "2024-03-21T14:38:18.719Z"
   },
   {
    "duration": 244,
    "start_time": "2024-03-21T14:38:18.945Z"
   },
   {
    "duration": 9,
    "start_time": "2024-03-21T14:38:19.191Z"
   },
   {
    "duration": 6,
    "start_time": "2024-03-21T14:38:30.950Z"
   },
   {
    "duration": 21,
    "start_time": "2024-03-21T14:38:43.998Z"
   },
   {
    "duration": 79,
    "start_time": "2024-03-21T14:52:59.466Z"
   },
   {
    "duration": 7,
    "start_time": "2024-03-21T15:03:24.475Z"
   },
   {
    "duration": 1559,
    "start_time": "2024-03-21T15:04:53.712Z"
   },
   {
    "duration": 317,
    "start_time": "2024-03-21T15:05:15.104Z"
   },
   {
    "duration": 13,
    "start_time": "2024-03-21T15:06:09.114Z"
   },
   {
    "duration": 1234,
    "start_time": "2024-03-21T15:06:16.150Z"
   },
   {
    "duration": 7,
    "start_time": "2024-03-21T15:06:24.774Z"
   },
   {
    "duration": 3711,
    "start_time": "2024-03-21T15:06:46.193Z"
   },
   {
    "duration": 5,
    "start_time": "2024-03-21T15:07:00.167Z"
   },
   {
    "duration": 1054,
    "start_time": "2024-03-21T15:07:18.839Z"
   },
   {
    "duration": 5,
    "start_time": "2024-03-21T15:07:25.546Z"
   },
   {
    "duration": 347,
    "start_time": "2024-03-21T15:08:19.372Z"
   },
   {
    "duration": 327,
    "start_time": "2024-03-21T15:10:13.530Z"
   },
   {
    "duration": 352,
    "start_time": "2024-03-21T15:11:34.567Z"
   },
   {
    "duration": 89,
    "start_time": "2024-03-21T15:12:21.687Z"
   },
   {
    "duration": 88,
    "start_time": "2024-03-21T15:12:41.312Z"
   },
   {
    "duration": 349,
    "start_time": "2024-03-21T15:13:01.207Z"
   },
   {
    "duration": 80,
    "start_time": "2024-03-21T17:04:54.109Z"
   },
   {
    "duration": 45,
    "start_time": "2024-03-21T17:08:47.978Z"
   },
   {
    "duration": 1340,
    "start_time": "2024-03-21T17:08:51.463Z"
   },
   {
    "duration": 94,
    "start_time": "2024-03-21T17:08:52.805Z"
   },
   {
    "duration": 20,
    "start_time": "2024-03-21T17:08:52.901Z"
   },
   {
    "duration": 15,
    "start_time": "2024-03-21T17:08:52.922Z"
   },
   {
    "duration": 5,
    "start_time": "2024-03-21T17:08:52.939Z"
   },
   {
    "duration": 13,
    "start_time": "2024-03-21T17:08:52.945Z"
   },
   {
    "duration": 18,
    "start_time": "2024-03-21T17:08:52.960Z"
   },
   {
    "duration": 10,
    "start_time": "2024-03-21T17:08:52.979Z"
   },
   {
    "duration": 43,
    "start_time": "2024-03-21T17:08:52.990Z"
   },
   {
    "duration": 3,
    "start_time": "2024-03-21T17:08:53.035Z"
   },
   {
    "duration": 19,
    "start_time": "2024-03-21T17:08:53.039Z"
   },
   {
    "duration": 11,
    "start_time": "2024-03-21T17:08:53.059Z"
   },
   {
    "duration": 11,
    "start_time": "2024-03-21T17:08:53.071Z"
   },
   {
    "duration": 27,
    "start_time": "2024-03-21T17:08:53.084Z"
   },
   {
    "duration": 15,
    "start_time": "2024-03-21T17:08:53.113Z"
   },
   {
    "duration": 20,
    "start_time": "2024-03-21T17:08:53.129Z"
   },
   {
    "duration": 16,
    "start_time": "2024-03-21T17:08:53.151Z"
   },
   {
    "duration": 6,
    "start_time": "2024-03-21T17:08:53.168Z"
   },
   {
    "duration": 11,
    "start_time": "2024-03-21T17:08:53.176Z"
   },
   {
    "duration": 386,
    "start_time": "2024-03-21T17:08:53.189Z"
   },
   {
    "duration": 8,
    "start_time": "2024-03-21T17:08:53.577Z"
   },
   {
    "duration": 311,
    "start_time": "2024-03-21T17:08:53.586Z"
   },
   {
    "duration": 1145,
    "start_time": "2024-03-21T17:08:53.898Z"
   },
   {
    "duration": 24,
    "start_time": "2024-03-21T17:08:55.045Z"
   },
   {
    "duration": 19,
    "start_time": "2024-03-21T17:08:55.071Z"
   },
   {
    "duration": 202,
    "start_time": "2024-03-21T17:08:55.092Z"
   },
   {
    "duration": 1800,
    "start_time": "2024-03-21T17:08:55.296Z"
   },
   {
    "duration": 26,
    "start_time": "2024-03-21T17:08:57.097Z"
   },
   {
    "duration": 228,
    "start_time": "2024-03-21T17:08:57.125Z"
   },
   {
    "duration": 213,
    "start_time": "2024-03-21T17:08:57.358Z"
   },
   {
    "duration": 22,
    "start_time": "2024-03-21T17:08:57.573Z"
   },
   {
    "duration": 7,
    "start_time": "2024-03-21T17:08:57.596Z"
   },
   {
    "duration": 355,
    "start_time": "2024-03-21T17:08:57.604Z"
   },
   {
    "duration": 5,
    "start_time": "2024-03-21T17:08:57.961Z"
   },
   {
    "duration": 353,
    "start_time": "2024-03-21T17:08:57.967Z"
   },
   {
    "duration": 336,
    "start_time": "2024-03-21T18:06:55.417Z"
   },
   {
    "duration": 341,
    "start_time": "2024-03-21T18:07:22.467Z"
   },
   {
    "duration": 3,
    "start_time": "2024-03-21T18:33:56.075Z"
   },
   {
    "duration": 4,
    "start_time": "2024-03-21T18:34:27.905Z"
   },
   {
    "duration": 137,
    "start_time": "2024-03-21T18:34:35.299Z"
   },
   {
    "duration": 194,
    "start_time": "2024-03-21T18:35:00.639Z"
   },
   {
    "duration": 198,
    "start_time": "2024-03-21T18:35:35.059Z"
   },
   {
    "duration": 371,
    "start_time": "2024-03-21T18:36:36.849Z"
   },
   {
    "duration": 14,
    "start_time": "2024-03-21T18:37:04.553Z"
   },
   {
    "duration": 211,
    "start_time": "2024-03-21T18:37:34.434Z"
   },
   {
    "duration": 88,
    "start_time": "2024-03-21T18:38:12.399Z"
   },
   {
    "duration": 199,
    "start_time": "2024-03-21T18:38:53.897Z"
   },
   {
    "duration": 195,
    "start_time": "2024-03-21T18:39:00.463Z"
   },
   {
    "duration": 234,
    "start_time": "2024-03-21T18:39:30.894Z"
   },
   {
    "duration": 211,
    "start_time": "2024-03-21T18:39:49.210Z"
   },
   {
    "duration": 73,
    "start_time": "2024-03-21T18:40:33.567Z"
   },
   {
    "duration": 217,
    "start_time": "2024-03-21T18:40:38.731Z"
   },
   {
    "duration": 233,
    "start_time": "2024-03-21T18:42:13.850Z"
   },
   {
    "duration": 227,
    "start_time": "2024-03-21T18:42:35.633Z"
   },
   {
    "duration": 12,
    "start_time": "2024-03-21T18:43:41.378Z"
   },
   {
    "duration": 236,
    "start_time": "2024-03-21T18:44:15.349Z"
   },
   {
    "duration": 25,
    "start_time": "2024-03-21T18:59:39.939Z"
   },
   {
    "duration": 6,
    "start_time": "2024-03-21T18:59:45.744Z"
   },
   {
    "duration": 26,
    "start_time": "2024-03-21T19:00:24.305Z"
   },
   {
    "duration": 5,
    "start_time": "2024-03-21T19:00:30.351Z"
   },
   {
    "duration": 227,
    "start_time": "2024-03-21T19:01:10.382Z"
   },
   {
    "duration": 374,
    "start_time": "2024-03-21T19:10:55.433Z"
   },
   {
    "duration": 182,
    "start_time": "2024-03-21T19:11:15.687Z"
   },
   {
    "duration": 178,
    "start_time": "2024-03-21T19:11:51.939Z"
   },
   {
    "duration": 303,
    "start_time": "2024-03-21T19:12:44.785Z"
   },
   {
    "duration": 311,
    "start_time": "2024-03-21T19:13:03.718Z"
   },
   {
    "duration": 313,
    "start_time": "2024-03-21T19:13:53.716Z"
   },
   {
    "duration": 413,
    "start_time": "2024-03-21T19:14:21.740Z"
   },
   {
    "duration": 316,
    "start_time": "2024-03-21T19:14:46.739Z"
   },
   {
    "duration": 316,
    "start_time": "2024-03-21T19:15:42.944Z"
   },
   {
    "duration": 327,
    "start_time": "2024-03-21T19:17:34.283Z"
   },
   {
    "duration": 152,
    "start_time": "2024-03-21T19:33:42.393Z"
   },
   {
    "duration": 294,
    "start_time": "2024-03-21T19:33:51.477Z"
   },
   {
    "duration": 1420,
    "start_time": "2024-03-22T07:31:38.262Z"
   },
   {
    "duration": 113,
    "start_time": "2024-03-22T07:31:39.685Z"
   },
   {
    "duration": 29,
    "start_time": "2024-03-22T07:31:39.800Z"
   },
   {
    "duration": 16,
    "start_time": "2024-03-22T07:31:39.831Z"
   },
   {
    "duration": 10,
    "start_time": "2024-03-22T07:31:39.849Z"
   },
   {
    "duration": 10,
    "start_time": "2024-03-22T07:31:39.867Z"
   },
   {
    "duration": 22,
    "start_time": "2024-03-22T07:31:39.878Z"
   },
   {
    "duration": 10,
    "start_time": "2024-03-22T07:31:39.901Z"
   },
   {
    "duration": 30,
    "start_time": "2024-03-22T07:31:39.912Z"
   },
   {
    "duration": 25,
    "start_time": "2024-03-22T07:31:39.944Z"
   },
   {
    "duration": 13,
    "start_time": "2024-03-22T07:31:39.974Z"
   },
   {
    "duration": 8,
    "start_time": "2024-03-22T07:31:39.989Z"
   },
   {
    "duration": 13,
    "start_time": "2024-03-22T07:31:39.999Z"
   },
   {
    "duration": 8,
    "start_time": "2024-03-22T07:31:40.015Z"
   },
   {
    "duration": 25,
    "start_time": "2024-03-22T07:31:40.025Z"
   },
   {
    "duration": 41,
    "start_time": "2024-03-22T07:31:40.051Z"
   },
   {
    "duration": 14,
    "start_time": "2024-03-22T07:31:40.094Z"
   },
   {
    "duration": 14,
    "start_time": "2024-03-22T07:31:40.110Z"
   },
   {
    "duration": 19,
    "start_time": "2024-03-22T07:31:40.125Z"
   },
   {
    "duration": 410,
    "start_time": "2024-03-22T07:31:40.146Z"
   },
   {
    "duration": 18,
    "start_time": "2024-03-22T07:31:40.558Z"
   },
   {
    "duration": 350,
    "start_time": "2024-03-22T07:31:40.580Z"
   },
   {
    "duration": 1249,
    "start_time": "2024-03-22T07:31:40.932Z"
   },
   {
    "duration": 16,
    "start_time": "2024-03-22T07:31:42.183Z"
   },
   {
    "duration": 8,
    "start_time": "2024-03-22T07:31:42.201Z"
   },
   {
    "duration": 210,
    "start_time": "2024-03-22T07:31:42.210Z"
   },
   {
    "duration": 1841,
    "start_time": "2024-03-22T07:31:42.421Z"
   },
   {
    "duration": 28,
    "start_time": "2024-03-22T07:31:44.263Z"
   },
   {
    "duration": 216,
    "start_time": "2024-03-22T07:31:44.293Z"
   },
   {
    "duration": 264,
    "start_time": "2024-03-22T07:31:44.511Z"
   },
   {
    "duration": 33,
    "start_time": "2024-03-22T07:31:44.781Z"
   },
   {
    "duration": 5,
    "start_time": "2024-03-22T07:31:44.815Z"
   },
   {
    "duration": 13,
    "start_time": "2024-03-22T07:31:44.822Z"
   },
   {
    "duration": 381,
    "start_time": "2024-03-22T07:31:44.837Z"
   },
   {
    "duration": 6,
    "start_time": "2024-03-22T07:31:45.220Z"
   },
   {
    "duration": 404,
    "start_time": "2024-03-22T07:31:45.227Z"
   },
   {
    "duration": 371,
    "start_time": "2024-03-22T07:31:45.632Z"
   },
   {
    "duration": 279,
    "start_time": "2024-03-22T07:31:46.005Z"
   },
   {
    "duration": 327,
    "start_time": "2024-03-22T07:31:46.286Z"
   },
   {
    "duration": 399,
    "start_time": "2024-03-22T08:03:01.628Z"
   },
   {
    "duration": 407,
    "start_time": "2024-03-22T08:10:48.916Z"
   },
   {
    "duration": 276,
    "start_time": "2024-03-22T08:18:09.894Z"
   },
   {
    "duration": 296,
    "start_time": "2024-03-22T08:18:16.469Z"
   },
   {
    "duration": 5,
    "start_time": "2024-03-22T08:21:07.662Z"
   },
   {
    "duration": 306,
    "start_time": "2024-03-22T08:21:23.171Z"
   },
   {
    "duration": 535,
    "start_time": "2024-03-22T08:21:45.389Z"
   },
   {
    "duration": 458,
    "start_time": "2024-03-22T08:22:26.254Z"
   },
   {
    "duration": 444,
    "start_time": "2024-03-22T08:22:52.121Z"
   },
   {
    "duration": 2,
    "start_time": "2024-03-22T08:33:27.334Z"
   },
   {
    "duration": 501,
    "start_time": "2024-03-22T08:33:30.669Z"
   },
   {
    "duration": 444,
    "start_time": "2024-03-22T08:35:38.852Z"
   },
   {
    "duration": 366,
    "start_time": "2024-03-22T08:37:21.225Z"
   },
   {
    "duration": 521,
    "start_time": "2024-03-22T08:39:29.793Z"
   },
   {
    "duration": 518,
    "start_time": "2024-03-22T08:46:48.973Z"
   },
   {
    "duration": 72,
    "start_time": "2024-03-22T09:33:10.919Z"
   },
   {
    "duration": 1260,
    "start_time": "2024-03-22T09:47:52.643Z"
   },
   {
    "duration": 55,
    "start_time": "2024-03-22T09:47:53.904Z"
   },
   {
    "duration": 31,
    "start_time": "2024-03-22T09:47:53.961Z"
   },
   {
    "duration": 16,
    "start_time": "2024-03-22T09:47:53.994Z"
   },
   {
    "duration": 6,
    "start_time": "2024-03-22T09:47:54.011Z"
   },
   {
    "duration": 11,
    "start_time": "2024-03-22T09:47:54.018Z"
   },
   {
    "duration": 20,
    "start_time": "2024-03-22T09:47:54.031Z"
   },
   {
    "duration": 18,
    "start_time": "2024-03-22T09:47:54.067Z"
   },
   {
    "duration": 53,
    "start_time": "2024-03-22T09:47:54.087Z"
   },
   {
    "duration": 3,
    "start_time": "2024-03-22T09:47:54.143Z"
   },
   {
    "duration": 9,
    "start_time": "2024-03-22T09:47:54.149Z"
   },
   {
    "duration": 15,
    "start_time": "2024-03-22T09:47:54.160Z"
   },
   {
    "duration": 8,
    "start_time": "2024-03-22T09:47:54.181Z"
   },
   {
    "duration": 5,
    "start_time": "2024-03-22T09:47:54.191Z"
   },
   {
    "duration": 9,
    "start_time": "2024-03-22T09:47:54.198Z"
   },
   {
    "duration": 28,
    "start_time": "2024-03-22T09:47:54.208Z"
   },
   {
    "duration": 14,
    "start_time": "2024-03-22T09:47:54.238Z"
   },
   {
    "duration": 27,
    "start_time": "2024-03-22T09:47:54.254Z"
   },
   {
    "duration": 13,
    "start_time": "2024-03-22T09:47:54.283Z"
   },
   {
    "duration": 428,
    "start_time": "2024-03-22T09:47:54.298Z"
   },
   {
    "duration": 9,
    "start_time": "2024-03-22T09:47:54.728Z"
   },
   {
    "duration": 364,
    "start_time": "2024-03-22T09:47:54.738Z"
   },
   {
    "duration": 1366,
    "start_time": "2024-03-22T09:47:55.103Z"
   },
   {
    "duration": 21,
    "start_time": "2024-03-22T09:47:56.471Z"
   },
   {
    "duration": 16,
    "start_time": "2024-03-22T09:47:56.494Z"
   },
   {
    "duration": 244,
    "start_time": "2024-03-22T09:47:56.512Z"
   },
   {
    "duration": 1985,
    "start_time": "2024-03-22T09:47:56.757Z"
   },
   {
    "duration": 39,
    "start_time": "2024-03-22T09:47:58.745Z"
   },
   {
    "duration": 243,
    "start_time": "2024-03-22T09:47:58.786Z"
   },
   {
    "duration": 270,
    "start_time": "2024-03-22T09:47:59.030Z"
   },
   {
    "duration": 21,
    "start_time": "2024-03-22T09:47:59.301Z"
   },
   {
    "duration": 6,
    "start_time": "2024-03-22T09:47:59.323Z"
   },
   {
    "duration": 19,
    "start_time": "2024-03-22T09:47:59.331Z"
   },
   {
    "duration": 392,
    "start_time": "2024-03-22T09:47:59.352Z"
   },
   {
    "duration": 6,
    "start_time": "2024-03-22T09:47:59.746Z"
   },
   {
    "duration": 386,
    "start_time": "2024-03-22T09:47:59.753Z"
   },
   {
    "duration": 383,
    "start_time": "2024-03-22T09:48:00.141Z"
   },
   {
    "duration": 282,
    "start_time": "2024-03-22T09:48:00.525Z"
   },
   {
    "duration": 365,
    "start_time": "2024-03-22T09:48:00.808Z"
   },
   {
    "duration": 3,
    "start_time": "2024-03-22T09:48:01.176Z"
   },
   {
    "duration": 533,
    "start_time": "2024-03-22T09:48:01.182Z"
   },
   {
    "duration": 448,
    "start_time": "2024-03-22T09:48:01.716Z"
   },
   {
    "duration": 388,
    "start_time": "2024-03-22T09:48:02.166Z"
   },
   {
    "duration": 110,
    "start_time": "2024-03-22T09:52:19.292Z"
   },
   {
    "duration": 17,
    "start_time": "2024-03-22T09:52:43.251Z"
   },
   {
    "duration": 7,
    "start_time": "2024-03-22T09:54:21.689Z"
   },
   {
    "duration": 21,
    "start_time": "2024-03-22T09:54:28.671Z"
   },
   {
    "duration": 5,
    "start_time": "2024-03-22T09:54:42.823Z"
   },
   {
    "duration": 1333,
    "start_time": "2024-03-22T09:55:29.651Z"
   },
   {
    "duration": 56,
    "start_time": "2024-03-22T09:55:30.986Z"
   },
   {
    "duration": 19,
    "start_time": "2024-03-22T09:55:31.044Z"
   },
   {
    "duration": 81,
    "start_time": "2024-03-22T09:55:31.065Z"
   },
   {
    "duration": 78,
    "start_time": "2024-03-22T09:55:31.149Z"
   },
   {
    "duration": 75,
    "start_time": "2024-03-22T09:55:31.229Z"
   },
   {
    "duration": 6,
    "start_time": "2024-03-22T09:55:39.897Z"
   },
   {
    "duration": 3,
    "start_time": "2024-03-22T09:55:46.674Z"
   },
   {
    "duration": 55,
    "start_time": "2024-03-22T09:55:46.685Z"
   },
   {
    "duration": 17,
    "start_time": "2024-03-22T09:55:46.742Z"
   },
   {
    "duration": 22,
    "start_time": "2024-03-22T09:55:46.761Z"
   },
   {
    "duration": 10,
    "start_time": "2024-03-22T09:55:46.785Z"
   },
   {
    "duration": 12,
    "start_time": "2024-03-22T09:55:46.798Z"
   },
   {
    "duration": 17,
    "start_time": "2024-03-22T09:55:46.812Z"
   },
   {
    "duration": 17,
    "start_time": "2024-03-22T09:55:46.831Z"
   },
   {
    "duration": 27,
    "start_time": "2024-03-22T09:55:46.866Z"
   },
   {
    "duration": 12,
    "start_time": "2024-03-22T09:55:46.895Z"
   },
   {
    "duration": 29,
    "start_time": "2024-03-22T09:55:46.909Z"
   },
   {
    "duration": 26,
    "start_time": "2024-03-22T09:55:46.940Z"
   },
   {
    "duration": 6,
    "start_time": "2024-03-22T09:55:46.969Z"
   },
   {
    "duration": 10,
    "start_time": "2024-03-22T09:55:46.977Z"
   },
   {
    "duration": 12,
    "start_time": "2024-03-22T09:55:46.991Z"
   },
   {
    "duration": 12,
    "start_time": "2024-03-22T09:55:47.005Z"
   },
   {
    "duration": 28,
    "start_time": "2024-03-22T09:55:47.019Z"
   },
   {
    "duration": 19,
    "start_time": "2024-03-22T09:55:47.049Z"
   },
   {
    "duration": 22,
    "start_time": "2024-03-22T09:55:47.070Z"
   },
   {
    "duration": 10,
    "start_time": "2024-03-22T09:55:47.095Z"
   },
   {
    "duration": 28,
    "start_time": "2024-03-22T09:55:47.108Z"
   },
   {
    "duration": 408,
    "start_time": "2024-03-22T09:55:47.138Z"
   },
   {
    "duration": 22,
    "start_time": "2024-03-22T09:55:47.548Z"
   },
   {
    "duration": 372,
    "start_time": "2024-03-22T09:55:47.572Z"
   },
   {
    "duration": 1289,
    "start_time": "2024-03-22T09:55:47.945Z"
   },
   {
    "duration": 19,
    "start_time": "2024-03-22T09:55:49.236Z"
   },
   {
    "duration": 33,
    "start_time": "2024-03-22T09:55:49.265Z"
   },
   {
    "duration": 245,
    "start_time": "2024-03-22T09:55:49.300Z"
   },
   {
    "duration": 2059,
    "start_time": "2024-03-22T09:55:49.547Z"
   },
   {
    "duration": 23,
    "start_time": "2024-03-22T09:55:51.608Z"
   },
   {
    "duration": 273,
    "start_time": "2024-03-22T09:55:51.633Z"
   },
   {
    "duration": 260,
    "start_time": "2024-03-22T09:55:51.908Z"
   },
   {
    "duration": 31,
    "start_time": "2024-03-22T09:55:52.170Z"
   },
   {
    "duration": 8,
    "start_time": "2024-03-22T09:55:52.203Z"
   },
   {
    "duration": 21,
    "start_time": "2024-03-22T09:55:52.213Z"
   },
   {
    "duration": 421,
    "start_time": "2024-03-22T09:55:52.236Z"
   },
   {
    "duration": 9,
    "start_time": "2024-03-22T09:55:52.658Z"
   },
   {
    "duration": 394,
    "start_time": "2024-03-22T09:55:52.669Z"
   },
   {
    "duration": 386,
    "start_time": "2024-03-22T09:55:53.064Z"
   },
   {
    "duration": 280,
    "start_time": "2024-03-22T09:55:53.452Z"
   },
   {
    "duration": 353,
    "start_time": "2024-03-22T09:55:53.734Z"
   },
   {
    "duration": 4,
    "start_time": "2024-03-22T09:55:54.092Z"
   },
   {
    "duration": 521,
    "start_time": "2024-03-22T09:55:54.098Z"
   },
   {
    "duration": 474,
    "start_time": "2024-03-22T09:55:54.621Z"
   },
   {
    "duration": 421,
    "start_time": "2024-03-22T09:55:55.096Z"
   },
   {
    "duration": 1237,
    "start_time": "2024-03-22T09:58:11.467Z"
   },
   {
    "duration": 63,
    "start_time": "2024-03-22T09:58:12.707Z"
   },
   {
    "duration": 27,
    "start_time": "2024-03-22T09:58:12.772Z"
   },
   {
    "duration": 16,
    "start_time": "2024-03-22T09:58:12.801Z"
   },
   {
    "duration": 4,
    "start_time": "2024-03-22T09:58:12.820Z"
   },
   {
    "duration": 6,
    "start_time": "2024-03-22T09:58:12.826Z"
   },
   {
    "duration": 48,
    "start_time": "2024-03-22T09:58:12.834Z"
   },
   {
    "duration": 15,
    "start_time": "2024-03-22T09:58:12.884Z"
   },
   {
    "duration": 31,
    "start_time": "2024-03-22T09:58:12.900Z"
   },
   {
    "duration": 4,
    "start_time": "2024-03-22T09:58:12.932Z"
   },
   {
    "duration": 46,
    "start_time": "2024-03-22T09:58:12.937Z"
   },
   {
    "duration": 19,
    "start_time": "2024-03-22T09:58:12.985Z"
   },
   {
    "duration": 6,
    "start_time": "2024-03-22T09:58:13.006Z"
   },
   {
    "duration": 8,
    "start_time": "2024-03-22T09:58:13.015Z"
   },
   {
    "duration": 13,
    "start_time": "2024-03-22T09:58:13.025Z"
   },
   {
    "duration": 29,
    "start_time": "2024-03-22T09:58:13.039Z"
   },
   {
    "duration": 14,
    "start_time": "2024-03-22T09:58:13.070Z"
   },
   {
    "duration": 21,
    "start_time": "2024-03-22T09:58:13.087Z"
   },
   {
    "duration": 16,
    "start_time": "2024-03-22T09:58:13.111Z"
   },
   {
    "duration": 7,
    "start_time": "2024-03-22T09:58:13.129Z"
   },
   {
    "duration": 34,
    "start_time": "2024-03-22T09:58:13.138Z"
   },
   {
    "duration": 428,
    "start_time": "2024-03-22T09:58:13.174Z"
   },
   {
    "duration": 9,
    "start_time": "2024-03-22T09:58:13.604Z"
   },
   {
    "duration": 364,
    "start_time": "2024-03-22T09:58:13.615Z"
   },
   {
    "duration": 1333,
    "start_time": "2024-03-22T09:58:13.981Z"
   },
   {
    "duration": 17,
    "start_time": "2024-03-22T09:58:15.315Z"
   },
   {
    "duration": 15,
    "start_time": "2024-03-22T09:58:15.333Z"
   },
   {
    "duration": 226,
    "start_time": "2024-03-22T09:58:15.349Z"
   },
   {
    "duration": 1997,
    "start_time": "2024-03-22T09:58:15.577Z"
   },
   {
    "duration": 35,
    "start_time": "2024-03-22T09:58:17.577Z"
   },
   {
    "duration": 260,
    "start_time": "2024-03-22T09:58:17.614Z"
   },
   {
    "duration": 269,
    "start_time": "2024-03-22T09:58:17.876Z"
   },
   {
    "duration": 35,
    "start_time": "2024-03-22T09:58:18.146Z"
   },
   {
    "duration": 7,
    "start_time": "2024-03-22T09:58:18.189Z"
   },
   {
    "duration": 13,
    "start_time": "2024-03-22T09:58:18.199Z"
   },
   {
    "duration": 382,
    "start_time": "2024-03-22T09:58:18.214Z"
   },
   {
    "duration": 7,
    "start_time": "2024-03-22T09:58:18.598Z"
   },
   {
    "duration": 402,
    "start_time": "2024-03-22T09:58:18.607Z"
   },
   {
    "duration": 392,
    "start_time": "2024-03-22T09:58:19.012Z"
   },
   {
    "duration": 297,
    "start_time": "2024-03-22T09:58:19.406Z"
   },
   {
    "duration": 351,
    "start_time": "2024-03-22T09:58:19.707Z"
   },
   {
    "duration": 7,
    "start_time": "2024-03-22T09:58:20.059Z"
   },
   {
    "duration": 540,
    "start_time": "2024-03-22T09:58:20.068Z"
   },
   {
    "duration": 493,
    "start_time": "2024-03-22T09:58:20.610Z"
   },
   {
    "duration": 412,
    "start_time": "2024-03-22T09:58:21.105Z"
   },
   {
    "duration": 4,
    "start_time": "2024-03-22T10:00:24.020Z"
   },
   {
    "duration": 1446,
    "start_time": "2024-03-22T13:31:14.458Z"
   },
   {
    "duration": 95,
    "start_time": "2024-03-22T13:31:15.906Z"
   },
   {
    "duration": 21,
    "start_time": "2024-03-22T13:31:16.003Z"
   },
   {
    "duration": 17,
    "start_time": "2024-03-22T13:31:16.026Z"
   },
   {
    "duration": 5,
    "start_time": "2024-03-22T13:31:16.045Z"
   },
   {
    "duration": 4,
    "start_time": "2024-03-22T13:31:16.059Z"
   },
   {
    "duration": 42,
    "start_time": "2024-03-22T13:31:16.065Z"
   },
   {
    "duration": 11,
    "start_time": "2024-03-22T13:31:16.109Z"
   },
   {
    "duration": 32,
    "start_time": "2024-03-22T13:31:16.122Z"
   },
   {
    "duration": 4,
    "start_time": "2024-03-22T13:31:16.157Z"
   },
   {
    "duration": 50,
    "start_time": "2024-03-22T13:31:16.162Z"
   },
   {
    "duration": 24,
    "start_time": "2024-03-22T13:31:16.214Z"
   },
   {
    "duration": 5,
    "start_time": "2024-03-22T13:31:16.240Z"
   },
   {
    "duration": 6,
    "start_time": "2024-03-22T13:31:16.247Z"
   },
   {
    "duration": 20,
    "start_time": "2024-03-22T13:31:16.255Z"
   },
   {
    "duration": 7,
    "start_time": "2024-03-22T13:31:16.278Z"
   },
   {
    "duration": 13,
    "start_time": "2024-03-22T13:31:16.287Z"
   },
   {
    "duration": 51,
    "start_time": "2024-03-22T13:31:16.301Z"
   },
   {
    "duration": 31,
    "start_time": "2024-03-22T13:31:16.354Z"
   },
   {
    "duration": 42,
    "start_time": "2024-03-22T13:31:16.387Z"
   },
   {
    "duration": 28,
    "start_time": "2024-03-22T13:31:16.431Z"
   },
   {
    "duration": 407,
    "start_time": "2024-03-22T13:31:16.461Z"
   },
   {
    "duration": 9,
    "start_time": "2024-03-22T13:31:16.869Z"
   },
   {
    "duration": 380,
    "start_time": "2024-03-22T13:31:16.879Z"
   },
   {
    "duration": 1288,
    "start_time": "2024-03-22T13:31:17.260Z"
   },
   {
    "duration": 17,
    "start_time": "2024-03-22T13:31:18.558Z"
   },
   {
    "duration": 16,
    "start_time": "2024-03-22T13:31:18.577Z"
   },
   {
    "duration": 215,
    "start_time": "2024-03-22T13:31:18.597Z"
   },
   {
    "duration": 1969,
    "start_time": "2024-03-22T13:31:18.814Z"
   },
   {
    "duration": 25,
    "start_time": "2024-03-22T13:31:20.785Z"
   },
   {
    "duration": 249,
    "start_time": "2024-03-22T13:31:20.812Z"
   },
   {
    "duration": 248,
    "start_time": "2024-03-22T13:31:21.063Z"
   },
   {
    "duration": 25,
    "start_time": "2024-03-22T13:31:21.312Z"
   },
   {
    "duration": 35,
    "start_time": "2024-03-22T13:31:21.339Z"
   },
   {
    "duration": 30,
    "start_time": "2024-03-22T13:31:21.376Z"
   },
   {
    "duration": 386,
    "start_time": "2024-03-22T13:31:21.408Z"
   },
   {
    "duration": 6,
    "start_time": "2024-03-22T13:31:21.795Z"
   },
   {
    "duration": 381,
    "start_time": "2024-03-22T13:31:21.802Z"
   },
   {
    "duration": 381,
    "start_time": "2024-03-22T13:31:22.185Z"
   },
   {
    "duration": 268,
    "start_time": "2024-03-22T13:31:22.568Z"
   },
   {
    "duration": 336,
    "start_time": "2024-03-22T13:31:22.837Z"
   },
   {
    "duration": 3,
    "start_time": "2024-03-22T13:31:23.174Z"
   },
   {
    "duration": 499,
    "start_time": "2024-03-22T13:31:23.178Z"
   },
   {
    "duration": 442,
    "start_time": "2024-03-22T13:31:23.679Z"
   },
   {
    "duration": 360,
    "start_time": "2024-03-22T13:31:24.123Z"
   },
   {
    "duration": 1473,
    "start_time": "2024-11-15T08:16:34.884Z"
   },
   {
    "duration": 168,
    "start_time": "2024-11-15T08:16:36.360Z"
   },
   {
    "duration": 21,
    "start_time": "2024-11-15T08:16:36.530Z"
   },
   {
    "duration": 16,
    "start_time": "2024-11-15T08:16:36.554Z"
   },
   {
    "duration": 9,
    "start_time": "2024-11-15T08:16:36.572Z"
   },
   {
    "duration": 14,
    "start_time": "2024-11-15T08:16:36.583Z"
   },
   {
    "duration": 38,
    "start_time": "2024-11-15T08:16:36.599Z"
   },
   {
    "duration": 29,
    "start_time": "2024-11-15T08:16:36.638Z"
   },
   {
    "duration": 50,
    "start_time": "2024-11-15T08:16:36.669Z"
   },
   {
    "duration": 3,
    "start_time": "2024-11-15T08:16:36.722Z"
   },
   {
    "duration": 36,
    "start_time": "2024-11-15T08:16:36.726Z"
   },
   {
    "duration": 18,
    "start_time": "2024-11-15T08:16:36.764Z"
   },
   {
    "duration": 5,
    "start_time": "2024-11-15T08:16:36.785Z"
   },
   {
    "duration": 23,
    "start_time": "2024-11-15T08:16:36.792Z"
   },
   {
    "duration": 30,
    "start_time": "2024-11-15T08:16:36.817Z"
   },
   {
    "duration": 6,
    "start_time": "2024-11-15T08:16:36.849Z"
   },
   {
    "duration": 128,
    "start_time": "2024-11-15T08:16:36.856Z"
   },
   {
    "duration": 0,
    "start_time": "2024-11-15T08:16:36.986Z"
   },
   {
    "duration": 0,
    "start_time": "2024-11-15T08:16:36.988Z"
   },
   {
    "duration": 0,
    "start_time": "2024-11-15T08:16:36.989Z"
   },
   {
    "duration": 0,
    "start_time": "2024-11-15T08:16:36.991Z"
   },
   {
    "duration": 0,
    "start_time": "2024-11-15T08:16:36.992Z"
   },
   {
    "duration": 0,
    "start_time": "2024-11-15T08:16:36.993Z"
   },
   {
    "duration": 0,
    "start_time": "2024-11-15T08:16:36.994Z"
   },
   {
    "duration": 1,
    "start_time": "2024-11-15T08:16:36.994Z"
   },
   {
    "duration": 0,
    "start_time": "2024-11-15T08:16:36.996Z"
   },
   {
    "duration": 0,
    "start_time": "2024-11-15T08:16:36.997Z"
   },
   {
    "duration": 0,
    "start_time": "2024-11-15T08:16:37.018Z"
   },
   {
    "duration": 0,
    "start_time": "2024-11-15T08:16:37.019Z"
   },
   {
    "duration": 0,
    "start_time": "2024-11-15T08:16:37.020Z"
   },
   {
    "duration": 0,
    "start_time": "2024-11-15T08:16:37.021Z"
   },
   {
    "duration": 0,
    "start_time": "2024-11-15T08:16:37.022Z"
   },
   {
    "duration": 0,
    "start_time": "2024-11-15T08:16:37.023Z"
   },
   {
    "duration": 0,
    "start_time": "2024-11-15T08:16:37.024Z"
   },
   {
    "duration": 0,
    "start_time": "2024-11-15T08:16:37.025Z"
   },
   {
    "duration": 0,
    "start_time": "2024-11-15T08:16:37.026Z"
   },
   {
    "duration": 0,
    "start_time": "2024-11-15T08:16:37.027Z"
   },
   {
    "duration": 0,
    "start_time": "2024-11-15T08:16:37.029Z"
   },
   {
    "duration": 0,
    "start_time": "2024-11-15T08:16:37.030Z"
   },
   {
    "duration": 0,
    "start_time": "2024-11-15T08:16:37.031Z"
   },
   {
    "duration": 0,
    "start_time": "2024-11-15T08:16:37.032Z"
   },
   {
    "duration": 0,
    "start_time": "2024-11-15T08:16:37.033Z"
   },
   {
    "duration": 0,
    "start_time": "2024-11-15T08:16:37.034Z"
   },
   {
    "duration": 0,
    "start_time": "2024-11-15T08:16:37.035Z"
   },
   {
    "duration": 0,
    "start_time": "2024-11-15T08:16:37.036Z"
   },
   {
    "duration": 1218,
    "start_time": "2024-11-15T08:18:23.523Z"
   },
   {
    "duration": 56,
    "start_time": "2024-11-15T08:18:24.745Z"
   },
   {
    "duration": 19,
    "start_time": "2024-11-15T08:18:24.803Z"
   },
   {
    "duration": 14,
    "start_time": "2024-11-15T08:18:24.824Z"
   },
   {
    "duration": 4,
    "start_time": "2024-11-15T08:18:24.840Z"
   },
   {
    "duration": 13,
    "start_time": "2024-11-15T08:18:24.846Z"
   },
   {
    "duration": 24,
    "start_time": "2024-11-15T08:18:24.860Z"
   },
   {
    "duration": 32,
    "start_time": "2024-11-15T08:18:24.886Z"
   },
   {
    "duration": 27,
    "start_time": "2024-11-15T08:18:24.919Z"
   },
   {
    "duration": 3,
    "start_time": "2024-11-15T08:18:24.949Z"
   },
   {
    "duration": 29,
    "start_time": "2024-11-15T08:18:24.954Z"
   },
   {
    "duration": 15,
    "start_time": "2024-11-15T08:18:24.984Z"
   },
   {
    "duration": 18,
    "start_time": "2024-11-15T08:18:25.001Z"
   },
   {
    "duration": 10,
    "start_time": "2024-11-15T08:18:25.021Z"
   },
   {
    "duration": 21,
    "start_time": "2024-11-15T08:18:25.032Z"
   },
   {
    "duration": 5,
    "start_time": "2024-11-15T08:18:25.054Z"
   },
   {
    "duration": 9,
    "start_time": "2024-11-15T08:18:25.060Z"
   },
   {
    "duration": 19,
    "start_time": "2024-11-15T08:18:25.070Z"
   },
   {
    "duration": 13,
    "start_time": "2024-11-15T08:18:25.091Z"
   },
   {
    "duration": 14,
    "start_time": "2024-11-15T08:18:25.106Z"
   },
   {
    "duration": 13,
    "start_time": "2024-11-15T08:18:25.121Z"
   },
   {
    "duration": 397,
    "start_time": "2024-11-15T08:18:25.135Z"
   },
   {
    "duration": 8,
    "start_time": "2024-11-15T08:18:25.534Z"
   },
   {
    "duration": 376,
    "start_time": "2024-11-15T08:18:25.543Z"
   },
   {
    "duration": 1226,
    "start_time": "2024-11-15T08:18:25.921Z"
   },
   {
    "duration": 17,
    "start_time": "2024-11-15T08:18:27.149Z"
   },
   {
    "duration": 4,
    "start_time": "2024-11-15T08:18:27.167Z"
   },
   {
    "duration": 243,
    "start_time": "2024-11-15T08:18:27.175Z"
   },
   {
    "duration": 1941,
    "start_time": "2024-11-15T08:18:27.419Z"
   },
   {
    "duration": 23,
    "start_time": "2024-11-15T08:18:29.362Z"
   },
   {
    "duration": 259,
    "start_time": "2024-11-15T08:18:29.387Z"
   },
   {
    "duration": 238,
    "start_time": "2024-11-15T08:18:29.648Z"
   },
   {
    "duration": 36,
    "start_time": "2024-11-15T08:18:29.888Z"
   },
   {
    "duration": 6,
    "start_time": "2024-11-15T08:18:29.926Z"
   },
   {
    "duration": 8,
    "start_time": "2024-11-15T08:18:29.934Z"
   },
   {
    "duration": 393,
    "start_time": "2024-11-15T08:18:29.944Z"
   },
   {
    "duration": 6,
    "start_time": "2024-11-15T08:18:30.339Z"
   },
   {
    "duration": 378,
    "start_time": "2024-11-15T08:18:30.346Z"
   },
   {
    "duration": 394,
    "start_time": "2024-11-15T08:18:30.726Z"
   },
   {
    "duration": 251,
    "start_time": "2024-11-15T08:18:31.122Z"
   },
   {
    "duration": 328,
    "start_time": "2024-11-15T08:18:31.375Z"
   },
   {
    "duration": 3,
    "start_time": "2024-11-15T08:18:31.705Z"
   },
   {
    "duration": 519,
    "start_time": "2024-11-15T08:18:31.718Z"
   },
   {
    "duration": 431,
    "start_time": "2024-11-15T08:18:32.239Z"
   },
   {
    "duration": 370,
    "start_time": "2024-11-15T08:18:32.672Z"
   }
  ],
  "kernelspec": {
   "display_name": "Python 3 (ipykernel)",
   "language": "python",
   "name": "python3"
  },
  "language_info": {
   "codemirror_mode": {
    "name": "ipython",
    "version": 3
   },
   "file_extension": ".py",
   "mimetype": "text/x-python",
   "name": "python",
   "nbconvert_exporter": "python",
   "pygments_lexer": "ipython3",
   "version": "3.9.5"
  },
  "toc": {
   "base_numbering": 1,
   "nav_menu": {},
   "number_sections": true,
   "sideBar": true,
   "skip_h1_title": true,
   "title_cell": "Table of Contents",
   "title_sidebar": "Contents",
   "toc_cell": false,
   "toc_position": {},
   "toc_section_display": true,
   "toc_window_display": false
  }
 },
 "nbformat": 4,
 "nbformat_minor": 2
}
