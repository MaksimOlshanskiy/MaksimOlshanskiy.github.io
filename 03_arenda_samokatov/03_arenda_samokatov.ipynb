{
 "cells": [
  {
   "cell_type": "markdown",
   "id": "2b96dc1a",
   "metadata": {},
   "source": [
    "# Исследование данных сервиса аренды самокатов GoFast.\n",
    "\n",
    "## План исследования:\n",
    "    \n",
    "    1) Загрузить и изучить данные о пользователях из разных городов и их поездках.\n",
    "    2) Выполнить предобработку данных. Найти и обработать пропуски и дубли в датафреймах. \n",
    "    3) Провести исследовательский анализ данных, описать и визуализировать общую информацию о пользователях и поездках.\n",
    "    4) Объеденить данные в один датафрейм и визуализировать информацию о расстоянии и времени поездок для пользователей обеих категорий.\n",
    "    5) Рассчитать суммарную выручку по месяцам по каждому пользователю.\n",
    "    6) Провести проверку ряда гипотез. "
   ]
  },
  {
   "cell_type": "code",
   "execution_count": 1,
   "id": "72576667",
   "metadata": {},
   "outputs": [],
   "source": [
    "import pandas as pd\n",
    "import matplotlib.pyplot as plt\n",
    "import numpy as np\n",
    "from scipy import stats as st"
   ]
  },
  {
   "cell_type": "markdown",
   "id": "c42cbe00",
   "metadata": {},
   "source": [
    "## Загрузка данных"
   ]
  },
  {
   "cell_type": "code",
   "execution_count": 2,
   "id": "eff9f206",
   "metadata": {},
   "outputs": [],
   "source": [
    "users = pd.read_csv('/datasets/users_go.csv')\n",
    "rides = pd.read_csv('/datasets/rides_go.csv')\n",
    "subscriptions = pd.read_csv('/datasets/subscriptions_go.csv')"
   ]
  },
  {
   "cell_type": "code",
   "execution_count": 3,
   "id": "e8e5adb6",
   "metadata": {},
   "outputs": [
    {
     "data": {
      "text/html": [
       "<div>\n",
       "<style scoped>\n",
       "    .dataframe tbody tr th:only-of-type {\n",
       "        vertical-align: middle;\n",
       "    }\n",
       "\n",
       "    .dataframe tbody tr th {\n",
       "        vertical-align: top;\n",
       "    }\n",
       "\n",
       "    .dataframe thead th {\n",
       "        text-align: right;\n",
       "    }\n",
       "</style>\n",
       "<table border=\"1\" class=\"dataframe\">\n",
       "  <thead>\n",
       "    <tr style=\"text-align: right;\">\n",
       "      <th></th>\n",
       "      <th>user_id</th>\n",
       "      <th>name</th>\n",
       "      <th>age</th>\n",
       "      <th>city</th>\n",
       "      <th>subscription_type</th>\n",
       "    </tr>\n",
       "  </thead>\n",
       "  <tbody>\n",
       "    <tr>\n",
       "      <th>0</th>\n",
       "      <td>1</td>\n",
       "      <td>Кира</td>\n",
       "      <td>22</td>\n",
       "      <td>Тюмень</td>\n",
       "      <td>ultra</td>\n",
       "    </tr>\n",
       "    <tr>\n",
       "      <th>1</th>\n",
       "      <td>2</td>\n",
       "      <td>Станислав</td>\n",
       "      <td>31</td>\n",
       "      <td>Омск</td>\n",
       "      <td>ultra</td>\n",
       "    </tr>\n",
       "    <tr>\n",
       "      <th>2</th>\n",
       "      <td>3</td>\n",
       "      <td>Алексей</td>\n",
       "      <td>20</td>\n",
       "      <td>Москва</td>\n",
       "      <td>ultra</td>\n",
       "    </tr>\n",
       "    <tr>\n",
       "      <th>3</th>\n",
       "      <td>4</td>\n",
       "      <td>Константин</td>\n",
       "      <td>26</td>\n",
       "      <td>Ростов-на-Дону</td>\n",
       "      <td>ultra</td>\n",
       "    </tr>\n",
       "    <tr>\n",
       "      <th>4</th>\n",
       "      <td>5</td>\n",
       "      <td>Адель</td>\n",
       "      <td>28</td>\n",
       "      <td>Омск</td>\n",
       "      <td>ultra</td>\n",
       "    </tr>\n",
       "  </tbody>\n",
       "</table>\n",
       "</div>"
      ],
      "text/plain": [
       "   user_id        name  age            city subscription_type\n",
       "0        1        Кира   22          Тюмень             ultra\n",
       "1        2   Станислав   31            Омск             ultra\n",
       "2        3     Алексей   20          Москва             ultra\n",
       "3        4  Константин   26  Ростов-на-Дону             ultra\n",
       "4        5       Адель   28            Омск             ultra"
      ]
     },
     "execution_count": 3,
     "metadata": {},
     "output_type": "execute_result"
    }
   ],
   "source": [
    "users.head()"
   ]
  },
  {
   "cell_type": "code",
   "execution_count": 4,
   "id": "3da77511",
   "metadata": {},
   "outputs": [
    {
     "name": "stdout",
     "output_type": "stream",
     "text": [
      "<class 'pandas.core.frame.DataFrame'>\n",
      "RangeIndex: 1565 entries, 0 to 1564\n",
      "Data columns (total 5 columns):\n",
      " #   Column             Non-Null Count  Dtype \n",
      "---  ------             --------------  ----- \n",
      " 0   user_id            1565 non-null   int64 \n",
      " 1   name               1565 non-null   object\n",
      " 2   age                1565 non-null   int64 \n",
      " 3   city               1565 non-null   object\n",
      " 4   subscription_type  1565 non-null   object\n",
      "dtypes: int64(2), object(3)\n",
      "memory usage: 61.3+ KB\n"
     ]
    }
   ],
   "source": [
    "users.info()"
   ]
  },
  {
   "cell_type": "markdown",
   "id": "ea2a518a",
   "metadata": {},
   "source": [
    "1565 строк в датафрейме users, без пропусков, указанные типы данных в столбцах соответствуют находящимся в них данным. Ничего менять не нужно."
   ]
  },
  {
   "cell_type": "code",
   "execution_count": 5,
   "id": "ed0c9bda",
   "metadata": {},
   "outputs": [
    {
     "data": {
      "text/html": [
       "<div>\n",
       "<style scoped>\n",
       "    .dataframe tbody tr th:only-of-type {\n",
       "        vertical-align: middle;\n",
       "    }\n",
       "\n",
       "    .dataframe tbody tr th {\n",
       "        vertical-align: top;\n",
       "    }\n",
       "\n",
       "    .dataframe thead th {\n",
       "        text-align: right;\n",
       "    }\n",
       "</style>\n",
       "<table border=\"1\" class=\"dataframe\">\n",
       "  <thead>\n",
       "    <tr style=\"text-align: right;\">\n",
       "      <th></th>\n",
       "      <th>user_id</th>\n",
       "      <th>distance</th>\n",
       "      <th>duration</th>\n",
       "      <th>date</th>\n",
       "    </tr>\n",
       "  </thead>\n",
       "  <tbody>\n",
       "    <tr>\n",
       "      <th>0</th>\n",
       "      <td>1</td>\n",
       "      <td>4409.919140</td>\n",
       "      <td>25.599769</td>\n",
       "      <td>2021-01-01</td>\n",
       "    </tr>\n",
       "    <tr>\n",
       "      <th>1</th>\n",
       "      <td>1</td>\n",
       "      <td>2617.592153</td>\n",
       "      <td>15.816871</td>\n",
       "      <td>2021-01-18</td>\n",
       "    </tr>\n",
       "    <tr>\n",
       "      <th>2</th>\n",
       "      <td>1</td>\n",
       "      <td>754.159807</td>\n",
       "      <td>6.232113</td>\n",
       "      <td>2021-04-20</td>\n",
       "    </tr>\n",
       "    <tr>\n",
       "      <th>3</th>\n",
       "      <td>1</td>\n",
       "      <td>2694.783254</td>\n",
       "      <td>18.511000</td>\n",
       "      <td>2021-08-11</td>\n",
       "    </tr>\n",
       "    <tr>\n",
       "      <th>4</th>\n",
       "      <td>1</td>\n",
       "      <td>4028.687306</td>\n",
       "      <td>26.265803</td>\n",
       "      <td>2021-08-28</td>\n",
       "    </tr>\n",
       "  </tbody>\n",
       "</table>\n",
       "</div>"
      ],
      "text/plain": [
       "   user_id     distance   duration        date\n",
       "0        1  4409.919140  25.599769  2021-01-01\n",
       "1        1  2617.592153  15.816871  2021-01-18\n",
       "2        1   754.159807   6.232113  2021-04-20\n",
       "3        1  2694.783254  18.511000  2021-08-11\n",
       "4        1  4028.687306  26.265803  2021-08-28"
      ]
     },
     "execution_count": 5,
     "metadata": {},
     "output_type": "execute_result"
    }
   ],
   "source": [
    "rides.head()"
   ]
  },
  {
   "cell_type": "code",
   "execution_count": 6,
   "id": "34860da6",
   "metadata": {},
   "outputs": [
    {
     "name": "stdout",
     "output_type": "stream",
     "text": [
      "<class 'pandas.core.frame.DataFrame'>\n",
      "RangeIndex: 18068 entries, 0 to 18067\n",
      "Data columns (total 4 columns):\n",
      " #   Column    Non-Null Count  Dtype  \n",
      "---  ------    --------------  -----  \n",
      " 0   user_id   18068 non-null  int64  \n",
      " 1   distance  18068 non-null  float64\n",
      " 2   duration  18068 non-null  float64\n",
      " 3   date      18068 non-null  object \n",
      "dtypes: float64(2), int64(1), object(1)\n",
      "memory usage: 564.8+ KB\n"
     ]
    }
   ],
   "source": [
    "rides.info()"
   ]
  },
  {
   "cell_type": "markdown",
   "id": "eeb8c410",
   "metadata": {},
   "source": [
    "18068 строк в датафрейме rides. Без пропусков. В столбце date находятся данные, с типом object. Далее изменим тип данных на datetime."
   ]
  },
  {
   "cell_type": "code",
   "execution_count": 7,
   "id": "c60ee4cb",
   "metadata": {},
   "outputs": [
    {
     "data": {
      "text/html": [
       "<div>\n",
       "<style scoped>\n",
       "    .dataframe tbody tr th:only-of-type {\n",
       "        vertical-align: middle;\n",
       "    }\n",
       "\n",
       "    .dataframe tbody tr th {\n",
       "        vertical-align: top;\n",
       "    }\n",
       "\n",
       "    .dataframe thead th {\n",
       "        text-align: right;\n",
       "    }\n",
       "</style>\n",
       "<table border=\"1\" class=\"dataframe\">\n",
       "  <thead>\n",
       "    <tr style=\"text-align: right;\">\n",
       "      <th></th>\n",
       "      <th>subscription_type</th>\n",
       "      <th>minute_price</th>\n",
       "      <th>start_ride_price</th>\n",
       "      <th>subscription_fee</th>\n",
       "    </tr>\n",
       "  </thead>\n",
       "  <tbody>\n",
       "    <tr>\n",
       "      <th>0</th>\n",
       "      <td>free</td>\n",
       "      <td>8</td>\n",
       "      <td>50</td>\n",
       "      <td>0</td>\n",
       "    </tr>\n",
       "    <tr>\n",
       "      <th>1</th>\n",
       "      <td>ultra</td>\n",
       "      <td>6</td>\n",
       "      <td>0</td>\n",
       "      <td>199</td>\n",
       "    </tr>\n",
       "  </tbody>\n",
       "</table>\n",
       "</div>"
      ],
      "text/plain": [
       "  subscription_type  minute_price  start_ride_price  subscription_fee\n",
       "0              free             8                50                 0\n",
       "1             ultra             6                 0               199"
      ]
     },
     "execution_count": 7,
     "metadata": {},
     "output_type": "execute_result"
    }
   ],
   "source": [
    "subscriptions.head()"
   ]
  },
  {
   "cell_type": "code",
   "execution_count": 8,
   "id": "5153f835",
   "metadata": {},
   "outputs": [
    {
     "name": "stdout",
     "output_type": "stream",
     "text": [
      "<class 'pandas.core.frame.DataFrame'>\n",
      "RangeIndex: 2 entries, 0 to 1\n",
      "Data columns (total 4 columns):\n",
      " #   Column             Non-Null Count  Dtype \n",
      "---  ------             --------------  ----- \n",
      " 0   subscription_type  2 non-null      object\n",
      " 1   minute_price       2 non-null      int64 \n",
      " 2   start_ride_price   2 non-null      int64 \n",
      " 3   subscription_fee   2 non-null      int64 \n",
      "dtypes: int64(3), object(1)\n",
      "memory usage: 192.0+ bytes\n"
     ]
    }
   ],
   "source": [
    "subscriptions.info()"
   ]
  },
  {
   "cell_type": "markdown",
   "id": "e95ebca7",
   "metadata": {},
   "source": [
    "## Предобработка данных"
   ]
  },
  {
   "cell_type": "markdown",
   "id": "94337364",
   "metadata": {},
   "source": [
    "Изменим тип данных в датафрейме rides в столбце date на datetime, чтобы мы могли работать с ним, как с датами. "
   ]
  },
  {
   "cell_type": "code",
   "execution_count": 9,
   "id": "b92d47cf",
   "metadata": {},
   "outputs": [
    {
     "name": "stdout",
     "output_type": "stream",
     "text": [
      "<class 'pandas.core.frame.DataFrame'>\n",
      "RangeIndex: 18068 entries, 0 to 18067\n",
      "Data columns (total 4 columns):\n",
      " #   Column    Non-Null Count  Dtype         \n",
      "---  ------    --------------  -----         \n",
      " 0   user_id   18068 non-null  int64         \n",
      " 1   distance  18068 non-null  float64       \n",
      " 2   duration  18068 non-null  float64       \n",
      " 3   date      18068 non-null  datetime64[ns]\n",
      "dtypes: datetime64[ns](1), float64(2), int64(1)\n",
      "memory usage: 564.8 KB\n"
     ]
    }
   ],
   "source": [
    "rides['date'] = pd.to_datetime(rides['date'], format='%Y-%m-%d')\n",
    "rides.info()"
   ]
  },
  {
   "cell_type": "markdown",
   "id": "8f0f3d91",
   "metadata": {},
   "source": [
    "Создадим новый стоблец month в датафрейме rides с номером месяца в соответствии с информацией из столбца date. И проверим датафрейм."
   ]
  },
  {
   "cell_type": "code",
   "execution_count": 10,
   "id": "0be30f10",
   "metadata": {},
   "outputs": [
    {
     "data": {
      "text/html": [
       "<div>\n",
       "<style scoped>\n",
       "    .dataframe tbody tr th:only-of-type {\n",
       "        vertical-align: middle;\n",
       "    }\n",
       "\n",
       "    .dataframe tbody tr th {\n",
       "        vertical-align: top;\n",
       "    }\n",
       "\n",
       "    .dataframe thead th {\n",
       "        text-align: right;\n",
       "    }\n",
       "</style>\n",
       "<table border=\"1\" class=\"dataframe\">\n",
       "  <thead>\n",
       "    <tr style=\"text-align: right;\">\n",
       "      <th></th>\n",
       "      <th>user_id</th>\n",
       "      <th>distance</th>\n",
       "      <th>duration</th>\n",
       "      <th>date</th>\n",
       "      <th>month</th>\n",
       "    </tr>\n",
       "  </thead>\n",
       "  <tbody>\n",
       "    <tr>\n",
       "      <th>0</th>\n",
       "      <td>1</td>\n",
       "      <td>4409.919140</td>\n",
       "      <td>25.599769</td>\n",
       "      <td>2021-01-01</td>\n",
       "      <td>1</td>\n",
       "    </tr>\n",
       "    <tr>\n",
       "      <th>1</th>\n",
       "      <td>1</td>\n",
       "      <td>2617.592153</td>\n",
       "      <td>15.816871</td>\n",
       "      <td>2021-01-18</td>\n",
       "      <td>1</td>\n",
       "    </tr>\n",
       "    <tr>\n",
       "      <th>2</th>\n",
       "      <td>1</td>\n",
       "      <td>754.159807</td>\n",
       "      <td>6.232113</td>\n",
       "      <td>2021-04-20</td>\n",
       "      <td>4</td>\n",
       "    </tr>\n",
       "    <tr>\n",
       "      <th>3</th>\n",
       "      <td>1</td>\n",
       "      <td>2694.783254</td>\n",
       "      <td>18.511000</td>\n",
       "      <td>2021-08-11</td>\n",
       "      <td>8</td>\n",
       "    </tr>\n",
       "    <tr>\n",
       "      <th>4</th>\n",
       "      <td>1</td>\n",
       "      <td>4028.687306</td>\n",
       "      <td>26.265803</td>\n",
       "      <td>2021-08-28</td>\n",
       "      <td>8</td>\n",
       "    </tr>\n",
       "  </tbody>\n",
       "</table>\n",
       "</div>"
      ],
      "text/plain": [
       "   user_id     distance   duration       date  month\n",
       "0        1  4409.919140  25.599769 2021-01-01      1\n",
       "1        1  2617.592153  15.816871 2021-01-18      1\n",
       "2        1   754.159807   6.232113 2021-04-20      4\n",
       "3        1  2694.783254  18.511000 2021-08-11      8\n",
       "4        1  4028.687306  26.265803 2021-08-28      8"
      ]
     },
     "execution_count": 10,
     "metadata": {},
     "output_type": "execute_result"
    }
   ],
   "source": [
    "rides['month'] = rides['date'].dt.month\n",
    "rides.head()"
   ]
  },
  {
   "cell_type": "markdown",
   "id": "d72e58cb",
   "metadata": {},
   "source": [
    "Проверим данные на присутствие полных дубликатов и удалим их в случае нахождения. "
   ]
  },
  {
   "cell_type": "code",
   "execution_count": 11,
   "id": "6ec1b042",
   "metadata": {},
   "outputs": [
    {
     "name": "stdout",
     "output_type": "stream",
     "text": [
      "Количество дубликатов в датафрейме users: 31\n",
      "Количество дубликатов в датафрейме rides: 0\n"
     ]
    }
   ],
   "source": [
    "print('Количество дубликатов в датафрейме users:', users.duplicated().sum())\n",
    "print('Количество дубликатов в датафрейме rides:', rides.duplicated().sum())"
   ]
  },
  {
   "cell_type": "code",
   "execution_count": 12,
   "id": "26902143",
   "metadata": {},
   "outputs": [
    {
     "name": "stdout",
     "output_type": "stream",
     "text": [
      "Количество дубликатов в датафрейме users: 0\n",
      "Количество дубликатов в датафрейме rides: 0\n"
     ]
    }
   ],
   "source": [
    "users = users.drop_duplicates().reset_index(drop= True)\n",
    "print('Количество дубликатов в датафрейме users:', users.duplicated().sum())\n",
    "print('Количество дубликатов в датафрейме rides:', rides.duplicated().sum())"
   ]
  },
  {
   "cell_type": "markdown",
   "id": "212593c7",
   "metadata": {},
   "source": [
    "## Исследовательский анализ данных"
   ]
  },
  {
   "cell_type": "markdown",
   "id": "531e7814",
   "metadata": {},
   "source": [
    "Опишем и визуализируем общую информацию о пользователях и поездках:"
   ]
  },
  {
   "cell_type": "markdown",
   "id": "14e2b908",
   "metadata": {},
   "source": [
    "### Частота встречаемости городов;"
   ]
  },
  {
   "cell_type": "code",
   "execution_count": 13,
   "id": "6013e457",
   "metadata": {},
   "outputs": [
    {
     "data": {
      "text/plain": [
       "Пятигорск         219\n",
       "Екатеринбург      204\n",
       "Ростов-на-Дону    198\n",
       "Краснодар         193\n",
       "Сочи              189\n",
       "Омск              183\n",
       "Тюмень            180\n",
       "Москва            168\n",
       "Name: city, dtype: int64"
      ]
     },
     "execution_count": 13,
     "metadata": {},
     "output_type": "execute_result"
    }
   ],
   "source": [
    "users['city'].value_counts()"
   ]
  },
  {
   "cell_type": "code",
   "execution_count": 14,
   "id": "bf56d079",
   "metadata": {},
   "outputs": [
    {
     "data": {
      "text/plain": [
       "<AxesSubplot:title={'center':'Количество пользователей по городам'}, ylabel='Города'>"
      ]
     },
     "execution_count": 14,
     "metadata": {},
     "output_type": "execute_result"
    },
    {
     "data": {
      "image/png": "[encoded data removed]",
      "text/plain": [
       "<Figure size 1080x504 with 1 Axes>"
      ]
     },
     "metadata": {
      "needs_background": "light"
     },
     "output_type": "display_data"
    }
   ],
   "source": [
    "users.groupby('city')['city'].count().sort_values().plot(\n",
    "    kind='barh',figsize=(15,7), title='Количество пользователей по городам', \n",
    "    xlabel='Города')"
   ]
  },
  {
   "cell_type": "markdown",
   "id": "037bc908",
   "metadata": {},
   "source": [
    "В датафрейме users представленны пользователи из 8 городов, максимальное количество, 219 из Пятигорска, минимальное, 168, из Москвы. "
   ]
  },
  {
   "cell_type": "markdown",
   "id": "58768ee0",
   "metadata": {},
   "source": [
    "### Соотношение пользователей с подпиской и без подписки;"
   ]
  },
  {
   "cell_type": "code",
   "execution_count": 15,
   "id": "06104a11",
   "metadata": {},
   "outputs": [
    {
     "data": {
      "text/plain": [
       "<AxesSubplot:title={'center':'Соотношение пользователей с подпиской и без подписки'}, ylabel='название подписки'>"
      ]
     },
     "execution_count": 15,
     "metadata": {},
     "output_type": "execute_result"
    },
    {
     "data": {
      "image/png": "[encoded data removed]",
      "text/plain": [
       "<Figure size 1080x504 with 1 Axes>"
      ]
     },
     "metadata": {},
     "output_type": "display_data"
    }
   ],
   "source": [
    "users.groupby('subscription_type')['subscription_type'].count().plot(\n",
    "    kind='pie',figsize=(15,7), \n",
    "    autopct='%1.0f%%', \n",
    "    title='Соотношение пользователей с подпиской и без подписки', \n",
    "    ylabel='название подписки')"
   ]
  },
  {
   "cell_type": "markdown",
   "id": "55d6a9c7",
   "metadata": {},
   "source": [
    "Пользователи соотносятся в процентном соотношении 54/46% с бесплатной и платной подписками соответственно. Количество пользователей на бесплатной подписке больше на 8%. "
   ]
  },
  {
   "cell_type": "markdown",
   "id": "3c011541",
   "metadata": {},
   "source": [
    "### Возраст пользователей\n"
   ]
  },
  {
   "cell_type": "code",
   "execution_count": 16,
   "id": "fbe44eb1",
   "metadata": {
    "scrolled": false
   },
   "outputs": [
    {
     "data": {
      "text/plain": [
       "Text(0, 0.5, 'Количество')"
      ]
     },
     "execution_count": 16,
     "metadata": {},
     "output_type": "execute_result"
    },
    {
     "data": {
      "image/png": "[encoded data removed]",
      "text/plain": [
       "<Figure size 720x504 with 1 Axes>"
      ]
     },
     "metadata": {
      "needs_background": "light"
     },
     "output_type": "display_data"
    }
   ],
   "source": [
    "age = users['age'].hist(bins=10, figsize=(10,7))\n",
    "age.set_title('Распределение пользователей по возрасту',\n",
    "             weight='bold')\n",
    "age.set_xlabel('Возраст')\n",
    "age.set_ylabel('Количество')"
   ]
  },
  {
   "cell_type": "code",
   "execution_count": 17,
   "id": "39edbfb5",
   "metadata": {},
   "outputs": [
    {
     "data": {
      "text/plain": [
       "count    1534.000000\n",
       "mean       24.903520\n",
       "std         4.572367\n",
       "min        12.000000\n",
       "25%        22.000000\n",
       "50%        25.000000\n",
       "75%        28.000000\n",
       "max        43.000000\n",
       "Name: age, dtype: float64"
      ]
     },
     "execution_count": 17,
     "metadata": {},
     "output_type": "execute_result"
    }
   ],
   "source": [
    "users['age'].describe()"
   ]
  },
  {
   "cell_type": "markdown",
   "id": "3d2e3883",
   "metadata": {},
   "source": [
    "Возраст большей части пользователей распределен в интервале от 22 до 28 лет. Средний возраст ~ 25 лет. Минимальный 12, максимальный 43 года. "
   ]
  },
  {
   "cell_type": "markdown",
   "id": "409ec678",
   "metadata": {},
   "source": [
    "### Расстояние, которое пользователь преодолел за одну поездку"
   ]
  },
  {
   "cell_type": "code",
   "execution_count": 18,
   "id": "2420530b",
   "metadata": {},
   "outputs": [
    {
     "data": {
      "text/plain": [
       "Text(0, 0.5, 'Количество')"
      ]
     },
     "execution_count": 18,
     "metadata": {},
     "output_type": "execute_result"
    },
    {
     "data": {
      "image/png": "[encoded data removed]",
      "text/plain": [
       "<Figure size 720x504 with 1 Axes>"
      ]
     },
     "metadata": {
      "needs_background": "light"
     },
     "output_type": "display_data"
    }
   ],
   "source": [
    "dist = rides['distance'].hist(bins=10, figsize=(10,7))\n",
    "dist.set_title('Расстояние, преодолеваемое пользователями за одну поездку',\n",
    "             weight='bold')\n",
    "dist.set_xlabel('Расстояние (метров)')\n",
    "dist.set_ylabel('Количество')"
   ]
  },
  {
   "cell_type": "code",
   "execution_count": 19,
   "id": "599a89bd",
   "metadata": {},
   "outputs": [
    {
     "data": {
      "text/plain": [
       "count    18068.000000\n",
       "mean      3070.659976\n",
       "std       1116.831209\n",
       "min          0.855683\n",
       "25%       2543.226360\n",
       "50%       3133.609994\n",
       "75%       3776.222735\n",
       "max       7211.007745\n",
       "Name: distance, dtype: float64"
      ]
     },
     "execution_count": 19,
     "metadata": {},
     "output_type": "execute_result"
    }
   ],
   "source": [
    "rides['distance'].describe()"
   ]
  },
  {
   "cell_type": "markdown",
   "id": "0ef10015",
   "metadata": {},
   "source": [
    "Среднее расстояние, которое преодолели пользователи составляет 3070 м. Что практически совпадает с медианой (3133 м). \n",
    "50% всех пользователей преодолели расстояние от 2500 до 3800 м. "
   ]
  },
  {
   "cell_type": "markdown",
   "id": "b33ba48b",
   "metadata": {},
   "source": [
    "### Продолжительность поездок\n"
   ]
  },
  {
   "cell_type": "code",
   "execution_count": 20,
   "id": "1ba6eef5",
   "metadata": {},
   "outputs": [
    {
     "data": {
      "text/plain": [
       "Text(0, 0.5, 'Количество')"
      ]
     },
     "execution_count": 20,
     "metadata": {},
     "output_type": "execute_result"
    },
    {
     "data": {
      "image/png": "[encoded data removed]",
      "text/plain": [
       "<Figure size 720x504 with 1 Axes>"
      ]
     },
     "metadata": {
      "needs_background": "light"
     },
     "output_type": "display_data"
    }
   ],
   "source": [
    "dur = rides['duration'].hist(bins=10, figsize=(10,7))\n",
    "dur.set_title('Распределение продолжительности поездок',\n",
    "             weight='bold')\n",
    "dur.set_xlabel('Продолжительность (минут)')\n",
    "dur.set_ylabel('Количество')"
   ]
  },
  {
   "cell_type": "code",
   "execution_count": 21,
   "id": "a3186d99",
   "metadata": {},
   "outputs": [
    {
     "data": {
      "text/plain": [
       "count    18068.000000\n",
       "mean        17.805011\n",
       "std          6.091051\n",
       "min          0.500000\n",
       "25%         13.597563\n",
       "50%         17.678395\n",
       "75%         21.724800\n",
       "max         40.823963\n",
       "Name: duration, dtype: float64"
      ]
     },
     "execution_count": 21,
     "metadata": {},
     "output_type": "execute_result"
    }
   ],
   "source": [
    "rides['duration'].describe()"
   ]
  },
  {
   "cell_type": "markdown",
   "id": "47c1a5e0",
   "metadata": {},
   "source": [
    "Среднее время поездки также практически равно медиане и составляет 17,8 минут. \n",
    "50% пользователей совершили поездки продолжительностью от 13,5 до 22 минут. "
   ]
  },
  {
   "cell_type": "markdown",
   "id": "4ef51331",
   "metadata": {},
   "source": [
    "## Объединение данных"
   ]
  },
  {
   "cell_type": "markdown",
   "id": "69d6cf4e",
   "metadata": {},
   "source": [
    "Объединим данные о пользователях, поездках и подписках в один датафрейм"
   ]
  },
  {
   "cell_type": "code",
   "execution_count": 22,
   "id": "6bf288b5",
   "metadata": {},
   "outputs": [
    {
     "data": {
      "text/html": [
       "<div>\n",
       "<style scoped>\n",
       "    .dataframe tbody tr th:only-of-type {\n",
       "        vertical-align: middle;\n",
       "    }\n",
       "\n",
       "    .dataframe tbody tr th {\n",
       "        vertical-align: top;\n",
       "    }\n",
       "\n",
       "    .dataframe thead th {\n",
       "        text-align: right;\n",
       "    }\n",
       "</style>\n",
       "<table border=\"1\" class=\"dataframe\">\n",
       "  <thead>\n",
       "    <tr style=\"text-align: right;\">\n",
       "      <th></th>\n",
       "      <th>user_id</th>\n",
       "      <th>name</th>\n",
       "      <th>age</th>\n",
       "      <th>city</th>\n",
       "      <th>subscription_type</th>\n",
       "      <th>distance</th>\n",
       "      <th>duration</th>\n",
       "      <th>date</th>\n",
       "      <th>month</th>\n",
       "    </tr>\n",
       "  </thead>\n",
       "  <tbody>\n",
       "    <tr>\n",
       "      <th>0</th>\n",
       "      <td>1</td>\n",
       "      <td>Кира</td>\n",
       "      <td>22</td>\n",
       "      <td>Тюмень</td>\n",
       "      <td>ultra</td>\n",
       "      <td>4409.919140</td>\n",
       "      <td>25.599769</td>\n",
       "      <td>2021-01-01</td>\n",
       "      <td>1</td>\n",
       "    </tr>\n",
       "    <tr>\n",
       "      <th>1</th>\n",
       "      <td>1</td>\n",
       "      <td>Кира</td>\n",
       "      <td>22</td>\n",
       "      <td>Тюмень</td>\n",
       "      <td>ultra</td>\n",
       "      <td>2617.592153</td>\n",
       "      <td>15.816871</td>\n",
       "      <td>2021-01-18</td>\n",
       "      <td>1</td>\n",
       "    </tr>\n",
       "    <tr>\n",
       "      <th>2</th>\n",
       "      <td>1</td>\n",
       "      <td>Кира</td>\n",
       "      <td>22</td>\n",
       "      <td>Тюмень</td>\n",
       "      <td>ultra</td>\n",
       "      <td>754.159807</td>\n",
       "      <td>6.232113</td>\n",
       "      <td>2021-04-20</td>\n",
       "      <td>4</td>\n",
       "    </tr>\n",
       "    <tr>\n",
       "      <th>3</th>\n",
       "      <td>1</td>\n",
       "      <td>Кира</td>\n",
       "      <td>22</td>\n",
       "      <td>Тюмень</td>\n",
       "      <td>ultra</td>\n",
       "      <td>2694.783254</td>\n",
       "      <td>18.511000</td>\n",
       "      <td>2021-08-11</td>\n",
       "      <td>8</td>\n",
       "    </tr>\n",
       "    <tr>\n",
       "      <th>4</th>\n",
       "      <td>1</td>\n",
       "      <td>Кира</td>\n",
       "      <td>22</td>\n",
       "      <td>Тюмень</td>\n",
       "      <td>ultra</td>\n",
       "      <td>4028.687306</td>\n",
       "      <td>26.265803</td>\n",
       "      <td>2021-08-28</td>\n",
       "      <td>8</td>\n",
       "    </tr>\n",
       "    <tr>\n",
       "      <th>...</th>\n",
       "      <td>...</td>\n",
       "      <td>...</td>\n",
       "      <td>...</td>\n",
       "      <td>...</td>\n",
       "      <td>...</td>\n",
       "      <td>...</td>\n",
       "      <td>...</td>\n",
       "      <td>...</td>\n",
       "      <td>...</td>\n",
       "    </tr>\n",
       "    <tr>\n",
       "      <th>18063</th>\n",
       "      <td>1534</td>\n",
       "      <td>Альберт</td>\n",
       "      <td>25</td>\n",
       "      <td>Краснодар</td>\n",
       "      <td>free</td>\n",
       "      <td>3781.098080</td>\n",
       "      <td>19.822962</td>\n",
       "      <td>2021-11-04</td>\n",
       "      <td>11</td>\n",
       "    </tr>\n",
       "    <tr>\n",
       "      <th>18064</th>\n",
       "      <td>1534</td>\n",
       "      <td>Альберт</td>\n",
       "      <td>25</td>\n",
       "      <td>Краснодар</td>\n",
       "      <td>free</td>\n",
       "      <td>2840.423057</td>\n",
       "      <td>21.409799</td>\n",
       "      <td>2021-11-16</td>\n",
       "      <td>11</td>\n",
       "    </tr>\n",
       "    <tr>\n",
       "      <th>18065</th>\n",
       "      <td>1534</td>\n",
       "      <td>Альберт</td>\n",
       "      <td>25</td>\n",
       "      <td>Краснодар</td>\n",
       "      <td>free</td>\n",
       "      <td>3826.185507</td>\n",
       "      <td>18.435051</td>\n",
       "      <td>2021-11-18</td>\n",
       "      <td>11</td>\n",
       "    </tr>\n",
       "    <tr>\n",
       "      <th>18066</th>\n",
       "      <td>1534</td>\n",
       "      <td>Альберт</td>\n",
       "      <td>25</td>\n",
       "      <td>Краснодар</td>\n",
       "      <td>free</td>\n",
       "      <td>2902.308661</td>\n",
       "      <td>16.674362</td>\n",
       "      <td>2021-11-27</td>\n",
       "      <td>11</td>\n",
       "    </tr>\n",
       "    <tr>\n",
       "      <th>18067</th>\n",
       "      <td>1534</td>\n",
       "      <td>Альберт</td>\n",
       "      <td>25</td>\n",
       "      <td>Краснодар</td>\n",
       "      <td>free</td>\n",
       "      <td>2371.711192</td>\n",
       "      <td>15.893917</td>\n",
       "      <td>2021-12-29</td>\n",
       "      <td>12</td>\n",
       "    </tr>\n",
       "  </tbody>\n",
       "</table>\n",
       "<p>18068 rows × 9 columns</p>\n",
       "</div>"
      ],
      "text/plain": [
       "       user_id     name  age       city subscription_type     distance  \\\n",
       "0            1     Кира   22     Тюмень             ultra  4409.919140   \n",
       "1            1     Кира   22     Тюмень             ultra  2617.592153   \n",
       "2            1     Кира   22     Тюмень             ultra   754.159807   \n",
       "3            1     Кира   22     Тюмень             ultra  2694.783254   \n",
       "4            1     Кира   22     Тюмень             ultra  4028.687306   \n",
       "...        ...      ...  ...        ...               ...          ...   \n",
       "18063     1534  Альберт   25  Краснодар              free  3781.098080   \n",
       "18064     1534  Альберт   25  Краснодар              free  2840.423057   \n",
       "18065     1534  Альберт   25  Краснодар              free  3826.185507   \n",
       "18066     1534  Альберт   25  Краснодар              free  2902.308661   \n",
       "18067     1534  Альберт   25  Краснодар              free  2371.711192   \n",
       "\n",
       "        duration       date  month  \n",
       "0      25.599769 2021-01-01      1  \n",
       "1      15.816871 2021-01-18      1  \n",
       "2       6.232113 2021-04-20      4  \n",
       "3      18.511000 2021-08-11      8  \n",
       "4      26.265803 2021-08-28      8  \n",
       "...          ...        ...    ...  \n",
       "18063  19.822962 2021-11-04     11  \n",
       "18064  21.409799 2021-11-16     11  \n",
       "18065  18.435051 2021-11-18     11  \n",
       "18066  16.674362 2021-11-27     11  \n",
       "18067  15.893917 2021-12-29     12  \n",
       "\n",
       "[18068 rows x 9 columns]"
      ]
     },
     "execution_count": 22,
     "metadata": {},
     "output_type": "execute_result"
    }
   ],
   "source": [
    "df = users.merge(rides, on='user_id', how='left')\n",
    "df\n"
   ]
  },
  {
   "cell_type": "code",
   "execution_count": 23,
   "id": "0b8f24b2",
   "metadata": {},
   "outputs": [
    {
     "name": "stdout",
     "output_type": "stream",
     "text": [
      "Строк в старом датафрейме: 18068\n",
      "Строк в новом датафрейме: 18068\n",
      "Количество пропусков в новом датафрейме: user_id              0\n",
      "name                 0\n",
      "age                  0\n",
      "city                 0\n",
      "subscription_type    0\n",
      "distance             0\n",
      "duration             0\n",
      "date                 0\n",
      "month                0\n",
      "dtype: int64\n"
     ]
    }
   ],
   "source": [
    "print('Строк в старом датафрейме:', len(rides))\n",
    "print('Строк в новом датафрейме:', len(df))\n",
    "print('Количество пропусков в новом датафрейме:'   , df.isna().sum())"
   ]
  },
  {
   "cell_type": "markdown",
   "id": "0217d71a",
   "metadata": {},
   "source": [
    "Создадим датафрейм df_free, где будут только пользователи без подписки"
   ]
  },
  {
   "cell_type": "code",
   "execution_count": 24,
   "id": "a069df34",
   "metadata": {},
   "outputs": [
    {
     "data": {
      "text/html": [
       "<div>\n",
       "<style scoped>\n",
       "    .dataframe tbody tr th:only-of-type {\n",
       "        vertical-align: middle;\n",
       "    }\n",
       "\n",
       "    .dataframe tbody tr th {\n",
       "        vertical-align: top;\n",
       "    }\n",
       "\n",
       "    .dataframe thead th {\n",
       "        text-align: right;\n",
       "    }\n",
       "</style>\n",
       "<table border=\"1\" class=\"dataframe\">\n",
       "  <thead>\n",
       "    <tr style=\"text-align: right;\">\n",
       "      <th></th>\n",
       "      <th>user_id</th>\n",
       "      <th>name</th>\n",
       "      <th>age</th>\n",
       "      <th>city</th>\n",
       "      <th>subscription_type</th>\n",
       "      <th>distance</th>\n",
       "      <th>duration</th>\n",
       "      <th>date</th>\n",
       "      <th>month</th>\n",
       "    </tr>\n",
       "  </thead>\n",
       "  <tbody>\n",
       "    <tr>\n",
       "      <th>0</th>\n",
       "      <td>700</td>\n",
       "      <td>Айдар</td>\n",
       "      <td>22</td>\n",
       "      <td>Омск</td>\n",
       "      <td>free</td>\n",
       "      <td>2515.690719</td>\n",
       "      <td>14.944286</td>\n",
       "      <td>2021-01-02</td>\n",
       "      <td>1</td>\n",
       "    </tr>\n",
       "    <tr>\n",
       "      <th>1</th>\n",
       "      <td>700</td>\n",
       "      <td>Айдар</td>\n",
       "      <td>22</td>\n",
       "      <td>Омск</td>\n",
       "      <td>free</td>\n",
       "      <td>846.932642</td>\n",
       "      <td>16.234663</td>\n",
       "      <td>2021-02-01</td>\n",
       "      <td>2</td>\n",
       "    </tr>\n",
       "    <tr>\n",
       "      <th>2</th>\n",
       "      <td>700</td>\n",
       "      <td>Айдар</td>\n",
       "      <td>22</td>\n",
       "      <td>Омск</td>\n",
       "      <td>free</td>\n",
       "      <td>4004.434142</td>\n",
       "      <td>20.016628</td>\n",
       "      <td>2021-02-04</td>\n",
       "      <td>2</td>\n",
       "    </tr>\n",
       "    <tr>\n",
       "      <th>3</th>\n",
       "      <td>700</td>\n",
       "      <td>Айдар</td>\n",
       "      <td>22</td>\n",
       "      <td>Омск</td>\n",
       "      <td>free</td>\n",
       "      <td>1205.911290</td>\n",
       "      <td>9.782872</td>\n",
       "      <td>2021-02-10</td>\n",
       "      <td>2</td>\n",
       "    </tr>\n",
       "    <tr>\n",
       "      <th>4</th>\n",
       "      <td>700</td>\n",
       "      <td>Айдар</td>\n",
       "      <td>22</td>\n",
       "      <td>Омск</td>\n",
       "      <td>free</td>\n",
       "      <td>3047.379435</td>\n",
       "      <td>17.427673</td>\n",
       "      <td>2021-02-14</td>\n",
       "      <td>2</td>\n",
       "    </tr>\n",
       "  </tbody>\n",
       "</table>\n",
       "</div>"
      ],
      "text/plain": [
       "   user_id   name  age  city subscription_type     distance   duration  \\\n",
       "0      700  Айдар   22  Омск              free  2515.690719  14.944286   \n",
       "1      700  Айдар   22  Омск              free   846.932642  16.234663   \n",
       "2      700  Айдар   22  Омск              free  4004.434142  20.016628   \n",
       "3      700  Айдар   22  Омск              free  1205.911290   9.782872   \n",
       "4      700  Айдар   22  Омск              free  3047.379435  17.427673   \n",
       "\n",
       "        date  month  \n",
       "0 2021-01-02      1  \n",
       "1 2021-02-01      2  \n",
       "2 2021-02-04      2  \n",
       "3 2021-02-10      2  \n",
       "4 2021-02-14      2  "
      ]
     },
     "execution_count": 24,
     "metadata": {},
     "output_type": "execute_result"
    }
   ],
   "source": [
    "df_free = df[df['subscription_type'] == 'free'].reset_index(drop= True)\n",
    "df_free.head()"
   ]
  },
  {
   "cell_type": "markdown",
   "id": "f8034605",
   "metadata": {},
   "source": [
    "Посмотрим на среднюю продолжительность поездки и расстояние пользователей без подписки:"
   ]
  },
  {
   "cell_type": "code",
   "execution_count": 25,
   "id": "f7ea077a",
   "metadata": {},
   "outputs": [
    {
     "data": {
      "text/plain": [
       "array([[<AxesSubplot:title={'center':'distance'}>,\n",
       "        <AxesSubplot:title={'center':'duration'}>]], dtype=object)"
      ]
     },
     "execution_count": 25,
     "metadata": {},
     "output_type": "execute_result"
    },
    {
     "data": {
      "image/png": "[encoded data removed]",
      "text/plain": [
       "<Figure size 1080x360 with 2 Axes>"
      ]
     },
     "metadata": {
      "needs_background": "light"
     },
     "output_type": "display_data"
    }
   ],
   "source": [
    "stat_free = pd.pivot_table(df_free, index=['user_id'], values=['distance', 'duration'])\n",
    "stat_free.hist(bins=12, figsize=(15,5))"
   ]
  },
  {
   "cell_type": "code",
   "execution_count": 26,
   "id": "15e58226",
   "metadata": {},
   "outputs": [
    {
     "data": {
      "text/html": [
       "<div>\n",
       "<style scoped>\n",
       "    .dataframe tbody tr th:only-of-type {\n",
       "        vertical-align: middle;\n",
       "    }\n",
       "\n",
       "    .dataframe tbody tr th {\n",
       "        vertical-align: top;\n",
       "    }\n",
       "\n",
       "    .dataframe thead th {\n",
       "        text-align: right;\n",
       "    }\n",
       "</style>\n",
       "<table border=\"1\" class=\"dataframe\">\n",
       "  <thead>\n",
       "    <tr style=\"text-align: right;\">\n",
       "      <th></th>\n",
       "      <th>distance</th>\n",
       "      <th>duration</th>\n",
       "    </tr>\n",
       "  </thead>\n",
       "  <tbody>\n",
       "    <tr>\n",
       "      <th>count</th>\n",
       "      <td>835.000000</td>\n",
       "      <td>835.000000</td>\n",
       "    </tr>\n",
       "    <tr>\n",
       "      <th>mean</th>\n",
       "      <td>3047.023441</td>\n",
       "      <td>17.384033</td>\n",
       "    </tr>\n",
       "    <tr>\n",
       "      <th>std</th>\n",
       "      <td>346.570021</td>\n",
       "      <td>1.759845</td>\n",
       "    </tr>\n",
       "    <tr>\n",
       "      <th>min</th>\n",
       "      <td>1630.788427</td>\n",
       "      <td>11.163431</td>\n",
       "    </tr>\n",
       "    <tr>\n",
       "      <th>25%</th>\n",
       "      <td>2820.516763</td>\n",
       "      <td>16.209124</td>\n",
       "    </tr>\n",
       "    <tr>\n",
       "      <th>50%</th>\n",
       "      <td>3057.940909</td>\n",
       "      <td>17.402644</td>\n",
       "    </tr>\n",
       "    <tr>\n",
       "      <th>75%</th>\n",
       "      <td>3276.990199</td>\n",
       "      <td>18.568622</td>\n",
       "    </tr>\n",
       "    <tr>\n",
       "      <th>max</th>\n",
       "      <td>4287.519387</td>\n",
       "      <td>23.069943</td>\n",
       "    </tr>\n",
       "  </tbody>\n",
       "</table>\n",
       "</div>"
      ],
      "text/plain": [
       "          distance    duration\n",
       "count   835.000000  835.000000\n",
       "mean   3047.023441   17.384033\n",
       "std     346.570021    1.759845\n",
       "min    1630.788427   11.163431\n",
       "25%    2820.516763   16.209124\n",
       "50%    3057.940909   17.402644\n",
       "75%    3276.990199   18.568622\n",
       "max    4287.519387   23.069943"
      ]
     },
     "execution_count": 26,
     "metadata": {},
     "output_type": "execute_result"
    }
   ],
   "source": [
    "stat_free.describe()"
   ]
  },
  {
   "cell_type": "markdown",
   "id": "3ef1b7e8",
   "metadata": {},
   "source": [
    "Посмотрим на суммарную продолжительность поездок и расстояние пользователей без подписки:"
   ]
  },
  {
   "cell_type": "code",
   "execution_count": 27,
   "id": "e1b5d7ab",
   "metadata": {},
   "outputs": [
    {
     "data": {
      "text/plain": [
       "array([[<AxesSubplot:title={'center':'distance'}>,\n",
       "        <AxesSubplot:title={'center':'duration'}>]], dtype=object)"
      ]
     },
     "execution_count": 27,
     "metadata": {},
     "output_type": "execute_result"
    },
    {
     "data": {
      "image/png": "[encoded data removed]",
      "text/plain": [
       "<Figure size 1080x360 with 2 Axes>"
      ]
     },
     "metadata": {
      "needs_background": "light"
     },
     "output_type": "display_data"
    }
   ],
   "source": [
    "stat_free_sum = pd.pivot_table(df_free, index=['user_id'], values=['distance', 'duration'], aggfunc = ('sum'))\n",
    "stat_free_sum.hist(bins=12, figsize=(15,5))"
   ]
  },
  {
   "cell_type": "code",
   "execution_count": 28,
   "id": "9fb3fb58",
   "metadata": {},
   "outputs": [
    {
     "data": {
      "text/html": [
       "<div>\n",
       "<style scoped>\n",
       "    .dataframe tbody tr th:only-of-type {\n",
       "        vertical-align: middle;\n",
       "    }\n",
       "\n",
       "    .dataframe tbody tr th {\n",
       "        vertical-align: top;\n",
       "    }\n",
       "\n",
       "    .dataframe thead th {\n",
       "        text-align: right;\n",
       "    }\n",
       "</style>\n",
       "<table border=\"1\" class=\"dataframe\">\n",
       "  <thead>\n",
       "    <tr style=\"text-align: right;\">\n",
       "      <th></th>\n",
       "      <th>distance</th>\n",
       "      <th>duration</th>\n",
       "    </tr>\n",
       "  </thead>\n",
       "  <tbody>\n",
       "    <tr>\n",
       "      <th>count</th>\n",
       "      <td>835.000000</td>\n",
       "      <td>835.000000</td>\n",
       "    </tr>\n",
       "    <tr>\n",
       "      <th>mean</th>\n",
       "      <td>42191.963375</td>\n",
       "      <td>240.931783</td>\n",
       "    </tr>\n",
       "    <tr>\n",
       "      <th>std</th>\n",
       "      <td>12106.720431</td>\n",
       "      <td>68.753039</td>\n",
       "    </tr>\n",
       "    <tr>\n",
       "      <th>min</th>\n",
       "      <td>8838.803579</td>\n",
       "      <td>56.074907</td>\n",
       "    </tr>\n",
       "    <tr>\n",
       "      <th>25%</th>\n",
       "      <td>34183.421552</td>\n",
       "      <td>194.291257</td>\n",
       "    </tr>\n",
       "    <tr>\n",
       "      <th>50%</th>\n",
       "      <td>41620.449333</td>\n",
       "      <td>235.716318</td>\n",
       "    </tr>\n",
       "    <tr>\n",
       "      <th>75%</th>\n",
       "      <td>50120.358053</td>\n",
       "      <td>286.321154</td>\n",
       "    </tr>\n",
       "    <tr>\n",
       "      <th>max</th>\n",
       "      <td>79325.846482</td>\n",
       "      <td>446.233013</td>\n",
       "    </tr>\n",
       "  </tbody>\n",
       "</table>\n",
       "</div>"
      ],
      "text/plain": [
       "           distance    duration\n",
       "count    835.000000  835.000000\n",
       "mean   42191.963375  240.931783\n",
       "std    12106.720431   68.753039\n",
       "min     8838.803579   56.074907\n",
       "25%    34183.421552  194.291257\n",
       "50%    41620.449333  235.716318\n",
       "75%    50120.358053  286.321154\n",
       "max    79325.846482  446.233013"
      ]
     },
     "execution_count": 28,
     "metadata": {},
     "output_type": "execute_result"
    }
   ],
   "source": [
    "stat_free_sum.describe()"
   ]
  },
  {
   "cell_type": "markdown",
   "id": "3a5106ac",
   "metadata": {},
   "source": [
    "Создадим датафрейм df_ultra, где будут только пользователи с подпиской"
   ]
  },
  {
   "cell_type": "code",
   "execution_count": 29,
   "id": "e0cf4bcf",
   "metadata": {},
   "outputs": [
    {
     "data": {
      "text/html": [
       "<div>\n",
       "<style scoped>\n",
       "    .dataframe tbody tr th:only-of-type {\n",
       "        vertical-align: middle;\n",
       "    }\n",
       "\n",
       "    .dataframe tbody tr th {\n",
       "        vertical-align: top;\n",
       "    }\n",
       "\n",
       "    .dataframe thead th {\n",
       "        text-align: right;\n",
       "    }\n",
       "</style>\n",
       "<table border=\"1\" class=\"dataframe\">\n",
       "  <thead>\n",
       "    <tr style=\"text-align: right;\">\n",
       "      <th></th>\n",
       "      <th>user_id</th>\n",
       "      <th>name</th>\n",
       "      <th>age</th>\n",
       "      <th>city</th>\n",
       "      <th>subscription_type</th>\n",
       "      <th>distance</th>\n",
       "      <th>duration</th>\n",
       "      <th>date</th>\n",
       "      <th>month</th>\n",
       "    </tr>\n",
       "  </thead>\n",
       "  <tbody>\n",
       "    <tr>\n",
       "      <th>0</th>\n",
       "      <td>1</td>\n",
       "      <td>Кира</td>\n",
       "      <td>22</td>\n",
       "      <td>Тюмень</td>\n",
       "      <td>ultra</td>\n",
       "      <td>4409.919140</td>\n",
       "      <td>25.599769</td>\n",
       "      <td>2021-01-01</td>\n",
       "      <td>1</td>\n",
       "    </tr>\n",
       "    <tr>\n",
       "      <th>1</th>\n",
       "      <td>1</td>\n",
       "      <td>Кира</td>\n",
       "      <td>22</td>\n",
       "      <td>Тюмень</td>\n",
       "      <td>ultra</td>\n",
       "      <td>2617.592153</td>\n",
       "      <td>15.816871</td>\n",
       "      <td>2021-01-18</td>\n",
       "      <td>1</td>\n",
       "    </tr>\n",
       "    <tr>\n",
       "      <th>2</th>\n",
       "      <td>1</td>\n",
       "      <td>Кира</td>\n",
       "      <td>22</td>\n",
       "      <td>Тюмень</td>\n",
       "      <td>ultra</td>\n",
       "      <td>754.159807</td>\n",
       "      <td>6.232113</td>\n",
       "      <td>2021-04-20</td>\n",
       "      <td>4</td>\n",
       "    </tr>\n",
       "    <tr>\n",
       "      <th>3</th>\n",
       "      <td>1</td>\n",
       "      <td>Кира</td>\n",
       "      <td>22</td>\n",
       "      <td>Тюмень</td>\n",
       "      <td>ultra</td>\n",
       "      <td>2694.783254</td>\n",
       "      <td>18.511000</td>\n",
       "      <td>2021-08-11</td>\n",
       "      <td>8</td>\n",
       "    </tr>\n",
       "    <tr>\n",
       "      <th>4</th>\n",
       "      <td>1</td>\n",
       "      <td>Кира</td>\n",
       "      <td>22</td>\n",
       "      <td>Тюмень</td>\n",
       "      <td>ultra</td>\n",
       "      <td>4028.687306</td>\n",
       "      <td>26.265803</td>\n",
       "      <td>2021-08-28</td>\n",
       "      <td>8</td>\n",
       "    </tr>\n",
       "  </tbody>\n",
       "</table>\n",
       "</div>"
      ],
      "text/plain": [
       "   user_id  name  age    city subscription_type     distance   duration  \\\n",
       "0        1  Кира   22  Тюмень             ultra  4409.919140  25.599769   \n",
       "1        1  Кира   22  Тюмень             ultra  2617.592153  15.816871   \n",
       "2        1  Кира   22  Тюмень             ultra   754.159807   6.232113   \n",
       "3        1  Кира   22  Тюмень             ultra  2694.783254  18.511000   \n",
       "4        1  Кира   22  Тюмень             ultra  4028.687306  26.265803   \n",
       "\n",
       "        date  month  \n",
       "0 2021-01-01      1  \n",
       "1 2021-01-18      1  \n",
       "2 2021-04-20      4  \n",
       "3 2021-08-11      8  \n",
       "4 2021-08-28      8  "
      ]
     },
     "execution_count": 29,
     "metadata": {},
     "output_type": "execute_result"
    }
   ],
   "source": [
    "df_ultra = df[df['subscription_type'] == 'ultra'].reset_index(drop= True)\n",
    "df_ultra.head()"
   ]
  },
  {
   "cell_type": "markdown",
   "id": "c6b7f08f",
   "metadata": {},
   "source": [
    "Посмотрим на среднюю продолжительность поездки и расстояние пользователей с подпиской:"
   ]
  },
  {
   "cell_type": "code",
   "execution_count": 30,
   "id": "b14f971f",
   "metadata": {},
   "outputs": [
    {
     "data": {
      "text/plain": [
       "array([[<AxesSubplot:title={'center':'distance'}>,\n",
       "        <AxesSubplot:title={'center':'duration'}>]], dtype=object)"
      ]
     },
     "execution_count": 30,
     "metadata": {},
     "output_type": "execute_result"
    },
    {
     "data": {
      "image/png": "[encoded data removed]",
      "text/plain": [
       "<Figure size 1080x360 with 2 Axes>"
      ]
     },
     "metadata": {
      "needs_background": "light"
     },
     "output_type": "display_data"
    }
   ],
   "source": [
    "stat_ultra = pd.pivot_table(df_ultra, index=['user_id'], values=['distance', 'duration'])\n",
    "stat_ultra.hist(bins=12, figsize=(15,5))"
   ]
  },
  {
   "cell_type": "code",
   "execution_count": 31,
   "id": "4c93a4ee",
   "metadata": {},
   "outputs": [
    {
     "data": {
      "text/html": [
       "<div>\n",
       "<style scoped>\n",
       "    .dataframe tbody tr th:only-of-type {\n",
       "        vertical-align: middle;\n",
       "    }\n",
       "\n",
       "    .dataframe tbody tr th {\n",
       "        vertical-align: top;\n",
       "    }\n",
       "\n",
       "    .dataframe thead th {\n",
       "        text-align: right;\n",
       "    }\n",
       "</style>\n",
       "<table border=\"1\" class=\"dataframe\">\n",
       "  <thead>\n",
       "    <tr style=\"text-align: right;\">\n",
       "      <th></th>\n",
       "      <th>distance</th>\n",
       "      <th>duration</th>\n",
       "    </tr>\n",
       "  </thead>\n",
       "  <tbody>\n",
       "    <tr>\n",
       "      <th>count</th>\n",
       "      <td>699.000000</td>\n",
       "      <td>699.000000</td>\n",
       "    </tr>\n",
       "    <tr>\n",
       "      <th>mean</th>\n",
       "      <td>3113.459926</td>\n",
       "      <td>18.574380</td>\n",
       "    </tr>\n",
       "    <tr>\n",
       "      <th>std</th>\n",
       "      <td>299.706136</td>\n",
       "      <td>2.015094</td>\n",
       "    </tr>\n",
       "    <tr>\n",
       "      <th>min</th>\n",
       "      <td>2098.297845</td>\n",
       "      <td>11.385922</td>\n",
       "    </tr>\n",
       "    <tr>\n",
       "      <th>25%</th>\n",
       "      <td>2925.005435</td>\n",
       "      <td>17.278630</td>\n",
       "    </tr>\n",
       "    <tr>\n",
       "      <th>50%</th>\n",
       "      <td>3134.349186</td>\n",
       "      <td>18.585189</td>\n",
       "    </tr>\n",
       "    <tr>\n",
       "      <th>75%</th>\n",
       "      <td>3312.191643</td>\n",
       "      <td>19.789236</td>\n",
       "    </tr>\n",
       "    <tr>\n",
       "      <th>max</th>\n",
       "      <td>3939.773328</td>\n",
       "      <td>26.136000</td>\n",
       "    </tr>\n",
       "  </tbody>\n",
       "</table>\n",
       "</div>"
      ],
      "text/plain": [
       "          distance    duration\n",
       "count   699.000000  699.000000\n",
       "mean   3113.459926   18.574380\n",
       "std     299.706136    2.015094\n",
       "min    2098.297845   11.385922\n",
       "25%    2925.005435   17.278630\n",
       "50%    3134.349186   18.585189\n",
       "75%    3312.191643   19.789236\n",
       "max    3939.773328   26.136000"
      ]
     },
     "execution_count": 31,
     "metadata": {},
     "output_type": "execute_result"
    }
   ],
   "source": [
    "stat_ultra.describe()"
   ]
  },
  {
   "cell_type": "markdown",
   "id": "509bbe83",
   "metadata": {},
   "source": [
    "Посмотрим на суммарную продолжительность поездок и расстояние пользователей с подпиской:"
   ]
  },
  {
   "cell_type": "code",
   "execution_count": 32,
   "id": "3450b301",
   "metadata": {},
   "outputs": [
    {
     "data": {
      "text/plain": [
       "array([[<AxesSubplot:title={'center':'distance'}>,\n",
       "        <AxesSubplot:title={'center':'duration'}>]], dtype=object)"
      ]
     },
     "execution_count": 32,
     "metadata": {},
     "output_type": "execute_result"
    },
    {
     "data": {
      "image/png": "[encoded data removed]",
      "text/plain": [
       "<Figure size 1080x360 with 2 Axes>"
      ]
     },
     "metadata": {
      "needs_background": "light"
     },
     "output_type": "display_data"
    }
   ],
   "source": [
    "stat_ultra_sum = pd.pivot_table(df_ultra, index=['user_id'], values=['distance', 'duration'], aggfunc = ('sum'))\n",
    "stat_ultra_sum.hist(bins=12, figsize=(15,5))"
   ]
  },
  {
   "cell_type": "code",
   "execution_count": 33,
   "id": "cf5ebdaf",
   "metadata": {},
   "outputs": [
    {
     "data": {
      "text/html": [
       "<div>\n",
       "<style scoped>\n",
       "    .dataframe tbody tr th:only-of-type {\n",
       "        vertical-align: middle;\n",
       "    }\n",
       "\n",
       "    .dataframe tbody tr th {\n",
       "        vertical-align: top;\n",
       "    }\n",
       "\n",
       "    .dataframe thead th {\n",
       "        text-align: right;\n",
       "    }\n",
       "</style>\n",
       "<table border=\"1\" class=\"dataframe\">\n",
       "  <thead>\n",
       "    <tr style=\"text-align: right;\">\n",
       "      <th></th>\n",
       "      <th>distance</th>\n",
       "      <th>duration</th>\n",
       "    </tr>\n",
       "  </thead>\n",
       "  <tbody>\n",
       "    <tr>\n",
       "      <th>count</th>\n",
       "      <td>699.000000</td>\n",
       "      <td>699.000000</td>\n",
       "    </tr>\n",
       "    <tr>\n",
       "      <th>mean</th>\n",
       "      <td>28970.522206</td>\n",
       "      <td>172.421894</td>\n",
       "    </tr>\n",
       "    <tr>\n",
       "      <th>std</th>\n",
       "      <td>10370.610254</td>\n",
       "      <td>61.061422</td>\n",
       "    </tr>\n",
       "    <tr>\n",
       "      <th>min</th>\n",
       "      <td>5530.344048</td>\n",
       "      <td>34.157765</td>\n",
       "    </tr>\n",
       "    <tr>\n",
       "      <th>25%</th>\n",
       "      <td>21411.243798</td>\n",
       "      <td>126.094588</td>\n",
       "    </tr>\n",
       "    <tr>\n",
       "      <th>50%</th>\n",
       "      <td>28630.341916</td>\n",
       "      <td>169.739505</td>\n",
       "    </tr>\n",
       "    <tr>\n",
       "      <th>75%</th>\n",
       "      <td>35708.654860</td>\n",
       "      <td>209.445901</td>\n",
       "    </tr>\n",
       "    <tr>\n",
       "      <th>max</th>\n",
       "      <td>65393.983354</td>\n",
       "      <td>411.822515</td>\n",
       "    </tr>\n",
       "  </tbody>\n",
       "</table>\n",
       "</div>"
      ],
      "text/plain": [
       "           distance    duration\n",
       "count    699.000000  699.000000\n",
       "mean   28970.522206  172.421894\n",
       "std    10370.610254   61.061422\n",
       "min     5530.344048   34.157765\n",
       "25%    21411.243798  126.094588\n",
       "50%    28630.341916  169.739505\n",
       "75%    35708.654860  209.445901\n",
       "max    65393.983354  411.822515"
      ]
     },
     "execution_count": 33,
     "metadata": {},
     "output_type": "execute_result"
    }
   ],
   "source": [
    "stat_ultra_sum.describe()"
   ]
  },
  {
   "cell_type": "markdown",
   "id": "d4daa2ee",
   "metadata": {},
   "source": [
    "**Вывод** <br>\n",
    "Если рассматривать по отдельности каждую поездку, то мы можем увидеть, что пользователи БЕЗ подписки в среднем проезжали расстояние 3050 м. Тогда как пользователи С подпиской 3113 м. \n",
    "По времени: 17.4 минуты и 18.6 соответственно.\n",
    "\n",
    "Пользователи с подпиской в среднем проезжали чуть большее расстояние на 63 метра и совершали поездки длиннее на 1,2 минуты. \n",
    "Если рассмотреть общее расстояние и время поездок, которые совершил каждый пользователь сервиса, то увидим, что средний пользователь БЕЗ подписки проехал расстояние в 42,2 км, тогда как С подпиской только 29 км. В среднем пользователь БЕЗ подписки проехал суммарно 241 минуту, а пользователь С подпиской 172 минуты. \n",
    "В среднем суммарно пользователи без подписки проезжают большее расстояние и тратят на поездки больше времени, чем пользователи с подпиской. Это мы ещё раз проверим далее статистическими тестами.\n"
   ]
  },
  {
   "cell_type": "markdown",
   "id": "402d620f",
   "metadata": {},
   "source": [
    "## Подсчёт выручки"
   ]
  },
  {
   "cell_type": "markdown",
   "id": "aba49175",
   "metadata": {},
   "source": [
    "Округлим продолжительность поездок в датафрейме df в большую сторону до ближайшего целого числа"
   ]
  },
  {
   "cell_type": "code",
   "execution_count": 34,
   "id": "53049e0a",
   "metadata": {},
   "outputs": [
    {
     "data": {
      "text/html": [
       "<div>\n",
       "<style scoped>\n",
       "    .dataframe tbody tr th:only-of-type {\n",
       "        vertical-align: middle;\n",
       "    }\n",
       "\n",
       "    .dataframe tbody tr th {\n",
       "        vertical-align: top;\n",
       "    }\n",
       "\n",
       "    .dataframe thead th {\n",
       "        text-align: right;\n",
       "    }\n",
       "</style>\n",
       "<table border=\"1\" class=\"dataframe\">\n",
       "  <thead>\n",
       "    <tr style=\"text-align: right;\">\n",
       "      <th></th>\n",
       "      <th>user_id</th>\n",
       "      <th>name</th>\n",
       "      <th>age</th>\n",
       "      <th>city</th>\n",
       "      <th>subscription_type</th>\n",
       "      <th>distance</th>\n",
       "      <th>duration</th>\n",
       "      <th>date</th>\n",
       "      <th>month</th>\n",
       "    </tr>\n",
       "  </thead>\n",
       "  <tbody>\n",
       "    <tr>\n",
       "      <th>0</th>\n",
       "      <td>1</td>\n",
       "      <td>Кира</td>\n",
       "      <td>22</td>\n",
       "      <td>Тюмень</td>\n",
       "      <td>ultra</td>\n",
       "      <td>4409.919140</td>\n",
       "      <td>26.0</td>\n",
       "      <td>2021-01-01</td>\n",
       "      <td>1</td>\n",
       "    </tr>\n",
       "    <tr>\n",
       "      <th>1</th>\n",
       "      <td>1</td>\n",
       "      <td>Кира</td>\n",
       "      <td>22</td>\n",
       "      <td>Тюмень</td>\n",
       "      <td>ultra</td>\n",
       "      <td>2617.592153</td>\n",
       "      <td>16.0</td>\n",
       "      <td>2021-01-18</td>\n",
       "      <td>1</td>\n",
       "    </tr>\n",
       "    <tr>\n",
       "      <th>2</th>\n",
       "      <td>1</td>\n",
       "      <td>Кира</td>\n",
       "      <td>22</td>\n",
       "      <td>Тюмень</td>\n",
       "      <td>ultra</td>\n",
       "      <td>754.159807</td>\n",
       "      <td>7.0</td>\n",
       "      <td>2021-04-20</td>\n",
       "      <td>4</td>\n",
       "    </tr>\n",
       "    <tr>\n",
       "      <th>3</th>\n",
       "      <td>1</td>\n",
       "      <td>Кира</td>\n",
       "      <td>22</td>\n",
       "      <td>Тюмень</td>\n",
       "      <td>ultra</td>\n",
       "      <td>2694.783254</td>\n",
       "      <td>19.0</td>\n",
       "      <td>2021-08-11</td>\n",
       "      <td>8</td>\n",
       "    </tr>\n",
       "    <tr>\n",
       "      <th>4</th>\n",
       "      <td>1</td>\n",
       "      <td>Кира</td>\n",
       "      <td>22</td>\n",
       "      <td>Тюмень</td>\n",
       "      <td>ultra</td>\n",
       "      <td>4028.687306</td>\n",
       "      <td>27.0</td>\n",
       "      <td>2021-08-28</td>\n",
       "      <td>8</td>\n",
       "    </tr>\n",
       "  </tbody>\n",
       "</table>\n",
       "</div>"
      ],
      "text/plain": [
       "   user_id  name  age    city subscription_type     distance  duration  \\\n",
       "0        1  Кира   22  Тюмень             ultra  4409.919140      26.0   \n",
       "1        1  Кира   22  Тюмень             ultra  2617.592153      16.0   \n",
       "2        1  Кира   22  Тюмень             ultra   754.159807       7.0   \n",
       "3        1  Кира   22  Тюмень             ultra  2694.783254      19.0   \n",
       "4        1  Кира   22  Тюмень             ultra  4028.687306      27.0   \n",
       "\n",
       "        date  month  \n",
       "0 2021-01-01      1  \n",
       "1 2021-01-18      1  \n",
       "2 2021-04-20      4  \n",
       "3 2021-08-11      8  \n",
       "4 2021-08-28      8  "
      ]
     },
     "execution_count": 34,
     "metadata": {},
     "output_type": "execute_result"
    }
   ],
   "source": [
    "df['duration'] = np.ceil(df['duration'])\n",
    "df.head()"
   ]
  },
  {
   "cell_type": "markdown",
   "id": "b4b4f10d",
   "metadata": {},
   "source": [
    "Создадим сводную таблицу по каждому клиенту с суммарной продолжительностью поездки и расстоянием за каждый месяц."
   ]
  },
  {
   "cell_type": "code",
   "execution_count": 35,
   "id": "8d022793",
   "metadata": {},
   "outputs": [
    {
     "data": {
      "text/html": [
       "<div>\n",
       "<style scoped>\n",
       "    .dataframe tbody tr th:only-of-type {\n",
       "        vertical-align: middle;\n",
       "    }\n",
       "\n",
       "    .dataframe tbody tr th {\n",
       "        vertical-align: top;\n",
       "    }\n",
       "\n",
       "    .dataframe thead th {\n",
       "        text-align: right;\n",
       "    }\n",
       "</style>\n",
       "<table border=\"1\" class=\"dataframe\">\n",
       "  <thead>\n",
       "    <tr style=\"text-align: right;\">\n",
       "      <th></th>\n",
       "      <th>user_id_</th>\n",
       "      <th>month_</th>\n",
       "      <th>subscription_type_</th>\n",
       "      <th>distance_sum</th>\n",
       "      <th>duration_count</th>\n",
       "      <th>duration_sum</th>\n",
       "    </tr>\n",
       "  </thead>\n",
       "  <tbody>\n",
       "    <tr>\n",
       "      <th>0</th>\n",
       "      <td>1</td>\n",
       "      <td>1</td>\n",
       "      <td>ultra</td>\n",
       "      <td>7027.511294</td>\n",
       "      <td>2</td>\n",
       "      <td>42.0</td>\n",
       "    </tr>\n",
       "    <tr>\n",
       "      <th>1</th>\n",
       "      <td>1</td>\n",
       "      <td>4</td>\n",
       "      <td>ultra</td>\n",
       "      <td>754.159807</td>\n",
       "      <td>1</td>\n",
       "      <td>7.0</td>\n",
       "    </tr>\n",
       "    <tr>\n",
       "      <th>2</th>\n",
       "      <td>1</td>\n",
       "      <td>8</td>\n",
       "      <td>ultra</td>\n",
       "      <td>6723.470560</td>\n",
       "      <td>2</td>\n",
       "      <td>46.0</td>\n",
       "    </tr>\n",
       "    <tr>\n",
       "      <th>3</th>\n",
       "      <td>1</td>\n",
       "      <td>10</td>\n",
       "      <td>ultra</td>\n",
       "      <td>5809.911100</td>\n",
       "      <td>2</td>\n",
       "      <td>32.0</td>\n",
       "    </tr>\n",
       "    <tr>\n",
       "      <th>4</th>\n",
       "      <td>1</td>\n",
       "      <td>11</td>\n",
       "      <td>ultra</td>\n",
       "      <td>7003.499363</td>\n",
       "      <td>3</td>\n",
       "      <td>56.0</td>\n",
       "    </tr>\n",
       "  </tbody>\n",
       "</table>\n",
       "</div>"
      ],
      "text/plain": [
       "   user_id_  month_ subscription_type_  distance_sum  duration_count  \\\n",
       "0         1       1              ultra   7027.511294               2   \n",
       "1         1       4              ultra    754.159807               1   \n",
       "2         1       8              ultra   6723.470560               2   \n",
       "3         1      10              ultra   5809.911100               2   \n",
       "4         1      11              ultra   7003.499363               3   \n",
       "\n",
       "   duration_sum  \n",
       "0          42.0  \n",
       "1           7.0  \n",
       "2          46.0  \n",
       "3          32.0  \n",
       "4          56.0  "
      ]
     },
     "execution_count": 35,
     "metadata": {},
     "output_type": "execute_result"
    }
   ],
   "source": [
    "stat_new = pd.pivot_table(df, index=['user_id', 'month', 'subscription_type'], values = ['distance', 'duration'], aggfunc = {'distance': ['sum'],\n",
    "        'duration' : ['sum', 'count']}).reset_index()\n",
    "stat_new.columns = ['_'.join(col) for col in stat_new.columns] # избавимся от мультииндекса\n",
    "stat_new.head()"
   ]
  },
  {
   "cell_type": "code",
   "execution_count": 36,
   "id": "47d98378",
   "metadata": {},
   "outputs": [],
   "source": [
    "# функция для расчёта выручки за поездки\n",
    "def income(row):\n",
    "    if row['subscription_type_'] == 'ultra':\n",
    "        total_income = (row['duration_count']*subscriptions.loc[1,'start_ride_price'] +\n",
    "                        row['duration_sum']*subscriptions.loc[1,'minute_price'] +\n",
    "                        subscriptions.loc[1,'subscription_fee'])\n",
    "    if row['subscription_type_'] == 'free':\n",
    "         total_income = (row['duration_count']*subscriptions.loc[0,'start_ride_price'] +\n",
    "                        row['duration_sum']*subscriptions.loc[0,'minute_price'] +\n",
    "                        subscriptions.loc[0,'subscription_fee'])               \n",
    "                        \n",
    "    return total_income"
   ]
  },
  {
   "cell_type": "markdown",
   "id": "49154e03",
   "metadata": {},
   "source": [
    "Применим к датафрейму функцию, которая на входе возьмёт строку и в зависимости от типа подписки рассчитает выручку "
   ]
  },
  {
   "cell_type": "code",
   "execution_count": 37,
   "id": "b82dec41",
   "metadata": {},
   "outputs": [
    {
     "data": {
      "text/html": [
       "<div>\n",
       "<style scoped>\n",
       "    .dataframe tbody tr th:only-of-type {\n",
       "        vertical-align: middle;\n",
       "    }\n",
       "\n",
       "    .dataframe tbody tr th {\n",
       "        vertical-align: top;\n",
       "    }\n",
       "\n",
       "    .dataframe thead th {\n",
       "        text-align: right;\n",
       "    }\n",
       "</style>\n",
       "<table border=\"1\" class=\"dataframe\">\n",
       "  <thead>\n",
       "    <tr style=\"text-align: right;\">\n",
       "      <th></th>\n",
       "      <th>user_id_</th>\n",
       "      <th>month_</th>\n",
       "      <th>subscription_type_</th>\n",
       "      <th>distance_sum</th>\n",
       "      <th>duration_count</th>\n",
       "      <th>duration_sum</th>\n",
       "      <th>income</th>\n",
       "    </tr>\n",
       "  </thead>\n",
       "  <tbody>\n",
       "    <tr>\n",
       "      <th>0</th>\n",
       "      <td>1</td>\n",
       "      <td>1</td>\n",
       "      <td>ultra</td>\n",
       "      <td>7027.511294</td>\n",
       "      <td>2</td>\n",
       "      <td>42.0</td>\n",
       "      <td>451.0</td>\n",
       "    </tr>\n",
       "    <tr>\n",
       "      <th>1</th>\n",
       "      <td>1</td>\n",
       "      <td>4</td>\n",
       "      <td>ultra</td>\n",
       "      <td>754.159807</td>\n",
       "      <td>1</td>\n",
       "      <td>7.0</td>\n",
       "      <td>241.0</td>\n",
       "    </tr>\n",
       "    <tr>\n",
       "      <th>2</th>\n",
       "      <td>1</td>\n",
       "      <td>8</td>\n",
       "      <td>ultra</td>\n",
       "      <td>6723.470560</td>\n",
       "      <td>2</td>\n",
       "      <td>46.0</td>\n",
       "      <td>475.0</td>\n",
       "    </tr>\n",
       "    <tr>\n",
       "      <th>3</th>\n",
       "      <td>1</td>\n",
       "      <td>10</td>\n",
       "      <td>ultra</td>\n",
       "      <td>5809.911100</td>\n",
       "      <td>2</td>\n",
       "      <td>32.0</td>\n",
       "      <td>391.0</td>\n",
       "    </tr>\n",
       "    <tr>\n",
       "      <th>4</th>\n",
       "      <td>1</td>\n",
       "      <td>11</td>\n",
       "      <td>ultra</td>\n",
       "      <td>7003.499363</td>\n",
       "      <td>3</td>\n",
       "      <td>56.0</td>\n",
       "      <td>535.0</td>\n",
       "    </tr>\n",
       "  </tbody>\n",
       "</table>\n",
       "</div>"
      ],
      "text/plain": [
       "   user_id_  month_ subscription_type_  distance_sum  duration_count  \\\n",
       "0         1       1              ultra   7027.511294               2   \n",
       "1         1       4              ultra    754.159807               1   \n",
       "2         1       8              ultra   6723.470560               2   \n",
       "3         1      10              ultra   5809.911100               2   \n",
       "4         1      11              ultra   7003.499363               3   \n",
       "\n",
       "   duration_sum  income  \n",
       "0          42.0   451.0  \n",
       "1           7.0   241.0  \n",
       "2          46.0   475.0  \n",
       "3          32.0   391.0  \n",
       "4          56.0   535.0  "
      ]
     },
     "execution_count": 37,
     "metadata": {},
     "output_type": "execute_result"
    }
   ],
   "source": [
    "stat_new['income'] = stat_new.apply(income, axis=1)\n",
    "stat_new.head()"
   ]
  },
  {
   "cell_type": "markdown",
   "id": "41545ac0",
   "metadata": {},
   "source": [
    "## Проверка гипотез"
   ]
  },
  {
   "cell_type": "markdown",
   "id": "6b391587",
   "metadata": {},
   "source": [
    "### Проверим гипотезу, что пользователи с подпиской тратят больше времени на поездки."
   ]
  },
  {
   "cell_type": "markdown",
   "id": "5ba70cdc",
   "metadata": {},
   "source": [
    "Нулевая гипотеза состоит в том, что пользователи с подпиской тратят столько же времени, сколько и пользователи без подписки.\n",
    "Альтернативная гипотеза: пользователи с подпиской тратят больше времени, чем пользователи без подписки"
   ]
  },
  {
   "cell_type": "code",
   "execution_count": 38,
   "id": "ac02eeca",
   "metadata": {},
   "outputs": [
    {
     "name": "stdout",
     "output_type": "stream",
     "text": [
      "p-значение: 6.557938251588043e-33\n",
      "Отвергаем нулевую гипотезу\n"
     ]
    }
   ],
   "source": [
    "# Проведём статистический тест для проверки гипотезы. \n",
    "\n",
    "alpha = 0.05\n",
    "\n",
    "results = st.ttest_ind(stat_ultra['duration'], stat_free['duration'], alternative = 'greater', equal_var=False) \n",
    "\n",
    "print('p-значение:', results.pvalue)\n",
    "\n",
    "if results.pvalue < alpha:\n",
    "    print('Отвергаем нулевую гипотезу')\n",
    "else:\n",
    "    print('Не получилось отвергнуть нулевую гипотезу')"
   ]
  },
  {
   "cell_type": "markdown",
   "id": "fc761c94",
   "metadata": {},
   "source": [
    "Среднее время, которое тратят пользователи с подпиской больше, чем пользователи без подписки"
   ]
  },
  {
   "cell_type": "markdown",
   "id": "95a3c2cc",
   "metadata": {},
   "source": [
    "### Проверим гипотезу, что среднее расстояние, которое проезжают пользователи с подпиской за одну поездку, не превышает 3130 метров."
   ]
  },
  {
   "cell_type": "markdown",
   "id": "c7df2523",
   "metadata": {},
   "source": [
    "Нулевая гипотеза будет состоять в том, что среднее расстояние за одну поездку меньше или равно 3130 метров\n",
    "Альтернативная гипотеза: среднее расстояние больше 3130 метров. "
   ]
  },
  {
   "cell_type": "code",
   "execution_count": 39,
   "id": "9f153be4",
   "metadata": {},
   "outputs": [
    {
     "name": "stdout",
     "output_type": "stream",
     "text": [
      "p-значение: 0.9275041260050892\n",
      "Не получилось отвергнуть нулевую гипотезу, среднее расстояние не превышает 3130 метров\n"
     ]
    }
   ],
   "source": [
    "interested_value = 3130\n",
    "\n",
    "alpha = 0.05\n",
    "\n",
    "results = st.ttest_1samp(\n",
    "    stat_ultra['distance'], \n",
    "    interested_value,\n",
    "      alternative='greater')\n",
    "\n",
    "print('p-значение:', results.pvalue)\n",
    "\n",
    "if results.pvalue < alpha :\n",
    "    print('Отвергаем нулевую гипотезу, среднее расстояние больше, чем 3130 метров')\n",
    "else:\n",
    "    print('Не получилось отвергнуть нулевую гипотезу, среднее расстояние не превышает 3130 метров')"
   ]
  },
  {
   "cell_type": "markdown",
   "id": "40f4ea83",
   "metadata": {},
   "source": [
    "С точки зрения износа самокатов у нас всё прекрасно и среднее расстояние поездки не превышает 3130 м."
   ]
  },
  {
   "cell_type": "markdown",
   "id": "524f6d33",
   "metadata": {},
   "source": [
    "### Проверим гипотезу о том, будет ли помесячная выручка от пользователей с подпиской по месяцам выше, чем выручка от пользователей без подписки."
   ]
  },
  {
   "cell_type": "markdown",
   "id": "fe97d536",
   "metadata": {},
   "source": [
    "Нулевая гипотеза: помесячная выручка от пользователей с подпиской равна помесячной выручке пользователей без подписки.\n",
    "Альтернативная гипотеза: помесячная выручка от пользователей с подпиской по месяцам выше, чем выручка от пользователей без подписки"
   ]
  },
  {
   "cell_type": "code",
   "execution_count": 40,
   "id": "e93be843",
   "metadata": {},
   "outputs": [
    {
     "name": "stdout",
     "output_type": "stream",
     "text": [
      "p-значение: 8.874140893976874e-40\n",
      "Отвергаем нулевую гипотезу\n"
     ]
    }
   ],
   "source": [
    "# Проведём статистический тест для проверки гипотезы. \n",
    "\n",
    "alpha = 0.05\n",
    "\n",
    "results = st.ttest_ind(\n",
    "    stat_new[stat_new['subscription_type_']=='ultra']['income'], \n",
    "    stat_new[stat_new['subscription_type_']=='free']['income'], \n",
    "    alternative = 'greater', \n",
    "    equal_var=False) \n",
    "\n",
    "print('p-значение:', results.pvalue)\n",
    "\n",
    "if results.pvalue < alpha:\n",
    "    print('Отвергаем нулевую гипотезу')\n",
    "else:\n",
    "    print('Не получилось отвергнуть нулевую гипотезу')"
   ]
  },
  {
   "cell_type": "markdown",
   "id": "2ce9c42a",
   "metadata": {},
   "source": [
    "Тест показал, что подтвердилась альтернативная гипотеза, что выручка от пользователей с подпиской выше, чем от пользователей без подписки."
   ]
  },
  {
   "cell_type": "markdown",
   "id": "a8f99dd2",
   "metadata": {},
   "source": [
    "## Вывод\n",
    "\n",
    "*В данном исследовании были изучены данные о пользователях сервиса аренды самокатов GoFast*\n",
    "\n",
    "**1)** Выполнена предобработка данных, пропуски отсутствовали, найдены и обработанны дубли в датафреймах. \n",
    "Количество дубликатов - 31. \n",
    "\n",
    "**2)** Проведён исследовательский анализ данных. <br>\n",
    "Данные показывают, что в датафрейме представленны пользователи из 8 городов, максимальное количество, 219 из Пятигорска, минимальное, 168, из Москвы.<br>\n",
    "Пользователи соотносятся в процентном соотношении 54/46% с бесплатной и платной подписками соответственно. Количество пользователей на бесплатной подписке больше на 8%.<br>\n",
    "Типичный пользователь сервиса имеет возраст от 22 до 28 лет. Средний возраст ~ 25 лет. Минимальный 12, максимальный 43 года. \n",
    "Среднее расстояние, которое преодолели пользователи составляет 3070 м. Типичный пользователь преодолевает расстояние от 2500 до 3800 м.<br>\n",
    "Среднее время поездки составляет 17,8 минут. Большинство пользователей совершили поездки продолжительностью от 13,5 до 22 минут.\n",
    "\n",
    "**3)** Были сравнены пользователи с подпиской и без. <br>\n",
    "Если рассматривать по отдельности каждую поездку, то мы можем увидеть, что пользователи БЕЗ подписки в среднем проезжали расстояние 3050 м. Тогда как пользователи С подпиской 3113 м. <br>\n",
    "По времени: 17.4 минуты и 18.6 соответственно. Пользователи с подпиской в среднем проезжали чуть большее расстояние на 63 метра и совершали поездки длиннее на 1,2 минуты.\n",
    "\n",
    "**4)** Проверили гипотезу, что пользователи с подпиской тратят больше времени на поездки. Она подтвердилась. Среднее время, которое тратят пользователи с подпиской больше, чем пользователи без подписки.\n",
    "\n",
    "**5)** Проверили гипотезу, что среднее расстояние, которое проезжают пользователи с подпиской за одну поездку, не превышает 3130 метров. Гипотеза подтвердилась. Среднее расстояние поездки не превышает 3130 м и это оптимально с точки зрения износа самокатов.\n",
    "\n",
    "**6)** Проверили гипотезу о том, будет ли помесячная выручка от пользователей с подпиской по месяцам выше, чем выручка от пользователей без подписки. Гипотеза подтвердилась. Выручка от пользователей с подпиской выше, чем от пользователей без подписки.\n",
    "\n",
    "\n",
    "\n"
   ]
  }
 ],
 "metadata": {
  "ExecuteTimeLog": [
   {
    "duration": 412,
    "start_time": "2024-03-12T07:17:49.276Z"
   },
   {
    "duration": 304,
    "start_time": "2024-03-12T07:17:52.063Z"
   },
   {
    "duration": 15,
    "start_time": "2024-03-12T07:17:53.183Z"
   },
   {
    "duration": 9,
    "start_time": "2024-03-12T07:18:36.561Z"
   },
   {
    "duration": 8,
    "start_time": "2024-03-12T07:18:41.712Z"
   },
   {
    "duration": 8,
    "start_time": "2024-03-12T07:19:02.688Z"
   },
   {
    "duration": 8,
    "start_time": "2024-03-12T07:20:56.692Z"
   },
   {
    "duration": 11,
    "start_time": "2024-03-12T07:21:11.551Z"
   },
   {
    "duration": 8,
    "start_time": "2024-03-12T07:21:34.947Z"
   },
   {
    "duration": 10,
    "start_time": "2024-03-12T07:21:44.733Z"
   },
   {
    "duration": 14,
    "start_time": "2024-03-12T07:22:06.049Z"
   },
   {
    "duration": 10,
    "start_time": "2024-03-12T07:22:31.816Z"
   },
   {
    "duration": 7,
    "start_time": "2024-03-12T07:31:37.878Z"
   },
   {
    "duration": 52,
    "start_time": "2024-03-12T07:31:54.783Z"
   },
   {
    "duration": 11,
    "start_time": "2024-03-12T07:37:02.340Z"
   },
   {
    "duration": 6,
    "start_time": "2024-03-12T07:46:20.833Z"
   },
   {
    "duration": 6,
    "start_time": "2024-03-12T07:46:34.257Z"
   },
   {
    "duration": 9,
    "start_time": "2024-03-12T07:47:16.018Z"
   },
   {
    "duration": 8,
    "start_time": "2024-03-12T07:47:22.825Z"
   },
   {
    "duration": 6,
    "start_time": "2024-03-12T07:47:28.598Z"
   },
   {
    "duration": 74,
    "start_time": "2024-03-12T07:52:45.437Z"
   },
   {
    "duration": 7,
    "start_time": "2024-03-12T07:52:49.853Z"
   },
   {
    "duration": 12,
    "start_time": "2024-03-12T07:52:55.155Z"
   },
   {
    "duration": 387,
    "start_time": "2024-03-12T07:53:52.942Z"
   },
   {
    "duration": 426,
    "start_time": "2024-03-12T07:54:05.805Z"
   },
   {
    "duration": 405,
    "start_time": "2024-03-12T07:54:14.278Z"
   },
   {
    "duration": 1621,
    "start_time": "2024-03-12T07:54:35.580Z"
   },
   {
    "duration": 11,
    "start_time": "2024-03-12T07:54:56.364Z"
   },
   {
    "duration": 6,
    "start_time": "2024-03-12T07:59:41.201Z"
   },
   {
    "duration": 10,
    "start_time": "2024-03-12T08:00:02.709Z"
   },
   {
    "duration": 10,
    "start_time": "2024-03-12T08:00:17.860Z"
   },
   {
    "duration": 128,
    "start_time": "2024-03-12T08:01:11.992Z"
   },
   {
    "duration": 10,
    "start_time": "2024-03-12T08:01:22.247Z"
   },
   {
    "duration": 9,
    "start_time": "2024-03-12T08:01:44.684Z"
   },
   {
    "duration": 10,
    "start_time": "2024-03-12T08:06:14.124Z"
   },
   {
    "duration": 7,
    "start_time": "2024-03-12T08:06:24.995Z"
   },
   {
    "duration": 433,
    "start_time": "2024-03-12T08:06:52.049Z"
   },
   {
    "duration": 70,
    "start_time": "2024-03-12T08:06:52.484Z"
   },
   {
    "duration": 14,
    "start_time": "2024-03-12T08:06:52.556Z"
   },
   {
    "duration": 11,
    "start_time": "2024-03-12T08:06:52.571Z"
   },
   {
    "duration": 13,
    "start_time": "2024-03-12T08:06:52.583Z"
   },
   {
    "duration": 15,
    "start_time": "2024-03-12T08:06:52.598Z"
   },
   {
    "duration": 7,
    "start_time": "2024-03-12T08:06:52.615Z"
   },
   {
    "duration": 17,
    "start_time": "2024-03-12T08:06:52.624Z"
   },
   {
    "duration": 28,
    "start_time": "2024-03-12T08:06:52.643Z"
   },
   {
    "duration": 11,
    "start_time": "2024-03-12T08:06:52.673Z"
   },
   {
    "duration": 10,
    "start_time": "2024-03-12T08:06:59.636Z"
   },
   {
    "duration": 6,
    "start_time": "2024-03-12T08:07:02.049Z"
   },
   {
    "duration": 67,
    "start_time": "2024-03-12T08:08:05.383Z"
   },
   {
    "duration": 7,
    "start_time": "2024-03-12T08:08:52.794Z"
   },
   {
    "duration": 6,
    "start_time": "2024-03-12T08:08:56.310Z"
   },
   {
    "duration": 423,
    "start_time": "2024-03-12T08:09:23.547Z"
   },
   {
    "duration": 67,
    "start_time": "2024-03-12T08:09:23.972Z"
   },
   {
    "duration": 14,
    "start_time": "2024-03-12T08:09:24.041Z"
   },
   {
    "duration": 21,
    "start_time": "2024-03-12T08:09:24.056Z"
   },
   {
    "duration": 16,
    "start_time": "2024-03-12T08:09:24.079Z"
   },
   {
    "duration": 21,
    "start_time": "2024-03-12T08:09:24.096Z"
   },
   {
    "duration": 7,
    "start_time": "2024-03-12T08:09:24.119Z"
   },
   {
    "duration": 14,
    "start_time": "2024-03-12T08:09:24.128Z"
   },
   {
    "duration": 27,
    "start_time": "2024-03-12T08:09:24.143Z"
   },
   {
    "duration": 10,
    "start_time": "2024-03-12T08:09:24.172Z"
   },
   {
    "duration": 10,
    "start_time": "2024-03-12T08:09:28.522Z"
   },
   {
    "duration": 7,
    "start_time": "2024-03-12T08:09:31.816Z"
   },
   {
    "duration": 578,
    "start_time": "2024-03-12T08:21:04.665Z"
   },
   {
    "duration": 149,
    "start_time": "2024-03-12T08:21:20.357Z"
   },
   {
    "duration": 134,
    "start_time": "2024-03-12T08:21:27.631Z"
   },
   {
    "duration": 141,
    "start_time": "2024-03-12T08:22:04.017Z"
   },
   {
    "duration": 188,
    "start_time": "2024-03-12T08:22:13.606Z"
   },
   {
    "duration": 138,
    "start_time": "2024-03-12T08:22:18.988Z"
   },
   {
    "duration": 145,
    "start_time": "2024-03-12T08:22:27.141Z"
   },
   {
    "duration": 146,
    "start_time": "2024-03-12T08:23:18.893Z"
   },
   {
    "duration": 161,
    "start_time": "2024-03-12T08:23:30.369Z"
   },
   {
    "duration": 6,
    "start_time": "2024-03-12T08:24:05.333Z"
   },
   {
    "duration": 677,
    "start_time": "2024-03-12T08:29:20.352Z"
   },
   {
    "duration": 69,
    "start_time": "2024-03-12T08:29:21.031Z"
   },
   {
    "duration": 10,
    "start_time": "2024-03-12T08:29:21.102Z"
   },
   {
    "duration": 22,
    "start_time": "2024-03-12T08:29:21.113Z"
   },
   {
    "duration": 9,
    "start_time": "2024-03-12T08:29:21.137Z"
   },
   {
    "duration": 11,
    "start_time": "2024-03-12T08:29:21.148Z"
   },
   {
    "duration": 20,
    "start_time": "2024-03-12T08:29:21.160Z"
   },
   {
    "duration": 38,
    "start_time": "2024-03-12T08:29:21.181Z"
   },
   {
    "duration": 17,
    "start_time": "2024-03-12T08:29:21.220Z"
   },
   {
    "duration": 10,
    "start_time": "2024-03-12T08:29:21.238Z"
   },
   {
    "duration": 9,
    "start_time": "2024-03-12T08:29:21.250Z"
   },
   {
    "duration": 8,
    "start_time": "2024-03-12T08:29:21.260Z"
   },
   {
    "duration": 5,
    "start_time": "2024-03-12T08:29:21.270Z"
   },
   {
    "duration": 170,
    "start_time": "2024-03-12T08:29:21.277Z"
   },
   {
    "duration": 126,
    "start_time": "2024-03-12T08:29:21.449Z"
   },
   {
    "duration": 185,
    "start_time": "2024-03-12T08:31:10.118Z"
   },
   {
    "duration": 205,
    "start_time": "2024-03-12T08:31:32.285Z"
   },
   {
    "duration": 190,
    "start_time": "2024-03-12T08:32:59.361Z"
   },
   {
    "duration": 164,
    "start_time": "2024-03-12T08:33:04.883Z"
   },
   {
    "duration": 151,
    "start_time": "2024-03-12T08:35:58.529Z"
   },
   {
    "duration": 144,
    "start_time": "2024-03-12T08:36:12.835Z"
   },
   {
    "duration": 13,
    "start_time": "2024-03-12T08:37:02.331Z"
   },
   {
    "duration": 150,
    "start_time": "2024-03-12T08:45:58.081Z"
   },
   {
    "duration": 235,
    "start_time": "2024-03-12T08:57:57.261Z"
   },
   {
    "duration": 12,
    "start_time": "2024-03-12T08:58:20.411Z"
   },
   {
    "duration": 161,
    "start_time": "2024-03-12T08:58:27.982Z"
   },
   {
    "duration": 161,
    "start_time": "2024-03-12T08:59:51.940Z"
   },
   {
    "duration": 150,
    "start_time": "2024-03-12T09:02:45.923Z"
   },
   {
    "duration": 81,
    "start_time": "2024-03-12T09:03:58.970Z"
   },
   {
    "duration": 85,
    "start_time": "2024-03-12T09:05:54.389Z"
   },
   {
    "duration": 192,
    "start_time": "2024-03-12T09:12:23.615Z"
   },
   {
    "duration": 160,
    "start_time": "2024-03-12T09:12:40.358Z"
   },
   {
    "duration": 137,
    "start_time": "2024-03-12T09:12:46.661Z"
   },
   {
    "duration": 152,
    "start_time": "2024-03-12T09:13:11.877Z"
   },
   {
    "duration": 175,
    "start_time": "2024-03-12T09:13:19.977Z"
   },
   {
    "duration": 163,
    "start_time": "2024-03-12T09:13:30.779Z"
   },
   {
    "duration": 165,
    "start_time": "2024-03-12T09:14:09.729Z"
   },
   {
    "duration": 164,
    "start_time": "2024-03-12T09:16:30.499Z"
   },
   {
    "duration": 156,
    "start_time": "2024-03-12T09:16:39.117Z"
   },
   {
    "duration": 134,
    "start_time": "2024-03-12T09:16:56.537Z"
   },
   {
    "duration": 143,
    "start_time": "2024-03-12T09:17:02.040Z"
   },
   {
    "duration": 209,
    "start_time": "2024-03-12T09:17:09.288Z"
   },
   {
    "duration": 162,
    "start_time": "2024-03-12T09:17:23.529Z"
   },
   {
    "duration": 155,
    "start_time": "2024-03-12T09:17:33.547Z"
   },
   {
    "duration": 163,
    "start_time": "2024-03-12T09:18:19.759Z"
   },
   {
    "duration": 160,
    "start_time": "2024-03-12T09:18:34.591Z"
   },
   {
    "duration": 148,
    "start_time": "2024-03-12T09:18:54.534Z"
   },
   {
    "duration": 146,
    "start_time": "2024-03-12T09:19:21.699Z"
   },
   {
    "duration": 163,
    "start_time": "2024-03-12T09:20:02.659Z"
   },
   {
    "duration": 133,
    "start_time": "2024-03-12T09:35:56.725Z"
   },
   {
    "duration": 9,
    "start_time": "2024-03-12T09:37:15.944Z"
   },
   {
    "duration": 174,
    "start_time": "2024-03-12T09:38:08.536Z"
   },
   {
    "duration": 161,
    "start_time": "2024-03-12T09:38:19.520Z"
   },
   {
    "duration": 154,
    "start_time": "2024-03-12T09:38:27.305Z"
   },
   {
    "duration": 143,
    "start_time": "2024-03-12T09:42:23.504Z"
   },
   {
    "duration": 9,
    "start_time": "2024-03-12T09:42:46.160Z"
   },
   {
    "duration": 8,
    "start_time": "2024-03-12T09:45:55.898Z"
   },
   {
    "duration": 11,
    "start_time": "2024-03-12T09:56:16.683Z"
   },
   {
    "duration": 25,
    "start_time": "2024-03-12T09:56:22.888Z"
   },
   {
    "duration": 8,
    "start_time": "2024-03-12T09:59:41.298Z"
   },
   {
    "duration": 20,
    "start_time": "2024-03-12T09:59:49.692Z"
   },
   {
    "duration": 21,
    "start_time": "2024-03-12T10:00:24.289Z"
   },
   {
    "duration": 19,
    "start_time": "2024-03-12T10:01:36.028Z"
   },
   {
    "duration": 52,
    "start_time": "2024-03-12T12:45:01.460Z"
   },
   {
    "duration": 879,
    "start_time": "2024-03-12T12:45:09.798Z"
   },
   {
    "duration": 196,
    "start_time": "2024-03-12T12:45:10.679Z"
   },
   {
    "duration": 12,
    "start_time": "2024-03-12T12:45:10.877Z"
   },
   {
    "duration": 37,
    "start_time": "2024-03-12T12:45:10.891Z"
   },
   {
    "duration": 39,
    "start_time": "2024-03-12T12:45:10.930Z"
   },
   {
    "duration": 55,
    "start_time": "2024-03-12T12:45:10.970Z"
   },
   {
    "duration": 54,
    "start_time": "2024-03-12T12:45:11.027Z"
   },
   {
    "duration": 35,
    "start_time": "2024-03-12T12:45:11.083Z"
   },
   {
    "duration": 45,
    "start_time": "2024-03-12T12:45:11.120Z"
   },
   {
    "duration": 25,
    "start_time": "2024-03-12T12:45:11.168Z"
   },
   {
    "duration": 23,
    "start_time": "2024-03-12T12:45:11.195Z"
   },
   {
    "duration": 35,
    "start_time": "2024-03-12T12:45:11.220Z"
   },
   {
    "duration": 20,
    "start_time": "2024-03-12T12:45:11.257Z"
   },
   {
    "duration": 219,
    "start_time": "2024-03-12T12:45:11.279Z"
   },
   {
    "duration": 101,
    "start_time": "2024-03-12T12:45:11.500Z"
   },
   {
    "duration": 174,
    "start_time": "2024-03-12T12:45:11.602Z"
   },
   {
    "duration": 11,
    "start_time": "2024-03-12T12:45:11.777Z"
   },
   {
    "duration": 200,
    "start_time": "2024-03-12T12:45:11.789Z"
   },
   {
    "duration": 8,
    "start_time": "2024-03-12T12:45:11.991Z"
   },
   {
    "duration": 224,
    "start_time": "2024-03-12T12:45:12.001Z"
   },
   {
    "duration": 9,
    "start_time": "2024-03-12T12:45:12.227Z"
   },
   {
    "duration": 33,
    "start_time": "2024-03-12T12:45:12.237Z"
   },
   {
    "duration": 31,
    "start_time": "2024-03-12T12:45:12.272Z"
   },
   {
    "duration": 18,
    "start_time": "2024-03-12T12:45:25.118Z"
   },
   {
    "duration": 23,
    "start_time": "2024-03-12T12:58:46.322Z"
   },
   {
    "duration": 15,
    "start_time": "2024-03-12T13:00:23.685Z"
   },
   {
    "duration": 22,
    "start_time": "2024-03-12T13:00:44.300Z"
   },
   {
    "duration": 208,
    "start_time": "2024-03-12T13:02:35.529Z"
   },
   {
    "duration": 253,
    "start_time": "2024-03-12T13:03:00.236Z"
   },
   {
    "duration": 259,
    "start_time": "2024-03-12T13:03:19.596Z"
   },
   {
    "duration": 298,
    "start_time": "2024-03-12T13:03:36.746Z"
   },
   {
    "duration": 21,
    "start_time": "2024-03-12T13:05:03.311Z"
   },
   {
    "duration": 322,
    "start_time": "2024-03-12T13:06:11.168Z"
   },
   {
    "duration": 25,
    "start_time": "2024-03-12T13:06:40.430Z"
   },
   {
    "duration": 331,
    "start_time": "2024-03-12T13:08:27.138Z"
   },
   {
    "duration": 290,
    "start_time": "2024-03-12T13:08:34.092Z"
   },
   {
    "duration": 16,
    "start_time": "2024-03-12T13:14:39.948Z"
   },
   {
    "duration": 374,
    "start_time": "2024-03-12T13:36:45.151Z"
   },
   {
    "duration": 16,
    "start_time": "2024-03-12T13:36:59.590Z"
   },
   {
    "duration": 16,
    "start_time": "2024-03-12T13:39:12.136Z"
   },
   {
    "duration": 1198,
    "start_time": "2024-03-12T13:40:35.518Z"
   },
   {
    "duration": 17,
    "start_time": "2024-03-12T13:41:49.443Z"
   },
   {
    "duration": 20,
    "start_time": "2024-03-12T13:42:26.300Z"
   },
   {
    "duration": 327,
    "start_time": "2024-03-12T13:43:31.670Z"
   },
   {
    "duration": 318,
    "start_time": "2024-03-12T13:45:40.883Z"
   },
   {
    "duration": 16,
    "start_time": "2024-03-12T13:45:58.939Z"
   },
   {
    "duration": 298,
    "start_time": "2024-03-12T13:46:28.021Z"
   },
   {
    "duration": 16,
    "start_time": "2024-03-12T13:46:48.117Z"
   },
   {
    "duration": 42,
    "start_time": "2024-03-13T06:50:58.455Z"
   },
   {
    "duration": 765,
    "start_time": "2024-03-13T06:51:07.750Z"
   },
   {
    "duration": 193,
    "start_time": "2024-03-13T06:51:08.517Z"
   },
   {
    "duration": 10,
    "start_time": "2024-03-13T06:51:08.712Z"
   },
   {
    "duration": 9,
    "start_time": "2024-03-13T06:51:08.724Z"
   },
   {
    "duration": 7,
    "start_time": "2024-03-13T06:51:08.734Z"
   },
   {
    "duration": 10,
    "start_time": "2024-03-13T06:51:08.742Z"
   },
   {
    "duration": 5,
    "start_time": "2024-03-13T06:51:08.753Z"
   },
   {
    "duration": 12,
    "start_time": "2024-03-13T06:51:08.759Z"
   },
   {
    "duration": 12,
    "start_time": "2024-03-13T06:51:08.773Z"
   },
   {
    "duration": 8,
    "start_time": "2024-03-13T06:51:08.787Z"
   },
   {
    "duration": 9,
    "start_time": "2024-03-13T06:51:08.796Z"
   },
   {
    "duration": 7,
    "start_time": "2024-03-13T06:51:08.806Z"
   },
   {
    "duration": 33,
    "start_time": "2024-03-13T06:51:08.814Z"
   },
   {
    "duration": 155,
    "start_time": "2024-03-13T06:51:08.849Z"
   },
   {
    "duration": 87,
    "start_time": "2024-03-13T06:51:09.005Z"
   },
   {
    "duration": 147,
    "start_time": "2024-03-13T06:51:09.093Z"
   },
   {
    "duration": 8,
    "start_time": "2024-03-13T06:51:09.241Z"
   },
   {
    "duration": 146,
    "start_time": "2024-03-13T06:51:09.250Z"
   },
   {
    "duration": 7,
    "start_time": "2024-03-13T06:51:09.398Z"
   },
   {
    "duration": 183,
    "start_time": "2024-03-13T06:51:09.406Z"
   },
   {
    "duration": 8,
    "start_time": "2024-03-13T06:51:09.590Z"
   },
   {
    "duration": 16,
    "start_time": "2024-03-13T06:51:09.599Z"
   },
   {
    "duration": 33,
    "start_time": "2024-03-13T06:51:09.617Z"
   },
   {
    "duration": 251,
    "start_time": "2024-03-13T06:51:09.651Z"
   },
   {
    "duration": 12,
    "start_time": "2024-03-13T06:51:09.903Z"
   },
   {
    "duration": 285,
    "start_time": "2024-03-13T06:51:09.917Z"
   },
   {
    "duration": 13,
    "start_time": "2024-03-13T06:51:10.203Z"
   },
   {
    "duration": 11,
    "start_time": "2024-03-13T06:51:10.218Z"
   },
   {
    "duration": 70,
    "start_time": "2024-03-13T06:51:10.245Z"
   },
   {
    "duration": 0,
    "start_time": "2024-03-13T06:51:10.316Z"
   },
   {
    "duration": 0,
    "start_time": "2024-03-13T06:51:10.318Z"
   },
   {
    "duration": 0,
    "start_time": "2024-03-13T06:51:10.319Z"
   },
   {
    "duration": 0,
    "start_time": "2024-03-13T06:51:10.321Z"
   },
   {
    "duration": 0,
    "start_time": "2024-03-13T06:51:10.322Z"
   },
   {
    "duration": 3,
    "start_time": "2024-03-13T06:51:32.107Z"
   },
   {
    "duration": 111,
    "start_time": "2024-03-13T06:51:32.112Z"
   },
   {
    "duration": 7,
    "start_time": "2024-03-13T06:51:32.224Z"
   },
   {
    "duration": 40,
    "start_time": "2024-03-13T06:51:32.233Z"
   },
   {
    "duration": 30,
    "start_time": "2024-03-13T06:51:32.275Z"
   },
   {
    "duration": 32,
    "start_time": "2024-03-13T06:51:32.306Z"
   },
   {
    "duration": 22,
    "start_time": "2024-03-13T06:51:32.339Z"
   },
   {
    "duration": 15,
    "start_time": "2024-03-13T06:51:32.362Z"
   },
   {
    "duration": 38,
    "start_time": "2024-03-13T06:51:32.379Z"
   },
   {
    "duration": 39,
    "start_time": "2024-03-13T06:51:32.419Z"
   },
   {
    "duration": 25,
    "start_time": "2024-03-13T06:51:32.460Z"
   },
   {
    "duration": 21,
    "start_time": "2024-03-13T06:51:32.486Z"
   },
   {
    "duration": 11,
    "start_time": "2024-03-13T06:51:32.510Z"
   },
   {
    "duration": 142,
    "start_time": "2024-03-13T06:51:32.522Z"
   },
   {
    "duration": 91,
    "start_time": "2024-03-13T06:51:32.665Z"
   },
   {
    "duration": 136,
    "start_time": "2024-03-13T06:51:32.757Z"
   },
   {
    "duration": 6,
    "start_time": "2024-03-13T06:51:32.895Z"
   },
   {
    "duration": 157,
    "start_time": "2024-03-13T06:51:32.902Z"
   },
   {
    "duration": 7,
    "start_time": "2024-03-13T06:51:33.060Z"
   },
   {
    "duration": 137,
    "start_time": "2024-03-13T06:51:33.068Z"
   },
   {
    "duration": 8,
    "start_time": "2024-03-13T06:51:33.206Z"
   },
   {
    "duration": 19,
    "start_time": "2024-03-13T06:51:33.216Z"
   },
   {
    "duration": 13,
    "start_time": "2024-03-13T06:51:33.245Z"
   },
   {
    "duration": 317,
    "start_time": "2024-03-13T06:51:33.259Z"
   },
   {
    "duration": 14,
    "start_time": "2024-03-13T06:51:33.577Z"
   },
   {
    "duration": 274,
    "start_time": "2024-03-13T06:51:33.592Z"
   },
   {
    "duration": 12,
    "start_time": "2024-03-13T06:51:33.867Z"
   },
   {
    "duration": 51,
    "start_time": "2024-03-13T06:51:33.880Z"
   },
   {
    "duration": 251,
    "start_time": "2024-03-13T06:51:33.932Z"
   },
   {
    "duration": 13,
    "start_time": "2024-03-13T06:51:34.184Z"
   },
   {
    "duration": 249,
    "start_time": "2024-03-13T06:51:34.198Z"
   },
   {
    "duration": 12,
    "start_time": "2024-03-13T06:51:34.448Z"
   },
   {
    "duration": 26,
    "start_time": "2024-03-13T06:51:34.462Z"
   },
   {
    "duration": 10,
    "start_time": "2024-03-13T06:54:45.368Z"
   },
   {
    "duration": 11,
    "start_time": "2024-03-13T06:55:23.868Z"
   },
   {
    "duration": 17,
    "start_time": "2024-03-13T06:55:32.013Z"
   },
   {
    "duration": 17,
    "start_time": "2024-03-13T06:55:59.048Z"
   },
   {
    "duration": 17,
    "start_time": "2024-03-13T06:56:03.684Z"
   },
   {
    "duration": 21,
    "start_time": "2024-03-13T06:56:19.336Z"
   },
   {
    "duration": 21,
    "start_time": "2024-03-13T06:56:40.792Z"
   },
   {
    "duration": 25,
    "start_time": "2024-03-13T07:01:21.386Z"
   },
   {
    "duration": 13,
    "start_time": "2024-03-13T07:06:28.391Z"
   },
   {
    "duration": 12,
    "start_time": "2024-03-13T07:07:28.136Z"
   },
   {
    "duration": 11,
    "start_time": "2024-03-13T07:07:54.461Z"
   },
   {
    "duration": 7,
    "start_time": "2024-03-13T07:08:23.608Z"
   },
   {
    "duration": 12,
    "start_time": "2024-03-13T07:08:29.441Z"
   },
   {
    "duration": 17,
    "start_time": "2024-03-13T07:14:27.766Z"
   },
   {
    "duration": 15,
    "start_time": "2024-03-13T07:14:45.910Z"
   },
   {
    "duration": 15,
    "start_time": "2024-03-13T07:16:39.587Z"
   },
   {
    "duration": 17,
    "start_time": "2024-03-13T07:17:06.961Z"
   },
   {
    "duration": 15,
    "start_time": "2024-03-13T07:17:19.580Z"
   },
   {
    "duration": 97,
    "start_time": "2024-03-13T07:27:54.297Z"
   },
   {
    "duration": 76,
    "start_time": "2024-03-13T07:28:19.542Z"
   },
   {
    "duration": 62,
    "start_time": "2024-03-13T07:28:34.474Z"
   },
   {
    "duration": 24,
    "start_time": "2024-03-13T07:28:42.989Z"
   },
   {
    "duration": 21,
    "start_time": "2024-03-13T07:29:19.824Z"
   },
   {
    "duration": 26,
    "start_time": "2024-03-13T07:29:35.401Z"
   },
   {
    "duration": 15,
    "start_time": "2024-03-13T07:30:10.770Z"
   },
   {
    "duration": 25,
    "start_time": "2024-03-13T07:31:05.551Z"
   },
   {
    "duration": 26,
    "start_time": "2024-03-13T07:31:31.703Z"
   },
   {
    "duration": 25,
    "start_time": "2024-03-13T07:31:45.823Z"
   },
   {
    "duration": 540,
    "start_time": "2024-03-13T09:30:53.798Z"
   },
   {
    "duration": 67,
    "start_time": "2024-03-13T09:30:54.340Z"
   },
   {
    "duration": 10,
    "start_time": "2024-03-13T09:30:54.409Z"
   },
   {
    "duration": 17,
    "start_time": "2024-03-13T09:30:54.420Z"
   },
   {
    "duration": 24,
    "start_time": "2024-03-13T09:30:54.439Z"
   },
   {
    "duration": 38,
    "start_time": "2024-03-13T09:30:54.464Z"
   },
   {
    "duration": 15,
    "start_time": "2024-03-13T09:30:54.503Z"
   },
   {
    "duration": 26,
    "start_time": "2024-03-13T09:30:54.519Z"
   },
   {
    "duration": 22,
    "start_time": "2024-03-13T09:30:54.546Z"
   },
   {
    "duration": 13,
    "start_time": "2024-03-13T09:30:54.570Z"
   },
   {
    "duration": 21,
    "start_time": "2024-03-13T09:30:54.584Z"
   },
   {
    "duration": 7,
    "start_time": "2024-03-13T09:30:54.606Z"
   },
   {
    "duration": 14,
    "start_time": "2024-03-13T09:30:54.615Z"
   },
   {
    "duration": 166,
    "start_time": "2024-03-13T09:30:54.632Z"
   },
   {
    "duration": 85,
    "start_time": "2024-03-13T09:30:54.800Z"
   },
   {
    "duration": 141,
    "start_time": "2024-03-13T09:30:54.886Z"
   },
   {
    "duration": 7,
    "start_time": "2024-03-13T09:30:55.029Z"
   },
   {
    "duration": 135,
    "start_time": "2024-03-13T09:30:55.045Z"
   },
   {
    "duration": 7,
    "start_time": "2024-03-13T09:30:55.182Z"
   },
   {
    "duration": 186,
    "start_time": "2024-03-13T09:30:55.191Z"
   },
   {
    "duration": 8,
    "start_time": "2024-03-13T09:30:55.378Z"
   },
   {
    "duration": 34,
    "start_time": "2024-03-13T09:30:55.387Z"
   },
   {
    "duration": 28,
    "start_time": "2024-03-13T09:30:55.422Z"
   },
   {
    "duration": 253,
    "start_time": "2024-03-13T09:30:55.452Z"
   },
   {
    "duration": 12,
    "start_time": "2024-03-13T09:30:55.707Z"
   },
   {
    "duration": 285,
    "start_time": "2024-03-13T09:30:55.720Z"
   },
   {
    "duration": 13,
    "start_time": "2024-03-13T09:30:56.006Z"
   },
   {
    "duration": 37,
    "start_time": "2024-03-13T09:30:56.020Z"
   },
   {
    "duration": 275,
    "start_time": "2024-03-13T09:30:56.058Z"
   },
   {
    "duration": 17,
    "start_time": "2024-03-13T09:30:56.335Z"
   },
   {
    "duration": 250,
    "start_time": "2024-03-13T09:30:56.353Z"
   },
   {
    "duration": 12,
    "start_time": "2024-03-13T09:30:56.604Z"
   },
   {
    "duration": 33,
    "start_time": "2024-03-13T09:30:56.617Z"
   },
   {
    "duration": 87,
    "start_time": "2024-03-13T09:30:56.651Z"
   },
   {
    "duration": 0,
    "start_time": "2024-03-13T09:30:56.739Z"
   },
   {
    "duration": 25,
    "start_time": "2024-03-13T09:37:18.783Z"
   },
   {
    "duration": 23,
    "start_time": "2024-03-13T09:39:22.205Z"
   },
   {
    "duration": 26,
    "start_time": "2024-03-13T09:39:29.824Z"
   },
   {
    "duration": 22,
    "start_time": "2024-03-13T09:39:42.886Z"
   },
   {
    "duration": 25,
    "start_time": "2024-03-13T09:39:53.649Z"
   },
   {
    "duration": 29,
    "start_time": "2024-03-13T09:40:14.949Z"
   },
   {
    "duration": 16,
    "start_time": "2024-03-13T09:45:42.759Z"
   },
   {
    "duration": 15,
    "start_time": "2024-03-13T09:45:55.351Z"
   },
   {
    "duration": 585,
    "start_time": "2024-03-13T09:46:43.757Z"
   },
   {
    "duration": 197,
    "start_time": "2024-03-13T09:46:44.344Z"
   },
   {
    "duration": 11,
    "start_time": "2024-03-13T09:46:44.543Z"
   },
   {
    "duration": 9,
    "start_time": "2024-03-13T09:46:44.556Z"
   },
   {
    "duration": 9,
    "start_time": "2024-03-13T09:46:44.567Z"
   },
   {
    "duration": 10,
    "start_time": "2024-03-13T09:46:44.577Z"
   },
   {
    "duration": 6,
    "start_time": "2024-03-13T09:46:44.589Z"
   },
   {
    "duration": 10,
    "start_time": "2024-03-13T09:46:44.596Z"
   },
   {
    "duration": 44,
    "start_time": "2024-03-13T09:46:44.608Z"
   },
   {
    "duration": 9,
    "start_time": "2024-03-13T09:46:44.654Z"
   },
   {
    "duration": 8,
    "start_time": "2024-03-13T09:46:44.665Z"
   },
   {
    "duration": 17,
    "start_time": "2024-03-13T09:46:44.675Z"
   },
   {
    "duration": 5,
    "start_time": "2024-03-13T09:46:44.694Z"
   },
   {
    "duration": 166,
    "start_time": "2024-03-13T09:46:44.701Z"
   },
   {
    "duration": 82,
    "start_time": "2024-03-13T09:46:44.868Z"
   },
   {
    "duration": 136,
    "start_time": "2024-03-13T09:46:44.952Z"
   },
   {
    "duration": 6,
    "start_time": "2024-03-13T09:46:45.090Z"
   },
   {
    "duration": 176,
    "start_time": "2024-03-13T09:46:45.097Z"
   },
   {
    "duration": 7,
    "start_time": "2024-03-13T09:46:45.274Z"
   },
   {
    "duration": 182,
    "start_time": "2024-03-13T09:46:45.282Z"
   },
   {
    "duration": 8,
    "start_time": "2024-03-13T09:46:45.466Z"
   },
   {
    "duration": 73,
    "start_time": "2024-03-13T09:46:45.476Z"
   },
   {
    "duration": 20,
    "start_time": "2024-03-13T09:46:45.550Z"
   },
   {
    "duration": 292,
    "start_time": "2024-03-13T09:46:45.571Z"
   },
   {
    "duration": 13,
    "start_time": "2024-03-13T09:46:45.865Z"
   },
   {
    "duration": 262,
    "start_time": "2024-03-13T09:46:45.879Z"
   },
   {
    "duration": 12,
    "start_time": "2024-03-13T09:46:46.142Z"
   },
   {
    "duration": 11,
    "start_time": "2024-03-13T09:46:46.155Z"
   },
   {
    "duration": 267,
    "start_time": "2024-03-13T09:46:46.167Z"
   },
   {
    "duration": 15,
    "start_time": "2024-03-13T09:46:46.436Z"
   },
   {
    "duration": 253,
    "start_time": "2024-03-13T09:46:46.452Z"
   },
   {
    "duration": 19,
    "start_time": "2024-03-13T09:46:46.706Z"
   },
   {
    "duration": 34,
    "start_time": "2024-03-13T09:46:46.727Z"
   },
   {
    "duration": 42,
    "start_time": "2024-03-13T09:47:10.898Z"
   },
   {
    "duration": 5,
    "start_time": "2024-03-13T09:47:15.246Z"
   },
   {
    "duration": 608,
    "start_time": "2024-03-13T09:47:21.743Z"
   },
   {
    "duration": 192,
    "start_time": "2024-03-13T09:47:22.353Z"
   },
   {
    "duration": 11,
    "start_time": "2024-03-13T09:47:22.546Z"
   },
   {
    "duration": 39,
    "start_time": "2024-03-13T09:47:22.558Z"
   },
   {
    "duration": 39,
    "start_time": "2024-03-13T09:47:22.599Z"
   },
   {
    "duration": 23,
    "start_time": "2024-03-13T09:47:22.639Z"
   },
   {
    "duration": 23,
    "start_time": "2024-03-13T09:47:22.663Z"
   },
   {
    "duration": 40,
    "start_time": "2024-03-13T09:47:22.687Z"
   },
   {
    "duration": 38,
    "start_time": "2024-03-13T09:47:22.728Z"
   },
   {
    "duration": 24,
    "start_time": "2024-03-13T09:47:22.767Z"
   },
   {
    "duration": 34,
    "start_time": "2024-03-13T09:47:22.792Z"
   },
   {
    "duration": 33,
    "start_time": "2024-03-13T09:47:22.827Z"
   },
   {
    "duration": 20,
    "start_time": "2024-03-13T09:47:22.861Z"
   },
   {
    "duration": 169,
    "start_time": "2024-03-13T09:47:22.883Z"
   },
   {
    "duration": 74,
    "start_time": "2024-03-13T09:47:23.053Z"
   },
   {
    "duration": 157,
    "start_time": "2024-03-13T09:47:23.129Z"
   },
   {
    "duration": 6,
    "start_time": "2024-03-13T09:47:23.288Z"
   },
   {
    "duration": 162,
    "start_time": "2024-03-13T09:47:23.295Z"
   },
   {
    "duration": 10,
    "start_time": "2024-03-13T09:47:23.458Z"
   },
   {
    "duration": 180,
    "start_time": "2024-03-13T09:47:23.469Z"
   },
   {
    "duration": 7,
    "start_time": "2024-03-13T09:47:23.650Z"
   },
   {
    "duration": 37,
    "start_time": "2024-03-13T09:47:23.658Z"
   },
   {
    "duration": 27,
    "start_time": "2024-03-13T09:47:23.696Z"
   },
   {
    "duration": 237,
    "start_time": "2024-03-13T09:47:23.724Z"
   },
   {
    "duration": 11,
    "start_time": "2024-03-13T09:47:23.962Z"
   },
   {
    "duration": 254,
    "start_time": "2024-03-13T09:47:23.975Z"
   },
   {
    "duration": 20,
    "start_time": "2024-03-13T09:47:24.230Z"
   },
   {
    "duration": 38,
    "start_time": "2024-03-13T09:47:24.251Z"
   },
   {
    "duration": 261,
    "start_time": "2024-03-13T09:47:24.290Z"
   },
   {
    "duration": 13,
    "start_time": "2024-03-13T09:47:24.552Z"
   },
   {
    "duration": 242,
    "start_time": "2024-03-13T09:47:24.566Z"
   },
   {
    "duration": 12,
    "start_time": "2024-03-13T09:47:24.809Z"
   },
   {
    "duration": 30,
    "start_time": "2024-03-13T09:47:24.823Z"
   },
   {
    "duration": 46,
    "start_time": "2024-03-13T09:47:24.855Z"
   },
   {
    "duration": 25,
    "start_time": "2024-03-13T09:47:24.902Z"
   },
   {
    "duration": 16,
    "start_time": "2024-03-13T09:52:02.422Z"
   },
   {
    "duration": 3,
    "start_time": "2024-03-13T09:54:08.508Z"
   },
   {
    "duration": 16,
    "start_time": "2024-03-13T09:54:18.612Z"
   },
   {
    "duration": 547,
    "start_time": "2024-03-13T09:55:54.308Z"
   },
   {
    "duration": 67,
    "start_time": "2024-03-13T09:55:54.856Z"
   },
   {
    "duration": 10,
    "start_time": "2024-03-13T09:55:54.925Z"
   },
   {
    "duration": 18,
    "start_time": "2024-03-13T09:55:54.936Z"
   },
   {
    "duration": 8,
    "start_time": "2024-03-13T09:55:54.956Z"
   },
   {
    "duration": 21,
    "start_time": "2024-03-13T09:55:54.966Z"
   },
   {
    "duration": 16,
    "start_time": "2024-03-13T09:55:54.988Z"
   },
   {
    "duration": 12,
    "start_time": "2024-03-13T09:55:55.005Z"
   },
   {
    "duration": 19,
    "start_time": "2024-03-13T09:55:55.018Z"
   },
   {
    "duration": 9,
    "start_time": "2024-03-13T09:55:55.038Z"
   },
   {
    "duration": 9,
    "start_time": "2024-03-13T09:55:55.048Z"
   },
   {
    "duration": 9,
    "start_time": "2024-03-13T09:55:55.058Z"
   },
   {
    "duration": 4,
    "start_time": "2024-03-13T09:55:55.068Z"
   },
   {
    "duration": 177,
    "start_time": "2024-03-13T09:55:55.075Z"
   },
   {
    "duration": 77,
    "start_time": "2024-03-13T09:55:55.253Z"
   },
   {
    "duration": 151,
    "start_time": "2024-03-13T09:55:55.331Z"
   },
   {
    "duration": 7,
    "start_time": "2024-03-13T09:55:55.484Z"
   },
   {
    "duration": 155,
    "start_time": "2024-03-13T09:55:55.493Z"
   },
   {
    "duration": 7,
    "start_time": "2024-03-13T09:55:55.650Z"
   },
   {
    "duration": 187,
    "start_time": "2024-03-13T09:55:55.658Z"
   },
   {
    "duration": 8,
    "start_time": "2024-03-13T09:55:55.846Z"
   },
   {
    "duration": 17,
    "start_time": "2024-03-13T09:55:55.855Z"
   },
   {
    "duration": 13,
    "start_time": "2024-03-13T09:55:55.873Z"
   },
   {
    "duration": 271,
    "start_time": "2024-03-13T09:55:55.888Z"
   },
   {
    "duration": 14,
    "start_time": "2024-03-13T09:55:56.160Z"
   },
   {
    "duration": 282,
    "start_time": "2024-03-13T09:55:56.175Z"
   },
   {
    "duration": 12,
    "start_time": "2024-03-13T09:55:56.458Z"
   },
   {
    "duration": 18,
    "start_time": "2024-03-13T09:55:56.472Z"
   },
   {
    "duration": 270,
    "start_time": "2024-03-13T09:55:56.492Z"
   },
   {
    "duration": 14,
    "start_time": "2024-03-13T09:55:56.763Z"
   },
   {
    "duration": 252,
    "start_time": "2024-03-13T09:55:56.779Z"
   },
   {
    "duration": 21,
    "start_time": "2024-03-13T09:55:57.033Z"
   },
   {
    "duration": 20,
    "start_time": "2024-03-13T09:55:57.056Z"
   },
   {
    "duration": 15,
    "start_time": "2024-03-13T09:55:57.078Z"
   },
   {
    "duration": 24,
    "start_time": "2024-03-13T09:55:57.095Z"
   },
   {
    "duration": 38,
    "start_time": "2024-03-13T09:55:57.121Z"
   },
   {
    "duration": 11,
    "start_time": "2024-03-13T09:58:58.539Z"
   },
   {
    "duration": 24,
    "start_time": "2024-03-13T10:01:01.563Z"
   },
   {
    "duration": 32,
    "start_time": "2024-03-13T10:03:02.440Z"
   },
   {
    "duration": 24,
    "start_time": "2024-03-13T10:03:39.369Z"
   },
   {
    "duration": 25,
    "start_time": "2024-03-13T10:03:50.322Z"
   },
   {
    "duration": 32,
    "start_time": "2024-03-13T10:04:11.798Z"
   },
   {
    "duration": 11,
    "start_time": "2024-03-13T10:13:07.378Z"
   },
   {
    "duration": 68,
    "start_time": "2024-03-13T10:14:36.175Z"
   },
   {
    "duration": 26,
    "start_time": "2024-03-13T10:14:53.447Z"
   },
   {
    "duration": 61,
    "start_time": "2024-03-13T12:58:35.140Z"
   },
   {
    "duration": 763,
    "start_time": "2024-03-13T12:58:46.716Z"
   },
   {
    "duration": 196,
    "start_time": "2024-03-13T12:58:47.482Z"
   },
   {
    "duration": 14,
    "start_time": "2024-03-13T12:58:47.680Z"
   },
   {
    "duration": 19,
    "start_time": "2024-03-13T12:58:47.696Z"
   },
   {
    "duration": 30,
    "start_time": "2024-03-13T12:58:47.716Z"
   },
   {
    "duration": 37,
    "start_time": "2024-03-13T12:58:47.747Z"
   },
   {
    "duration": 9,
    "start_time": "2024-03-13T12:58:47.786Z"
   },
   {
    "duration": 19,
    "start_time": "2024-03-13T12:58:47.796Z"
   },
   {
    "duration": 17,
    "start_time": "2024-03-13T12:58:47.817Z"
   },
   {
    "duration": 15,
    "start_time": "2024-03-13T12:58:47.838Z"
   },
   {
    "duration": 25,
    "start_time": "2024-03-13T12:58:47.855Z"
   },
   {
    "duration": 10,
    "start_time": "2024-03-13T12:58:47.882Z"
   },
   {
    "duration": 5,
    "start_time": "2024-03-13T12:58:47.894Z"
   },
   {
    "duration": 211,
    "start_time": "2024-03-13T12:58:47.900Z"
   },
   {
    "duration": 106,
    "start_time": "2024-03-13T12:58:48.112Z"
   },
   {
    "duration": 172,
    "start_time": "2024-03-13T12:58:48.219Z"
   },
   {
    "duration": 7,
    "start_time": "2024-03-13T12:58:48.392Z"
   },
   {
    "duration": 165,
    "start_time": "2024-03-13T12:58:48.401Z"
   },
   {
    "duration": 15,
    "start_time": "2024-03-13T12:58:48.568Z"
   },
   {
    "duration": 259,
    "start_time": "2024-03-13T12:58:48.585Z"
   },
   {
    "duration": 20,
    "start_time": "2024-03-13T12:58:48.846Z"
   },
   {
    "duration": 30,
    "start_time": "2024-03-13T12:58:48.868Z"
   },
   {
    "duration": 23,
    "start_time": "2024-03-13T12:58:48.900Z"
   },
   {
    "duration": 324,
    "start_time": "2024-03-13T12:58:48.924Z"
   },
   {
    "duration": 25,
    "start_time": "2024-03-13T12:58:49.249Z"
   },
   {
    "duration": 329,
    "start_time": "2024-03-13T12:58:49.276Z"
   },
   {
    "duration": 14,
    "start_time": "2024-03-13T12:58:49.607Z"
   },
   {
    "duration": 13,
    "start_time": "2024-03-13T12:58:49.624Z"
   },
   {
    "duration": 337,
    "start_time": "2024-03-13T12:58:49.639Z"
   },
   {
    "duration": 19,
    "start_time": "2024-03-13T12:58:49.981Z"
   },
   {
    "duration": 310,
    "start_time": "2024-03-13T12:58:50.002Z"
   },
   {
    "duration": 14,
    "start_time": "2024-03-13T12:58:50.314Z"
   },
   {
    "duration": 15,
    "start_time": "2024-03-13T12:58:50.329Z"
   },
   {
    "duration": 29,
    "start_time": "2024-03-13T12:58:58.698Z"
   },
   {
    "duration": 1458,
    "start_time": "2024-03-13T12:59:01.429Z"
   },
   {
    "duration": 18,
    "start_time": "2024-03-13T12:59:18.520Z"
   },
   {
    "duration": 1247,
    "start_time": "2024-03-13T12:59:25.590Z"
   },
   {
    "duration": 9,
    "start_time": "2024-03-13T12:59:40.923Z"
   },
   {
    "duration": 8,
    "start_time": "2024-03-13T12:59:51.135Z"
   },
   {
    "duration": 9,
    "start_time": "2024-03-13T12:59:54.211Z"
   },
   {
    "duration": 13,
    "start_time": "2024-03-13T13:00:03.662Z"
   },
   {
    "duration": 3,
    "start_time": "2024-03-13T13:00:37.945Z"
   },
   {
    "duration": 4,
    "start_time": "2024-03-13T13:01:04.733Z"
   },
   {
    "duration": 1309,
    "start_time": "2024-03-13T13:01:37.721Z"
   },
   {
    "duration": 1539,
    "start_time": "2024-03-13T13:01:49.273Z"
   },
   {
    "duration": 20,
    "start_time": "2024-03-13T13:01:55.090Z"
   },
   {
    "duration": 1528,
    "start_time": "2024-03-13T13:02:00.623Z"
   },
   {
    "duration": 20,
    "start_time": "2024-03-13T13:02:13.786Z"
   },
   {
    "duration": 35,
    "start_time": "2024-03-13T13:02:49.369Z"
   },
   {
    "duration": 40,
    "start_time": "2024-03-13T13:02:53.366Z"
   },
   {
    "duration": 20,
    "start_time": "2024-03-13T13:02:56.330Z"
   },
   {
    "duration": 1597,
    "start_time": "2024-03-13T13:03:04.891Z"
   },
   {
    "duration": 1358,
    "start_time": "2024-03-13T13:03:43.100Z"
   },
   {
    "duration": 37,
    "start_time": "2024-03-13T13:03:54.265Z"
   },
   {
    "duration": 1343,
    "start_time": "2024-03-13T13:03:57.530Z"
   },
   {
    "duration": 1370,
    "start_time": "2024-03-13T13:04:37.529Z"
   },
   {
    "duration": 1299,
    "start_time": "2024-03-13T13:05:11.199Z"
   },
   {
    "duration": 1432,
    "start_time": "2024-03-13T13:06:14.218Z"
   },
   {
    "duration": 1342,
    "start_time": "2024-03-13T13:06:50.544Z"
   },
   {
    "duration": 27,
    "start_time": "2024-03-13T13:11:45.876Z"
   },
   {
    "duration": 24,
    "start_time": "2024-03-13T13:12:00.096Z"
   },
   {
    "duration": 17,
    "start_time": "2024-03-13T13:12:42.595Z"
   },
   {
    "duration": 38,
    "start_time": "2024-03-13T13:14:41.946Z"
   },
   {
    "duration": 26,
    "start_time": "2024-03-13T13:14:50.780Z"
   },
   {
    "duration": 41,
    "start_time": "2024-03-13T13:15:01.241Z"
   },
   {
    "duration": 26,
    "start_time": "2024-03-13T13:15:38.912Z"
   },
   {
    "duration": 38,
    "start_time": "2024-03-13T13:15:47.456Z"
   },
   {
    "duration": 37,
    "start_time": "2024-03-13T13:15:55.437Z"
   },
   {
    "duration": 27,
    "start_time": "2024-03-13T13:18:15.216Z"
   },
   {
    "duration": 43,
    "start_time": "2024-03-13T13:18:39.143Z"
   },
   {
    "duration": 37,
    "start_time": "2024-03-13T13:18:53.593Z"
   },
   {
    "duration": 34,
    "start_time": "2024-03-13T13:27:51.605Z"
   },
   {
    "duration": 1078,
    "start_time": "2024-03-13T13:28:07.325Z"
   },
   {
    "duration": 26,
    "start_time": "2024-03-13T13:28:22.390Z"
   },
   {
    "duration": 48,
    "start_time": "2024-03-13T13:39:34.234Z"
   },
   {
    "duration": 58,
    "start_time": "2024-03-13T13:39:50.681Z"
   },
   {
    "duration": 51,
    "start_time": "2024-03-13T13:41:52.165Z"
   },
   {
    "duration": 3,
    "start_time": "2024-03-13T13:56:30.300Z"
   },
   {
    "duration": 3,
    "start_time": "2024-03-13T13:57:18.798Z"
   },
   {
    "duration": 17,
    "start_time": "2024-03-13T13:57:22.402Z"
   },
   {
    "duration": 3,
    "start_time": "2024-03-13T14:00:39.787Z"
   },
   {
    "duration": 12,
    "start_time": "2024-03-13T14:00:43.024Z"
   },
   {
    "duration": 3,
    "start_time": "2024-03-13T14:01:15.738Z"
   },
   {
    "duration": 19,
    "start_time": "2024-03-13T14:01:17.890Z"
   },
   {
    "duration": 3,
    "start_time": "2024-03-13T14:01:42.135Z"
   },
   {
    "duration": 21,
    "start_time": "2024-03-13T14:01:51.809Z"
   },
   {
    "duration": 313,
    "start_time": "2024-03-13T14:02:17.097Z"
   },
   {
    "duration": 15,
    "start_time": "2024-03-13T14:02:46.733Z"
   },
   {
    "duration": 3,
    "start_time": "2024-03-13T14:02:46.846Z"
   },
   {
    "duration": 26,
    "start_time": "2024-03-13T14:04:27.964Z"
   },
   {
    "duration": 1711,
    "start_time": "2024-03-13T14:05:22.197Z"
   },
   {
    "duration": 3,
    "start_time": "2024-03-13T14:05:48.241Z"
   },
   {
    "duration": 159,
    "start_time": "2024-03-13T14:05:50.279Z"
   },
   {
    "duration": 165,
    "start_time": "2024-03-13T14:06:01.143Z"
   },
   {
    "duration": 3,
    "start_time": "2024-03-13T14:08:24.208Z"
   },
   {
    "duration": 26,
    "start_time": "2024-03-13T14:08:27.244Z"
   },
   {
    "duration": 3,
    "start_time": "2024-03-13T14:11:08.229Z"
   },
   {
    "duration": 274,
    "start_time": "2024-03-13T14:11:12.766Z"
   },
   {
    "duration": 132,
    "start_time": "2024-03-13T14:15:18.230Z"
   },
   {
    "duration": 6,
    "start_time": "2024-03-13T14:15:35.568Z"
   },
   {
    "duration": 502,
    "start_time": "2024-03-13T14:15:38.088Z"
   },
   {
    "duration": 530,
    "start_time": "2024-03-13T14:25:28.318Z"
   },
   {
    "duration": 13,
    "start_time": "2024-03-13T14:26:37.650Z"
   },
   {
    "duration": 64,
    "start_time": "2024-03-13T14:27:11.121Z"
   },
   {
    "duration": 26,
    "start_time": "2024-03-13T14:27:31.047Z"
   },
   {
    "duration": 23,
    "start_time": "2024-03-13T14:28:07.415Z"
   },
   {
    "duration": 27,
    "start_time": "2024-03-13T14:31:33.856Z"
   },
   {
    "duration": 57,
    "start_time": "2024-03-13T14:31:42.262Z"
   },
   {
    "duration": 6,
    "start_time": "2024-03-13T14:31:50.672Z"
   },
   {
    "duration": 471,
    "start_time": "2024-03-13T14:31:51.911Z"
   },
   {
    "duration": 517,
    "start_time": "2024-03-13T14:32:14.711Z"
   },
   {
    "duration": 5,
    "start_time": "2024-03-13T14:46:17.958Z"
   },
   {
    "duration": 3,
    "start_time": "2024-03-13T14:48:13.749Z"
   },
   {
    "duration": 5,
    "start_time": "2024-03-13T14:52:05.190Z"
   },
   {
    "duration": 9,
    "start_time": "2024-03-13T14:57:59.446Z"
   },
   {
    "duration": 420,
    "start_time": "2024-03-13T14:58:13.173Z"
   },
   {
    "duration": 7,
    "start_time": "2024-03-13T14:58:18.046Z"
   },
   {
    "duration": 5,
    "start_time": "2024-03-13T15:10:10.053Z"
   },
   {
    "duration": 1143,
    "start_time": "2024-03-13T19:24:59.686Z"
   },
   {
    "duration": 71,
    "start_time": "2024-03-13T19:25:00.831Z"
   },
   {
    "duration": 12,
    "start_time": "2024-03-13T19:25:00.903Z"
   },
   {
    "duration": 74,
    "start_time": "2024-03-13T19:25:00.917Z"
   },
   {
    "duration": 63,
    "start_time": "2024-03-13T19:25:00.994Z"
   },
   {
    "duration": 79,
    "start_time": "2024-03-13T19:25:01.059Z"
   },
   {
    "duration": 84,
    "start_time": "2024-03-13T19:25:01.140Z"
   },
   {
    "duration": 62,
    "start_time": "2024-03-13T19:25:01.226Z"
   },
   {
    "duration": 87,
    "start_time": "2024-03-13T19:25:01.290Z"
   },
   {
    "duration": 77,
    "start_time": "2024-03-13T19:25:01.379Z"
   },
   {
    "duration": 68,
    "start_time": "2024-03-13T19:25:01.458Z"
   },
   {
    "duration": 60,
    "start_time": "2024-03-13T19:25:01.528Z"
   },
   {
    "duration": 87,
    "start_time": "2024-03-13T19:25:01.590Z"
   },
   {
    "duration": 231,
    "start_time": "2024-03-13T19:25:01.680Z"
   },
   {
    "duration": 92,
    "start_time": "2024-03-13T19:25:01.913Z"
   },
   {
    "duration": 154,
    "start_time": "2024-03-13T19:25:02.007Z"
   },
   {
    "duration": 7,
    "start_time": "2024-03-13T19:25:02.166Z"
   },
   {
    "duration": 180,
    "start_time": "2024-03-13T19:25:02.175Z"
   },
   {
    "duration": 10,
    "start_time": "2024-03-13T19:25:02.356Z"
   },
   {
    "duration": 157,
    "start_time": "2024-03-13T19:25:02.367Z"
   },
   {
    "duration": 8,
    "start_time": "2024-03-13T19:25:02.525Z"
   },
   {
    "duration": 77,
    "start_time": "2024-03-13T19:25:02.534Z"
   },
   {
    "duration": 0,
    "start_time": "2024-03-13T19:25:02.613Z"
   },
   {
    "duration": 0,
    "start_time": "2024-03-13T19:25:02.614Z"
   },
   {
    "duration": 0,
    "start_time": "2024-03-13T19:25:02.615Z"
   },
   {
    "duration": 0,
    "start_time": "2024-03-13T19:25:02.616Z"
   },
   {
    "duration": 0,
    "start_time": "2024-03-13T19:25:02.616Z"
   },
   {
    "duration": 0,
    "start_time": "2024-03-13T19:25:02.617Z"
   },
   {
    "duration": 1,
    "start_time": "2024-03-13T19:25:02.618Z"
   },
   {
    "duration": 0,
    "start_time": "2024-03-13T19:25:02.620Z"
   },
   {
    "duration": 0,
    "start_time": "2024-03-13T19:25:02.620Z"
   },
   {
    "duration": 0,
    "start_time": "2024-03-13T19:25:02.622Z"
   },
   {
    "duration": 0,
    "start_time": "2024-03-13T19:25:02.622Z"
   },
   {
    "duration": 0,
    "start_time": "2024-03-13T19:25:02.624Z"
   },
   {
    "duration": 0,
    "start_time": "2024-03-13T19:25:02.625Z"
   },
   {
    "duration": 0,
    "start_time": "2024-03-13T19:25:02.625Z"
   },
   {
    "duration": 0,
    "start_time": "2024-03-13T19:25:02.626Z"
   },
   {
    "duration": 0,
    "start_time": "2024-03-13T19:25:02.627Z"
   },
   {
    "duration": 0,
    "start_time": "2024-03-13T19:25:02.628Z"
   },
   {
    "duration": 91,
    "start_time": "2024-03-13T19:25:28.382Z"
   },
   {
    "duration": 3,
    "start_time": "2024-03-13T19:25:36.553Z"
   },
   {
    "duration": 84,
    "start_time": "2024-03-13T19:25:36.558Z"
   },
   {
    "duration": 8,
    "start_time": "2024-03-13T19:25:36.644Z"
   },
   {
    "duration": 24,
    "start_time": "2024-03-13T19:25:36.653Z"
   },
   {
    "duration": 33,
    "start_time": "2024-03-13T19:25:36.679Z"
   },
   {
    "duration": 23,
    "start_time": "2024-03-13T19:25:36.713Z"
   },
   {
    "duration": 14,
    "start_time": "2024-03-13T19:25:36.738Z"
   },
   {
    "duration": 24,
    "start_time": "2024-03-13T19:25:36.754Z"
   },
   {
    "duration": 46,
    "start_time": "2024-03-13T19:25:36.779Z"
   },
   {
    "duration": 50,
    "start_time": "2024-03-13T19:25:36.826Z"
   },
   {
    "duration": 40,
    "start_time": "2024-03-13T19:25:36.878Z"
   },
   {
    "duration": 38,
    "start_time": "2024-03-13T19:25:36.919Z"
   },
   {
    "duration": 41,
    "start_time": "2024-03-13T19:25:36.960Z"
   },
   {
    "duration": 205,
    "start_time": "2024-03-13T19:25:37.003Z"
   },
   {
    "duration": 106,
    "start_time": "2024-03-13T19:25:37.210Z"
   },
   {
    "duration": 171,
    "start_time": "2024-03-13T19:25:37.317Z"
   },
   {
    "duration": 7,
    "start_time": "2024-03-13T19:25:37.490Z"
   },
   {
    "duration": 186,
    "start_time": "2024-03-13T19:25:37.499Z"
   },
   {
    "duration": 8,
    "start_time": "2024-03-13T19:25:37.686Z"
   },
   {
    "duration": 247,
    "start_time": "2024-03-13T19:25:37.696Z"
   },
   {
    "duration": 8,
    "start_time": "2024-03-13T19:25:37.944Z"
   },
   {
    "duration": 71,
    "start_time": "2024-03-13T19:25:37.953Z"
   },
   {
    "duration": 0,
    "start_time": "2024-03-13T19:25:38.025Z"
   },
   {
    "duration": 0,
    "start_time": "2024-03-13T19:25:38.026Z"
   },
   {
    "duration": 0,
    "start_time": "2024-03-13T19:25:38.027Z"
   },
   {
    "duration": 0,
    "start_time": "2024-03-13T19:25:38.028Z"
   },
   {
    "duration": 0,
    "start_time": "2024-03-13T19:25:38.028Z"
   },
   {
    "duration": 0,
    "start_time": "2024-03-13T19:25:38.029Z"
   },
   {
    "duration": 0,
    "start_time": "2024-03-13T19:25:38.030Z"
   },
   {
    "duration": 0,
    "start_time": "2024-03-13T19:25:38.031Z"
   },
   {
    "duration": 0,
    "start_time": "2024-03-13T19:25:38.032Z"
   },
   {
    "duration": 0,
    "start_time": "2024-03-13T19:25:38.033Z"
   },
   {
    "duration": 0,
    "start_time": "2024-03-13T19:25:38.034Z"
   },
   {
    "duration": 0,
    "start_time": "2024-03-13T19:25:38.035Z"
   },
   {
    "duration": 0,
    "start_time": "2024-03-13T19:25:38.036Z"
   },
   {
    "duration": 0,
    "start_time": "2024-03-13T19:25:38.036Z"
   },
   {
    "duration": 0,
    "start_time": "2024-03-13T19:25:38.037Z"
   },
   {
    "duration": 0,
    "start_time": "2024-03-13T19:25:38.038Z"
   },
   {
    "duration": 9,
    "start_time": "2024-03-13T19:25:49.776Z"
   },
   {
    "duration": 3,
    "start_time": "2024-03-13T19:26:01.984Z"
   },
   {
    "duration": 1093,
    "start_time": "2024-03-13T19:26:18.741Z"
   },
   {
    "duration": 3,
    "start_time": "2024-03-13T19:26:35.272Z"
   },
   {
    "duration": 75,
    "start_time": "2024-03-13T19:26:35.276Z"
   },
   {
    "duration": 12,
    "start_time": "2024-03-13T19:26:35.353Z"
   },
   {
    "duration": 13,
    "start_time": "2024-03-13T19:26:35.366Z"
   },
   {
    "duration": 41,
    "start_time": "2024-03-13T19:26:35.380Z"
   },
   {
    "duration": 24,
    "start_time": "2024-03-13T19:26:35.423Z"
   },
   {
    "duration": 20,
    "start_time": "2024-03-13T19:26:35.448Z"
   },
   {
    "duration": 24,
    "start_time": "2024-03-13T19:26:35.469Z"
   },
   {
    "duration": 17,
    "start_time": "2024-03-13T19:26:35.495Z"
   },
   {
    "duration": 19,
    "start_time": "2024-03-13T19:26:35.514Z"
   },
   {
    "duration": 9,
    "start_time": "2024-03-13T19:26:35.535Z"
   },
   {
    "duration": 7,
    "start_time": "2024-03-13T19:26:35.545Z"
   },
   {
    "duration": 6,
    "start_time": "2024-03-13T19:26:35.863Z"
   },
   {
    "duration": 225,
    "start_time": "2024-03-13T19:26:35.871Z"
   },
   {
    "duration": 107,
    "start_time": "2024-03-13T19:26:36.098Z"
   },
   {
    "duration": 187,
    "start_time": "2024-03-13T19:26:36.207Z"
   },
   {
    "duration": 8,
    "start_time": "2024-03-13T19:26:36.395Z"
   },
   {
    "duration": 161,
    "start_time": "2024-03-13T19:26:36.404Z"
   },
   {
    "duration": 9,
    "start_time": "2024-03-13T19:26:36.567Z"
   },
   {
    "duration": 170,
    "start_time": "2024-03-13T19:26:36.578Z"
   },
   {
    "duration": 20,
    "start_time": "2024-03-13T19:26:36.750Z"
   },
   {
    "duration": 74,
    "start_time": "2024-03-13T19:26:36.773Z"
   },
   {
    "duration": 0,
    "start_time": "2024-03-13T19:26:36.848Z"
   },
   {
    "duration": 0,
    "start_time": "2024-03-13T19:26:36.849Z"
   },
   {
    "duration": 0,
    "start_time": "2024-03-13T19:26:36.850Z"
   },
   {
    "duration": 0,
    "start_time": "2024-03-13T19:26:36.851Z"
   },
   {
    "duration": 0,
    "start_time": "2024-03-13T19:26:36.852Z"
   },
   {
    "duration": 0,
    "start_time": "2024-03-13T19:26:36.853Z"
   },
   {
    "duration": 0,
    "start_time": "2024-03-13T19:26:36.854Z"
   },
   {
    "duration": 0,
    "start_time": "2024-03-13T19:26:36.855Z"
   },
   {
    "duration": 0,
    "start_time": "2024-03-13T19:26:36.856Z"
   },
   {
    "duration": 0,
    "start_time": "2024-03-13T19:26:36.857Z"
   },
   {
    "duration": 0,
    "start_time": "2024-03-13T19:26:36.858Z"
   },
   {
    "duration": 0,
    "start_time": "2024-03-13T19:26:36.859Z"
   },
   {
    "duration": 0,
    "start_time": "2024-03-13T19:26:36.860Z"
   },
   {
    "duration": 0,
    "start_time": "2024-03-13T19:26:36.861Z"
   },
   {
    "duration": 0,
    "start_time": "2024-03-13T19:26:36.862Z"
   },
   {
    "duration": 106,
    "start_time": "2024-03-13T19:26:55.877Z"
   },
   {
    "duration": 8,
    "start_time": "2024-03-13T19:27:53.031Z"
   },
   {
    "duration": 9,
    "start_time": "2024-03-13T19:27:57.010Z"
   },
   {
    "duration": 8,
    "start_time": "2024-03-13T19:28:09.452Z"
   },
   {
    "duration": 22,
    "start_time": "2024-03-13T19:28:29.943Z"
   },
   {
    "duration": 15,
    "start_time": "2024-03-13T19:28:35.382Z"
   },
   {
    "duration": 268,
    "start_time": "2024-03-13T19:28:37.289Z"
   },
   {
    "duration": 15,
    "start_time": "2024-03-13T19:28:40.040Z"
   },
   {
    "duration": 282,
    "start_time": "2024-03-13T19:28:41.336Z"
   },
   {
    "duration": 15,
    "start_time": "2024-03-13T19:28:41.841Z"
   },
   {
    "duration": 13,
    "start_time": "2024-03-13T19:28:44.523Z"
   },
   {
    "duration": 411,
    "start_time": "2024-03-13T19:28:45.855Z"
   },
   {
    "duration": 14,
    "start_time": "2024-03-13T19:28:46.356Z"
   },
   {
    "duration": 268,
    "start_time": "2024-03-13T19:28:47.770Z"
   },
   {
    "duration": 15,
    "start_time": "2024-03-13T19:28:48.282Z"
   },
   {
    "duration": 18,
    "start_time": "2024-03-13T19:28:52.352Z"
   },
   {
    "duration": 38,
    "start_time": "2024-03-13T19:28:56.152Z"
   },
   {
    "duration": 4,
    "start_time": "2024-03-13T19:28:59.754Z"
   },
   {
    "duration": 439,
    "start_time": "2024-03-13T19:29:00.751Z"
   },
   {
    "duration": 4,
    "start_time": "2024-03-13T19:29:08.017Z"
   },
   {
    "duration": 6,
    "start_time": "2024-03-13T19:29:09.737Z"
   },
   {
    "duration": 6,
    "start_time": "2024-03-13T19:29:28.187Z"
   },
   {
    "duration": 5,
    "start_time": "2024-03-13T19:47:12.579Z"
   },
   {
    "duration": 12,
    "start_time": "2024-03-13T19:47:55.992Z"
   },
   {
    "duration": 6,
    "start_time": "2024-03-13T19:58:04.672Z"
   },
   {
    "duration": 5,
    "start_time": "2024-03-13T19:59:18.301Z"
   },
   {
    "duration": 5,
    "start_time": "2024-03-13T19:59:27.759Z"
   },
   {
    "duration": 5,
    "start_time": "2024-03-13T20:12:28.835Z"
   },
   {
    "duration": 5,
    "start_time": "2024-03-13T20:12:31.492Z"
   },
   {
    "duration": 1178,
    "start_time": "2024-03-14T05:57:57.181Z"
   },
   {
    "duration": 191,
    "start_time": "2024-03-14T05:57:58.361Z"
   },
   {
    "duration": 11,
    "start_time": "2024-03-14T05:57:58.553Z"
   },
   {
    "duration": 9,
    "start_time": "2024-03-14T05:57:58.565Z"
   },
   {
    "duration": 7,
    "start_time": "2024-03-14T05:57:58.575Z"
   },
   {
    "duration": 8,
    "start_time": "2024-03-14T05:57:58.583Z"
   },
   {
    "duration": 5,
    "start_time": "2024-03-14T05:57:58.592Z"
   },
   {
    "duration": 8,
    "start_time": "2024-03-14T05:57:58.598Z"
   },
   {
    "duration": 11,
    "start_time": "2024-03-14T05:57:58.607Z"
   },
   {
    "duration": 8,
    "start_time": "2024-03-14T05:57:58.619Z"
   },
   {
    "duration": 8,
    "start_time": "2024-03-14T05:57:58.628Z"
   },
   {
    "duration": 5,
    "start_time": "2024-03-14T05:57:58.637Z"
   },
   {
    "duration": 4,
    "start_time": "2024-03-14T05:57:58.643Z"
   },
   {
    "duration": 165,
    "start_time": "2024-03-14T05:57:58.650Z"
   },
   {
    "duration": 72,
    "start_time": "2024-03-14T05:57:58.817Z"
   },
   {
    "duration": 133,
    "start_time": "2024-03-14T05:57:58.890Z"
   },
   {
    "duration": 7,
    "start_time": "2024-03-14T05:57:59.025Z"
   },
   {
    "duration": 130,
    "start_time": "2024-03-14T05:57:59.033Z"
   },
   {
    "duration": 7,
    "start_time": "2024-03-14T05:57:59.165Z"
   },
   {
    "duration": 129,
    "start_time": "2024-03-14T05:57:59.173Z"
   },
   {
    "duration": 7,
    "start_time": "2024-03-14T05:57:59.304Z"
   },
   {
    "duration": 23,
    "start_time": "2024-03-14T05:57:59.312Z"
   },
   {
    "duration": 18,
    "start_time": "2024-03-14T05:57:59.336Z"
   },
   {
    "duration": 261,
    "start_time": "2024-03-14T05:57:59.355Z"
   },
   {
    "duration": 11,
    "start_time": "2024-03-14T05:57:59.618Z"
   },
   {
    "duration": 241,
    "start_time": "2024-03-14T05:57:59.630Z"
   },
   {
    "duration": 11,
    "start_time": "2024-03-14T05:57:59.873Z"
   },
   {
    "duration": 22,
    "start_time": "2024-03-14T05:57:59.886Z"
   },
   {
    "duration": 296,
    "start_time": "2024-03-14T05:57:59.909Z"
   },
   {
    "duration": 11,
    "start_time": "2024-03-14T05:58:00.206Z"
   },
   {
    "duration": 289,
    "start_time": "2024-03-14T05:58:00.219Z"
   },
   {
    "duration": 11,
    "start_time": "2024-03-14T05:58:00.510Z"
   },
   {
    "duration": 58,
    "start_time": "2024-03-14T05:58:00.522Z"
   },
   {
    "duration": 56,
    "start_time": "2024-03-14T05:58:00.581Z"
   },
   {
    "duration": 4,
    "start_time": "2024-03-14T05:58:00.638Z"
   },
   {
    "duration": 437,
    "start_time": "2024-03-14T05:58:00.643Z"
   },
   {
    "duration": 4,
    "start_time": "2024-03-14T05:58:01.081Z"
   },
   {
    "duration": 29,
    "start_time": "2024-03-14T05:58:01.087Z"
   },
   {
    "duration": 53,
    "start_time": "2024-03-14T05:58:01.117Z"
   },
   {
    "duration": 6,
    "start_time": "2024-03-14T05:58:06.061Z"
   },
   {
    "duration": 6,
    "start_time": "2024-03-14T05:58:20.758Z"
   },
   {
    "duration": 10,
    "start_time": "2024-03-14T08:10:23.430Z"
   },
   {
    "duration": 6,
    "start_time": "2024-03-14T08:11:19.914Z"
   },
   {
    "duration": 5,
    "start_time": "2024-03-14T08:11:34.878Z"
   },
   {
    "duration": 7,
    "start_time": "2024-03-14T08:12:13.344Z"
   },
   {
    "duration": 8,
    "start_time": "2024-03-14T08:12:19.464Z"
   },
   {
    "duration": 8,
    "start_time": "2024-03-14T08:12:25.902Z"
   },
   {
    "duration": 8,
    "start_time": "2024-03-14T08:13:41.886Z"
   },
   {
    "duration": 9,
    "start_time": "2024-03-14T08:13:50.030Z"
   },
   {
    "duration": 10,
    "start_time": "2024-03-14T08:40:57.139Z"
   },
   {
    "duration": 9,
    "start_time": "2024-03-14T08:46:05.013Z"
   },
   {
    "duration": 997,
    "start_time": "2024-03-14T09:43:50.296Z"
   },
   {
    "duration": 79,
    "start_time": "2024-03-14T09:43:51.294Z"
   },
   {
    "duration": 0,
    "start_time": "2024-03-14T09:43:51.375Z"
   },
   {
    "duration": 0,
    "start_time": "2024-03-14T09:43:51.376Z"
   },
   {
    "duration": 0,
    "start_time": "2024-03-14T09:43:51.377Z"
   },
   {
    "duration": 0,
    "start_time": "2024-03-14T09:43:51.378Z"
   },
   {
    "duration": 0,
    "start_time": "2024-03-14T09:43:51.379Z"
   },
   {
    "duration": 0,
    "start_time": "2024-03-14T09:43:51.380Z"
   },
   {
    "duration": 0,
    "start_time": "2024-03-14T09:43:51.381Z"
   },
   {
    "duration": 0,
    "start_time": "2024-03-14T09:43:51.381Z"
   },
   {
    "duration": 0,
    "start_time": "2024-03-14T09:43:51.382Z"
   },
   {
    "duration": 0,
    "start_time": "2024-03-14T09:43:51.383Z"
   },
   {
    "duration": 0,
    "start_time": "2024-03-14T09:43:51.384Z"
   },
   {
    "duration": 0,
    "start_time": "2024-03-14T09:43:51.384Z"
   },
   {
    "duration": 0,
    "start_time": "2024-03-14T09:43:51.385Z"
   },
   {
    "duration": 0,
    "start_time": "2024-03-14T09:43:51.386Z"
   },
   {
    "duration": 0,
    "start_time": "2024-03-14T09:43:51.386Z"
   },
   {
    "duration": 0,
    "start_time": "2024-03-14T09:43:51.387Z"
   },
   {
    "duration": 0,
    "start_time": "2024-03-14T09:43:51.388Z"
   },
   {
    "duration": 0,
    "start_time": "2024-03-14T09:43:51.388Z"
   },
   {
    "duration": 0,
    "start_time": "2024-03-14T09:43:51.389Z"
   },
   {
    "duration": 0,
    "start_time": "2024-03-14T09:43:51.390Z"
   },
   {
    "duration": 0,
    "start_time": "2024-03-14T09:43:51.391Z"
   },
   {
    "duration": 0,
    "start_time": "2024-03-14T09:43:51.391Z"
   },
   {
    "duration": 0,
    "start_time": "2024-03-14T09:43:51.392Z"
   },
   {
    "duration": 0,
    "start_time": "2024-03-14T09:43:51.393Z"
   },
   {
    "duration": 0,
    "start_time": "2024-03-14T09:43:51.393Z"
   },
   {
    "duration": 0,
    "start_time": "2024-03-14T09:43:51.394Z"
   },
   {
    "duration": 0,
    "start_time": "2024-03-14T09:43:51.395Z"
   },
   {
    "duration": 0,
    "start_time": "2024-03-14T09:43:51.396Z"
   },
   {
    "duration": 0,
    "start_time": "2024-03-14T09:43:51.396Z"
   },
   {
    "duration": 0,
    "start_time": "2024-03-14T09:43:51.397Z"
   },
   {
    "duration": 0,
    "start_time": "2024-03-14T09:43:51.398Z"
   },
   {
    "duration": 0,
    "start_time": "2024-03-14T09:43:51.398Z"
   },
   {
    "duration": 0,
    "start_time": "2024-03-14T09:43:51.399Z"
   },
   {
    "duration": 0,
    "start_time": "2024-03-14T09:43:51.400Z"
   },
   {
    "duration": 0,
    "start_time": "2024-03-14T09:43:51.400Z"
   },
   {
    "duration": 0,
    "start_time": "2024-03-14T09:43:51.401Z"
   },
   {
    "duration": 0,
    "start_time": "2024-03-14T09:43:51.402Z"
   },
   {
    "duration": 0,
    "start_time": "2024-03-14T09:43:51.402Z"
   },
   {
    "duration": 989,
    "start_time": "2024-03-14T09:43:59.620Z"
   },
   {
    "duration": 190,
    "start_time": "2024-03-14T09:44:00.611Z"
   },
   {
    "duration": 11,
    "start_time": "2024-03-14T09:44:00.802Z"
   },
   {
    "duration": 72,
    "start_time": "2024-03-14T09:44:00.815Z"
   },
   {
    "duration": 125,
    "start_time": "2024-03-14T09:44:00.888Z"
   },
   {
    "duration": 68,
    "start_time": "2024-03-14T09:44:01.014Z"
   },
   {
    "duration": 38,
    "start_time": "2024-03-14T09:44:01.083Z"
   },
   {
    "duration": 67,
    "start_time": "2024-03-14T09:44:01.122Z"
   },
   {
    "duration": 41,
    "start_time": "2024-03-14T09:44:01.191Z"
   },
   {
    "duration": 16,
    "start_time": "2024-03-14T09:44:01.235Z"
   },
   {
    "duration": 36,
    "start_time": "2024-03-14T09:44:01.253Z"
   },
   {
    "duration": 57,
    "start_time": "2024-03-14T09:44:01.290Z"
   },
   {
    "duration": 48,
    "start_time": "2024-03-14T09:44:01.348Z"
   },
   {
    "duration": 192,
    "start_time": "2024-03-14T09:44:01.397Z"
   },
   {
    "duration": 73,
    "start_time": "2024-03-14T09:44:01.590Z"
   },
   {
    "duration": 125,
    "start_time": "2024-03-14T09:44:01.664Z"
   },
   {
    "duration": 11,
    "start_time": "2024-03-14T09:44:01.791Z"
   },
   {
    "duration": 329,
    "start_time": "2024-03-14T09:44:01.804Z"
   },
   {
    "duration": 110,
    "start_time": "2024-03-14T09:44:02.135Z"
   },
   {
    "duration": 191,
    "start_time": "2024-03-14T09:44:02.247Z"
   },
   {
    "duration": 7,
    "start_time": "2024-03-14T09:44:02.440Z"
   },
   {
    "duration": 37,
    "start_time": "2024-03-14T09:44:02.449Z"
   },
   {
    "duration": 44,
    "start_time": "2024-03-14T09:44:02.488Z"
   },
   {
    "duration": 256,
    "start_time": "2024-03-14T09:44:02.533Z"
   },
   {
    "duration": 18,
    "start_time": "2024-03-14T09:44:02.791Z"
   },
   {
    "duration": 249,
    "start_time": "2024-03-14T09:44:02.810Z"
   },
   {
    "duration": 13,
    "start_time": "2024-03-14T09:44:03.061Z"
   },
   {
    "duration": 56,
    "start_time": "2024-03-14T09:44:03.078Z"
   },
   {
    "duration": 297,
    "start_time": "2024-03-14T09:44:03.136Z"
   },
   {
    "duration": 12,
    "start_time": "2024-03-14T09:44:03.434Z"
   },
   {
    "duration": 234,
    "start_time": "2024-03-14T09:44:03.448Z"
   },
   {
    "duration": 11,
    "start_time": "2024-03-14T09:44:03.683Z"
   },
   {
    "duration": 13,
    "start_time": "2024-03-14T09:44:03.695Z"
   },
   {
    "duration": 31,
    "start_time": "2024-03-14T09:44:03.709Z"
   },
   {
    "duration": 12,
    "start_time": "2024-03-14T09:44:03.742Z"
   },
   {
    "duration": 402,
    "start_time": "2024-03-14T09:44:03.755Z"
   },
   {
    "duration": 4,
    "start_time": "2024-03-14T09:44:04.159Z"
   },
   {
    "duration": 10,
    "start_time": "2024-03-14T09:44:04.165Z"
   },
   {
    "duration": 55,
    "start_time": "2024-03-14T09:44:04.177Z"
   },
   {
    "duration": 10,
    "start_time": "2024-03-14T09:48:37.543Z"
   },
   {
    "duration": 9,
    "start_time": "2024-03-14T09:49:52.526Z"
   },
   {
    "duration": 1280,
    "start_time": "2024-03-14T13:57:02.486Z"
   },
   {
    "duration": 301,
    "start_time": "2024-03-14T13:57:03.768Z"
   },
   {
    "duration": 12,
    "start_time": "2024-03-14T13:57:04.071Z"
   },
   {
    "duration": 35,
    "start_time": "2024-03-14T13:57:04.085Z"
   },
   {
    "duration": 63,
    "start_time": "2024-03-14T13:57:04.122Z"
   },
   {
    "duration": 60,
    "start_time": "2024-03-14T13:57:04.187Z"
   },
   {
    "duration": 25,
    "start_time": "2024-03-14T13:57:04.248Z"
   },
   {
    "duration": 29,
    "start_time": "2024-03-14T13:57:04.274Z"
   },
   {
    "duration": 31,
    "start_time": "2024-03-14T13:57:04.305Z"
   },
   {
    "duration": 35,
    "start_time": "2024-03-14T13:57:04.338Z"
   },
   {
    "duration": 22,
    "start_time": "2024-03-14T13:57:04.374Z"
   },
   {
    "duration": 45,
    "start_time": "2024-03-14T13:57:04.398Z"
   },
   {
    "duration": 18,
    "start_time": "2024-03-14T13:57:04.445Z"
   },
   {
    "duration": 179,
    "start_time": "2024-03-14T13:57:04.465Z"
   },
   {
    "duration": 89,
    "start_time": "2024-03-14T13:57:04.646Z"
   },
   {
    "duration": 148,
    "start_time": "2024-03-14T13:57:04.736Z"
   },
   {
    "duration": 7,
    "start_time": "2024-03-14T13:57:04.893Z"
   },
   {
    "duration": 170,
    "start_time": "2024-03-14T13:57:04.902Z"
   },
   {
    "duration": 7,
    "start_time": "2024-03-14T13:57:05.074Z"
   },
   {
    "duration": 157,
    "start_time": "2024-03-14T13:57:05.083Z"
   },
   {
    "duration": 8,
    "start_time": "2024-03-14T13:57:05.242Z"
   },
   {
    "duration": 102,
    "start_time": "2024-03-14T13:57:05.251Z"
   },
   {
    "duration": 103,
    "start_time": "2024-03-14T13:57:05.356Z"
   },
   {
    "duration": 327,
    "start_time": "2024-03-14T13:57:05.460Z"
   },
   {
    "duration": 14,
    "start_time": "2024-03-14T13:57:05.789Z"
   },
   {
    "duration": 285,
    "start_time": "2024-03-14T13:57:05.805Z"
   },
   {
    "duration": 13,
    "start_time": "2024-03-14T13:57:06.093Z"
   },
   {
    "duration": 29,
    "start_time": "2024-03-14T13:57:06.109Z"
   },
   {
    "duration": 346,
    "start_time": "2024-03-14T13:57:06.140Z"
   },
   {
    "duration": 16,
    "start_time": "2024-03-14T13:57:06.487Z"
   },
   {
    "duration": 300,
    "start_time": "2024-03-14T13:57:06.505Z"
   },
   {
    "duration": 13,
    "start_time": "2024-03-14T13:57:06.807Z"
   },
   {
    "duration": 59,
    "start_time": "2024-03-14T13:57:06.822Z"
   },
   {
    "duration": 43,
    "start_time": "2024-03-14T13:57:06.883Z"
   },
   {
    "duration": 4,
    "start_time": "2024-03-14T13:57:06.928Z"
   },
   {
    "duration": 449,
    "start_time": "2024-03-14T13:57:06.933Z"
   },
   {
    "duration": 13,
    "start_time": "2024-03-14T13:57:07.383Z"
   },
   {
    "duration": 22,
    "start_time": "2024-03-14T13:57:07.398Z"
   },
   {
    "duration": 10,
    "start_time": "2024-03-14T13:57:07.422Z"
   },
   {
    "duration": 156,
    "start_time": "2024-03-14T13:57:39.990Z"
   },
   {
    "duration": 159,
    "start_time": "2024-03-14T13:58:15.367Z"
   },
   {
    "duration": 158,
    "start_time": "2024-03-14T14:02:40.232Z"
   },
   {
    "duration": 153,
    "start_time": "2024-03-14T14:03:19.795Z"
   },
   {
    "duration": 160,
    "start_time": "2024-03-14T14:03:24.415Z"
   },
   {
    "duration": 148,
    "start_time": "2024-03-14T14:04:34.756Z"
   },
   {
    "duration": 87,
    "start_time": "2024-03-14T14:05:43.976Z"
   },
   {
    "duration": 88,
    "start_time": "2024-03-14T14:06:05.633Z"
   },
   {
    "duration": 172,
    "start_time": "2024-03-14T14:06:13.415Z"
   },
   {
    "duration": 261,
    "start_time": "2024-03-14T14:06:43.242Z"
   },
   {
    "duration": 164,
    "start_time": "2024-03-14T14:07:18.383Z"
   },
   {
    "duration": 144,
    "start_time": "2024-03-14T14:08:46.990Z"
   },
   {
    "duration": 144,
    "start_time": "2024-03-14T14:08:56.300Z"
   },
   {
    "duration": 131,
    "start_time": "2024-03-14T14:09:29.750Z"
   },
   {
    "duration": 150,
    "start_time": "2024-03-14T14:09:44.104Z"
   },
   {
    "duration": 153,
    "start_time": "2024-03-14T14:10:12.643Z"
   },
   {
    "duration": 161,
    "start_time": "2024-03-14T14:13:28.674Z"
   },
   {
    "duration": 169,
    "start_time": "2024-03-14T14:13:38.894Z"
   },
   {
    "duration": 139,
    "start_time": "2024-03-14T14:15:03.526Z"
   },
   {
    "duration": 8,
    "start_time": "2024-03-14T14:15:12.407Z"
   },
   {
    "duration": 158,
    "start_time": "2024-03-14T14:15:24.197Z"
   },
   {
    "duration": 158,
    "start_time": "2024-03-14T14:25:13.559Z"
   },
   {
    "duration": 155,
    "start_time": "2024-03-14T14:25:24.005Z"
   },
   {
    "duration": 90,
    "start_time": "2024-03-14T14:46:48.117Z"
   },
   {
    "duration": 23,
    "start_time": "2024-03-14T14:47:53.391Z"
   },
   {
    "duration": 8,
    "start_time": "2024-03-14T14:52:42.285Z"
   },
   {
    "duration": 10,
    "start_time": "2024-03-14T14:59:45.654Z"
   },
   {
    "duration": 10,
    "start_time": "2024-03-14T14:59:55.070Z"
   },
   {
    "duration": 4,
    "start_time": "2024-03-14T15:12:00.967Z"
   },
   {
    "duration": 150,
    "start_time": "2024-03-14T15:12:00.973Z"
   },
   {
    "duration": 8,
    "start_time": "2024-03-14T15:12:01.125Z"
   },
   {
    "duration": 116,
    "start_time": "2024-03-14T15:12:01.135Z"
   },
   {
    "duration": 68,
    "start_time": "2024-03-14T15:12:01.254Z"
   },
   {
    "duration": 171,
    "start_time": "2024-03-14T15:12:01.324Z"
   },
   {
    "duration": 116,
    "start_time": "2024-03-14T15:12:01.497Z"
   },
   {
    "duration": 159,
    "start_time": "2024-03-14T15:12:01.615Z"
   },
   {
    "duration": 66,
    "start_time": "2024-03-14T15:12:01.776Z"
   },
   {
    "duration": 37,
    "start_time": "2024-03-14T15:12:01.843Z"
   },
   {
    "duration": 56,
    "start_time": "2024-03-14T15:12:01.882Z"
   },
   {
    "duration": 94,
    "start_time": "2024-03-14T15:12:01.940Z"
   },
   {
    "duration": 63,
    "start_time": "2024-03-14T15:12:02.036Z"
   },
   {
    "duration": 256,
    "start_time": "2024-03-14T15:12:02.102Z"
   },
   {
    "duration": 105,
    "start_time": "2024-03-14T15:12:02.360Z"
   },
   {
    "duration": 174,
    "start_time": "2024-03-14T15:12:02.467Z"
   },
   {
    "duration": 7,
    "start_time": "2024-03-14T15:12:02.643Z"
   },
   {
    "duration": 480,
    "start_time": "2024-03-14T15:12:02.651Z"
   },
   {
    "duration": 8,
    "start_time": "2024-03-14T15:12:03.133Z"
   },
   {
    "duration": 515,
    "start_time": "2024-03-14T15:12:03.143Z"
   },
   {
    "duration": 242,
    "start_time": "2024-03-14T15:12:03.660Z"
   },
   {
    "duration": 71,
    "start_time": "2024-03-14T15:12:03.904Z"
   },
   {
    "duration": 20,
    "start_time": "2024-03-14T15:12:03.977Z"
   },
   {
    "duration": 144,
    "start_time": "2024-03-14T15:12:03.998Z"
   },
   {
    "duration": 308,
    "start_time": "2024-03-14T15:12:04.144Z"
   },
   {
    "duration": 15,
    "start_time": "2024-03-14T15:12:04.453Z"
   },
   {
    "duration": 299,
    "start_time": "2024-03-14T15:12:04.469Z"
   },
   {
    "duration": 24,
    "start_time": "2024-03-14T15:12:04.770Z"
   },
   {
    "duration": 105,
    "start_time": "2024-03-14T15:12:04.796Z"
   },
   {
    "duration": 377,
    "start_time": "2024-03-14T15:12:04.902Z"
   },
   {
    "duration": 19,
    "start_time": "2024-03-14T15:12:05.280Z"
   },
   {
    "duration": 315,
    "start_time": "2024-03-14T15:12:05.300Z"
   },
   {
    "duration": 13,
    "start_time": "2024-03-14T15:12:05.617Z"
   },
   {
    "duration": 48,
    "start_time": "2024-03-14T15:12:05.632Z"
   },
   {
    "duration": 86,
    "start_time": "2024-03-14T15:12:05.681Z"
   },
   {
    "duration": 15,
    "start_time": "2024-03-14T15:12:05.768Z"
   },
   {
    "duration": 534,
    "start_time": "2024-03-14T15:12:05.784Z"
   },
   {
    "duration": 5,
    "start_time": "2024-03-14T15:12:06.320Z"
   },
   {
    "duration": 117,
    "start_time": "2024-03-14T15:12:06.326Z"
   },
   {
    "duration": 107,
    "start_time": "2024-03-14T15:12:06.445Z"
   },
   {
    "duration": 1150,
    "start_time": "2024-03-14T15:15:44.900Z"
   },
   {
    "duration": 69,
    "start_time": "2024-03-14T15:15:46.052Z"
   },
   {
    "duration": 11,
    "start_time": "2024-03-14T15:15:46.122Z"
   },
   {
    "duration": 9,
    "start_time": "2024-03-14T15:15:46.135Z"
   },
   {
    "duration": 19,
    "start_time": "2024-03-14T15:15:46.146Z"
   },
   {
    "duration": 22,
    "start_time": "2024-03-14T15:15:46.167Z"
   },
   {
    "duration": 7,
    "start_time": "2024-03-14T15:15:46.190Z"
   },
   {
    "duration": 24,
    "start_time": "2024-03-14T15:15:46.198Z"
   },
   {
    "duration": 15,
    "start_time": "2024-03-14T15:15:46.223Z"
   },
   {
    "duration": 21,
    "start_time": "2024-03-14T15:15:46.239Z"
   },
   {
    "duration": 9,
    "start_time": "2024-03-14T15:15:46.261Z"
   },
   {
    "duration": 45,
    "start_time": "2024-03-14T15:15:46.272Z"
   },
   {
    "duration": 16,
    "start_time": "2024-03-14T15:15:46.318Z"
   },
   {
    "duration": 228,
    "start_time": "2024-03-14T15:15:46.337Z"
   },
   {
    "duration": 99,
    "start_time": "2024-03-14T15:15:46.567Z"
   },
   {
    "duration": 186,
    "start_time": "2024-03-14T15:15:46.667Z"
   },
   {
    "duration": 8,
    "start_time": "2024-03-14T15:15:46.855Z"
   },
   {
    "duration": 185,
    "start_time": "2024-03-14T15:15:46.864Z"
   },
   {
    "duration": 8,
    "start_time": "2024-03-14T15:15:47.050Z"
   },
   {
    "duration": 221,
    "start_time": "2024-03-14T15:15:47.060Z"
   },
   {
    "duration": 9,
    "start_time": "2024-03-14T15:15:47.282Z"
   },
   {
    "duration": 30,
    "start_time": "2024-03-14T15:15:47.294Z"
   },
   {
    "duration": 11,
    "start_time": "2024-03-14T15:15:47.325Z"
   },
   {
    "duration": 39,
    "start_time": "2024-03-14T15:15:47.338Z"
   },
   {
    "duration": 272,
    "start_time": "2024-03-14T15:15:47.379Z"
   },
   {
    "duration": 15,
    "start_time": "2024-03-14T15:15:47.653Z"
   },
   {
    "duration": 304,
    "start_time": "2024-03-14T15:15:47.670Z"
   },
   {
    "duration": 18,
    "start_time": "2024-03-14T15:15:47.976Z"
   },
   {
    "duration": 22,
    "start_time": "2024-03-14T15:15:47.996Z"
   },
   {
    "duration": 375,
    "start_time": "2024-03-14T15:15:48.019Z"
   },
   {
    "duration": 14,
    "start_time": "2024-03-14T15:15:48.395Z"
   },
   {
    "duration": 268,
    "start_time": "2024-03-14T15:15:48.410Z"
   },
   {
    "duration": 18,
    "start_time": "2024-03-14T15:15:48.680Z"
   },
   {
    "duration": 24,
    "start_time": "2024-03-14T15:15:48.699Z"
   },
   {
    "duration": 46,
    "start_time": "2024-03-14T15:15:48.724Z"
   },
   {
    "duration": 3,
    "start_time": "2024-03-14T15:15:48.772Z"
   },
   {
    "duration": 493,
    "start_time": "2024-03-14T15:15:48.777Z"
   },
   {
    "duration": 5,
    "start_time": "2024-03-14T15:15:49.272Z"
   },
   {
    "duration": 36,
    "start_time": "2024-03-14T15:15:49.278Z"
   },
   {
    "duration": 24,
    "start_time": "2024-03-14T15:15:49.316Z"
   },
   {
    "duration": 1191,
    "start_time": "2024-03-15T06:26:06.875Z"
   },
   {
    "duration": 71,
    "start_time": "2024-03-15T06:26:08.068Z"
   },
   {
    "duration": 12,
    "start_time": "2024-03-15T06:26:08.140Z"
   },
   {
    "duration": 20,
    "start_time": "2024-03-15T06:26:08.154Z"
   },
   {
    "duration": 25,
    "start_time": "2024-03-15T06:26:08.176Z"
   },
   {
    "duration": 14,
    "start_time": "2024-03-15T06:26:08.202Z"
   },
   {
    "duration": 27,
    "start_time": "2024-03-15T06:26:08.217Z"
   },
   {
    "duration": 26,
    "start_time": "2024-03-15T06:26:08.245Z"
   },
   {
    "duration": 40,
    "start_time": "2024-03-15T06:26:08.272Z"
   },
   {
    "duration": 10,
    "start_time": "2024-03-15T06:26:08.314Z"
   },
   {
    "duration": 25,
    "start_time": "2024-03-15T06:26:08.326Z"
   },
   {
    "duration": 21,
    "start_time": "2024-03-15T06:26:08.352Z"
   },
   {
    "duration": 6,
    "start_time": "2024-03-15T06:26:08.374Z"
   },
   {
    "duration": 201,
    "start_time": "2024-03-15T06:26:08.383Z"
   },
   {
    "duration": 135,
    "start_time": "2024-03-15T06:26:08.586Z"
   },
   {
    "duration": 202,
    "start_time": "2024-03-15T06:26:08.722Z"
   },
   {
    "duration": 7,
    "start_time": "2024-03-15T06:26:08.925Z"
   },
   {
    "duration": 192,
    "start_time": "2024-03-15T06:26:08.934Z"
   },
   {
    "duration": 9,
    "start_time": "2024-03-15T06:26:09.128Z"
   },
   {
    "duration": 205,
    "start_time": "2024-03-15T06:26:09.138Z"
   },
   {
    "duration": 8,
    "start_time": "2024-03-15T06:26:09.345Z"
   },
   {
    "duration": 34,
    "start_time": "2024-03-15T06:26:09.355Z"
   },
   {
    "duration": 10,
    "start_time": "2024-03-15T06:26:09.391Z"
   },
   {
    "duration": 29,
    "start_time": "2024-03-15T06:26:09.403Z"
   },
   {
    "duration": 330,
    "start_time": "2024-03-15T06:26:09.435Z"
   },
   {
    "duration": 22,
    "start_time": "2024-03-15T06:26:09.767Z"
   },
   {
    "duration": 359,
    "start_time": "2024-03-15T06:26:09.791Z"
   },
   {
    "duration": 16,
    "start_time": "2024-03-15T06:26:10.151Z"
   },
   {
    "duration": 40,
    "start_time": "2024-03-15T06:26:10.168Z"
   },
   {
    "duration": 389,
    "start_time": "2024-03-15T06:26:10.210Z"
   },
   {
    "duration": 15,
    "start_time": "2024-03-15T06:26:10.600Z"
   },
   {
    "duration": 317,
    "start_time": "2024-03-15T06:26:10.617Z"
   },
   {
    "duration": 16,
    "start_time": "2024-03-15T06:26:10.936Z"
   },
   {
    "duration": 30,
    "start_time": "2024-03-15T06:26:10.953Z"
   },
   {
    "duration": 39,
    "start_time": "2024-03-15T06:26:10.985Z"
   },
   {
    "duration": 7,
    "start_time": "2024-03-15T06:26:11.026Z"
   },
   {
    "duration": 555,
    "start_time": "2024-03-15T06:26:11.034Z"
   },
   {
    "duration": 6,
    "start_time": "2024-03-15T06:26:11.590Z"
   },
   {
    "duration": 12,
    "start_time": "2024-03-15T06:26:11.598Z"
   },
   {
    "duration": 30,
    "start_time": "2024-03-15T06:26:11.612Z"
   }
  ],
  "kernelspec": {
   "display_name": "Python 3 (ipykernel)",
   "language": "python",
   "name": "python3"
  },
  "language_info": {
   "codemirror_mode": {
    "name": "ipython",
    "version": 3
   },
   "file_extension": ".py",
   "mimetype": "text/x-python",
   "name": "python",
   "nbconvert_exporter": "python",
   "pygments_lexer": "ipython3",
   "version": "3.9.5"
  },
  "toc": {
   "base_numbering": 1,
   "nav_menu": {},
   "number_sections": true,
   "sideBar": true,
   "skip_h1_title": true,
   "title_cell": "Table of Contents",
   "title_sidebar": "Contents",
   "toc_cell": false,
   "toc_position": {},
   "toc_section_display": true,
   "toc_window_display": false
  }
 },
 "nbformat": 4,
 "nbformat_minor": 5
}
